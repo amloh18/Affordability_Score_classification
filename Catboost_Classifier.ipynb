{
 "cells": [
  {
   "cell_type": "markdown",
   "metadata": {},
   "source": [
    "# Catboost Classifier model "
   ]
  },
  {
   "cell_type": "code",
   "execution_count": 1,
   "metadata": {},
   "outputs": [],
   "source": [
    "import pandas as pd\n",
    "from sklearn.model_selection import train_test_split\n",
    "from sklearn.metrics import plot_confusion_matrix,accuracy_score, classification_report, roc_auc_score, roc_curve\n",
    "import seaborn as sns"
   ]
  },
  {
   "cell_type": "markdown",
   "metadata": {},
   "source": [
    "### Loading the data\n",
    "This dataset is a cleaned and merged version of different datasets of the HOME CREDIT DEFAULT RISK which can be found at https://www.kaggle.com/competitions/home-credit-default-risk and is exported as reduced CSV after the data cleaning, feature selection and labelling."
   ]
  },
  {
   "cell_type": "code",
   "execution_count": 2,
   "metadata": {},
   "outputs": [
    {
     "data": {
      "text/html": [
       "<div>\n",
       "<style scoped>\n",
       "    .dataframe tbody tr th:only-of-type {\n",
       "        vertical-align: middle;\n",
       "    }\n",
       "\n",
       "    .dataframe tbody tr th {\n",
       "        vertical-align: top;\n",
       "    }\n",
       "\n",
       "    .dataframe thead th {\n",
       "        text-align: right;\n",
       "    }\n",
       "</style>\n",
       "<table border=\"1\" class=\"dataframe\">\n",
       "  <thead>\n",
       "    <tr style=\"text-align: right;\">\n",
       "      <th></th>\n",
       "      <th>Unnamed: 0</th>\n",
       "      <th>SK_ID_CURR</th>\n",
       "      <th>TARGET</th>\n",
       "      <th>NAME_CONTRACT_TYPE</th>\n",
       "      <th>CODE_GENDER</th>\n",
       "      <th>FLAG_OWN_CAR</th>\n",
       "      <th>FLAG_OWN_REALTY</th>\n",
       "      <th>AMT_INCOME_TOTAL</th>\n",
       "      <th>AMT_CREDIT</th>\n",
       "      <th>AMT_ANNUITY</th>\n",
       "      <th>...</th>\n",
       "      <th>NAME_INCOME_TYPE_2</th>\n",
       "      <th>NAME_INCOME_TYPE_3</th>\n",
       "      <th>NAME_INCOME_TYPE_4</th>\n",
       "      <th>NAME_EDUCATION_TYPE_0</th>\n",
       "      <th>NAME_EDUCATION_TYPE_1</th>\n",
       "      <th>NAME_EDUCATION_TYPE_2</th>\n",
       "      <th>NAME_EDUCATION_TYPE_3</th>\n",
       "      <th>NAME_FAMILY_STATUS_0</th>\n",
       "      <th>NAME_FAMILY_STATUS_1</th>\n",
       "      <th>NAME_FAMILY_STATUS_2</th>\n",
       "    </tr>\n",
       "  </thead>\n",
       "  <tbody>\n",
       "    <tr>\n",
       "      <th>0</th>\n",
       "      <td>1</td>\n",
       "      <td>100003</td>\n",
       "      <td>0</td>\n",
       "      <td>0</td>\n",
       "      <td>1</td>\n",
       "      <td>0</td>\n",
       "      <td>0</td>\n",
       "      <td>270000.0</td>\n",
       "      <td>1293502.5</td>\n",
       "      <td>35698.5</td>\n",
       "      <td>...</td>\n",
       "      <td>0</td>\n",
       "      <td>0</td>\n",
       "      <td>1</td>\n",
       "      <td>0</td>\n",
       "      <td>0</td>\n",
       "      <td>1</td>\n",
       "      <td>0</td>\n",
       "      <td>0</td>\n",
       "      <td>0</td>\n",
       "      <td>1</td>\n",
       "    </tr>\n",
       "    <tr>\n",
       "      <th>1</th>\n",
       "      <td>2</td>\n",
       "      <td>100004</td>\n",
       "      <td>0</td>\n",
       "      <td>1</td>\n",
       "      <td>0</td>\n",
       "      <td>1</td>\n",
       "      <td>1</td>\n",
       "      <td>67500.0</td>\n",
       "      <td>135000.0</td>\n",
       "      <td>6750.0</td>\n",
       "      <td>...</td>\n",
       "      <td>0</td>\n",
       "      <td>1</td>\n",
       "      <td>0</td>\n",
       "      <td>0</td>\n",
       "      <td>1</td>\n",
       "      <td>0</td>\n",
       "      <td>0</td>\n",
       "      <td>1</td>\n",
       "      <td>0</td>\n",
       "      <td>0</td>\n",
       "    </tr>\n",
       "    <tr>\n",
       "      <th>2</th>\n",
       "      <td>3</td>\n",
       "      <td>100007</td>\n",
       "      <td>0</td>\n",
       "      <td>0</td>\n",
       "      <td>0</td>\n",
       "      <td>0</td>\n",
       "      <td>1</td>\n",
       "      <td>121500.0</td>\n",
       "      <td>513000.0</td>\n",
       "      <td>21865.5</td>\n",
       "      <td>...</td>\n",
       "      <td>0</td>\n",
       "      <td>1</td>\n",
       "      <td>0</td>\n",
       "      <td>0</td>\n",
       "      <td>1</td>\n",
       "      <td>0</td>\n",
       "      <td>0</td>\n",
       "      <td>1</td>\n",
       "      <td>0</td>\n",
       "      <td>0</td>\n",
       "    </tr>\n",
       "    <tr>\n",
       "      <th>3</th>\n",
       "      <td>4</td>\n",
       "      <td>100008</td>\n",
       "      <td>0</td>\n",
       "      <td>0</td>\n",
       "      <td>0</td>\n",
       "      <td>0</td>\n",
       "      <td>1</td>\n",
       "      <td>99000.0</td>\n",
       "      <td>490495.5</td>\n",
       "      <td>27517.5</td>\n",
       "      <td>...</td>\n",
       "      <td>0</td>\n",
       "      <td>0</td>\n",
       "      <td>1</td>\n",
       "      <td>0</td>\n",
       "      <td>1</td>\n",
       "      <td>0</td>\n",
       "      <td>0</td>\n",
       "      <td>0</td>\n",
       "      <td>0</td>\n",
       "      <td>1</td>\n",
       "    </tr>\n",
       "    <tr>\n",
       "      <th>4</th>\n",
       "      <td>5</td>\n",
       "      <td>100009</td>\n",
       "      <td>0</td>\n",
       "      <td>0</td>\n",
       "      <td>1</td>\n",
       "      <td>1</td>\n",
       "      <td>1</td>\n",
       "      <td>171000.0</td>\n",
       "      <td>1560726.0</td>\n",
       "      <td>41301.0</td>\n",
       "      <td>...</td>\n",
       "      <td>0</td>\n",
       "      <td>1</td>\n",
       "      <td>0</td>\n",
       "      <td>0</td>\n",
       "      <td>0</td>\n",
       "      <td>1</td>\n",
       "      <td>0</td>\n",
       "      <td>0</td>\n",
       "      <td>0</td>\n",
       "      <td>1</td>\n",
       "    </tr>\n",
       "  </tbody>\n",
       "</table>\n",
       "<p>5 rows × 60 columns</p>\n",
       "</div>"
      ],
      "text/plain": [
       "   Unnamed: 0  SK_ID_CURR  TARGET  NAME_CONTRACT_TYPE  CODE_GENDER  \\\n",
       "0           1      100003       0                   0            1   \n",
       "1           2      100004       0                   1            0   \n",
       "2           3      100007       0                   0            0   \n",
       "3           4      100008       0                   0            0   \n",
       "4           5      100009       0                   0            1   \n",
       "\n",
       "   FLAG_OWN_CAR  FLAG_OWN_REALTY  AMT_INCOME_TOTAL  AMT_CREDIT  AMT_ANNUITY  \\\n",
       "0             0                0          270000.0   1293502.5      35698.5   \n",
       "1             1                1           67500.0    135000.0       6750.0   \n",
       "2             0                1          121500.0    513000.0      21865.5   \n",
       "3             0                1           99000.0    490495.5      27517.5   \n",
       "4             1                1          171000.0   1560726.0      41301.0   \n",
       "\n",
       "   ...  NAME_INCOME_TYPE_2  NAME_INCOME_TYPE_3  NAME_INCOME_TYPE_4  \\\n",
       "0  ...                   0                   0                   1   \n",
       "1  ...                   0                   1                   0   \n",
       "2  ...                   0                   1                   0   \n",
       "3  ...                   0                   0                   1   \n",
       "4  ...                   0                   1                   0   \n",
       "\n",
       "   NAME_EDUCATION_TYPE_0  NAME_EDUCATION_TYPE_1  NAME_EDUCATION_TYPE_2  \\\n",
       "0                      0                      0                      1   \n",
       "1                      0                      1                      0   \n",
       "2                      0                      1                      0   \n",
       "3                      0                      1                      0   \n",
       "4                      0                      0                      1   \n",
       "\n",
       "   NAME_EDUCATION_TYPE_3  NAME_FAMILY_STATUS_0  NAME_FAMILY_STATUS_1  \\\n",
       "0                      0                     0                     0   \n",
       "1                      0                     1                     0   \n",
       "2                      0                     1                     0   \n",
       "3                      0                     0                     0   \n",
       "4                      0                     0                     0   \n",
       "\n",
       "   NAME_FAMILY_STATUS_2  \n",
       "0                     1  \n",
       "1                     0  \n",
       "2                     0  \n",
       "3                     1  \n",
       "4                     1  \n",
       "\n",
       "[5 rows x 60 columns]"
      ]
     },
     "execution_count": 2,
     "metadata": {},
     "output_type": "execute_result"
    }
   ],
   "source": [
    "#Loading the dataset\n",
    "app_data = pd.read_csv('/Users/amarjotsinghlohia/Documents/Dissertation/Data/home-credit-default-risk/application_train_upsampled.csv')\n",
    "app_data.head()"
   ]
  },
  {
   "cell_type": "code",
   "execution_count": 3,
   "metadata": {},
   "outputs": [
    {
     "data": {
      "text/plain": [
       "0    168113\n",
       "1    168113\n",
       "Name: TARGET, dtype: int64"
      ]
     },
     "execution_count": 3,
     "metadata": {},
     "output_type": "execute_result"
    }
   ],
   "source": [
    "app_data[\"TARGET\"].value_counts()"
   ]
  },
  {
   "cell_type": "markdown",
   "metadata": {},
   "source": [
    "#### Splitting into training and test"
   ]
  },
  {
   "cell_type": "code",
   "execution_count": 4,
   "metadata": {},
   "outputs": [
    {
     "name": "stdout",
     "output_type": "stream",
     "text": [
      "(336226, 57) (336226,)\n"
     ]
    }
   ],
   "source": [
    "#Splitting into train and test dataset\n",
    "X = app_data.iloc[:,3:]\n",
    "Y = app_data['TARGET']\n",
    "print(X.shape, Y.shape)\n"
   ]
  },
  {
   "cell_type": "code",
   "execution_count": 5,
   "metadata": {},
   "outputs": [
    {
     "name": "stdout",
     "output_type": "stream",
     "text": [
      "(336226, 57) (235358, 57) (100868, 57) (336226,) (235358,) (100868,)\n"
     ]
    }
   ],
   "source": [
    "#Splitting into training and testing data into 80% and 20% respectively\n",
    "\n",
    "X_train, X_test, Y_train, Y_test = train_test_split(X, Y, test_size = 0.3)\n",
    "print(X.shape, X_train.shape, X_test.shape, Y.shape, Y_train.shape, Y_test.shape)"
   ]
  },
  {
   "cell_type": "markdown",
   "metadata": {},
   "source": [
    "### Defining the Catbost classifier model\n"
   ]
  },
  {
   "cell_type": "code",
   "execution_count": 6,
   "metadata": {},
   "outputs": [
    {
     "data": {
      "application/vnd.jupyter.widget-view+json": {
       "model_id": "7c54388144a44fa29a4d3a5f988fbae0",
       "version_major": 2,
       "version_minor": 0
      },
      "text/plain": [
       "MetricVisualizer(layout=Layout(align_self='stretch', height='500px'))"
      ]
     },
     "metadata": {},
     "output_type": "display_data"
    },
    {
     "name": "stdout",
     "output_type": "stream",
     "text": [
      "Learning rate set to 0.090319\n",
      "0:\ttest: 0.6503909\tbest: 0.6503909 (0)\ttotal: 494ms\tremaining: 16m 27s\n",
      "100:\ttest: 0.7311605\tbest: 0.7311605 (100)\ttotal: 23.8s\tremaining: 7m 28s\n",
      "200:\ttest: 0.7686384\tbest: 0.7686384 (200)\ttotal: 42.3s\tremaining: 6m 18s\n",
      "300:\ttest: 0.7983173\tbest: 0.7983173 (300)\ttotal: 59.6s\tremaining: 5m 36s\n",
      "400:\ttest: 0.8225859\tbest: 0.8225859 (400)\ttotal: 1m 11s\tremaining: 4m 44s\n",
      "500:\ttest: 0.8424239\tbest: 0.8424239 (500)\ttotal: 1m 22s\tremaining: 4m 5s\n",
      "600:\ttest: 0.8588969\tbest: 0.8588969 (600)\ttotal: 1m 35s\tremaining: 3m 42s\n",
      "700:\ttest: 0.8732569\tbest: 0.8732569 (700)\ttotal: 1m 46s\tremaining: 3m 18s\n",
      "800:\ttest: 0.8851435\tbest: 0.8851435 (800)\ttotal: 1m 58s\tremaining: 2m 56s\n",
      "900:\ttest: 0.8960027\tbest: 0.8960027 (900)\ttotal: 2m 8s\tremaining: 2m 36s\n",
      "1000:\ttest: 0.9056252\tbest: 0.9056252 (1000)\ttotal: 2m 21s\tremaining: 2m 21s\n",
      "1100:\ttest: 0.9138201\tbest: 0.9138201 (1100)\ttotal: 2m 36s\tremaining: 2m 7s\n",
      "1200:\ttest: 0.9211634\tbest: 0.9211634 (1200)\ttotal: 2m 45s\tremaining: 1m 49s\n",
      "1300:\ttest: 0.9276546\tbest: 0.9276546 (1300)\ttotal: 2m 54s\tremaining: 1m 33s\n",
      "1400:\ttest: 0.9338896\tbest: 0.9338896 (1400)\ttotal: 3m 5s\tremaining: 1m 19s\n",
      "1500:\ttest: 0.9394299\tbest: 0.9394299 (1500)\ttotal: 3m 15s\tremaining: 1m 4s\n",
      "1600:\ttest: 0.9442342\tbest: 0.9442342 (1600)\ttotal: 3m 25s\tremaining: 51.1s\n",
      "1700:\ttest: 0.9483993\tbest: 0.9483993 (1700)\ttotal: 3m 35s\tremaining: 37.9s\n",
      "1800:\ttest: 0.9522592\tbest: 0.9522592 (1800)\ttotal: 3m 46s\tremaining: 25s\n",
      "1900:\ttest: 0.9556976\tbest: 0.9556976 (1900)\ttotal: 3m 59s\tremaining: 12.5s\n",
      "1999:\ttest: 0.9589962\tbest: 0.9589962 (1999)\ttotal: 4m 10s\tremaining: 0us\n",
      "\n",
      "bestTest = 0.9589961624\n",
      "bestIteration = 1999\n",
      "\n"
     ]
    },
    {
     "data": {
      "text/plain": [
       "<catboost.core.CatBoostClassifier at 0x7f7cbcc6cdc0>"
      ]
     },
     "execution_count": 6,
     "metadata": {},
     "output_type": "execute_result"
    }
   ],
   "source": [
    "from catboost import CatBoostClassifier\n",
    "model_cb = CatBoostClassifier(iterations=2000, eval_metric= 'AUC',\n",
    "                              depth=8,\n",
    "                              verbose=100)\n",
    "model_cb.fit(X_train, Y_train, plot=True, eval_set=(X_test, Y_test))"
   ]
  },
  {
   "cell_type": "markdown",
   "metadata": {},
   "source": [
    "#### Confusion Matrix plot for Hyperprameter tuned model"
   ]
  },
  {
   "cell_type": "code",
   "execution_count": 7,
   "metadata": {},
   "outputs": [
    {
     "name": "stderr",
     "output_type": "stream",
     "text": [
      "/Users/amarjotsinghlohia/.local/lib/python3.9/site-packages/sklearn/utils/deprecation.py:87: FutureWarning: Function plot_confusion_matrix is deprecated; Function `plot_confusion_matrix` is deprecated in 1.0 and will be removed in 1.2. Use one of the class methods: ConfusionMatrixDisplay.from_predictions or ConfusionMatrixDisplay.from_estimator.\n",
      "  warnings.warn(msg, category=FutureWarning)\n"
     ]
    },
    {
     "data": {
      "text/plain": [
       "<sklearn.metrics._plot.confusion_matrix.ConfusionMatrixDisplay at 0x7f7cbca827f0>"
      ]
     },
     "execution_count": 7,
     "metadata": {},
     "output_type": "execute_result"
    },
    {
     "data": {
      "image/png": "[encoded data removed]",
      "text/plain": [
       "<Figure size 432x288 with 2 Axes>"
      ]
     },
     "metadata": {
      "needs_background": "light"
     },
     "output_type": "display_data"
    }
   ],
   "source": [
    "y_pred = model_cb.predict(X_test)\n",
    "plot_confusion_matrix(model_cb, X_test, Y_test, values_format ='d', display_labels = ['Not Approved','Approved'])"
   ]
  },
  {
   "cell_type": "code",
   "execution_count": 9,
   "metadata": {},
   "outputs": [
    {
     "name": "stdout",
     "output_type": "stream",
     "text": [
      "{'learn': {'Logloss': 0.3004466572233672}, 'validation': {'Logloss': 0.35148870597877696, 'AUC': 0.9589961623772657}}\n",
      "              precision    recall  f1-score   support\n",
      "\n",
      "           0       0.94      0.84      0.89     50585\n",
      "           1       0.85      0.95      0.90     50283\n",
      "\n",
      "    accuracy                           0.89    100868\n",
      "   macro avg       0.90      0.89      0.89    100868\n",
      "weighted avg       0.90      0.89      0.89    100868\n",
      "\n"
     ]
    }
   ],
   "source": [
    "#Best score\n",
    "print(model_cb.best_score_)\n",
    "\n",
    "#Classification report\n",
    "print(classification_report(Y_test, y_pred))"
   ]
  },
  {
   "cell_type": "code",
   "execution_count": 10,
   "metadata": {},
   "outputs": [
    {
     "name": "stdout",
     "output_type": "stream",
     "text": [
      "0.892671610421541\n"
     ]
    }
   ],
   "source": [
    "print(accuracy_score(Y_test,y_pred))"
   ]
  },
  {
   "cell_type": "markdown",
   "metadata": {},
   "source": [
    "### ROC Curve plot"
   ]
  },
  {
   "cell_type": "code",
   "execution_count": 12,
   "metadata": {},
   "outputs": [
    {
     "name": "stderr",
     "output_type": "stream",
     "text": [
      "/Users/amarjotsinghlohia/opt/anaconda3/lib/python3.9/site-packages/seaborn/_decorators.py:36: FutureWarning: Pass the following variables as keyword args: x, y. From version 0.12, the only valid positional argument will be `data`, and passing other arguments without an explicit keyword will result in an error or misinterpretation.\n",
      "  warnings.warn(\n",
      "/Users/amarjotsinghlohia/opt/anaconda3/lib/python3.9/site-packages/seaborn/_decorators.py:36: FutureWarning: Pass the following variables as keyword args: x, y. From version 0.12, the only valid positional argument will be `data`, and passing other arguments without an explicit keyword will result in an error or misinterpretation.\n",
      "  warnings.warn(\n"
     ]
    },
    {
     "data": {
      "image/png": "[encoded data removed]",
      "text/plain": [
       "<Figure size 432x288 with 1 Axes>"
      ]
     },
     "metadata": {
      "needs_background": "light"
     },
     "output_type": "display_data"
    }
   ],
   "source": [
    "probs = model_cb.predict_proba(X_test)\n",
    "fpr, tpr, thresholds = roc_curve(Y_test, y_pred)\n",
    "sns.lineplot([0,1],[0,1], color='red', linestyle='--')\n",
    "plt = sns.lineplot(fpr, tpr, marker = '.',label='ROC Curve')"
   ]
  },
  {
   "cell_type": "code",
   "execution_count": null,
   "metadata": {},
   "outputs": [],
   "source": []
  }
 ],
 "metadata": {
  "kernelspec": {
   "display_name": "Python 3.9.12 ('base')",
   "language": "python",
   "name": "python3"
  },
  "language_info": {
   "codemirror_mode": {
    "name": "ipython",
    "version": 3
   },
   "file_extension": ".py",
   "mimetype": "text/x-python",
   "name": "python",
   "nbconvert_exporter": "python",
   "pygments_lexer": "ipython3",
   "version": "3.9.12"
  },
  "orig_nbformat": 4,
  "vscode": {
   "interpreter": {
    "hash": "425aa5fac1af2c2b2daa42dcae890837cc1a879be8cd68510719d5942fa4f50e"
   }
  }
 },
 "nbformat": 4,
 "nbformat_minor": 2
}
