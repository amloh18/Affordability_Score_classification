{
 "cells": [
  {
   "cell_type": "markdown",
   "metadata": {},
   "source": [
    "# Catboost Classifier model "
   ]
  },
  {
   "cell_type": "code",
   "execution_count": 2,
   "metadata": {},
   "outputs": [],
   "source": [
    "import pandas as pd\n",
    "from sklearn.model_selection import train_test_split\n",
    "from sklearn.metrics import plot_confusion_matrix,accuracy_score, classification_report,f1_score"
   ]
  },
  {
   "cell_type": "markdown",
   "metadata": {},
   "source": [
    "### Loading the data\n",
    "This dataset is a cleaned and merged version of different datasets of the HOME CREDIT DEFAULT RISK which can be found at https://www.kaggle.com/competitions/home-credit-default-risk and is exported as reduced CSV after the data cleaning, feature selection and labelling."
   ]
  },
  {
   "cell_type": "code",
   "execution_count": 3,
   "metadata": {},
   "outputs": [
    {
     "data": {
      "text/html": [
       "<div>\n",
       "<style scoped>\n",
       "    .dataframe tbody tr th:only-of-type {\n",
       "        vertical-align: middle;\n",
       "    }\n",
       "\n",
       "    .dataframe tbody tr th {\n",
       "        vertical-align: top;\n",
       "    }\n",
       "\n",
       "    .dataframe thead th {\n",
       "        text-align: right;\n",
       "    }\n",
       "</style>\n",
       "<table border=\"1\" class=\"dataframe\">\n",
       "  <thead>\n",
       "    <tr style=\"text-align: right;\">\n",
       "      <th></th>\n",
       "      <th>Unnamed: 0</th>\n",
       "      <th>SK_ID_CURR</th>\n",
       "      <th>TARGET</th>\n",
       "      <th>NAME_CONTRACT_TYPE</th>\n",
       "      <th>CODE_GENDER</th>\n",
       "      <th>FLAG_OWN_CAR</th>\n",
       "      <th>FLAG_OWN_REALTY</th>\n",
       "      <th>AMT_INCOME_TOTAL</th>\n",
       "      <th>AMT_CREDIT</th>\n",
       "      <th>AMT_ANNUITY</th>\n",
       "      <th>...</th>\n",
       "      <th>NAME_INCOME_TYPE_2</th>\n",
       "      <th>NAME_INCOME_TYPE_3</th>\n",
       "      <th>NAME_INCOME_TYPE_4</th>\n",
       "      <th>NAME_EDUCATION_TYPE_0</th>\n",
       "      <th>NAME_EDUCATION_TYPE_1</th>\n",
       "      <th>NAME_EDUCATION_TYPE_2</th>\n",
       "      <th>NAME_EDUCATION_TYPE_3</th>\n",
       "      <th>NAME_FAMILY_STATUS_0</th>\n",
       "      <th>NAME_FAMILY_STATUS_1</th>\n",
       "      <th>NAME_FAMILY_STATUS_2</th>\n",
       "    </tr>\n",
       "  </thead>\n",
       "  <tbody>\n",
       "    <tr>\n",
       "      <th>0</th>\n",
       "      <td>1</td>\n",
       "      <td>100003</td>\n",
       "      <td>0</td>\n",
       "      <td>0</td>\n",
       "      <td>1</td>\n",
       "      <td>0</td>\n",
       "      <td>0</td>\n",
       "      <td>270000.0</td>\n",
       "      <td>1293502.5</td>\n",
       "      <td>35698.5</td>\n",
       "      <td>...</td>\n",
       "      <td>0</td>\n",
       "      <td>0</td>\n",
       "      <td>1</td>\n",
       "      <td>0</td>\n",
       "      <td>0</td>\n",
       "      <td>1</td>\n",
       "      <td>0</td>\n",
       "      <td>0</td>\n",
       "      <td>0</td>\n",
       "      <td>1</td>\n",
       "    </tr>\n",
       "    <tr>\n",
       "      <th>1</th>\n",
       "      <td>2</td>\n",
       "      <td>100004</td>\n",
       "      <td>0</td>\n",
       "      <td>1</td>\n",
       "      <td>0</td>\n",
       "      <td>1</td>\n",
       "      <td>1</td>\n",
       "      <td>67500.0</td>\n",
       "      <td>135000.0</td>\n",
       "      <td>6750.0</td>\n",
       "      <td>...</td>\n",
       "      <td>0</td>\n",
       "      <td>1</td>\n",
       "      <td>0</td>\n",
       "      <td>0</td>\n",
       "      <td>1</td>\n",
       "      <td>0</td>\n",
       "      <td>0</td>\n",
       "      <td>1</td>\n",
       "      <td>0</td>\n",
       "      <td>0</td>\n",
       "    </tr>\n",
       "    <tr>\n",
       "      <th>2</th>\n",
       "      <td>3</td>\n",
       "      <td>100007</td>\n",
       "      <td>0</td>\n",
       "      <td>0</td>\n",
       "      <td>0</td>\n",
       "      <td>0</td>\n",
       "      <td>1</td>\n",
       "      <td>121500.0</td>\n",
       "      <td>513000.0</td>\n",
       "      <td>21865.5</td>\n",
       "      <td>...</td>\n",
       "      <td>0</td>\n",
       "      <td>1</td>\n",
       "      <td>0</td>\n",
       "      <td>0</td>\n",
       "      <td>1</td>\n",
       "      <td>0</td>\n",
       "      <td>0</td>\n",
       "      <td>1</td>\n",
       "      <td>0</td>\n",
       "      <td>0</td>\n",
       "    </tr>\n",
       "    <tr>\n",
       "      <th>3</th>\n",
       "      <td>4</td>\n",
       "      <td>100008</td>\n",
       "      <td>0</td>\n",
       "      <td>0</td>\n",
       "      <td>0</td>\n",
       "      <td>0</td>\n",
       "      <td>1</td>\n",
       "      <td>99000.0</td>\n",
       "      <td>490495.5</td>\n",
       "      <td>27517.5</td>\n",
       "      <td>...</td>\n",
       "      <td>0</td>\n",
       "      <td>0</td>\n",
       "      <td>1</td>\n",
       "      <td>0</td>\n",
       "      <td>1</td>\n",
       "      <td>0</td>\n",
       "      <td>0</td>\n",
       "      <td>0</td>\n",
       "      <td>0</td>\n",
       "      <td>1</td>\n",
       "    </tr>\n",
       "    <tr>\n",
       "      <th>4</th>\n",
       "      <td>5</td>\n",
       "      <td>100009</td>\n",
       "      <td>0</td>\n",
       "      <td>0</td>\n",
       "      <td>1</td>\n",
       "      <td>1</td>\n",
       "      <td>1</td>\n",
       "      <td>171000.0</td>\n",
       "      <td>1560726.0</td>\n",
       "      <td>41301.0</td>\n",
       "      <td>...</td>\n",
       "      <td>0</td>\n",
       "      <td>1</td>\n",
       "      <td>0</td>\n",
       "      <td>0</td>\n",
       "      <td>0</td>\n",
       "      <td>1</td>\n",
       "      <td>0</td>\n",
       "      <td>0</td>\n",
       "      <td>0</td>\n",
       "      <td>1</td>\n",
       "    </tr>\n",
       "  </tbody>\n",
       "</table>\n",
       "<p>5 rows × 60 columns</p>\n",
       "</div>"
      ],
      "text/plain": [
       "   Unnamed: 0  SK_ID_CURR  TARGET  NAME_CONTRACT_TYPE  CODE_GENDER  \\\n",
       "0           1      100003       0                   0            1   \n",
       "1           2      100004       0                   1            0   \n",
       "2           3      100007       0                   0            0   \n",
       "3           4      100008       0                   0            0   \n",
       "4           5      100009       0                   0            1   \n",
       "\n",
       "   FLAG_OWN_CAR  FLAG_OWN_REALTY  AMT_INCOME_TOTAL  AMT_CREDIT  AMT_ANNUITY  \\\n",
       "0             0                0          270000.0   1293502.5      35698.5   \n",
       "1             1                1           67500.0    135000.0       6750.0   \n",
       "2             0                1          121500.0    513000.0      21865.5   \n",
       "3             0                1           99000.0    490495.5      27517.5   \n",
       "4             1                1          171000.0   1560726.0      41301.0   \n",
       "\n",
       "   ...  NAME_INCOME_TYPE_2  NAME_INCOME_TYPE_3  NAME_INCOME_TYPE_4  \\\n",
       "0  ...                   0                   0                   1   \n",
       "1  ...                   0                   1                   0   \n",
       "2  ...                   0                   1                   0   \n",
       "3  ...                   0                   0                   1   \n",
       "4  ...                   0                   1                   0   \n",
       "\n",
       "   NAME_EDUCATION_TYPE_0  NAME_EDUCATION_TYPE_1  NAME_EDUCATION_TYPE_2  \\\n",
       "0                      0                      0                      1   \n",
       "1                      0                      1                      0   \n",
       "2                      0                      1                      0   \n",
       "3                      0                      1                      0   \n",
       "4                      0                      0                      1   \n",
       "\n",
       "   NAME_EDUCATION_TYPE_3  NAME_FAMILY_STATUS_0  NAME_FAMILY_STATUS_1  \\\n",
       "0                      0                     0                     0   \n",
       "1                      0                     1                     0   \n",
       "2                      0                     1                     0   \n",
       "3                      0                     0                     0   \n",
       "4                      0                     0                     0   \n",
       "\n",
       "   NAME_FAMILY_STATUS_2  \n",
       "0                     1  \n",
       "1                     0  \n",
       "2                     0  \n",
       "3                     1  \n",
       "4                     1  \n",
       "\n",
       "[5 rows x 60 columns]"
      ]
     },
     "execution_count": 3,
     "metadata": {},
     "output_type": "execute_result"
    }
   ],
   "source": [
    "#Loading the dataset\n",
    "app_data = pd.read_csv('/Users/amarjotsinghlohia/Documents/Dissertation/Data/home-credit-default-risk/application_train_upsampled.csv')\n",
    "app_data.head()"
   ]
  },
  {
   "cell_type": "code",
   "execution_count": 4,
   "metadata": {},
   "outputs": [
    {
     "data": {
      "text/plain": [
       "0    168113\n",
       "1    168113\n",
       "Name: TARGET, dtype: int64"
      ]
     },
     "execution_count": 4,
     "metadata": {},
     "output_type": "execute_result"
    }
   ],
   "source": [
    "app_data[\"TARGET\"].value_counts()"
   ]
  },
  {
   "cell_type": "markdown",
   "metadata": {},
   "source": [
    "#### Splitting into training and test"
   ]
  },
  {
   "cell_type": "code",
   "execution_count": 5,
   "metadata": {},
   "outputs": [
    {
     "name": "stdout",
     "output_type": "stream",
     "text": [
      "(336226, 57) (336226,)\n"
     ]
    }
   ],
   "source": [
    "#Splitting into train and test dataset\n",
    "X = app_data.iloc[:,3:]\n",
    "Y = app_data['TARGET']\n",
    "print(X.shape, Y.shape)\n"
   ]
  },
  {
   "cell_type": "code",
   "execution_count": 6,
   "metadata": {},
   "outputs": [
    {
     "name": "stdout",
     "output_type": "stream",
     "text": [
      "(336226, 57) (235358, 57) (100868, 57) (336226,) (235358,) (100868,)\n"
     ]
    }
   ],
   "source": [
    "#Splitting into training and testing data into 80% and 20% respectively\n",
    "\n",
    "X_train, X_test, Y_train, Y_test = train_test_split(X, Y, test_size = 0.3)\n",
    "print(X.shape, X_train.shape, X_test.shape, Y.shape, Y_train.shape, Y_test.shape)"
   ]
  },
  {
   "cell_type": "markdown",
   "metadata": {},
   "source": [
    "### Defining the Catbost classifier model\n"
   ]
  },
  {
   "cell_type": "code",
   "execution_count": 15,
   "metadata": {},
   "outputs": [
    {
     "data": {
      "application/vnd.jupyter.widget-view+json": {
       "model_id": "a8543ac275e84f4ab1098b5a5b10a8b4",
       "version_major": 2,
       "version_minor": 0
      },
      "text/plain": [
       "MetricVisualizer(layout=Layout(align_self='stretch', height='500px'))"
      ]
     },
     "metadata": {},
     "output_type": "display_data"
    },
    {
     "name": "stdout",
     "output_type": "stream",
     "text": [
      "Learning rate set to 0.090319\n",
      "0:\ttest: 0.6494885\tbest: 0.6494885 (0)\ttotal: 102ms\tremaining: 3m 23s\n",
      "100:\ttest: 0.7308193\tbest: 0.7308193 (100)\ttotal: 8.41s\tremaining: 2m 38s\n",
      "200:\ttest: 0.7687796\tbest: 0.7687796 (200)\ttotal: 16s\tremaining: 2m 23s\n",
      "300:\ttest: 0.7981133\tbest: 0.7981133 (300)\ttotal: 23.2s\tremaining: 2m 10s\n",
      "400:\ttest: 0.8217990\tbest: 0.8217990 (400)\ttotal: 33.3s\tremaining: 2m 12s\n",
      "500:\ttest: 0.8415896\tbest: 0.8415896 (500)\ttotal: 41s\tremaining: 2m 2s\n",
      "600:\ttest: 0.8582526\tbest: 0.8582526 (600)\ttotal: 49s\tremaining: 1m 54s\n",
      "700:\ttest: 0.8721694\tbest: 0.8721694 (700)\ttotal: 57.8s\tremaining: 1m 47s\n",
      "800:\ttest: 0.8844820\tbest: 0.8844820 (800)\ttotal: 1m 6s\tremaining: 1m 39s\n",
      "900:\ttest: 0.8947590\tbest: 0.8947590 (900)\ttotal: 1m 14s\tremaining: 1m 30s\n",
      "1000:\ttest: 0.9046866\tbest: 0.9046866 (1000)\ttotal: 1m 22s\tremaining: 1m 22s\n",
      "1100:\ttest: 0.9128561\tbest: 0.9128561 (1100)\ttotal: 1m 30s\tremaining: 1m 14s\n",
      "1200:\ttest: 0.9203079\tbest: 0.9203079 (1200)\ttotal: 1m 39s\tremaining: 1m 6s\n",
      "1300:\ttest: 0.9266980\tbest: 0.9266980 (1300)\ttotal: 1m 51s\tremaining: 1m\n",
      "1400:\ttest: 0.9328109\tbest: 0.9328109 (1400)\ttotal: 2m 2s\tremaining: 52.3s\n",
      "1500:\ttest: 0.9383406\tbest: 0.9383406 (1500)\ttotal: 2m 11s\tremaining: 43.6s\n",
      "1600:\ttest: 0.9430771\tbest: 0.9430771 (1600)\ttotal: 2m 18s\tremaining: 34.6s\n",
      "1700:\ttest: 0.9475157\tbest: 0.9475157 (1700)\ttotal: 2m 27s\tremaining: 25.9s\n",
      "1800:\ttest: 0.9514563\tbest: 0.9514563 (1800)\ttotal: 2m 36s\tremaining: 17.3s\n",
      "1900:\ttest: 0.9549918\tbest: 0.9549918 (1900)\ttotal: 2m 46s\tremaining: 8.65s\n",
      "1999:\ttest: 0.9580838\tbest: 0.9580838 (1999)\ttotal: 2m 53s\tremaining: 0us\n",
      "\n",
      "bestTest = 0.9580837966\n",
      "bestIteration = 1999\n",
      "\n"
     ]
    },
    {
     "data": {
      "text/plain": [
       "<catboost.core.CatBoostClassifier at 0x7fe2ecd81400>"
      ]
     },
     "execution_count": 15,
     "metadata": {},
     "output_type": "execute_result"
    }
   ],
   "source": [
    "from catboost import CatBoostClassifier\n",
    "model_cb = CatBoostClassifier(iterations=2000, eval_metric= 'AUC',\n",
    "                              depth=8,\n",
    "                              verbose=100)\n",
    "model_cb.fit(X_train, Y_train, plot=True, eval_set=(X_test, Y_test))"
   ]
  },
  {
   "cell_type": "markdown",
   "metadata": {},
   "source": [
    "#### Confusion Matrix plot for Hyperprameter tuned model"
   ]
  },
  {
   "cell_type": "code",
   "execution_count": 16,
   "metadata": {},
   "outputs": [
    {
     "name": "stderr",
     "output_type": "stream",
     "text": [
      "/Users/amarjotsinghlohia/.local/lib/python3.9/site-packages/sklearn/utils/deprecation.py:87: FutureWarning: Function plot_confusion_matrix is deprecated; Function `plot_confusion_matrix` is deprecated in 1.0 and will be removed in 1.2. Use one of the class methods: ConfusionMatrixDisplay.from_predictions or ConfusionMatrixDisplay.from_estimator.\n",
      "  warnings.warn(msg, category=FutureWarning)\n"
     ]
    },
    {
     "data": {
      "text/plain": [
       "<sklearn.metrics._plot.confusion_matrix.ConfusionMatrixDisplay at 0x7fe315554b20>"
      ]
     },
     "execution_count": 16,
     "metadata": {},
     "output_type": "execute_result"
    },
    {
     "data": {
      "image/png": "[encoded data removed]",
      "text/plain": [
       "<Figure size 432x288 with 2 Axes>"
      ]
     },
     "metadata": {
      "needs_background": "light"
     },
     "output_type": "display_data"
    }
   ],
   "source": [
    "y_pred = model_cb.predict(X_test)\n",
    "plot_confusion_matrix(model_cb, X_test, Y_test, values_format ='d', display_labels = ['Not Approved','Approved'])"
   ]
  },
  {
   "cell_type": "code",
   "execution_count": 13,
   "metadata": {},
   "outputs": [
    {
     "name": "stdout",
     "output_type": "stream",
     "text": [
      "0.8399492405916643\n"
     ]
    }
   ],
   "source": [
    "print(accuracy_score(Y_test,y_pred))"
   ]
  },
  {
   "cell_type": "code",
   "execution_count": 17,
   "metadata": {},
   "outputs": [
    {
     "name": "stdout",
     "output_type": "stream",
     "text": [
      "              precision    recall  f1-score   support\n",
      "\n",
      "           0       0.94      0.83      0.88     50629\n",
      "           1       0.85      0.95      0.89     50239\n",
      "\n",
      "    accuracy                           0.89    100868\n",
      "   macro avg       0.89      0.89      0.89    100868\n",
      "weighted avg       0.89      0.89      0.89    100868\n",
      "\n"
     ]
    }
   ],
   "source": [
    "print(classification_report(Y_test,y_pred))"
   ]
  },
  {
   "cell_type": "code",
   "execution_count": null,
   "metadata": {},
   "outputs": [],
   "source": []
  }
 ],
 "metadata": {
  "kernelspec": {
   "display_name": "Python 3.9.12 ('base')",
   "language": "python",
   "name": "python3"
  },
  "language_info": {
   "codemirror_mode": {
    "name": "ipython",
    "version": 3
   },
   "file_extension": ".py",
   "mimetype": "text/x-python",
   "name": "python",
   "nbconvert_exporter": "python",
   "pygments_lexer": "ipython3",
   "version": "3.9.12"
  },
  "orig_nbformat": 4,
  "vscode": {
   "interpreter": {
    "hash": "425aa5fac1af2c2b2daa42dcae890837cc1a879be8cd68510719d5942fa4f50e"
   }
  }
 },
 "nbformat": 4,
 "nbformat_minor": 2
}
