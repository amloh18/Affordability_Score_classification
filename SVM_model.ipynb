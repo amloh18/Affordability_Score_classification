{
 "cells": [
  {
   "cell_type": "markdown",
   "metadata": {},
   "source": [
    "## Support Vector Machine\n"
   ]
  },
  {
   "cell_type": "markdown",
   "metadata": {},
   "source": [
    "### Importing libraries"
   ]
  },
  {
   "cell_type": "code",
   "execution_count": 1,
   "metadata": {},
   "outputs": [],
   "source": [
    "import pandas as pd\n",
    "import numpy as np\n",
    "import matplotlib.pyplot as plt\n",
    "from sklearn.model_selection import train_test_split\n",
    "from sklearn.linear_model import SGDClassifier\n",
    "from sklearn.preprocessing import scale\n",
    "from sklearn.metrics import plot_confusion_matrix\n",
    "from sklearn.model_selection import GridSearchCV\n",
    "from sklearn.metrics import classification_report, roc_curve, roc_auc_score\n",
    "import seaborn as sns\n"
   ]
  },
  {
   "cell_type": "markdown",
   "metadata": {},
   "source": [
    "### Loading the data"
   ]
  },
  {
   "cell_type": "code",
   "execution_count": 2,
   "metadata": {},
   "outputs": [],
   "source": [
    "data = pd.read_csv('/Users/amarjotsinghlohia/Documents/Dissertation/Data/home-credit-default-risk/application_train_upsampled.csv')"
   ]
  },
  {
   "cell_type": "markdown",
   "metadata": {},
   "source": [
    "## Splitting of data into Target and non_target"
   ]
  },
  {
   "cell_type": "code",
   "execution_count": 3,
   "metadata": {},
   "outputs": [
    {
     "name": "stdout",
     "output_type": "stream",
     "text": [
      "(336226, 57) (336226,)\n"
     ]
    }
   ],
   "source": [
    "X = data.iloc[:,3:]\n",
    "y = data['TARGET']\n",
    "print(X.shape, y.shape)"
   ]
  },
  {
   "cell_type": "markdown",
   "metadata": {},
   "source": [
    "### Training and Test Splitting"
   ]
  },
  {
   "cell_type": "code",
   "execution_count": 4,
   "metadata": {},
   "outputs": [],
   "source": [
    "X_train, X_test, y_train, y_test = train_test_split(X, y, test_size = 0.25)"
   ]
  },
  {
   "cell_type": "markdown",
   "metadata": {},
   "source": [
    "### Scaling\n",
    "Here we are going to use scaling of the dataset for better prediction. Scaling normalizes the data to prroduce mean as 1 and standard deviation as 0. This helps the model to execute faster and more efficiently."
   ]
  },
  {
   "cell_type": "code",
   "execution_count": 5,
   "metadata": {},
   "outputs": [],
   "source": [
    "X_train_scaled = scale(X_train)\n",
    "X_test_scaled = scale(X_test)"
   ]
  },
  {
   "cell_type": "markdown",
   "metadata": {},
   "source": [
    "## Model"
   ]
  },
  {
   "cell_type": "code",
   "execution_count": 6,
   "metadata": {},
   "outputs": [
    {
     "name": "stdout",
     "output_type": "stream",
     "text": [
      "-- Epoch 1\n",
      "Norm: 22.65, NNZs: 57, Bias: 0.051195, T: 252169, Avg. loss: 3.443944\n",
      "Total training time: 0.12 seconds.\n",
      "-- Epoch 2\n",
      "Norm: 11.55, NNZs: 57, Bias: -0.048817, T: 504338, Avg. loss: 1.159291\n",
      "Total training time: 0.21 seconds.\n",
      "-- Epoch 3\n",
      "Norm: 7.94, NNZs: 57, Bias: 0.081720, T: 756507, Avg. loss: 1.023711\n",
      "Total training time: 0.33 seconds.\n",
      "-- Epoch 4\n",
      "Norm: 6.09, NNZs: 57, Bias: -0.169523, T: 1008676, Avg. loss: 0.971360\n",
      "Total training time: 0.42 seconds.\n",
      "-- Epoch 5\n",
      "Norm: 4.99, NNZs: 57, Bias: -0.143146, T: 1260845, Avg. loss: 0.939654\n",
      "Total training time: 0.52 seconds.\n",
      "-- Epoch 6\n",
      "Norm: 4.46, NNZs: 57, Bias: -0.078672, T: 1513014, Avg. loss: 0.922489\n",
      "Total training time: 0.61 seconds.\n",
      "-- Epoch 7\n",
      "Norm: 3.98, NNZs: 57, Bias: 0.087221, T: 1765183, Avg. loss: 0.909336\n",
      "Total training time: 0.72 seconds.\n",
      "-- Epoch 8\n",
      "Norm: 3.54, NNZs: 57, Bias: 0.014222, T: 2017352, Avg. loss: 0.900962\n",
      "Total training time: 0.81 seconds.\n",
      "-- Epoch 9\n",
      "Norm: 3.31, NNZs: 57, Bias: 0.032447, T: 2269521, Avg. loss: 0.893677\n",
      "Total training time: 0.90 seconds.\n",
      "-- Epoch 10\n",
      "Norm: 2.98, NNZs: 57, Bias: 0.138996, T: 2521690, Avg. loss: 0.887074\n",
      "Total training time: 1.00 seconds.\n",
      "-- Epoch 11\n",
      "Norm: 2.95, NNZs: 57, Bias: 0.071681, T: 2773859, Avg. loss: 0.883150\n",
      "Total training time: 1.09 seconds.\n",
      "-- Epoch 12\n",
      "Norm: 2.85, NNZs: 57, Bias: 0.118114, T: 3026028, Avg. loss: 0.878920\n",
      "Total training time: 1.18 seconds.\n",
      "-- Epoch 13\n",
      "Norm: 2.81, NNZs: 57, Bias: 0.099637, T: 3278197, Avg. loss: 0.875605\n",
      "Total training time: 1.30 seconds.\n",
      "-- Epoch 14\n",
      "Norm: 2.71, NNZs: 57, Bias: -0.004001, T: 3530366, Avg. loss: 0.872404\n",
      "Total training time: 1.45 seconds.\n",
      "-- Epoch 15\n",
      "Norm: 2.64, NNZs: 57, Bias: 0.025378, T: 3782535, Avg. loss: 0.870956\n",
      "Total training time: 1.55 seconds.\n",
      "-- Epoch 16\n",
      "Norm: 2.54, NNZs: 57, Bias: 0.063583, T: 4034704, Avg. loss: 0.869427\n",
      "Total training time: 1.64 seconds.\n",
      "-- Epoch 17\n",
      "Norm: 2.51, NNZs: 57, Bias: 0.076255, T: 4286873, Avg. loss: 0.868264\n",
      "Total training time: 1.73 seconds.\n",
      "-- Epoch 18\n",
      "Norm: 2.53, NNZs: 57, Bias: 0.039136, T: 4539042, Avg. loss: 0.865095\n",
      "Total training time: 1.82 seconds.\n",
      "-- Epoch 19\n",
      "Norm: 2.44, NNZs: 57, Bias: 0.026945, T: 4791211, Avg. loss: 0.863958\n",
      "Total training time: 1.91 seconds.\n",
      "-- Epoch 20\n",
      "Norm: 2.42, NNZs: 57, Bias: -0.001763, T: 5043380, Avg. loss: 0.863289\n",
      "Total training time: 2.00 seconds.\n",
      "-- Epoch 21\n",
      "Norm: 2.44, NNZs: 57, Bias: 0.045884, T: 5295549, Avg. loss: 0.862420\n",
      "Total training time: 2.09 seconds.\n",
      "-- Epoch 22\n",
      "Norm: 2.35, NNZs: 57, Bias: 0.060334, T: 5547718, Avg. loss: 0.860599\n",
      "Total training time: 2.19 seconds.\n",
      "-- Epoch 23\n",
      "Norm: 2.34, NNZs: 57, Bias: 0.006472, T: 5799887, Avg. loss: 0.860554\n",
      "Total training time: 2.27 seconds.\n",
      "-- Epoch 24\n",
      "Norm: 2.35, NNZs: 57, Bias: 0.062642, T: 6052056, Avg. loss: 0.858793\n",
      "Total training time: 2.36 seconds.\n",
      "-- Epoch 25\n",
      "Norm: 2.27, NNZs: 57, Bias: 0.032010, T: 6304225, Avg. loss: 0.857889\n",
      "Total training time: 2.45 seconds.\n",
      "-- Epoch 26\n",
      "Norm: 2.29, NNZs: 57, Bias: 0.095226, T: 6556394, Avg. loss: 0.857841\n",
      "Total training time: 2.54 seconds.\n",
      "-- Epoch 27\n",
      "Norm: 2.28, NNZs: 57, Bias: 0.087734, T: 6808563, Avg. loss: 0.856416\n",
      "Total training time: 2.63 seconds.\n",
      "-- Epoch 28\n",
      "Norm: 2.26, NNZs: 57, Bias: 0.107777, T: 7060732, Avg. loss: 0.856175\n",
      "Total training time: 2.71 seconds.\n",
      "-- Epoch 29\n",
      "Norm: 2.21, NNZs: 57, Bias: 0.094958, T: 7312901, Avg. loss: 0.856241\n",
      "Total training time: 2.80 seconds.\n",
      "-- Epoch 30\n",
      "Norm: 2.21, NNZs: 57, Bias: -0.062388, T: 7565070, Avg. loss: 0.854789\n",
      "Total training time: 2.90 seconds.\n",
      "-- Epoch 31\n",
      "Norm: 2.23, NNZs: 57, Bias: 0.000317, T: 7817239, Avg. loss: 0.854930\n",
      "Total training time: 3.21 seconds.\n",
      "-- Epoch 32\n",
      "Norm: 2.21, NNZs: 57, Bias: 0.028092, T: 8069408, Avg. loss: 0.854104\n",
      "Total training time: 3.34 seconds.\n",
      "-- Epoch 33\n",
      "Norm: 2.20, NNZs: 57, Bias: 0.038548, T: 8321577, Avg. loss: 0.853416\n",
      "Total training time: 3.43 seconds.\n",
      "-- Epoch 34\n",
      "Norm: 2.20, NNZs: 57, Bias: 0.047190, T: 8573746, Avg. loss: 0.852832\n",
      "Total training time: 3.53 seconds.\n",
      "-- Epoch 35\n",
      "Norm: 2.18, NNZs: 57, Bias: 0.133613, T: 8825915, Avg. loss: 0.853116\n",
      "Total training time: 3.61 seconds.\n",
      "Convergence after 35 epochs took 3.61 seconds\n"
     ]
    },
    {
     "data": {
      "text/html": [
       "<style>#sk-container-id-1 {color: black;background-color: white;}#sk-container-id-1 pre{padding: 0;}#sk-container-id-1 div.sk-toggleable {background-color: white;}#sk-container-id-1 label.sk-toggleable__label {cursor: pointer;display: block;width: 100%;margin-bottom: 0;padding: 0.3em;box-sizing: border-box;text-align: center;}#sk-container-id-1 label.sk-toggleable__label-arrow:before {content: \"▸\";float: left;margin-right: 0.25em;color: #696969;}#sk-container-id-1 label.sk-toggleable__label-arrow:hover:before {color: black;}#sk-container-id-1 div.sk-estimator:hover label.sk-toggleable__label-arrow:before {color: black;}#sk-container-id-1 div.sk-toggleable__content {max-height: 0;max-width: 0;overflow: hidden;text-align: left;background-color: #f0f8ff;}#sk-container-id-1 div.sk-toggleable__content pre {margin: 0.2em;color: black;border-radius: 0.25em;background-color: #f0f8ff;}#sk-container-id-1 input.sk-toggleable__control:checked~div.sk-toggleable__content {max-height: 200px;max-width: 100%;overflow: auto;}#sk-container-id-1 input.sk-toggleable__control:checked~label.sk-toggleable__label-arrow:before {content: \"▾\";}#sk-container-id-1 div.sk-estimator input.sk-toggleable__control:checked~label.sk-toggleable__label {background-color: #d4ebff;}#sk-container-id-1 div.sk-label input.sk-toggleable__control:checked~label.sk-toggleable__label {background-color: #d4ebff;}#sk-container-id-1 input.sk-hidden--visually {border: 0;clip: rect(1px 1px 1px 1px);clip: rect(1px, 1px, 1px, 1px);height: 1px;margin: -1px;overflow: hidden;padding: 0;position: absolute;width: 1px;}#sk-container-id-1 div.sk-estimator {font-family: monospace;background-color: #f0f8ff;border: 1px dotted black;border-radius: 0.25em;box-sizing: border-box;margin-bottom: 0.5em;}#sk-container-id-1 div.sk-estimator:hover {background-color: #d4ebff;}#sk-container-id-1 div.sk-parallel-item::after {content: \"\";width: 100%;border-bottom: 1px solid gray;flex-grow: 1;}#sk-container-id-1 div.sk-label:hover label.sk-toggleable__label {background-color: #d4ebff;}#sk-container-id-1 div.sk-serial::before {content: \"\";position: absolute;border-left: 1px solid gray;box-sizing: border-box;top: 0;bottom: 0;left: 50%;z-index: 0;}#sk-container-id-1 div.sk-serial {display: flex;flex-direction: column;align-items: center;background-color: white;padding-right: 0.2em;padding-left: 0.2em;position: relative;}#sk-container-id-1 div.sk-item {position: relative;z-index: 1;}#sk-container-id-1 div.sk-parallel {display: flex;align-items: stretch;justify-content: center;background-color: white;position: relative;}#sk-container-id-1 div.sk-item::before, #sk-container-id-1 div.sk-parallel-item::before {content: \"\";position: absolute;border-left: 1px solid gray;box-sizing: border-box;top: 0;bottom: 0;left: 50%;z-index: -1;}#sk-container-id-1 div.sk-parallel-item {display: flex;flex-direction: column;z-index: 1;position: relative;background-color: white;}#sk-container-id-1 div.sk-parallel-item:first-child::after {align-self: flex-end;width: 50%;}#sk-container-id-1 div.sk-parallel-item:last-child::after {align-self: flex-start;width: 50%;}#sk-container-id-1 div.sk-parallel-item:only-child::after {width: 0;}#sk-container-id-1 div.sk-dashed-wrapped {border: 1px dashed gray;margin: 0 0.4em 0.5em 0.4em;box-sizing: border-box;padding-bottom: 0.4em;background-color: white;}#sk-container-id-1 div.sk-label label {font-family: monospace;font-weight: bold;display: inline-block;line-height: 1.2em;}#sk-container-id-1 div.sk-label-container {text-align: center;}#sk-container-id-1 div.sk-container {/* jupyter's `normalize.less` sets `[hidden] { display: none; }` but bootstrap.min.css set `[hidden] { display: none !important; }` so we also need the `!important` here to be able to override the default hidden behavior on the sphinx rendered scikit-learn.org. See: https://github.com/scikit-learn/scikit-learn/issues/21755 */display: inline-block !important;position: relative;}#sk-container-id-1 div.sk-text-repr-fallback {display: none;}</style><div id=\"sk-container-id-1\" class=\"sk-top-container\"><div class=\"sk-text-repr-fallback\"><pre>SGDClassifier(verbose=10)</pre><b>In a Jupyter environment, please rerun this cell to show the HTML representation or trust the notebook. <br />On GitHub, the HTML representation is unable to render, please try loading this page with nbviewer.org.</b></div><div class=\"sk-container\" hidden><div class=\"sk-item\"><div class=\"sk-estimator sk-toggleable\"><input class=\"sk-toggleable__control sk-hidden--visually\" id=\"sk-estimator-id-1\" type=\"checkbox\" checked><label for=\"sk-estimator-id-1\" class=\"sk-toggleable__label sk-toggleable__label-arrow\">SGDClassifier</label><div class=\"sk-toggleable__content\"><pre>SGDClassifier(verbose=10)</pre></div></div></div></div></div>"
      ],
      "text/plain": [
       "SGDClassifier(verbose=10)"
      ]
     },
     "execution_count": 6,
     "metadata": {},
     "output_type": "execute_result"
    }
   ],
   "source": [
    "classifier_svm = SGDClassifier(verbose = 10)\n",
    "classifier_svm.fit(X_train_scaled, y_train)"
   ]
  },
  {
   "cell_type": "markdown",
   "metadata": {},
   "source": [
    "## Confusion Matrix"
   ]
  },
  {
   "cell_type": "code",
   "execution_count": 7,
   "metadata": {},
   "outputs": [
    {
     "name": "stderr",
     "output_type": "stream",
     "text": [
      "/Users/amarjotsinghlohia/.local/lib/python3.9/site-packages/sklearn/utils/deprecation.py:87: FutureWarning: Function plot_confusion_matrix is deprecated; Function `plot_confusion_matrix` is deprecated in 1.0 and will be removed in 1.2. Use one of the class methods: ConfusionMatrixDisplay.from_predictions or ConfusionMatrixDisplay.from_estimator.\n",
      "  warnings.warn(msg, category=FutureWarning)\n"
     ]
    },
    {
     "data": {
      "text/plain": [
       "<sklearn.metrics._plot.confusion_matrix.ConfusionMatrixDisplay at 0x7f8392e7eeb0>"
      ]
     },
     "execution_count": 7,
     "metadata": {},
     "output_type": "execute_result"
    },
    {
     "data": {
      "image/png": "[encoded data removed]",
      "text/plain": [
       "<Figure size 432x288 with 2 Axes>"
      ]
     },
     "metadata": {
      "needs_background": "light"
     },
     "output_type": "display_data"
    }
   ],
   "source": [
    "plot_confusion_matrix(classifier_svm, X_test_scaled, y_test, values_format ='d', display_labels = ['Not Approved','Approved'])"
   ]
  },
  {
   "cell_type": "code",
   "execution_count": 8,
   "metadata": {},
   "outputs": [
    {
     "name": "stderr",
     "output_type": "stream",
     "text": [
      "/Users/amarjotsinghlohia/.local/lib/python3.9/site-packages/sklearn/base.py:443: UserWarning: X has feature names, but SGDClassifier was fitted without feature names\n",
      "  warnings.warn(\n"
     ]
    },
    {
     "name": "stdout",
     "output_type": "stream",
     "text": [
      "              precision    recall  f1-score   support\n",
      "\n",
      "           0       0.87      0.52      0.65     69617\n",
      "           1       0.21      0.62      0.32     14440\n",
      "\n",
      "    accuracy                           0.54     84057\n",
      "   macro avg       0.54      0.57      0.49     84057\n",
      "weighted avg       0.76      0.54      0.60     84057\n",
      "\n"
     ]
    }
   ],
   "source": [
    "#prediction\n",
    "y_pred = classifier_svm.predict(X_test)\n",
    "print(classification_report(y_pred,y_test))\n"
   ]
  },
  {
   "cell_type": "markdown",
   "metadata": {},
   "source": [
    "## Using GridSearchCV for Cross Validation"
   ]
  },
  {
   "cell_type": "code",
   "execution_count": 12,
   "metadata": {},
   "outputs": [
    {
     "name": "stdout",
     "output_type": "stream",
     "text": [
      "Fitting 5 folds for each of 1152 candidates, totalling 5760 fits\n",
      "[CV 1/5; 1/1152] START alpha=0.0001, loss=log_loss, max_iter=1000, penalty=l1, tol=0.0001\n",
      "[CV 2/5; 1/1152] START alpha=0.0001, loss=log_loss, max_iter=1000, penalty=l1, tol=0.0001\n",
      "[CV 3/5; 1/1152] START alpha=0.0001, loss=log_loss, max_iter=1000, penalty=l1, tol=0.0001\n",
      "[CV 4/5; 1/1152] START alpha=0.0001, loss=log_loss, max_iter=1000, penalty=l1, tol=0.0001\n",
      "[CV 4/5; 1/1152] END alpha=0.0001, loss=log_loss, max_iter=1000, penalty=l1, tol=0.0001;, score=0.615 total time=  22.4s\n",
      "[CV 5/5; 1/1152] START alpha=0.0001, loss=log_loss, max_iter=1000, penalty=l1, tol=0.0001\n",
      "[CV 2/5; 1/1152] END alpha=0.0001, loss=log_loss, max_iter=1000, penalty=l1, tol=0.0001;, score=0.614 total time=  27.2s\n",
      "[CV 1/5; 2/1152] START alpha=0.0001, loss=log_loss, max_iter=1000, penalty=l1, tol=0.001\n",
      "[CV 1/5; 2/1152] END alpha=0.0001, loss=log_loss, max_iter=1000, penalty=l1, tol=0.001;, score=0.609 total time=   8.2s\n",
      "[CV 2/5; 2/1152] START alpha=0.0001, loss=log_loss, max_iter=1000, penalty=l1, tol=0.001\n",
      "[CV 5/5; 1/1152] END alpha=0.0001, loss=log_loss, max_iter=1000, penalty=l1, tol=0.0001;, score=0.612 total time=  15.4s\n",
      "[CV 3/5; 2/1152] START alpha=0.0001, loss=log_loss, max_iter=1000, penalty=l1, tol=0.001\n",
      "[CV 1/5; 1/1152] END alpha=0.0001, loss=log_loss, max_iter=1000, penalty=l1, tol=0.0001;, score=0.615 total time=  47.8s\n",
      "[CV 4/5; 2/1152] START alpha=0.0001, loss=log_loss, max_iter=1000, penalty=l1, tol=0.001\n",
      "[CV 2/5; 2/1152] END alpha=0.0001, loss=log_loss, max_iter=1000, penalty=l1, tol=0.001;, score=0.614 total time=  12.6s\n",
      "[CV 5/5; 2/1152] START alpha=0.0001, loss=log_loss, max_iter=1000, penalty=l1, tol=0.001\n",
      "[CV 5/5; 2/1152] END alpha=0.0001, loss=log_loss, max_iter=1000, penalty=l1, tol=0.001;, score=0.611 total time=   9.7s\n",
      "[CV 1/5; 3/1152] START alpha=0.0001, loss=log_loss, max_iter=1000, penalty=l1, tol=0.01\n",
      "[CV 1/5; 3/1152] END alpha=0.0001, loss=log_loss, max_iter=1000, penalty=l1, tol=0.01;, score=0.610 total time=   7.9s\n",
      "[CV 2/5; 3/1152] START alpha=0.0001, loss=log_loss, max_iter=1000, penalty=l1, tol=0.01\n",
      "[CV 2/5; 3/1152] END alpha=0.0001, loss=log_loss, max_iter=1000, penalty=l1, tol=0.01;, score=0.610 total time=   7.5s\n",
      "[CV 3/5; 3/1152] START alpha=0.0001, loss=log_loss, max_iter=1000, penalty=l1, tol=0.01\n",
      "[CV 3/5; 3/1152] END alpha=0.0001, loss=log_loss, max_iter=1000, penalty=l1, tol=0.01;, score=0.608 total time=   7.3s\n",
      "[CV 4/5; 3/1152] START alpha=0.0001, loss=log_loss, max_iter=1000, penalty=l1, tol=0.01\n",
      "[CV 3/5; 2/1152] END alpha=0.0001, loss=log_loss, max_iter=1000, penalty=l1, tol=0.001;, score=0.614 total time=  51.5s\n",
      "[CV 5/5; 3/1152] START alpha=0.0001, loss=log_loss, max_iter=1000, penalty=l1, tol=0.01\n",
      "[CV 4/5; 3/1152] END alpha=0.0001, loss=log_loss, max_iter=1000, penalty=l1, tol=0.01;, score=0.614 total time=  10.7s\n",
      "[CV 1/5; 4/1152] START alpha=0.0001, loss=log_loss, max_iter=1000, penalty=l1, tol=0.1\n",
      "[CV 1/5; 4/1152] END alpha=0.0001, loss=log_loss, max_iter=1000, penalty=l1, tol=0.1;, score=0.609 total time=   5.2s\n",
      "[CV 2/5; 4/1152] START alpha=0.0001, loss=log_loss, max_iter=1000, penalty=l1, tol=0.1\n",
      "[CV 5/5; 3/1152] END alpha=0.0001, loss=log_loss, max_iter=1000, penalty=l1, tol=0.01;, score=0.603 total time=   8.5s\n",
      "[CV 3/5; 4/1152] START alpha=0.0001, loss=log_loss, max_iter=1000, penalty=l1, tol=0.1\n",
      "[CV 2/5; 4/1152] END alpha=0.0001, loss=log_loss, max_iter=1000, penalty=l1, tol=0.1;, score=0.594 total time=   5.2s\n",
      "[CV 4/5; 4/1152] START alpha=0.0001, loss=log_loss, max_iter=1000, penalty=l1, tol=0.1\n",
      "[CV 3/5; 4/1152] END alpha=0.0001, loss=log_loss, max_iter=1000, penalty=l1, tol=0.1;, score=0.611 total time=   6.3s\n",
      "[CV 5/5; 4/1152] START alpha=0.0001, loss=log_loss, max_iter=1000, penalty=l1, tol=0.1\n",
      "[CV 4/5; 4/1152] END alpha=0.0001, loss=log_loss, max_iter=1000, penalty=l1, tol=0.1;, score=0.605 total time=   2.8s\n",
      "[CV 1/5; 5/1152] START alpha=0.0001, loss=log_loss, max_iter=1000, penalty=l1, tol=1\n",
      "[CV 5/5; 4/1152] END alpha=0.0001, loss=log_loss, max_iter=1000, penalty=l1, tol=0.1;, score=0.603 total time=   3.1s\n",
      "[CV 2/5; 5/1152] START alpha=0.0001, loss=log_loss, max_iter=1000, penalty=l1, tol=1\n",
      "[CV 1/5; 5/1152] END alpha=0.0001, loss=log_loss, max_iter=1000, penalty=l1, tol=1;, score=0.606 total time=   3.1s\n",
      "[CV 3/5; 5/1152] START alpha=0.0001, loss=log_loss, max_iter=1000, penalty=l1, tol=1\n",
      "[CV 2/5; 5/1152] END alpha=0.0001, loss=log_loss, max_iter=1000, penalty=l1, tol=1;, score=0.603 total time=   3.1s\n",
      "[CV 4/5; 5/1152] START alpha=0.0001, loss=log_loss, max_iter=1000, penalty=l1, tol=1\n",
      "[CV 3/5; 5/1152] END alpha=0.0001, loss=log_loss, max_iter=1000, penalty=l1, tol=1;, score=0.605 total time=   3.3s\n",
      "[CV 5/5; 5/1152] START alpha=0.0001, loss=log_loss, max_iter=1000, penalty=l1, tol=1\n",
      "[CV 4/5; 5/1152] END alpha=0.0001, loss=log_loss, max_iter=1000, penalty=l1, tol=1;, score=0.600 total time=   3.1s\n",
      "[CV 1/5; 6/1152] START alpha=0.0001, loss=log_loss, max_iter=1000, penalty=l1, tol=10\n",
      "[CV 5/5; 5/1152] END alpha=0.0001, loss=log_loss, max_iter=1000, penalty=l1, tol=1;, score=0.601 total time=   3.0s\n",
      "[CV 2/5; 6/1152] START alpha=0.0001, loss=log_loss, max_iter=1000, penalty=l1, tol=10\n",
      "[CV 1/5; 6/1152] END alpha=0.0001, loss=log_loss, max_iter=1000, penalty=l1, tol=10;, score=0.595 total time=   2.5s\n",
      "[CV 3/5; 6/1152] START alpha=0.0001, loss=log_loss, max_iter=1000, penalty=l1, tol=10\n",
      "[CV 4/5; 2/1152] END alpha=0.0001, loss=log_loss, max_iter=1000, penalty=l1, tol=0.001;, score=0.619 total time= 1.2min\n",
      "[CV 4/5; 6/1152] START alpha=0.0001, loss=log_loss, max_iter=1000, penalty=l1, tol=10\n",
      "[CV 2/5; 6/1152] END alpha=0.0001, loss=log_loss, max_iter=1000, penalty=l1, tol=10;, score=0.605 total time=   2.5s\n",
      "[CV 5/5; 6/1152] START alpha=0.0001, loss=log_loss, max_iter=1000, penalty=l1, tol=10\n",
      "[CV 3/5; 6/1152] END alpha=0.0001, loss=log_loss, max_iter=1000, penalty=l1, tol=10;, score=0.606 total time=   2.4s\n",
      "[CV 1/5; 7/1152] START alpha=0.0001, loss=log_loss, max_iter=1000, penalty=l1, tol=100\n",
      "[CV 4/5; 6/1152] END alpha=0.0001, loss=log_loss, max_iter=1000, penalty=l1, tol=10;, score=0.605 total time=   2.5s\n",
      "[CV 2/5; 7/1152] START alpha=0.0001, loss=log_loss, max_iter=1000, penalty=l1, tol=100\n",
      "[CV 5/5; 6/1152] END alpha=0.0001, loss=log_loss, max_iter=1000, penalty=l1, tol=10;, score=0.605 total time=   2.5s\n",
      "[CV 3/5; 7/1152] START alpha=0.0001, loss=log_loss, max_iter=1000, penalty=l1, tol=100\n",
      "[CV 1/5; 7/1152] END alpha=0.0001, loss=log_loss, max_iter=1000, penalty=l1, tol=100;, score=0.611 total time=   2.5s\n",
      "[CV 4/5; 7/1152] START alpha=0.0001, loss=log_loss, max_iter=1000, penalty=l1, tol=100\n",
      "[CV 2/5; 7/1152] END alpha=0.0001, loss=log_loss, max_iter=1000, penalty=l1, tol=100;, score=0.608 total time=   2.6s\n",
      "[CV 5/5; 7/1152] START alpha=0.0001, loss=log_loss, max_iter=1000, penalty=l1, tol=100\n",
      "[CV 3/5; 7/1152] END alpha=0.0001, loss=log_loss, max_iter=1000, penalty=l1, tol=100;, score=0.595 total time=   2.5s\n",
      "[CV 1/5; 8/1152] START alpha=0.0001, loss=log_loss, max_iter=1000, penalty=l1, tol=1000\n",
      "[CV 4/5; 7/1152] END alpha=0.0001, loss=log_loss, max_iter=1000, penalty=l1, tol=100;, score=0.607 total time=   2.6s\n",
      "[CV 2/5; 8/1152] START alpha=0.0001, loss=log_loss, max_iter=1000, penalty=l1, tol=1000\n",
      "[CV 5/5; 7/1152] END alpha=0.0001, loss=log_loss, max_iter=1000, penalty=l1, tol=100;, score=0.595 total time=   2.6s\n",
      "[CV 3/5; 8/1152] START alpha=0.0001, loss=log_loss, max_iter=1000, penalty=l1, tol=1000\n",
      "[CV 1/5; 8/1152] END alpha=0.0001, loss=log_loss, max_iter=1000, penalty=l1, tol=1000;, score=0.606 total time=   2.7s\n",
      "[CV 4/5; 8/1152] START alpha=0.0001, loss=log_loss, max_iter=1000, penalty=l1, tol=1000\n",
      "[CV 2/5; 8/1152] END alpha=0.0001, loss=log_loss, max_iter=1000, penalty=l1, tol=1000;, score=0.594 total time=   2.9s\n",
      "[CV 5/5; 8/1152] START alpha=0.0001, loss=log_loss, max_iter=1000, penalty=l1, tol=1000\n",
      "[CV 3/5; 8/1152] END alpha=0.0001, loss=log_loss, max_iter=1000, penalty=l1, tol=1000;, score=0.605 total time=   2.9s\n",
      "[CV 1/5; 9/1152] START alpha=0.0001, loss=log_loss, max_iter=1000, penalty=l2, tol=0.0001\n",
      "[CV 4/5; 8/1152] END alpha=0.0001, loss=log_loss, max_iter=1000, penalty=l1, tol=1000;, score=0.609 total time=   3.0s\n",
      "[CV 2/5; 9/1152] START alpha=0.0001, loss=log_loss, max_iter=1000, penalty=l2, tol=0.0001\n",
      "[CV 5/5; 8/1152] END alpha=0.0001, loss=log_loss, max_iter=1000, penalty=l1, tol=1000;, score=0.601 total time=   3.0s\n",
      "[CV 3/5; 9/1152] START alpha=0.0001, loss=log_loss, max_iter=1000, penalty=l2, tol=0.0001\n",
      "[CV 1/5; 9/1152] END alpha=0.0001, loss=log_loss, max_iter=1000, penalty=l2, tol=0.0001;, score=0.614 total time=  12.9s\n",
      "[CV 4/5; 9/1152] START alpha=0.0001, loss=log_loss, max_iter=1000, penalty=l2, tol=0.0001\n",
      "[CV 2/5; 9/1152] END alpha=0.0001, loss=log_loss, max_iter=1000, penalty=l2, tol=0.0001;, score=0.614 total time=  14.5s\n",
      "[CV 5/5; 9/1152] START alpha=0.0001, loss=log_loss, max_iter=1000, penalty=l2, tol=0.0001\n",
      "[CV 3/5; 9/1152] END alpha=0.0001, loss=log_loss, max_iter=1000, penalty=l2, tol=0.0001;, score=0.614 total time=  15.8s\n",
      "[CV 1/5; 10/1152] START alpha=0.0001, loss=log_loss, max_iter=1000, penalty=l2, tol=0.001\n",
      "[CV 1/5; 10/1152] END alpha=0.0001, loss=log_loss, max_iter=1000, penalty=l2, tol=0.001;, score=0.611 total time=   5.6s\n",
      "[CV 2/5; 10/1152] START alpha=0.0001, loss=log_loss, max_iter=1000, penalty=l2, tol=0.001\n",
      "[CV 4/5; 9/1152] END alpha=0.0001, loss=log_loss, max_iter=1000, penalty=l2, tol=0.0001;, score=0.617 total time=  18.0s\n",
      "[CV 3/5; 10/1152] START alpha=0.0001, loss=log_loss, max_iter=1000, penalty=l2, tol=0.001\n",
      "[CV 2/5; 10/1152] END alpha=0.0001, loss=log_loss, max_iter=1000, penalty=l2, tol=0.001;, score=0.606 total time=   7.0s\n",
      "[CV 4/5; 10/1152] START alpha=0.0001, loss=log_loss, max_iter=1000, penalty=l2, tol=0.001\n",
      "[CV 5/5; 9/1152] END alpha=0.0001, loss=log_loss, max_iter=1000, penalty=l2, tol=0.0001;, score=0.612 total time=  16.6s\n",
      "[CV 5/5; 10/1152] START alpha=0.0001, loss=log_loss, max_iter=1000, penalty=l2, tol=0.001\n",
      "[CV 4/5; 10/1152] END alpha=0.0001, loss=log_loss, max_iter=1000, penalty=l2, tol=0.001;, score=0.613 total time=   5.6s\n",
      "[CV 1/5; 11/1152] START alpha=0.0001, loss=log_loss, max_iter=1000, penalty=l2, tol=0.01\n",
      "[CV 5/5; 10/1152] END alpha=0.0001, loss=log_loss, max_iter=1000, penalty=l2, tol=0.001;, score=0.609 total time=   5.9s\n",
      "[CV 2/5; 11/1152] START alpha=0.0001, loss=log_loss, max_iter=1000, penalty=l2, tol=0.01\n",
      "[CV 3/5; 10/1152] END alpha=0.0001, loss=log_loss, max_iter=1000, penalty=l2, tol=0.001;, score=0.608 total time=   6.3s\n",
      "[CV 3/5; 11/1152] START alpha=0.0001, loss=log_loss, max_iter=1000, penalty=l2, tol=0.01\n",
      "[CV 1/5; 11/1152] END alpha=0.0001, loss=log_loss, max_iter=1000, penalty=l2, tol=0.01;, score=0.600 total time=   3.1s\n",
      "[CV 4/5; 11/1152] START alpha=0.0001, loss=log_loss, max_iter=1000, penalty=l2, tol=0.01\n",
      "[CV 2/5; 11/1152] END alpha=0.0001, loss=log_loss, max_iter=1000, penalty=l2, tol=0.01;, score=0.603 total time=   3.2s\n",
      "[CV 5/5; 11/1152] START alpha=0.0001, loss=log_loss, max_iter=1000, penalty=l2, tol=0.01\n",
      "[CV 3/5; 11/1152] END alpha=0.0001, loss=log_loss, max_iter=1000, penalty=l2, tol=0.01;, score=0.602 total time=   3.2s\n",
      "[CV 1/5; 12/1152] START alpha=0.0001, loss=log_loss, max_iter=1000, penalty=l2, tol=0.1\n",
      "[CV 1/5; 12/1152] END alpha=0.0001, loss=log_loss, max_iter=1000, penalty=l2, tol=0.1;, score=0.576 total time=   1.9s\n",
      "[CV 2/5; 12/1152] START alpha=0.0001, loss=log_loss, max_iter=1000, penalty=l2, tol=0.1\n",
      "[CV 4/5; 11/1152] END alpha=0.0001, loss=log_loss, max_iter=1000, penalty=l2, tol=0.01;, score=0.605 total time=   2.8s\n",
      "[CV 3/5; 12/1152] START alpha=0.0001, loss=log_loss, max_iter=1000, penalty=l2, tol=0.1\n",
      "[CV 5/5; 11/1152] END alpha=0.0001, loss=log_loss, max_iter=1000, penalty=l2, tol=0.01;, score=0.592 total time=   2.5s\n",
      "[CV 4/5; 12/1152] START alpha=0.0001, loss=log_loss, max_iter=1000, penalty=l2, tol=0.1\n",
      "[CV 2/5; 12/1152] END alpha=0.0001, loss=log_loss, max_iter=1000, penalty=l2, tol=0.1;, score=0.599 total time=   2.2s\n",
      "[CV 5/5; 12/1152] START alpha=0.0001, loss=log_loss, max_iter=1000, penalty=l2, tol=0.1\n",
      "[CV 3/5; 12/1152] END alpha=0.0001, loss=log_loss, max_iter=1000, penalty=l2, tol=0.1;, score=0.598 total time=   2.1s\n",
      "[CV 1/5; 13/1152] START alpha=0.0001, loss=log_loss, max_iter=1000, penalty=l2, tol=1\n",
      "[CV 4/5; 12/1152] END alpha=0.0001, loss=log_loss, max_iter=1000, penalty=l2, tol=0.1;, score=0.594 total time=   2.2s\n",
      "[CV 2/5; 13/1152] START alpha=0.0001, loss=log_loss, max_iter=1000, penalty=l2, tol=1\n",
      "[CV 5/5; 12/1152] END alpha=0.0001, loss=log_loss, max_iter=1000, penalty=l2, tol=0.1;, score=0.595 total time=   2.0s\n",
      "[CV 3/5; 13/1152] START alpha=0.0001, loss=log_loss, max_iter=1000, penalty=l2, tol=1\n",
      "[CV 1/5; 13/1152] END alpha=0.0001, loss=log_loss, max_iter=1000, penalty=l2, tol=1;, score=0.602 total time=   2.1s\n",
      "[CV 4/5; 13/1152] START alpha=0.0001, loss=log_loss, max_iter=1000, penalty=l2, tol=1\n",
      "[CV 2/5; 13/1152] END alpha=0.0001, loss=log_loss, max_iter=1000, penalty=l2, tol=1;, score=0.582 total time=   2.1s\n",
      "[CV 5/5; 13/1152] START alpha=0.0001, loss=log_loss, max_iter=1000, penalty=l2, tol=1\n",
      "[CV 3/5; 13/1152] END alpha=0.0001, loss=log_loss, max_iter=1000, penalty=l2, tol=1;, score=0.599 total time=   2.0s\n",
      "[CV 1/5; 14/1152] START alpha=0.0001, loss=log_loss, max_iter=1000, penalty=l2, tol=10\n",
      "[CV 4/5; 13/1152] END alpha=0.0001, loss=log_loss, max_iter=1000, penalty=l2, tol=1;, score=0.599 total time=   1.9s\n",
      "[CV 2/5; 14/1152] START alpha=0.0001, loss=log_loss, max_iter=1000, penalty=l2, tol=10\n",
      "[CV 5/5; 13/1152] END alpha=0.0001, loss=log_loss, max_iter=1000, penalty=l2, tol=1;, score=0.601 total time=   2.0s\n",
      "[CV 3/5; 14/1152] START alpha=0.0001, loss=log_loss, max_iter=1000, penalty=l2, tol=10\n",
      "[CV 1/5; 14/1152] END alpha=0.0001, loss=log_loss, max_iter=1000, penalty=l2, tol=10;, score=0.592 total time=   2.0s\n",
      "[CV 4/5; 14/1152] START alpha=0.0001, loss=log_loss, max_iter=1000, penalty=l2, tol=10\n",
      "[CV 2/5; 14/1152] END alpha=0.0001, loss=log_loss, max_iter=1000, penalty=l2, tol=10;, score=0.581 total time=   1.9s\n",
      "[CV 5/5; 14/1152] START alpha=0.0001, loss=log_loss, max_iter=1000, penalty=l2, tol=10\n",
      "[CV 3/5; 14/1152] END alpha=0.0001, loss=log_loss, max_iter=1000, penalty=l2, tol=10;, score=0.594 total time=   2.1s\n",
      "[CV 1/5; 15/1152] START alpha=0.0001, loss=log_loss, max_iter=1000, penalty=l2, tol=100\n",
      "[CV 4/5; 14/1152] END alpha=0.0001, loss=log_loss, max_iter=1000, penalty=l2, tol=10;, score=0.593 total time=   2.1s\n",
      "[CV 2/5; 15/1152] START alpha=0.0001, loss=log_loss, max_iter=1000, penalty=l2, tol=100\n",
      "[CV 5/5; 14/1152] END alpha=0.0001, loss=log_loss, max_iter=1000, penalty=l2, tol=10;, score=0.589 total time=   2.0s\n",
      "[CV 3/5; 15/1152] START alpha=0.0001, loss=log_loss, max_iter=1000, penalty=l2, tol=100\n",
      "[CV 1/5; 15/1152] END alpha=0.0001, loss=log_loss, max_iter=1000, penalty=l2, tol=100;, score=0.597 total time=   2.0s\n",
      "[CV 4/5; 15/1152] START alpha=0.0001, loss=log_loss, max_iter=1000, penalty=l2, tol=100\n",
      "[CV 2/5; 15/1152] END alpha=0.0001, loss=log_loss, max_iter=1000, penalty=l2, tol=100;, score=0.580 total time=   2.8s\n",
      "[CV 5/5; 15/1152] START alpha=0.0001, loss=log_loss, max_iter=1000, penalty=l2, tol=100\n",
      "[CV 3/5; 15/1152] END alpha=0.0001, loss=log_loss, max_iter=1000, penalty=l2, tol=100;, score=0.597 total time=   3.0s\n",
      "[CV 1/5; 16/1152] START alpha=0.0001, loss=log_loss, max_iter=1000, penalty=l2, tol=1000\n",
      "[CV 4/5; 15/1152] END alpha=0.0001, loss=log_loss, max_iter=1000, penalty=l2, tol=100;, score=0.595 total time=   3.0s\n",
      "[CV 2/5; 16/1152] START alpha=0.0001, loss=log_loss, max_iter=1000, penalty=l2, tol=1000\n",
      "[CV 5/5; 15/1152] END alpha=0.0001, loss=log_loss, max_iter=1000, penalty=l2, tol=100;, score=0.600 total time=   3.0s\n",
      "[CV 3/5; 16/1152] START alpha=0.0001, loss=log_loss, max_iter=1000, penalty=l2, tol=1000\n",
      "[CV 1/5; 16/1152] END alpha=0.0001, loss=log_loss, max_iter=1000, penalty=l2, tol=1000;, score=0.592 total time=   3.3s\n",
      "[CV 4/5; 16/1152] START alpha=0.0001, loss=log_loss, max_iter=1000, penalty=l2, tol=1000\n",
      "[CV 2/5; 16/1152] END alpha=0.0001, loss=log_loss, max_iter=1000, penalty=l2, tol=1000;, score=0.601 total time=   3.3s\n",
      "[CV 5/5; 16/1152] START alpha=0.0001, loss=log_loss, max_iter=1000, penalty=l2, tol=1000\n",
      "[CV 3/5; 16/1152] END alpha=0.0001, loss=log_loss, max_iter=1000, penalty=l2, tol=1000;, score=0.571 total time=   2.4s\n",
      "[CV 1/5; 17/1152] START alpha=0.0001, loss=log_loss, max_iter=1000, penalty=elasticnet, tol=0.0001\n",
      "[CV 4/5; 16/1152] END alpha=0.0001, loss=log_loss, max_iter=1000, penalty=l2, tol=1000;, score=0.592 total time=   2.1s\n",
      "[CV 2/5; 17/1152] START alpha=0.0001, loss=log_loss, max_iter=1000, penalty=elasticnet, tol=0.0001\n",
      "[CV 5/5; 16/1152] END alpha=0.0001, loss=log_loss, max_iter=1000, penalty=l2, tol=1000;, score=0.584 total time=   2.0s\n",
      "[CV 3/5; 17/1152] START alpha=0.0001, loss=log_loss, max_iter=1000, penalty=elasticnet, tol=0.0001\n",
      "[CV 2/5; 17/1152] END alpha=0.0001, loss=log_loss, max_iter=1000, penalty=elasticnet, tol=0.0001;, score=0.612 total time=  17.7s\n",
      "[CV 4/5; 17/1152] START alpha=0.0001, loss=log_loss, max_iter=1000, penalty=elasticnet, tol=0.0001\n",
      "[CV 1/5; 17/1152] END alpha=0.0001, loss=log_loss, max_iter=1000, penalty=elasticnet, tol=0.0001;, score=0.614 total time=  19.2s\n",
      "[CV 5/5; 17/1152] START alpha=0.0001, loss=log_loss, max_iter=1000, penalty=elasticnet, tol=0.0001\n",
      "[CV 3/5; 17/1152] END alpha=0.0001, loss=log_loss, max_iter=1000, penalty=elasticnet, tol=0.0001;, score=0.614 total time=  24.1s\n",
      "[CV 1/5; 18/1152] START alpha=0.0001, loss=log_loss, max_iter=1000, penalty=elasticnet, tol=0.001\n",
      "[CV 1/5; 18/1152] END alpha=0.0001, loss=log_loss, max_iter=1000, penalty=elasticnet, tol=0.001;, score=0.613 total time=   9.2s\n",
      "[CV 2/5; 18/1152] START alpha=0.0001, loss=log_loss, max_iter=1000, penalty=elasticnet, tol=0.001\n",
      "[CV 5/5; 17/1152] END alpha=0.0001, loss=log_loss, max_iter=1000, penalty=elasticnet, tol=0.0001;, score=0.613 total time=  16.2s\n",
      "[CV 3/5; 18/1152] START alpha=0.0001, loss=log_loss, max_iter=1000, penalty=elasticnet, tol=0.001\n",
      "[CV 4/5; 17/1152] END alpha=0.0001, loss=log_loss, max_iter=1000, penalty=elasticnet, tol=0.0001;, score=0.615 total time=  17.9s\n",
      "[CV 4/5; 18/1152] START alpha=0.0001, loss=log_loss, max_iter=1000, penalty=elasticnet, tol=0.001\n",
      "[CV 2/5; 18/1152] END alpha=0.0001, loss=log_loss, max_iter=1000, penalty=elasticnet, tol=0.001;, score=0.612 total time=   6.6s\n",
      "[CV 5/5; 18/1152] START alpha=0.0001, loss=log_loss, max_iter=1000, penalty=elasticnet, tol=0.001\n",
      "[CV 3/5; 18/1152] END alpha=0.0001, loss=log_loss, max_iter=1000, penalty=elasticnet, tol=0.001;, score=0.609 total time=   6.4s\n",
      "[CV 1/5; 19/1152] START alpha=0.0001, loss=log_loss, max_iter=1000, penalty=elasticnet, tol=0.01\n",
      "[CV 4/5; 18/1152] END alpha=0.0001, loss=log_loss, max_iter=1000, penalty=elasticnet, tol=0.001;, score=0.610 total time=   6.4s\n",
      "[CV 2/5; 19/1152] START alpha=0.0001, loss=log_loss, max_iter=1000, penalty=elasticnet, tol=0.01\n",
      "[CV 1/5; 19/1152] END alpha=0.0001, loss=log_loss, max_iter=1000, penalty=elasticnet, tol=0.01;, score=0.607 total time=   3.5s\n",
      "[CV 3/5; 19/1152] START alpha=0.0001, loss=log_loss, max_iter=1000, penalty=elasticnet, tol=0.01\n",
      "[CV 2/5; 19/1152] END alpha=0.0001, loss=log_loss, max_iter=1000, penalty=elasticnet, tol=0.01;, score=0.606 total time=   3.5s\n",
      "[CV 4/5; 19/1152] START alpha=0.0001, loss=log_loss, max_iter=1000, penalty=elasticnet, tol=0.01\n",
      "[CV 5/5; 18/1152] END alpha=0.0001, loss=log_loss, max_iter=1000, penalty=elasticnet, tol=0.001;, score=0.610 total time=   6.2s\n",
      "[CV 5/5; 19/1152] START alpha=0.0001, loss=log_loss, max_iter=1000, penalty=elasticnet, tol=0.01\n",
      "[CV 3/5; 19/1152] END alpha=0.0001, loss=log_loss, max_iter=1000, penalty=elasticnet, tol=0.01;, score=0.605 total time=   3.5s\n",
      "[CV 1/5; 20/1152] START alpha=0.0001, loss=log_loss, max_iter=1000, penalty=elasticnet, tol=0.1\n",
      "[CV 4/5; 19/1152] END alpha=0.0001, loss=log_loss, max_iter=1000, penalty=elasticnet, tol=0.01;, score=0.607 total time=   3.6s\n",
      "[CV 2/5; 20/1152] START alpha=0.0001, loss=log_loss, max_iter=1000, penalty=elasticnet, tol=0.1\n",
      "[CV 5/5; 19/1152] END alpha=0.0001, loss=log_loss, max_iter=1000, penalty=elasticnet, tol=0.01;, score=0.609 total time=   3.5s\n",
      "[CV 3/5; 20/1152] START alpha=0.0001, loss=log_loss, max_iter=1000, penalty=elasticnet, tol=0.1\n",
      "[CV 1/5; 20/1152] END alpha=0.0001, loss=log_loss, max_iter=1000, penalty=elasticnet, tol=0.1;, score=0.605 total time=   2.8s\n",
      "[CV 4/5; 20/1152] START alpha=0.0001, loss=log_loss, max_iter=1000, penalty=elasticnet, tol=0.1\n",
      "[CV 2/5; 20/1152] END alpha=0.0001, loss=log_loss, max_iter=1000, penalty=elasticnet, tol=0.1;, score=0.604 total time=   2.8s\n",
      "[CV 5/5; 20/1152] START alpha=0.0001, loss=log_loss, max_iter=1000, penalty=elasticnet, tol=0.1\n",
      "[CV 3/5; 20/1152] END alpha=0.0001, loss=log_loss, max_iter=1000, penalty=elasticnet, tol=0.1;, score=0.606 total time=   3.1s\n",
      "[CV 1/5; 21/1152] START alpha=0.0001, loss=log_loss, max_iter=1000, penalty=elasticnet, tol=1\n",
      "[CV 4/5; 20/1152] END alpha=0.0001, loss=log_loss, max_iter=1000, penalty=elasticnet, tol=0.1;, score=0.608 total time=   3.4s\n",
      "[CV 2/5; 21/1152] START alpha=0.0001, loss=log_loss, max_iter=1000, penalty=elasticnet, tol=1\n",
      "[CV 5/5; 20/1152] END alpha=0.0001, loss=log_loss, max_iter=1000, penalty=elasticnet, tol=0.1;, score=0.603 total time=   3.5s\n",
      "[CV 3/5; 21/1152] START alpha=0.0001, loss=log_loss, max_iter=1000, penalty=elasticnet, tol=1\n",
      "[CV 1/5; 21/1152] END alpha=0.0001, loss=log_loss, max_iter=1000, penalty=elasticnet, tol=1;, score=0.598 total time=   3.2s\n",
      "[CV 4/5; 21/1152] START alpha=0.0001, loss=log_loss, max_iter=1000, penalty=elasticnet, tol=1\n",
      "[CV 2/5; 21/1152] END alpha=0.0001, loss=log_loss, max_iter=1000, penalty=elasticnet, tol=1;, score=0.608 total time=   3.0s\n",
      "[CV 5/5; 21/1152] START alpha=0.0001, loss=log_loss, max_iter=1000, penalty=elasticnet, tol=1\n",
      "[CV 3/5; 21/1152] END alpha=0.0001, loss=log_loss, max_iter=1000, penalty=elasticnet, tol=1;, score=0.614 total time=   2.9s\n",
      "[CV 1/5; 22/1152] START alpha=0.0001, loss=log_loss, max_iter=1000, penalty=elasticnet, tol=10\n",
      "[CV 4/5; 21/1152] END alpha=0.0001, loss=log_loss, max_iter=1000, penalty=elasticnet, tol=1;, score=0.603 total time=   2.9s\n",
      "[CV 2/5; 22/1152] START alpha=0.0001, loss=log_loss, max_iter=1000, penalty=elasticnet, tol=10\n",
      "[CV 5/5; 21/1152] END alpha=0.0001, loss=log_loss, max_iter=1000, penalty=elasticnet, tol=1;, score=0.607 total time=   2.9s\n",
      "[CV 3/5; 22/1152] START alpha=0.0001, loss=log_loss, max_iter=1000, penalty=elasticnet, tol=10\n",
      "[CV 1/5; 22/1152] END alpha=0.0001, loss=log_loss, max_iter=1000, penalty=elasticnet, tol=10;, score=0.599 total time=   2.5s\n",
      "[CV 4/5; 22/1152] START alpha=0.0001, loss=log_loss, max_iter=1000, penalty=elasticnet, tol=10\n",
      "[CV 2/5; 22/1152] END alpha=0.0001, loss=log_loss, max_iter=1000, penalty=elasticnet, tol=10;, score=0.606 total time=   2.5s\n",
      "[CV 5/5; 22/1152] START alpha=0.0001, loss=log_loss, max_iter=1000, penalty=elasticnet, tol=10\n",
      "[CV 3/5; 22/1152] END alpha=0.0001, loss=log_loss, max_iter=1000, penalty=elasticnet, tol=10;, score=0.585 total time=   2.5s\n",
      "[CV 1/5; 23/1152] START alpha=0.0001, loss=log_loss, max_iter=1000, penalty=elasticnet, tol=100\n",
      "[CV 4/5; 22/1152] END alpha=0.0001, loss=log_loss, max_iter=1000, penalty=elasticnet, tol=10;, score=0.611 total time=   2.5s\n",
      "[CV 2/5; 23/1152] START alpha=0.0001, loss=log_loss, max_iter=1000, penalty=elasticnet, tol=100\n",
      "[CV 5/5; 22/1152] END alpha=0.0001, loss=log_loss, max_iter=1000, penalty=elasticnet, tol=10;, score=0.603 total time=   2.5s\n",
      "[CV 3/5; 23/1152] START alpha=0.0001, loss=log_loss, max_iter=1000, penalty=elasticnet, tol=100\n",
      "[CV 1/5; 23/1152] END alpha=0.0001, loss=log_loss, max_iter=1000, penalty=elasticnet, tol=100;, score=0.613 total time=   2.5s\n",
      "[CV 4/5; 23/1152] START alpha=0.0001, loss=log_loss, max_iter=1000, penalty=elasticnet, tol=100\n",
      "[CV 2/5; 23/1152] END alpha=0.0001, loss=log_loss, max_iter=1000, penalty=elasticnet, tol=100;, score=0.600 total time=   2.5s\n",
      "[CV 5/5; 23/1152] START alpha=0.0001, loss=log_loss, max_iter=1000, penalty=elasticnet, tol=100\n",
      "[CV 3/5; 23/1152] END alpha=0.0001, loss=log_loss, max_iter=1000, penalty=elasticnet, tol=100;, score=0.603 total time=   2.5s\n",
      "[CV 1/5; 24/1152] START alpha=0.0001, loss=log_loss, max_iter=1000, penalty=elasticnet, tol=1000\n",
      "[CV 4/5; 23/1152] END alpha=0.0001, loss=log_loss, max_iter=1000, penalty=elasticnet, tol=100;, score=0.612 total time=   3.2s\n",
      "[CV 2/5; 24/1152] START alpha=0.0001, loss=log_loss, max_iter=1000, penalty=elasticnet, tol=1000\n",
      "[CV 5/5; 23/1152] END alpha=0.0001, loss=log_loss, max_iter=1000, penalty=elasticnet, tol=100;, score=0.606 total time=   3.2s\n",
      "[CV 3/5; 24/1152] START alpha=0.0001, loss=log_loss, max_iter=1000, penalty=elasticnet, tol=1000\n",
      "[CV 1/5; 24/1152] END alpha=0.0001, loss=log_loss, max_iter=1000, penalty=elasticnet, tol=1000;, score=0.608 total time=   3.5s\n",
      "[CV 4/5; 24/1152] START alpha=0.0001, loss=log_loss, max_iter=1000, penalty=elasticnet, tol=1000\n",
      "[CV 2/5; 24/1152] END alpha=0.0001, loss=log_loss, max_iter=1000, penalty=elasticnet, tol=1000;, score=0.599 total time=   3.1s\n",
      "[CV 5/5; 24/1152] START alpha=0.0001, loss=log_loss, max_iter=1000, penalty=elasticnet, tol=1000\n",
      "[CV 3/5; 24/1152] END alpha=0.0001, loss=log_loss, max_iter=1000, penalty=elasticnet, tol=1000;, score=0.606 total time=   3.1s\n",
      "[CV 1/5; 25/1152] START alpha=0.0001, loss=log_loss, max_iter=10000, penalty=l1, tol=0.0001\n",
      "[CV 4/5; 24/1152] END alpha=0.0001, loss=log_loss, max_iter=1000, penalty=elasticnet, tol=1000;, score=0.604 total time=   2.9s\n",
      "[CV 2/5; 25/1152] START alpha=0.0001, loss=log_loss, max_iter=10000, penalty=l1, tol=0.0001\n",
      "[CV 5/5; 24/1152] END alpha=0.0001, loss=log_loss, max_iter=1000, penalty=elasticnet, tol=1000;, score=0.599 total time=   2.7s\n",
      "[CV 3/5; 25/1152] START alpha=0.0001, loss=log_loss, max_iter=10000, penalty=l1, tol=0.0001\n",
      "[CV 1/5; 25/1152] END alpha=0.0001, loss=log_loss, max_iter=10000, penalty=l1, tol=0.0001;, score=0.614 total time=  16.5s\n",
      "[CV 4/5; 25/1152] START alpha=0.0001, loss=log_loss, max_iter=10000, penalty=l1, tol=0.0001\n",
      "[CV 4/5; 25/1152] END alpha=0.0001, loss=log_loss, max_iter=10000, penalty=l1, tol=0.0001;, score=0.617 total time=  16.3s\n",
      "[CV 5/5; 25/1152] START alpha=0.0001, loss=log_loss, max_iter=10000, penalty=l1, tol=0.0001\n",
      "[CV 2/5; 25/1152] END alpha=0.0001, loss=log_loss, max_iter=10000, penalty=l1, tol=0.0001;, score=0.615 total time=  39.6s\n",
      "[CV 1/5; 26/1152] START alpha=0.0001, loss=log_loss, max_iter=10000, penalty=l1, tol=0.001\n",
      "[CV 5/5; 25/1152] END alpha=0.0001, loss=log_loss, max_iter=10000, penalty=l1, tol=0.0001;, score=0.613 total time=  18.2s\n",
      "[CV 2/5; 26/1152] START alpha=0.0001, loss=log_loss, max_iter=10000, penalty=l1, tol=0.001\n",
      "[CV 2/5; 26/1152] END alpha=0.0001, loss=log_loss, max_iter=10000, penalty=l1, tol=0.001;, score=0.613 total time=  14.6s\n",
      "[CV 3/5; 26/1152] START alpha=0.0001, loss=log_loss, max_iter=10000, penalty=l1, tol=0.001\n",
      "[CV 3/5; 1/1152] END alpha=0.0001, loss=log_loss, max_iter=1000, penalty=l1, tol=0.0001;, score=0.615 total time= 5.8min\n",
      "[CV 4/5; 26/1152] START alpha=0.0001, loss=log_loss, max_iter=10000, penalty=l1, tol=0.001\n",
      "[CV 3/5; 26/1152] END alpha=0.0001, loss=log_loss, max_iter=10000, penalty=l1, tol=0.001;, score=0.613 total time=  25.0s\n",
      "[CV 5/5; 26/1152] START alpha=0.0001, loss=log_loss, max_iter=10000, penalty=l1, tol=0.001\n",
      "[CV 5/5; 26/1152] END alpha=0.0001, loss=log_loss, max_iter=10000, penalty=l1, tol=0.001;, score=0.612 total time=   6.8s\n",
      "[CV 1/5; 27/1152] START alpha=0.0001, loss=log_loss, max_iter=10000, penalty=l1, tol=0.01\n",
      "[CV 1/5; 27/1152] END alpha=0.0001, loss=log_loss, max_iter=10000, penalty=l1, tol=0.01;, score=0.600 total time=   3.4s\n",
      "[CV 2/5; 27/1152] START alpha=0.0001, loss=log_loss, max_iter=10000, penalty=l1, tol=0.01\n",
      "[CV 2/5; 27/1152] END alpha=0.0001, loss=log_loss, max_iter=10000, penalty=l1, tol=0.01;, score=0.600 total time=   3.4s\n",
      "[CV 3/5; 27/1152] START alpha=0.0001, loss=log_loss, max_iter=10000, penalty=l1, tol=0.01\n",
      "[CV 3/5; 27/1152] END alpha=0.0001, loss=log_loss, max_iter=10000, penalty=l1, tol=0.01;, score=0.606 total time=   3.9s\n",
      "[CV 4/5; 27/1152] START alpha=0.0001, loss=log_loss, max_iter=10000, penalty=l1, tol=0.01\n",
      "[CV 4/5; 27/1152] END alpha=0.0001, loss=log_loss, max_iter=10000, penalty=l1, tol=0.01;, score=0.613 total time=   7.3s\n",
      "[CV 5/5; 27/1152] START alpha=0.0001, loss=log_loss, max_iter=10000, penalty=l1, tol=0.01\n",
      "[CV 5/5; 27/1152] END alpha=0.0001, loss=log_loss, max_iter=10000, penalty=l1, tol=0.01;, score=0.608 total time=   3.5s\n",
      "[CV 1/5; 28/1152] START alpha=0.0001, loss=log_loss, max_iter=10000, penalty=l1, tol=0.1\n",
      "[CV 1/5; 28/1152] END alpha=0.0001, loss=log_loss, max_iter=10000, penalty=l1, tol=0.1;, score=0.602 total time=   3.4s\n",
      "[CV 2/5; 28/1152] START alpha=0.0001, loss=log_loss, max_iter=10000, penalty=l1, tol=0.1\n",
      "[CV 2/5; 28/1152] END alpha=0.0001, loss=log_loss, max_iter=10000, penalty=l1, tol=0.1;, score=0.606 total time=   3.1s\n",
      "[CV 3/5; 28/1152] START alpha=0.0001, loss=log_loss, max_iter=10000, penalty=l1, tol=0.1\n",
      "[CV 3/5; 28/1152] END alpha=0.0001, loss=log_loss, max_iter=10000, penalty=l1, tol=0.1;, score=0.607 total time=   4.0s\n",
      "[CV 4/5; 28/1152] START alpha=0.0001, loss=log_loss, max_iter=10000, penalty=l1, tol=0.1\n",
      "[CV 4/5; 26/1152] END alpha=0.0001, loss=log_loss, max_iter=10000, penalty=l1, tol=0.001;, score=0.618 total time=  49.1s\n",
      "[CV 5/5; 28/1152] START alpha=0.0001, loss=log_loss, max_iter=10000, penalty=l1, tol=0.1\n",
      "[CV 4/5; 28/1152] END alpha=0.0001, loss=log_loss, max_iter=10000, penalty=l1, tol=0.1;, score=0.612 total time=   3.0s\n",
      "[CV 1/5; 29/1152] START alpha=0.0001, loss=log_loss, max_iter=10000, penalty=l1, tol=1\n",
      "[CV 5/5; 28/1152] END alpha=0.0001, loss=log_loss, max_iter=10000, penalty=l1, tol=0.1;, score=0.608 total time=   3.1s\n",
      "[CV 2/5; 29/1152] START alpha=0.0001, loss=log_loss, max_iter=10000, penalty=l1, tol=1\n",
      "[CV 1/5; 29/1152] END alpha=0.0001, loss=log_loss, max_iter=10000, penalty=l1, tol=1;, score=0.611 total time=   2.8s\n",
      "[CV 3/5; 29/1152] START alpha=0.0001, loss=log_loss, max_iter=10000, penalty=l1, tol=1\n",
      "[CV 2/5; 29/1152] END alpha=0.0001, loss=log_loss, max_iter=10000, penalty=l1, tol=1;, score=0.611 total time=   2.8s\n",
      "[CV 4/5; 29/1152] START alpha=0.0001, loss=log_loss, max_iter=10000, penalty=l1, tol=1\n",
      "[CV 3/5; 29/1152] END alpha=0.0001, loss=log_loss, max_iter=10000, penalty=l1, tol=1;, score=0.609 total time=   2.8s\n",
      "[CV 5/5; 29/1152] START alpha=0.0001, loss=log_loss, max_iter=10000, penalty=l1, tol=1\n",
      "[CV 4/5; 29/1152] END alpha=0.0001, loss=log_loss, max_iter=10000, penalty=l1, tol=1;, score=0.598 total time=   2.8s\n",
      "[CV 1/5; 30/1152] START alpha=0.0001, loss=log_loss, max_iter=10000, penalty=l1, tol=10\n",
      "[CV 5/5; 29/1152] END alpha=0.0001, loss=log_loss, max_iter=10000, penalty=l1, tol=1;, score=0.608 total time=   2.8s\n",
      "[CV 2/5; 30/1152] START alpha=0.0001, loss=log_loss, max_iter=10000, penalty=l1, tol=10\n",
      "[CV 1/5; 30/1152] END alpha=0.0001, loss=log_loss, max_iter=10000, penalty=l1, tol=10;, score=0.608 total time=   2.5s\n",
      "[CV 3/5; 30/1152] START alpha=0.0001, loss=log_loss, max_iter=10000, penalty=l1, tol=10\n",
      "[CV 2/5; 30/1152] END alpha=0.0001, loss=log_loss, max_iter=10000, penalty=l1, tol=10;, score=0.593 total time=   3.1s\n",
      "[CV 4/5; 30/1152] START alpha=0.0001, loss=log_loss, max_iter=10000, penalty=l1, tol=10\n",
      "[CV 3/5; 30/1152] END alpha=0.0001, loss=log_loss, max_iter=10000, penalty=l1, tol=10;, score=0.608 total time=   3.3s\n",
      "[CV 5/5; 30/1152] START alpha=0.0001, loss=log_loss, max_iter=10000, penalty=l1, tol=10\n",
      "[CV 4/5; 30/1152] END alpha=0.0001, loss=log_loss, max_iter=10000, penalty=l1, tol=10;, score=0.607 total time=   3.0s\n",
      "[CV 1/5; 31/1152] START alpha=0.0001, loss=log_loss, max_iter=10000, penalty=l1, tol=100\n",
      "[CV 5/5; 30/1152] END alpha=0.0001, loss=log_loss, max_iter=10000, penalty=l1, tol=10;, score=0.606 total time=   2.8s\n",
      "[CV 2/5; 31/1152] START alpha=0.0001, loss=log_loss, max_iter=10000, penalty=l1, tol=100\n",
      "[CV 1/5; 31/1152] END alpha=0.0001, loss=log_loss, max_iter=10000, penalty=l1, tol=100;, score=0.610 total time=   2.7s\n",
      "[CV 3/5; 31/1152] START alpha=0.0001, loss=log_loss, max_iter=10000, penalty=l1, tol=100\n",
      "[CV 2/5; 31/1152] END alpha=0.0001, loss=log_loss, max_iter=10000, penalty=l1, tol=100;, score=0.594 total time=   2.8s\n",
      "[CV 4/5; 31/1152] START alpha=0.0001, loss=log_loss, max_iter=10000, penalty=l1, tol=100\n",
      "[CV 3/5; 31/1152] END alpha=0.0001, loss=log_loss, max_iter=10000, penalty=l1, tol=100;, score=0.598 total time=   2.8s\n",
      "[CV 5/5; 31/1152] START alpha=0.0001, loss=log_loss, max_iter=10000, penalty=l1, tol=100\n",
      "[CV 4/5; 31/1152] END alpha=0.0001, loss=log_loss, max_iter=10000, penalty=l1, tol=100;, score=0.610 total time=   2.7s\n",
      "[CV 1/5; 32/1152] START alpha=0.0001, loss=log_loss, max_iter=10000, penalty=l1, tol=1000\n",
      "[CV 5/5; 31/1152] END alpha=0.0001, loss=log_loss, max_iter=10000, penalty=l1, tol=100;, score=0.605 total time=   2.4s\n",
      "[CV 2/5; 32/1152] START alpha=0.0001, loss=log_loss, max_iter=10000, penalty=l1, tol=1000\n",
      "[CV 1/5; 32/1152] END alpha=0.0001, loss=log_loss, max_iter=10000, penalty=l1, tol=1000;, score=0.611 total time=   2.4s\n",
      "[CV 3/5; 32/1152] START alpha=0.0001, loss=log_loss, max_iter=10000, penalty=l1, tol=1000\n",
      "[CV 2/5; 32/1152] END alpha=0.0001, loss=log_loss, max_iter=10000, penalty=l1, tol=1000;, score=0.601 total time=   2.5s\n",
      "[CV 4/5; 32/1152] START alpha=0.0001, loss=log_loss, max_iter=10000, penalty=l1, tol=1000\n",
      "[CV 3/5; 32/1152] END alpha=0.0001, loss=log_loss, max_iter=10000, penalty=l1, tol=1000;, score=0.603 total time=   2.5s\n",
      "[CV 5/5; 32/1152] START alpha=0.0001, loss=log_loss, max_iter=10000, penalty=l1, tol=1000\n",
      "[CV 4/5; 32/1152] END alpha=0.0001, loss=log_loss, max_iter=10000, penalty=l1, tol=1000;, score=0.597 total time=   2.5s\n",
      "[CV 1/5; 33/1152] START alpha=0.0001, loss=log_loss, max_iter=10000, penalty=l2, tol=0.0001\n",
      "[CV 5/5; 32/1152] END alpha=0.0001, loss=log_loss, max_iter=10000, penalty=l1, tol=1000;, score=0.604 total time=   2.5s\n",
      "[CV 2/5; 33/1152] START alpha=0.0001, loss=log_loss, max_iter=10000, penalty=l2, tol=0.0001\n",
      "[CV 2/5; 33/1152] END alpha=0.0001, loss=log_loss, max_iter=10000, penalty=l2, tol=0.0001;, score=0.612 total time=  10.1s\n",
      "[CV 3/5; 33/1152] START alpha=0.0001, loss=log_loss, max_iter=10000, penalty=l2, tol=0.0001\n",
      "[CV 1/5; 33/1152] END alpha=0.0001, loss=log_loss, max_iter=10000, penalty=l2, tol=0.0001;, score=0.614 total time=  12.8s\n",
      "[CV 4/5; 33/1152] START alpha=0.0001, loss=log_loss, max_iter=10000, penalty=l2, tol=0.0001\n",
      "[CV 3/5; 33/1152] END alpha=0.0001, loss=log_loss, max_iter=10000, penalty=l2, tol=0.0001;, score=0.611 total time=  10.6s\n",
      "[CV 5/5; 33/1152] START alpha=0.0001, loss=log_loss, max_iter=10000, penalty=l2, tol=0.0001\n",
      "[CV 4/5; 33/1152] END alpha=0.0001, loss=log_loss, max_iter=10000, penalty=l2, tol=0.0001;, score=0.615 total time=  13.7s\n",
      "[CV 1/5; 34/1152] START alpha=0.0001, loss=log_loss, max_iter=10000, penalty=l2, tol=0.001\n",
      "[CV 1/5; 34/1152] END alpha=0.0001, loss=log_loss, max_iter=10000, penalty=l2, tol=0.001;, score=0.607 total time=   5.2s\n",
      "[CV 2/5; 34/1152] START alpha=0.0001, loss=log_loss, max_iter=10000, penalty=l2, tol=0.001\n",
      "[CV 5/5; 33/1152] END alpha=0.0001, loss=log_loss, max_iter=10000, penalty=l2, tol=0.0001;, score=0.612 total time=  14.4s\n",
      "[CV 3/5; 34/1152] START alpha=0.0001, loss=log_loss, max_iter=10000, penalty=l2, tol=0.001\n",
      "[CV 2/5; 34/1152] END alpha=0.0001, loss=log_loss, max_iter=10000, penalty=l2, tol=0.001;, score=0.611 total time=   4.9s\n",
      "[CV 4/5; 34/1152] START alpha=0.0001, loss=log_loss, max_iter=10000, penalty=l2, tol=0.001\n",
      "[CV 3/5; 34/1152] END alpha=0.0001, loss=log_loss, max_iter=10000, penalty=l2, tol=0.001;, score=0.609 total time=   5.6s\n",
      "[CV 5/5; 34/1152] START alpha=0.0001, loss=log_loss, max_iter=10000, penalty=l2, tol=0.001\n",
      "[CV 4/5; 34/1152] END alpha=0.0001, loss=log_loss, max_iter=10000, penalty=l2, tol=0.001;, score=0.612 total time=   5.2s\n",
      "[CV 1/5; 35/1152] START alpha=0.0001, loss=log_loss, max_iter=10000, penalty=l2, tol=0.01\n",
      "[CV 1/5; 35/1152] END alpha=0.0001, loss=log_loss, max_iter=10000, penalty=l2, tol=0.01;, score=0.604 total time=   2.7s\n",
      "[CV 2/5; 35/1152] START alpha=0.0001, loss=log_loss, max_iter=10000, penalty=l2, tol=0.01\n",
      "[CV 5/5; 34/1152] END alpha=0.0001, loss=log_loss, max_iter=10000, penalty=l2, tol=0.001;, score=0.609 total time=   5.8s\n",
      "[CV 3/5; 35/1152] START alpha=0.0001, loss=log_loss, max_iter=10000, penalty=l2, tol=0.01\n",
      "[CV 2/5; 35/1152] END alpha=0.0001, loss=log_loss, max_iter=10000, penalty=l2, tol=0.01;, score=0.601 total time=   2.8s\n",
      "[CV 4/5; 35/1152] START alpha=0.0001, loss=log_loss, max_iter=10000, penalty=l2, tol=0.01\n",
      "[CV 3/5; 35/1152] END alpha=0.0001, loss=log_loss, max_iter=10000, penalty=l2, tol=0.01;, score=0.597 total time=   2.7s\n",
      "[CV 5/5; 35/1152] START alpha=0.0001, loss=log_loss, max_iter=10000, penalty=l2, tol=0.01\n",
      "[CV 4/5; 35/1152] END alpha=0.0001, loss=log_loss, max_iter=10000, penalty=l2, tol=0.01;, score=0.605 total time=   3.0s\n",
      "[CV 1/5; 36/1152] START alpha=0.0001, loss=log_loss, max_iter=10000, penalty=l2, tol=0.1\n",
      "[CV 5/5; 35/1152] END alpha=0.0001, loss=log_loss, max_iter=10000, penalty=l2, tol=0.01;, score=0.599 total time=   2.5s\n",
      "[CV 1/5; 36/1152] END alpha=0.0001, loss=log_loss, max_iter=10000, penalty=l2, tol=0.1;, score=0.602 total time=   1.8s\n",
      "[CV 2/5; 36/1152] START alpha=0.0001, loss=log_loss, max_iter=10000, penalty=l2, tol=0.1\n",
      "[CV 3/5; 36/1152] START alpha=0.0001, loss=log_loss, max_iter=10000, penalty=l2, tol=0.1\n",
      "[CV 2/5; 36/1152] END alpha=0.0001, loss=log_loss, max_iter=10000, penalty=l2, tol=0.1;, score=0.595 total time=   1.7s\n",
      "[CV 3/5; 36/1152] END alpha=0.0001, loss=log_loss, max_iter=10000, penalty=l2, tol=0.1;, score=0.593 total time=   1.7s\n",
      "[CV 4/5; 36/1152] START alpha=0.0001, loss=log_loss, max_iter=10000, penalty=l2, tol=0.1\n",
      "[CV 5/5; 36/1152] START alpha=0.0001, loss=log_loss, max_iter=10000, penalty=l2, tol=0.1\n",
      "[CV 4/5; 36/1152] END alpha=0.0001, loss=log_loss, max_iter=10000, penalty=l2, tol=0.1;, score=0.601 total time=   1.9s\n",
      "[CV 1/5; 37/1152] START alpha=0.0001, loss=log_loss, max_iter=10000, penalty=l2, tol=1\n",
      "[CV 5/5; 36/1152] END alpha=0.0001, loss=log_loss, max_iter=10000, penalty=l2, tol=0.1;, score=0.602 total time=   1.9s\n",
      "[CV 2/5; 37/1152] START alpha=0.0001, loss=log_loss, max_iter=10000, penalty=l2, tol=1\n",
      "[CV 1/5; 37/1152] END alpha=0.0001, loss=log_loss, max_iter=10000, penalty=l2, tol=1;, score=0.598 total time=   2.1s\n",
      "[CV 3/5; 37/1152] START alpha=0.0001, loss=log_loss, max_iter=10000, penalty=l2, tol=1\n",
      "[CV 2/5; 37/1152] END alpha=0.0001, loss=log_loss, max_iter=10000, penalty=l2, tol=1;, score=0.596 total time=   2.2s\n",
      "[CV 4/5; 37/1152] START alpha=0.0001, loss=log_loss, max_iter=10000, penalty=l2, tol=1\n",
      "[CV 3/5; 37/1152] END alpha=0.0001, loss=log_loss, max_iter=10000, penalty=l2, tol=1;, score=0.592 total time=   1.9s\n",
      "[CV 5/5; 37/1152] START alpha=0.0001, loss=log_loss, max_iter=10000, penalty=l2, tol=1\n",
      "[CV 4/5; 37/1152] END alpha=0.0001, loss=log_loss, max_iter=10000, penalty=l2, tol=1;, score=0.595 total time=   1.9s\n",
      "[CV 1/5; 38/1152] START alpha=0.0001, loss=log_loss, max_iter=10000, penalty=l2, tol=10\n",
      "[CV 1/5; 38/1152] END alpha=0.0001, loss=log_loss, max_iter=10000, penalty=l2, tol=10;, score=0.590 total time=   1.6s\n",
      "[CV 2/5; 38/1152] START alpha=0.0001, loss=log_loss, max_iter=10000, penalty=l2, tol=10\n",
      "[CV 5/5; 37/1152] END alpha=0.0001, loss=log_loss, max_iter=10000, penalty=l2, tol=1;, score=0.594 total time=   1.7s\n",
      "[CV 3/5; 38/1152] START alpha=0.0001, loss=log_loss, max_iter=10000, penalty=l2, tol=10\n",
      "[CV 2/5; 38/1152] END alpha=0.0001, loss=log_loss, max_iter=10000, penalty=l2, tol=10;, score=0.603 total time=   1.6s\n",
      "[CV 3/5; 38/1152] END alpha=0.0001, loss=log_loss, max_iter=10000, penalty=l2, tol=10;, score=0.592 total time=   1.6s\n",
      "[CV 4/5; 38/1152] START alpha=0.0001, loss=log_loss, max_iter=10000, penalty=l2, tol=10\n",
      "[CV 5/5; 38/1152] START alpha=0.0001, loss=log_loss, max_iter=10000, penalty=l2, tol=10\n",
      "[CV 4/5; 38/1152] END alpha=0.0001, loss=log_loss, max_iter=10000, penalty=l2, tol=10;, score=0.598 total time=   1.6s\n",
      "[CV 5/5; 38/1152] END alpha=0.0001, loss=log_loss, max_iter=10000, penalty=l2, tol=10;, score=0.584 total time=   1.6s\n",
      "[CV 1/5; 39/1152] START alpha=0.0001, loss=log_loss, max_iter=10000, penalty=l2, tol=100\n",
      "[CV 2/5; 39/1152] START alpha=0.0001, loss=log_loss, max_iter=10000, penalty=l2, tol=100\n",
      "[CV 1/5; 39/1152] END alpha=0.0001, loss=log_loss, max_iter=10000, penalty=l2, tol=100;, score=0.597 total time=   1.5s\n",
      "[CV 2/5; 39/1152] END alpha=0.0001, loss=log_loss, max_iter=10000, penalty=l2, tol=100;, score=0.588 total time=   1.6s\n",
      "[CV 3/5; 39/1152] START alpha=0.0001, loss=log_loss, max_iter=10000, penalty=l2, tol=100\n",
      "[CV 4/5; 39/1152] START alpha=0.0001, loss=log_loss, max_iter=10000, penalty=l2, tol=100\n",
      "[CV 3/5; 39/1152] END alpha=0.0001, loss=log_loss, max_iter=10000, penalty=l2, tol=100;, score=0.592 total time=   1.5s\n",
      "[CV 4/5; 39/1152] END alpha=0.0001, loss=log_loss, max_iter=10000, penalty=l2, tol=100;, score=0.598 total time=   1.6s\n",
      "[CV 5/5; 39/1152] START alpha=0.0001, loss=log_loss, max_iter=10000, penalty=l2, tol=100\n",
      "[CV 1/5; 40/1152] START alpha=0.0001, loss=log_loss, max_iter=10000, penalty=l2, tol=1000\n",
      "[CV 5/5; 39/1152] END alpha=0.0001, loss=log_loss, max_iter=10000, penalty=l2, tol=100;, score=0.598 total time=   1.6s\n",
      "[CV 1/5; 40/1152] END alpha=0.0001, loss=log_loss, max_iter=10000, penalty=l2, tol=1000;, score=0.587 total time=   1.6s\n",
      "[CV 2/5; 40/1152] START alpha=0.0001, loss=log_loss, max_iter=10000, penalty=l2, tol=1000\n",
      "[CV 3/5; 40/1152] START alpha=0.0001, loss=log_loss, max_iter=10000, penalty=l2, tol=1000\n",
      "[CV 2/5; 40/1152] END alpha=0.0001, loss=log_loss, max_iter=10000, penalty=l2, tol=1000;, score=0.592 total time=   1.6s\n",
      "[CV 3/5; 40/1152] END alpha=0.0001, loss=log_loss, max_iter=10000, penalty=l2, tol=1000;, score=0.597 total time=   1.5s\n",
      "[CV 5/5; 40/1152] START alpha=0.0001, loss=log_loss, max_iter=10000, penalty=l2, tol=1000\n",
      "[CV 4/5; 40/1152] START alpha=0.0001, loss=log_loss, max_iter=10000, penalty=l2, tol=1000\n",
      "[CV 4/5; 40/1152] END alpha=0.0001, loss=log_loss, max_iter=10000, penalty=l2, tol=1000;, score=0.592 total time=   1.6s\n",
      "[CV 5/5; 40/1152] END alpha=0.0001, loss=log_loss, max_iter=10000, penalty=l2, tol=1000;, score=0.586 total time=   1.6s\n",
      "[CV 2/5; 41/1152] START alpha=0.0001, loss=log_loss, max_iter=10000, penalty=elasticnet, tol=0.0001\n",
      "[CV 1/5; 41/1152] START alpha=0.0001, loss=log_loss, max_iter=10000, penalty=elasticnet, tol=0.0001\n",
      "[CV 2/5; 41/1152] END alpha=0.0001, loss=log_loss, max_iter=10000, penalty=elasticnet, tol=0.0001;, score=0.616 total time=  18.8s\n",
      "[CV 3/5; 41/1152] START alpha=0.0001, loss=log_loss, max_iter=10000, penalty=elasticnet, tol=0.0001\n",
      "[CV 1/5; 41/1152] END alpha=0.0001, loss=log_loss, max_iter=10000, penalty=elasticnet, tol=0.0001;, score=0.616 total time=  20.3s\n",
      "[CV 4/5; 41/1152] START alpha=0.0001, loss=log_loss, max_iter=10000, penalty=elasticnet, tol=0.0001\n",
      "[CV 4/5; 41/1152] END alpha=0.0001, loss=log_loss, max_iter=10000, penalty=elasticnet, tol=0.0001;, score=0.617 total time=  18.7s\n",
      "[CV 5/5; 41/1152] START alpha=0.0001, loss=log_loss, max_iter=10000, penalty=elasticnet, tol=0.0001\n",
      "[CV 3/5; 41/1152] END alpha=0.0001, loss=log_loss, max_iter=10000, penalty=elasticnet, tol=0.0001;, score=0.612 total time=  20.9s\n",
      "[CV 1/5; 42/1152] START alpha=0.0001, loss=log_loss, max_iter=10000, penalty=elasticnet, tol=0.001\n",
      "[CV 1/5; 42/1152] END alpha=0.0001, loss=log_loss, max_iter=10000, penalty=elasticnet, tol=0.001;, score=0.613 total time=   7.4s\n",
      "[CV 2/5; 42/1152] START alpha=0.0001, loss=log_loss, max_iter=10000, penalty=elasticnet, tol=0.001\n",
      "[CV 2/5; 42/1152] END alpha=0.0001, loss=log_loss, max_iter=10000, penalty=elasticnet, tol=0.001;, score=0.611 total time=   7.5s\n",
      "[CV 3/5; 42/1152] START alpha=0.0001, loss=log_loss, max_iter=10000, penalty=elasticnet, tol=0.001\n",
      "[CV 5/5; 41/1152] END alpha=0.0001, loss=log_loss, max_iter=10000, penalty=elasticnet, tol=0.0001;, score=0.613 total time=  18.4s\n",
      "[CV 4/5; 42/1152] START alpha=0.0001, loss=log_loss, max_iter=10000, penalty=elasticnet, tol=0.001\n",
      "[CV 3/5; 42/1152] END alpha=0.0001, loss=log_loss, max_iter=10000, penalty=elasticnet, tol=0.001;, score=0.608 total time=   6.9s\n",
      "[CV 5/5; 42/1152] START alpha=0.0001, loss=log_loss, max_iter=10000, penalty=elasticnet, tol=0.001\n",
      "[CV 4/5; 42/1152] END alpha=0.0001, loss=log_loss, max_iter=10000, penalty=elasticnet, tol=0.001;, score=0.608 total time=   6.5s\n",
      "[CV 1/5; 43/1152] START alpha=0.0001, loss=log_loss, max_iter=10000, penalty=elasticnet, tol=0.01\n",
      "[CV 1/5; 43/1152] END alpha=0.0001, loss=log_loss, max_iter=10000, penalty=elasticnet, tol=0.01;, score=0.604 total time=   3.6s\n",
      "[CV 2/5; 43/1152] START alpha=0.0001, loss=log_loss, max_iter=10000, penalty=elasticnet, tol=0.01\n",
      "[CV 5/5; 42/1152] END alpha=0.0001, loss=log_loss, max_iter=10000, penalty=elasticnet, tol=0.001;, score=0.613 total time=   7.5s\n",
      "[CV 3/5; 43/1152] START alpha=0.0001, loss=log_loss, max_iter=10000, penalty=elasticnet, tol=0.01\n",
      "[CV 2/5; 43/1152] END alpha=0.0001, loss=log_loss, max_iter=10000, penalty=elasticnet, tol=0.01;, score=0.605 total time=   3.4s\n",
      "[CV 4/5; 43/1152] START alpha=0.0001, loss=log_loss, max_iter=10000, penalty=elasticnet, tol=0.01\n",
      "[CV 3/5; 43/1152] END alpha=0.0001, loss=log_loss, max_iter=10000, penalty=elasticnet, tol=0.01;, score=0.603 total time=   3.3s\n",
      "[CV 5/5; 43/1152] START alpha=0.0001, loss=log_loss, max_iter=10000, penalty=elasticnet, tol=0.01\n",
      "[CV 4/5; 43/1152] END alpha=0.0001, loss=log_loss, max_iter=10000, penalty=elasticnet, tol=0.01;, score=0.609 total time=   3.5s\n",
      "[CV 1/5; 44/1152] START alpha=0.0001, loss=log_loss, max_iter=10000, penalty=elasticnet, tol=0.1\n",
      "[CV 5/5; 43/1152] END alpha=0.0001, loss=log_loss, max_iter=10000, penalty=elasticnet, tol=0.01;, score=0.610 total time=   3.6s\n",
      "[CV 2/5; 44/1152] START alpha=0.0001, loss=log_loss, max_iter=10000, penalty=elasticnet, tol=0.1\n",
      "[CV 1/5; 44/1152] END alpha=0.0001, loss=log_loss, max_iter=10000, penalty=elasticnet, tol=0.1;, score=0.596 total time=   2.8s\n",
      "[CV 3/5; 44/1152] START alpha=0.0001, loss=log_loss, max_iter=10000, penalty=elasticnet, tol=0.1\n",
      "[CV 2/5; 44/1152] END alpha=0.0001, loss=log_loss, max_iter=10000, penalty=elasticnet, tol=0.1;, score=0.601 total time=   2.8s\n",
      "[CV 4/5; 44/1152] START alpha=0.0001, loss=log_loss, max_iter=10000, penalty=elasticnet, tol=0.1\n",
      "[CV 3/5; 44/1152] END alpha=0.0001, loss=log_loss, max_iter=10000, penalty=elasticnet, tol=0.1;, score=0.605 total time=   2.8s\n",
      "[CV 5/5; 44/1152] START alpha=0.0001, loss=log_loss, max_iter=10000, penalty=elasticnet, tol=0.1\n",
      "[CV 4/5; 44/1152] END alpha=0.0001, loss=log_loss, max_iter=10000, penalty=elasticnet, tol=0.1;, score=0.608 total time=   3.1s\n",
      "[CV 1/5; 45/1152] START alpha=0.0001, loss=log_loss, max_iter=10000, penalty=elasticnet, tol=1\n",
      "[CV 5/5; 44/1152] END alpha=0.0001, loss=log_loss, max_iter=10000, penalty=elasticnet, tol=0.1;, score=0.607 total time=   3.4s\n",
      "[CV 2/5; 45/1152] START alpha=0.0001, loss=log_loss, max_iter=10000, penalty=elasticnet, tol=1\n",
      "[CV 1/5; 45/1152] END alpha=0.0001, loss=log_loss, max_iter=10000, penalty=elasticnet, tol=1;, score=0.608 total time=   3.0s\n",
      "[CV 3/5; 45/1152] START alpha=0.0001, loss=log_loss, max_iter=10000, penalty=elasticnet, tol=1\n",
      "[CV 2/5; 45/1152] END alpha=0.0001, loss=log_loss, max_iter=10000, penalty=elasticnet, tol=1;, score=0.610 total time=   2.9s\n",
      "[CV 4/5; 45/1152] START alpha=0.0001, loss=log_loss, max_iter=10000, penalty=elasticnet, tol=1\n",
      "[CV 3/5; 45/1152] END alpha=0.0001, loss=log_loss, max_iter=10000, penalty=elasticnet, tol=1;, score=0.606 total time=   2.9s\n",
      "[CV 5/5; 45/1152] START alpha=0.0001, loss=log_loss, max_iter=10000, penalty=elasticnet, tol=1\n",
      "[CV 4/5; 45/1152] END alpha=0.0001, loss=log_loss, max_iter=10000, penalty=elasticnet, tol=1;, score=0.599 total time=   3.2s\n",
      "[CV 1/5; 46/1152] START alpha=0.0001, loss=log_loss, max_iter=10000, penalty=elasticnet, tol=10\n",
      "[CV 5/5; 45/1152] END alpha=0.0001, loss=log_loss, max_iter=10000, penalty=elasticnet, tol=1;, score=0.605 total time=   3.2s\n",
      "[CV 2/5; 46/1152] START alpha=0.0001, loss=log_loss, max_iter=10000, penalty=elasticnet, tol=10\n",
      "[CV 1/5; 46/1152] END alpha=0.0001, loss=log_loss, max_iter=10000, penalty=elasticnet, tol=10;, score=0.606 total time=   2.5s\n",
      "[CV 3/5; 46/1152] START alpha=0.0001, loss=log_loss, max_iter=10000, penalty=elasticnet, tol=10\n",
      "[CV 2/5; 46/1152] END alpha=0.0001, loss=log_loss, max_iter=10000, penalty=elasticnet, tol=10;, score=0.604 total time=   2.6s\n",
      "[CV 4/5; 46/1152] START alpha=0.0001, loss=log_loss, max_iter=10000, penalty=elasticnet, tol=10\n",
      "[CV 1/5; 26/1152] END alpha=0.0001, loss=log_loss, max_iter=10000, penalty=l1, tol=0.001;, score=0.618 total time= 4.8min\n",
      "[CV 5/5; 46/1152] START alpha=0.0001, loss=log_loss, max_iter=10000, penalty=elasticnet, tol=10\n",
      "[CV 3/5; 46/1152] END alpha=0.0001, loss=log_loss, max_iter=10000, penalty=elasticnet, tol=10;, score=0.596 total time=   2.6s\n",
      "[CV 1/5; 47/1152] START alpha=0.0001, loss=log_loss, max_iter=10000, penalty=elasticnet, tol=100\n",
      "[CV 4/5; 46/1152] END alpha=0.0001, loss=log_loss, max_iter=10000, penalty=elasticnet, tol=10;, score=0.610 total time=   2.8s\n",
      "[CV 2/5; 47/1152] START alpha=0.0001, loss=log_loss, max_iter=10000, penalty=elasticnet, tol=100\n",
      "[CV 5/5; 46/1152] END alpha=0.0001, loss=log_loss, max_iter=10000, penalty=elasticnet, tol=10;, score=0.592 total time=   2.9s\n",
      "[CV 3/5; 47/1152] START alpha=0.0001, loss=log_loss, max_iter=10000, penalty=elasticnet, tol=100\n",
      "[CV 1/5; 47/1152] END alpha=0.0001, loss=log_loss, max_iter=10000, penalty=elasticnet, tol=100;, score=0.601 total time=   2.9s\n",
      "[CV 4/5; 47/1152] START alpha=0.0001, loss=log_loss, max_iter=10000, penalty=elasticnet, tol=100\n",
      "[CV 2/5; 47/1152] END alpha=0.0001, loss=log_loss, max_iter=10000, penalty=elasticnet, tol=100;, score=0.608 total time=   2.7s\n",
      "[CV 5/5; 47/1152] START alpha=0.0001, loss=log_loss, max_iter=10000, penalty=elasticnet, tol=100\n",
      "[CV 3/5; 47/1152] END alpha=0.0001, loss=log_loss, max_iter=10000, penalty=elasticnet, tol=100;, score=0.603 total time=   2.6s\n",
      "[CV 1/5; 48/1152] START alpha=0.0001, loss=log_loss, max_iter=10000, penalty=elasticnet, tol=1000\n",
      "[CV 4/5; 47/1152] END alpha=0.0001, loss=log_loss, max_iter=10000, penalty=elasticnet, tol=100;, score=0.600 total time=   2.6s\n",
      "[CV 2/5; 48/1152] START alpha=0.0001, loss=log_loss, max_iter=10000, penalty=elasticnet, tol=1000\n",
      "[CV 5/5; 47/1152] END alpha=0.0001, loss=log_loss, max_iter=10000, penalty=elasticnet, tol=100;, score=0.607 total time=   2.5s\n",
      "[CV 3/5; 48/1152] START alpha=0.0001, loss=log_loss, max_iter=10000, penalty=elasticnet, tol=1000\n",
      "[CV 1/5; 48/1152] END alpha=0.0001, loss=log_loss, max_iter=10000, penalty=elasticnet, tol=1000;, score=0.594 total time=   2.6s\n",
      "[CV 4/5; 48/1152] START alpha=0.0001, loss=log_loss, max_iter=10000, penalty=elasticnet, tol=1000\n",
      "[CV 2/5; 48/1152] END alpha=0.0001, loss=log_loss, max_iter=10000, penalty=elasticnet, tol=1000;, score=0.598 total time=   2.6s\n",
      "[CV 5/5; 48/1152] START alpha=0.0001, loss=log_loss, max_iter=10000, penalty=elasticnet, tol=1000\n",
      "[CV 3/5; 48/1152] END alpha=0.0001, loss=log_loss, max_iter=10000, penalty=elasticnet, tol=1000;, score=0.598 total time=   2.6s\n",
      "[CV 1/5; 49/1152] START alpha=0.0001, loss=log_loss, max_iter=100000, penalty=l1, tol=0.0001\n",
      "[CV 4/5; 48/1152] END alpha=0.0001, loss=log_loss, max_iter=10000, penalty=elasticnet, tol=1000;, score=0.611 total time=   2.7s\n",
      "[CV 2/5; 49/1152] START alpha=0.0001, loss=log_loss, max_iter=100000, penalty=l1, tol=0.0001\n",
      "[CV 5/5; 48/1152] END alpha=0.0001, loss=log_loss, max_iter=10000, penalty=elasticnet, tol=1000;, score=0.593 total time=   2.6s\n",
      "[CV 3/5; 49/1152] START alpha=0.0001, loss=log_loss, max_iter=100000, penalty=l1, tol=0.0001\n",
      "[CV 3/5; 49/1152] END alpha=0.0001, loss=log_loss, max_iter=100000, penalty=l1, tol=0.0001;, score=0.613 total time=  14.6s\n",
      "[CV 4/5; 49/1152] START alpha=0.0001, loss=log_loss, max_iter=100000, penalty=l1, tol=0.0001\n",
      "[CV 2/5; 49/1152] END alpha=0.0001, loss=log_loss, max_iter=100000, penalty=l1, tol=0.0001;, score=0.612 total time=  18.4s\n",
      "[CV 5/5; 49/1152] START alpha=0.0001, loss=log_loss, max_iter=100000, penalty=l1, tol=0.0001\n",
      "[CV 4/5; 49/1152] END alpha=0.0001, loss=log_loss, max_iter=100000, penalty=l1, tol=0.0001;, score=0.618 total time=  17.1s\n",
      "[CV 1/5; 50/1152] START alpha=0.0001, loss=log_loss, max_iter=100000, penalty=l1, tol=0.001\n",
      "[CV 5/5; 49/1152] END alpha=0.0001, loss=log_loss, max_iter=100000, penalty=l1, tol=0.0001;, score=0.612 total time=  14.0s\n",
      "[CV 2/5; 50/1152] START alpha=0.0001, loss=log_loss, max_iter=100000, penalty=l1, tol=0.001\n",
      "[CV 2/5; 50/1152] END alpha=0.0001, loss=log_loss, max_iter=100000, penalty=l1, tol=0.001;, score=0.614 total time=   7.0s\n",
      "[CV 3/5; 50/1152] START alpha=0.0001, loss=log_loss, max_iter=100000, penalty=l1, tol=0.001\n",
      "[CV 1/5; 50/1152] END alpha=0.0001, loss=log_loss, max_iter=100000, penalty=l1, tol=0.001;, score=0.612 total time=  21.2s\n",
      "[CV 4/5; 50/1152] START alpha=0.0001, loss=log_loss, max_iter=100000, penalty=l1, tol=0.001\n",
      "[CV 4/5; 50/1152] END alpha=0.0001, loss=log_loss, max_iter=100000, penalty=l1, tol=0.001;, score=0.614 total time=   5.8s\n",
      "[CV 5/5; 50/1152] START alpha=0.0001, loss=log_loss, max_iter=100000, penalty=l1, tol=0.001\n",
      "[CV 5/5; 50/1152] END alpha=0.0001, loss=log_loss, max_iter=100000, penalty=l1, tol=0.001;, score=0.609 total time=   5.5s\n",
      "[CV 1/5; 51/1152] START alpha=0.0001, loss=log_loss, max_iter=100000, penalty=l1, tol=0.01\n",
      "[CV 1/5; 51/1152] END alpha=0.0001, loss=log_loss, max_iter=100000, penalty=l1, tol=0.01;, score=0.610 total time=   4.0s\n",
      "[CV 2/5; 51/1152] START alpha=0.0001, loss=log_loss, max_iter=100000, penalty=l1, tol=0.01\n",
      "[CV 3/5; 50/1152] END alpha=0.0001, loss=log_loss, max_iter=100000, penalty=l1, tol=0.001;, score=0.617 total time=  33.5s\n",
      "[CV 3/5; 51/1152] START alpha=0.0001, loss=log_loss, max_iter=100000, penalty=l1, tol=0.01\n",
      "[CV 2/5; 51/1152] END alpha=0.0001, loss=log_loss, max_iter=100000, penalty=l1, tol=0.01;, score=0.608 total time=   5.2s\n",
      "[CV 4/5; 51/1152] START alpha=0.0001, loss=log_loss, max_iter=100000, penalty=l1, tol=0.01\n",
      "[CV 3/5; 51/1152] END alpha=0.0001, loss=log_loss, max_iter=100000, penalty=l1, tol=0.01;, score=0.606 total time=   3.0s\n",
      "[CV 5/5; 51/1152] START alpha=0.0001, loss=log_loss, max_iter=100000, penalty=l1, tol=0.01\n",
      "[CV 4/5; 51/1152] END alpha=0.0001, loss=log_loss, max_iter=100000, penalty=l1, tol=0.01;, score=0.613 total time=   6.6s\n",
      "[CV 1/5; 52/1152] START alpha=0.0001, loss=log_loss, max_iter=100000, penalty=l1, tol=0.1\n",
      "[CV 1/5; 52/1152] END alpha=0.0001, loss=log_loss, max_iter=100000, penalty=l1, tol=0.1;, score=0.602 total time=   3.4s\n",
      "[CV 2/5; 52/1152] START alpha=0.0001, loss=log_loss, max_iter=100000, penalty=l1, tol=0.1\n",
      "[CV 5/5; 51/1152] END alpha=0.0001, loss=log_loss, max_iter=100000, penalty=l1, tol=0.01;, score=0.612 total time=   9.7s\n",
      "[CV 3/5; 52/1152] START alpha=0.0001, loss=log_loss, max_iter=100000, penalty=l1, tol=0.1\n",
      "[CV 2/5; 52/1152] END alpha=0.0001, loss=log_loss, max_iter=100000, penalty=l1, tol=0.1;, score=0.610 total time=   3.1s\n",
      "[CV 4/5; 52/1152] START alpha=0.0001, loss=log_loss, max_iter=100000, penalty=l1, tol=0.1\n",
      "[CV 4/5; 52/1152] END alpha=0.0001, loss=log_loss, max_iter=100000, penalty=l1, tol=0.1;, score=0.604 total time=   2.9s\n",
      "[CV 5/5; 52/1152] START alpha=0.0001, loss=log_loss, max_iter=100000, penalty=l1, tol=0.1\n",
      "[CV 3/5; 52/1152] END alpha=0.0001, loss=log_loss, max_iter=100000, penalty=l1, tol=0.1;, score=0.607 total time=   4.7s\n",
      "[CV 1/5; 53/1152] START alpha=0.0001, loss=log_loss, max_iter=100000, penalty=l1, tol=1\n",
      "[CV 5/5; 52/1152] END alpha=0.0001, loss=log_loss, max_iter=100000, penalty=l1, tol=0.1;, score=0.608 total time=   2.9s\n",
      "[CV 2/5; 53/1152] START alpha=0.0001, loss=log_loss, max_iter=100000, penalty=l1, tol=1\n",
      "[CV 1/5; 53/1152] END alpha=0.0001, loss=log_loss, max_iter=100000, penalty=l1, tol=1;, score=0.591 total time=   2.9s\n",
      "[CV 3/5; 53/1152] START alpha=0.0001, loss=log_loss, max_iter=100000, penalty=l1, tol=1\n",
      "[CV 2/5; 53/1152] END alpha=0.0001, loss=log_loss, max_iter=100000, penalty=l1, tol=1;, score=0.609 total time=   2.8s\n",
      "[CV 4/5; 53/1152] START alpha=0.0001, loss=log_loss, max_iter=100000, penalty=l1, tol=1\n",
      "[CV 3/5; 53/1152] END alpha=0.0001, loss=log_loss, max_iter=100000, penalty=l1, tol=1;, score=0.599 total time=   2.8s\n",
      "[CV 5/5; 53/1152] START alpha=0.0001, loss=log_loss, max_iter=100000, penalty=l1, tol=1\n",
      "[CV 4/5; 53/1152] END alpha=0.0001, loss=log_loss, max_iter=100000, penalty=l1, tol=1;, score=0.611 total time=   3.0s\n",
      "[CV 1/5; 54/1152] START alpha=0.0001, loss=log_loss, max_iter=100000, penalty=l1, tol=10\n",
      "[CV 5/5; 53/1152] END alpha=0.0001, loss=log_loss, max_iter=100000, penalty=l1, tol=1;, score=0.605 total time=   3.0s\n",
      "[CV 2/5; 54/1152] START alpha=0.0001, loss=log_loss, max_iter=100000, penalty=l1, tol=10\n",
      "[CV 1/5; 54/1152] END alpha=0.0001, loss=log_loss, max_iter=100000, penalty=l1, tol=10;, score=0.608 total time=   2.9s\n",
      "[CV 3/5; 54/1152] START alpha=0.0001, loss=log_loss, max_iter=100000, penalty=l1, tol=10\n",
      "[CV 2/5; 54/1152] END alpha=0.0001, loss=log_loss, max_iter=100000, penalty=l1, tol=10;, score=0.603 total time=   2.8s\n",
      "[CV 4/5; 54/1152] START alpha=0.0001, loss=log_loss, max_iter=100000, penalty=l1, tol=10\n",
      "[CV 3/5; 54/1152] END alpha=0.0001, loss=log_loss, max_iter=100000, penalty=l1, tol=10;, score=0.599 total time=   2.8s\n",
      "[CV 5/5; 54/1152] START alpha=0.0001, loss=log_loss, max_iter=100000, penalty=l1, tol=10\n",
      "[CV 4/5; 54/1152] END alpha=0.0001, loss=log_loss, max_iter=100000, penalty=l1, tol=10;, score=0.597 total time=   2.9s\n",
      "[CV 1/5; 55/1152] START alpha=0.0001, loss=log_loss, max_iter=100000, penalty=l1, tol=100\n",
      "[CV 5/5; 54/1152] END alpha=0.0001, loss=log_loss, max_iter=100000, penalty=l1, tol=10;, score=0.600 total time=   2.5s\n",
      "[CV 2/5; 55/1152] START alpha=0.0001, loss=log_loss, max_iter=100000, penalty=l1, tol=100\n",
      "[CV 1/5; 55/1152] END alpha=0.0001, loss=log_loss, max_iter=100000, penalty=l1, tol=100;, score=0.603 total time=   2.5s\n",
      "[CV 3/5; 55/1152] START alpha=0.0001, loss=log_loss, max_iter=100000, penalty=l1, tol=100\n",
      "[CV 2/5; 55/1152] END alpha=0.0001, loss=log_loss, max_iter=100000, penalty=l1, tol=100;, score=0.595 total time=   2.6s\n",
      "[CV 4/5; 55/1152] START alpha=0.0001, loss=log_loss, max_iter=100000, penalty=l1, tol=100\n",
      "[CV 3/5; 55/1152] END alpha=0.0001, loss=log_loss, max_iter=100000, penalty=l1, tol=100;, score=0.611 total time=   2.5s\n",
      "[CV 5/5; 55/1152] START alpha=0.0001, loss=log_loss, max_iter=100000, penalty=l1, tol=100\n",
      "[CV 4/5; 55/1152] END alpha=0.0001, loss=log_loss, max_iter=100000, penalty=l1, tol=100;, score=0.606 total time=   2.4s\n",
      "[CV 1/5; 56/1152] START alpha=0.0001, loss=log_loss, max_iter=100000, penalty=l1, tol=1000\n",
      "[CV 5/5; 55/1152] END alpha=0.0001, loss=log_loss, max_iter=100000, penalty=l1, tol=100;, score=0.609 total time=   2.4s\n",
      "[CV 2/5; 56/1152] START alpha=0.0001, loss=log_loss, max_iter=100000, penalty=l1, tol=1000\n",
      "[CV 1/5; 56/1152] END alpha=0.0001, loss=log_loss, max_iter=100000, penalty=l1, tol=1000;, score=0.608 total time=   2.4s\n",
      "[CV 3/5; 56/1152] START alpha=0.0001, loss=log_loss, max_iter=100000, penalty=l1, tol=1000\n",
      "[CV 2/5; 56/1152] END alpha=0.0001, loss=log_loss, max_iter=100000, penalty=l1, tol=1000;, score=0.609 total time=   2.5s\n",
      "[CV 4/5; 56/1152] START alpha=0.0001, loss=log_loss, max_iter=100000, penalty=l1, tol=1000\n",
      "[CV 3/5; 56/1152] END alpha=0.0001, loss=log_loss, max_iter=100000, penalty=l1, tol=1000;, score=0.602 total time=   2.4s\n",
      "[CV 5/5; 56/1152] START alpha=0.0001, loss=log_loss, max_iter=100000, penalty=l1, tol=1000\n",
      "[CV 4/5; 56/1152] END alpha=0.0001, loss=log_loss, max_iter=100000, penalty=l1, tol=1000;, score=0.602 total time=   2.4s\n",
      "[CV 1/5; 57/1152] START alpha=0.0001, loss=log_loss, max_iter=100000, penalty=l2, tol=0.0001\n",
      "[CV 5/5; 56/1152] END alpha=0.0001, loss=log_loss, max_iter=100000, penalty=l1, tol=1000;, score=0.596 total time=   2.5s\n",
      "[CV 2/5; 57/1152] START alpha=0.0001, loss=log_loss, max_iter=100000, penalty=l2, tol=0.0001\n",
      "[CV 1/5; 57/1152] END alpha=0.0001, loss=log_loss, max_iter=100000, penalty=l2, tol=0.0001;, score=0.611 total time=  11.6s\n",
      "[CV 3/5; 57/1152] START alpha=0.0001, loss=log_loss, max_iter=100000, penalty=l2, tol=0.0001\n",
      "[CV 2/5; 57/1152] END alpha=0.0001, loss=log_loss, max_iter=100000, penalty=l2, tol=0.0001;, score=0.613 total time=   9.6s\n",
      "[CV 4/5; 57/1152] START alpha=0.0001, loss=log_loss, max_iter=100000, penalty=l2, tol=0.0001\n",
      "[CV 3/5; 57/1152] END alpha=0.0001, loss=log_loss, max_iter=100000, penalty=l2, tol=0.0001;, score=0.610 total time=  10.7s\n",
      "[CV 5/5; 57/1152] START alpha=0.0001, loss=log_loss, max_iter=100000, penalty=l2, tol=0.0001\n",
      "[CV 4/5; 57/1152] END alpha=0.0001, loss=log_loss, max_iter=100000, penalty=l2, tol=0.0001;, score=0.618 total time=  12.3s\n",
      "[CV 1/5; 58/1152] START alpha=0.0001, loss=log_loss, max_iter=100000, penalty=l2, tol=0.001\n",
      "[CV 1/5; 58/1152] END alpha=0.0001, loss=log_loss, max_iter=100000, penalty=l2, tol=0.001;, score=0.605 total time=   5.9s\n",
      "[CV 2/5; 58/1152] START alpha=0.0001, loss=log_loss, max_iter=100000, penalty=l2, tol=0.001\n",
      "[CV 5/5; 57/1152] END alpha=0.0001, loss=log_loss, max_iter=100000, penalty=l2, tol=0.0001;, score=0.613 total time=  12.9s\n",
      "[CV 3/5; 58/1152] START alpha=0.0001, loss=log_loss, max_iter=100000, penalty=l2, tol=0.001\n",
      "[CV 2/5; 58/1152] END alpha=0.0001, loss=log_loss, max_iter=100000, penalty=l2, tol=0.001;, score=0.609 total time=   6.2s\n",
      "[CV 4/5; 58/1152] START alpha=0.0001, loss=log_loss, max_iter=100000, penalty=l2, tol=0.001\n",
      "[CV 3/5; 58/1152] END alpha=0.0001, loss=log_loss, max_iter=100000, penalty=l2, tol=0.001;, score=0.608 total time=   6.3s\n",
      "[CV 4/5; 58/1152] END alpha=0.0001, loss=log_loss, max_iter=100000, penalty=l2, tol=0.001;, score=0.611 total time=   5.4s\n",
      "[CV 5/5; 58/1152] START alpha=0.0001, loss=log_loss, max_iter=100000, penalty=l2, tol=0.001\n",
      "[CV 1/5; 59/1152] START alpha=0.0001, loss=log_loss, max_iter=100000, penalty=l2, tol=0.01\n",
      "[CV 1/5; 59/1152] END alpha=0.0001, loss=log_loss, max_iter=100000, penalty=l2, tol=0.01;, score=0.606 total time=   2.7s\n",
      "[CV 2/5; 59/1152] START alpha=0.0001, loss=log_loss, max_iter=100000, penalty=l2, tol=0.01\n",
      "[CV 2/5; 59/1152] END alpha=0.0001, loss=log_loss, max_iter=100000, penalty=l2, tol=0.01;, score=0.605 total time=   3.2s\n",
      "[CV 3/5; 59/1152] START alpha=0.0001, loss=log_loss, max_iter=100000, penalty=l2, tol=0.01\n",
      "[CV 5/5; 58/1152] END alpha=0.0001, loss=log_loss, max_iter=100000, penalty=l2, tol=0.001;, score=0.608 total time=   6.5s\n",
      "[CV 4/5; 59/1152] START alpha=0.0001, loss=log_loss, max_iter=100000, penalty=l2, tol=0.01\n",
      "[CV 3/5; 59/1152] END alpha=0.0001, loss=log_loss, max_iter=100000, penalty=l2, tol=0.01;, score=0.598 total time=   2.5s\n",
      "[CV 5/5; 59/1152] START alpha=0.0001, loss=log_loss, max_iter=100000, penalty=l2, tol=0.01\n",
      "[CV 4/5; 59/1152] END alpha=0.0001, loss=log_loss, max_iter=100000, penalty=l2, tol=0.01;, score=0.606 total time=   2.4s\n",
      "[CV 1/5; 60/1152] START alpha=0.0001, loss=log_loss, max_iter=100000, penalty=l2, tol=0.1\n",
      "[CV 1/5; 60/1152] END alpha=0.0001, loss=log_loss, max_iter=100000, penalty=l2, tol=0.1;, score=0.592 total time=   1.9s\n",
      "[CV 5/5; 59/1152] END alpha=0.0001, loss=log_loss, max_iter=100000, penalty=l2, tol=0.01;, score=0.607 total time=   2.5s\n",
      "[CV 2/5; 60/1152] START alpha=0.0001, loss=log_loss, max_iter=100000, penalty=l2, tol=0.1\n",
      "[CV 3/5; 60/1152] START alpha=0.0001, loss=log_loss, max_iter=100000, penalty=l2, tol=0.1\n",
      "[CV 3/5; 60/1152] END alpha=0.0001, loss=log_loss, max_iter=100000, penalty=l2, tol=0.1;, score=0.596 total time=   1.8s\n",
      "[CV 4/5; 60/1152] START alpha=0.0001, loss=log_loss, max_iter=100000, penalty=l2, tol=0.1\n",
      "[CV 2/5; 60/1152] END alpha=0.0001, loss=log_loss, max_iter=100000, penalty=l2, tol=0.1;, score=0.595 total time=   2.0s\n",
      "[CV 5/5; 60/1152] START alpha=0.0001, loss=log_loss, max_iter=100000, penalty=l2, tol=0.1\n",
      "[CV 4/5; 60/1152] END alpha=0.0001, loss=log_loss, max_iter=100000, penalty=l2, tol=0.1;, score=0.594 total time=   1.8s\n",
      "[CV 1/5; 61/1152] START alpha=0.0001, loss=log_loss, max_iter=100000, penalty=l2, tol=1\n",
      "[CV 5/5; 60/1152] END alpha=0.0001, loss=log_loss, max_iter=100000, penalty=l2, tol=0.1;, score=0.604 total time=   1.9s\n",
      "[CV 2/5; 61/1152] START alpha=0.0001, loss=log_loss, max_iter=100000, penalty=l2, tol=1\n",
      "[CV 1/5; 61/1152] END alpha=0.0001, loss=log_loss, max_iter=100000, penalty=l2, tol=1;, score=0.593 total time=   1.8s\n",
      "[CV 3/5; 61/1152] START alpha=0.0001, loss=log_loss, max_iter=100000, penalty=l2, tol=1\n",
      "[CV 2/5; 61/1152] END alpha=0.0001, loss=log_loss, max_iter=100000, penalty=l2, tol=1;, score=0.585 total time=   1.8s\n",
      "[CV 4/5; 61/1152] START alpha=0.0001, loss=log_loss, max_iter=100000, penalty=l2, tol=1\n",
      "[CV 3/5; 61/1152] END alpha=0.0001, loss=log_loss, max_iter=100000, penalty=l2, tol=1;, score=0.598 total time=   1.8s\n",
      "[CV 5/5; 61/1152] START alpha=0.0001, loss=log_loss, max_iter=100000, penalty=l2, tol=1\n",
      "[CV 4/5; 61/1152] END alpha=0.0001, loss=log_loss, max_iter=100000, penalty=l2, tol=1;, score=0.600 total time=   1.8s\n",
      "[CV 1/5; 62/1152] START alpha=0.0001, loss=log_loss, max_iter=100000, penalty=l2, tol=10\n",
      "[CV 5/5; 61/1152] END alpha=0.0001, loss=log_loss, max_iter=100000, penalty=l2, tol=1;, score=0.594 total time=   2.1s\n",
      "[CV 2/5; 62/1152] START alpha=0.0001, loss=log_loss, max_iter=100000, penalty=l2, tol=10\n",
      "[CV 1/5; 62/1152] END alpha=0.0001, loss=log_loss, max_iter=100000, penalty=l2, tol=10;, score=0.595 total time=   1.9s\n",
      "[CV 3/5; 62/1152] START alpha=0.0001, loss=log_loss, max_iter=100000, penalty=l2, tol=10\n",
      "[CV 2/5; 62/1152] END alpha=0.0001, loss=log_loss, max_iter=100000, penalty=l2, tol=10;, score=0.603 total time=   1.8s\n",
      "[CV 4/5; 62/1152] START alpha=0.0001, loss=log_loss, max_iter=100000, penalty=l2, tol=10\n",
      "[CV 3/5; 62/1152] END alpha=0.0001, loss=log_loss, max_iter=100000, penalty=l2, tol=10;, score=0.597 total time=   1.8s\n",
      "[CV 5/5; 62/1152] START alpha=0.0001, loss=log_loss, max_iter=100000, penalty=l2, tol=10\n",
      "[CV 4/5; 62/1152] END alpha=0.0001, loss=log_loss, max_iter=100000, penalty=l2, tol=10;, score=0.588 total time=   1.6s\n",
      "[CV 5/5; 62/1152] END alpha=0.0001, loss=log_loss, max_iter=100000, penalty=l2, tol=10;, score=0.596 total time=   1.6s\n",
      "[CV 1/5; 63/1152] START alpha=0.0001, loss=log_loss, max_iter=100000, penalty=l2, tol=100\n",
      "[CV 2/5; 63/1152] START alpha=0.0001, loss=log_loss, max_iter=100000, penalty=l2, tol=100\n",
      "[CV 1/5; 63/1152] END alpha=0.0001, loss=log_loss, max_iter=100000, penalty=l2, tol=100;, score=0.585 total time=   1.7s\n",
      "[CV 2/5; 63/1152] END alpha=0.0001, loss=log_loss, max_iter=100000, penalty=l2, tol=100;, score=0.601 total time=   1.7s\n",
      "[CV 3/5; 63/1152] START alpha=0.0001, loss=log_loss, max_iter=100000, penalty=l2, tol=100\n",
      "[CV 4/5; 63/1152] START alpha=0.0001, loss=log_loss, max_iter=100000, penalty=l2, tol=100\n",
      "[CV 3/5; 63/1152] END alpha=0.0001, loss=log_loss, max_iter=100000, penalty=l2, tol=100;, score=0.604 total time=   1.7s\n",
      "[CV 4/5; 63/1152] END alpha=0.0001, loss=log_loss, max_iter=100000, penalty=l2, tol=100;, score=0.595 total time=   1.7s\n",
      "[CV 5/5; 63/1152] START alpha=0.0001, loss=log_loss, max_iter=100000, penalty=l2, tol=100\n",
      "[CV 1/5; 64/1152] START alpha=0.0001, loss=log_loss, max_iter=100000, penalty=l2, tol=1000\n",
      "[CV 5/5; 63/1152] END alpha=0.0001, loss=log_loss, max_iter=100000, penalty=l2, tol=100;, score=0.596 total time=   1.6s\n",
      "[CV 1/5; 64/1152] END alpha=0.0001, loss=log_loss, max_iter=100000, penalty=l2, tol=1000;, score=0.582 total time=   1.6s\n",
      "[CV 2/5; 64/1152] START alpha=0.0001, loss=log_loss, max_iter=100000, penalty=l2, tol=1000\n",
      "[CV 3/5; 64/1152] START alpha=0.0001, loss=log_loss, max_iter=100000, penalty=l2, tol=1000\n",
      "[CV 2/5; 64/1152] END alpha=0.0001, loss=log_loss, max_iter=100000, penalty=l2, tol=1000;, score=0.595 total time=   1.6s\n",
      "[CV 3/5; 64/1152] END alpha=0.0001, loss=log_loss, max_iter=100000, penalty=l2, tol=1000;, score=0.591 total time=   1.7s\n",
      "[CV 4/5; 64/1152] START alpha=0.0001, loss=log_loss, max_iter=100000, penalty=l2, tol=1000\n",
      "[CV 5/5; 64/1152] START alpha=0.0001, loss=log_loss, max_iter=100000, penalty=l2, tol=1000\n",
      "[CV 4/5; 64/1152] END alpha=0.0001, loss=log_loss, max_iter=100000, penalty=l2, tol=1000;, score=0.600 total time=   1.6s\n",
      "[CV 5/5; 64/1152] END alpha=0.0001, loss=log_loss, max_iter=100000, penalty=l2, tol=1000;, score=0.580 total time=   1.6s\n",
      "[CV 1/5; 65/1152] START alpha=0.0001, loss=log_loss, max_iter=100000, penalty=elasticnet, tol=0.0001\n",
      "[CV 2/5; 65/1152] START alpha=0.0001, loss=log_loss, max_iter=100000, penalty=elasticnet, tol=0.0001\n",
      "[CV 1/5; 65/1152] END alpha=0.0001, loss=log_loss, max_iter=100000, penalty=elasticnet, tol=0.0001;, score=0.613 total time=  13.7s\n",
      "[CV 3/5; 65/1152] START alpha=0.0001, loss=log_loss, max_iter=100000, penalty=elasticnet, tol=0.0001\n",
      "[CV 2/5; 65/1152] END alpha=0.0001, loss=log_loss, max_iter=100000, penalty=elasticnet, tol=0.0001;, score=0.614 total time=  21.6s\n",
      "[CV 4/5; 65/1152] START alpha=0.0001, loss=log_loss, max_iter=100000, penalty=elasticnet, tol=0.0001\n",
      "[CV 3/5; 65/1152] END alpha=0.0001, loss=log_loss, max_iter=100000, penalty=elasticnet, tol=0.0001;, score=0.612 total time=  15.3s\n",
      "[CV 5/5; 65/1152] START alpha=0.0001, loss=log_loss, max_iter=100000, penalty=elasticnet, tol=0.0001\n",
      "[CV 4/5; 65/1152] END alpha=0.0001, loss=log_loss, max_iter=100000, penalty=elasticnet, tol=0.0001;, score=0.617 total time=  17.3s\n",
      "[CV 1/5; 66/1152] START alpha=0.0001, loss=log_loss, max_iter=100000, penalty=elasticnet, tol=0.001\n",
      "[CV 1/5; 66/1152] END alpha=0.0001, loss=log_loss, max_iter=100000, penalty=elasticnet, tol=0.001;, score=0.607 total time=   5.1s\n",
      "[CV 2/5; 66/1152] START alpha=0.0001, loss=log_loss, max_iter=100000, penalty=elasticnet, tol=0.001\n",
      "[CV 5/5; 65/1152] END alpha=0.0001, loss=log_loss, max_iter=100000, penalty=elasticnet, tol=0.0001;, score=0.614 total time=  19.3s\n",
      "[CV 3/5; 66/1152] START alpha=0.0001, loss=log_loss, max_iter=100000, penalty=elasticnet, tol=0.001\n",
      "[CV 2/5; 66/1152] END alpha=0.0001, loss=log_loss, max_iter=100000, penalty=elasticnet, tol=0.001;, score=0.612 total time=   5.7s\n",
      "[CV 4/5; 66/1152] START alpha=0.0001, loss=log_loss, max_iter=100000, penalty=elasticnet, tol=0.001\n",
      "[CV 3/5; 25/1152] END alpha=0.0001, loss=log_loss, max_iter=10000, penalty=l1, tol=0.0001;, score=0.616 total time= 9.8min\n",
      "[CV 5/5; 66/1152] START alpha=0.0001, loss=log_loss, max_iter=100000, penalty=elasticnet, tol=0.001\n",
      "[CV 3/5; 66/1152] END alpha=0.0001, loss=log_loss, max_iter=100000, penalty=elasticnet, tol=0.001;, score=0.612 total time=   7.7s\n",
      "[CV 1/5; 67/1152] START alpha=0.0001, loss=log_loss, max_iter=100000, penalty=elasticnet, tol=0.01\n",
      "[CV 4/5; 66/1152] END alpha=0.0001, loss=log_loss, max_iter=100000, penalty=elasticnet, tol=0.001;, score=0.617 total time=   7.0s\n",
      "[CV 2/5; 67/1152] START alpha=0.0001, loss=log_loss, max_iter=100000, penalty=elasticnet, tol=0.01\n",
      "[CV 1/5; 67/1152] END alpha=0.0001, loss=log_loss, max_iter=100000, penalty=elasticnet, tol=0.01;, score=0.608 total time=   3.4s\n",
      "[CV 3/5; 67/1152] START alpha=0.0001, loss=log_loss, max_iter=100000, penalty=elasticnet, tol=0.01\n",
      "[CV 5/5; 66/1152] END alpha=0.0001, loss=log_loss, max_iter=100000, penalty=elasticnet, tol=0.001;, score=0.606 total time=   6.8s\n",
      "[CV 4/5; 67/1152] START alpha=0.0001, loss=log_loss, max_iter=100000, penalty=elasticnet, tol=0.01\n",
      "[CV 2/5; 67/1152] END alpha=0.0001, loss=log_loss, max_iter=100000, penalty=elasticnet, tol=0.01;, score=0.606 total time=   3.1s\n",
      "[CV 5/5; 67/1152] START alpha=0.0001, loss=log_loss, max_iter=100000, penalty=elasticnet, tol=0.01\n",
      "[CV 3/5; 67/1152] END alpha=0.0001, loss=log_loss, max_iter=100000, penalty=elasticnet, tol=0.01;, score=0.606 total time=   3.2s\n",
      "[CV 1/5; 68/1152] START alpha=0.0001, loss=log_loss, max_iter=100000, penalty=elasticnet, tol=0.1\n",
      "[CV 5/5; 67/1152] END alpha=0.0001, loss=log_loss, max_iter=100000, penalty=elasticnet, tol=0.01;, score=0.609 total time=   3.1s\n",
      "[CV 2/5; 68/1152] START alpha=0.0001, loss=log_loss, max_iter=100000, penalty=elasticnet, tol=0.1\n",
      "[CV 4/5; 67/1152] END alpha=0.0001, loss=log_loss, max_iter=100000, penalty=elasticnet, tol=0.01;, score=0.614 total time=   3.5s\n",
      "[CV 3/5; 68/1152] START alpha=0.0001, loss=log_loss, max_iter=100000, penalty=elasticnet, tol=0.1\n",
      "[CV 1/5; 68/1152] END alpha=0.0001, loss=log_loss, max_iter=100000, penalty=elasticnet, tol=0.1;, score=0.597 total time=   3.0s\n",
      "[CV 4/5; 68/1152] START alpha=0.0001, loss=log_loss, max_iter=100000, penalty=elasticnet, tol=0.1\n",
      "[CV 2/5; 68/1152] END alpha=0.0001, loss=log_loss, max_iter=100000, penalty=elasticnet, tol=0.1;, score=0.608 total time=   3.0s\n",
      "[CV 5/5; 68/1152] START alpha=0.0001, loss=log_loss, max_iter=100000, penalty=elasticnet, tol=0.1\n",
      "[CV 3/5; 68/1152] END alpha=0.0001, loss=log_loss, max_iter=100000, penalty=elasticnet, tol=0.1;, score=0.605 total time=   3.0s\n",
      "[CV 1/5; 69/1152] START alpha=0.0001, loss=log_loss, max_iter=100000, penalty=elasticnet, tol=1\n",
      "[CV 4/5; 68/1152] END alpha=0.0001, loss=log_loss, max_iter=100000, penalty=elasticnet, tol=0.1;, score=0.608 total time=   2.7s\n",
      "[CV 2/5; 69/1152] START alpha=0.0001, loss=log_loss, max_iter=100000, penalty=elasticnet, tol=1\n",
      "[CV 5/5; 68/1152] END alpha=0.0001, loss=log_loss, max_iter=100000, penalty=elasticnet, tol=0.1;, score=0.606 total time=   2.8s\n",
      "[CV 3/5; 69/1152] START alpha=0.0001, loss=log_loss, max_iter=100000, penalty=elasticnet, tol=1\n",
      "[CV 1/5; 69/1152] END alpha=0.0001, loss=log_loss, max_iter=100000, penalty=elasticnet, tol=1;, score=0.605 total time=   2.8s\n",
      "[CV 4/5; 69/1152] START alpha=0.0001, loss=log_loss, max_iter=100000, penalty=elasticnet, tol=1\n",
      "[CV 2/5; 69/1152] END alpha=0.0001, loss=log_loss, max_iter=100000, penalty=elasticnet, tol=1;, score=0.600 total time=   2.8s\n",
      "[CV 5/5; 69/1152] START alpha=0.0001, loss=log_loss, max_iter=100000, penalty=elasticnet, tol=1\n",
      "[CV 3/5; 69/1152] END alpha=0.0001, loss=log_loss, max_iter=100000, penalty=elasticnet, tol=1;, score=0.602 total time=   2.8s\n",
      "[CV 1/5; 70/1152] START alpha=0.0001, loss=log_loss, max_iter=100000, penalty=elasticnet, tol=10\n",
      "[CV 4/5; 69/1152] END alpha=0.0001, loss=log_loss, max_iter=100000, penalty=elasticnet, tol=1;, score=0.614 total time=   2.9s\n",
      "[CV 2/5; 70/1152] START alpha=0.0001, loss=log_loss, max_iter=100000, penalty=elasticnet, tol=10\n",
      "[CV 5/5; 69/1152] END alpha=0.0001, loss=log_loss, max_iter=100000, penalty=elasticnet, tol=1;, score=0.603 total time=   2.9s\n",
      "[CV 3/5; 70/1152] START alpha=0.0001, loss=log_loss, max_iter=100000, penalty=elasticnet, tol=10\n",
      "[CV 1/5; 70/1152] END alpha=0.0001, loss=log_loss, max_iter=100000, penalty=elasticnet, tol=10;, score=0.607 total time=   2.5s\n",
      "[CV 4/5; 70/1152] START alpha=0.0001, loss=log_loss, max_iter=100000, penalty=elasticnet, tol=10\n",
      "[CV 2/5; 70/1152] END alpha=0.0001, loss=log_loss, max_iter=100000, penalty=elasticnet, tol=10;, score=0.607 total time=   2.5s\n",
      "[CV 5/5; 70/1152] START alpha=0.0001, loss=log_loss, max_iter=100000, penalty=elasticnet, tol=10\n",
      "[CV 3/5; 70/1152] END alpha=0.0001, loss=log_loss, max_iter=100000, penalty=elasticnet, tol=10;, score=0.604 total time=   2.9s\n",
      "[CV 1/5; 71/1152] START alpha=0.0001, loss=log_loss, max_iter=100000, penalty=elasticnet, tol=100\n",
      "[CV 4/5; 70/1152] END alpha=0.0001, loss=log_loss, max_iter=100000, penalty=elasticnet, tol=10;, score=0.594 total time=   3.0s\n",
      "[CV 2/5; 71/1152] START alpha=0.0001, loss=log_loss, max_iter=100000, penalty=elasticnet, tol=100\n",
      "[CV 5/5; 70/1152] END alpha=0.0001, loss=log_loss, max_iter=100000, penalty=elasticnet, tol=10;, score=0.597 total time=   3.0s\n",
      "[CV 3/5; 71/1152] START alpha=0.0001, loss=log_loss, max_iter=100000, penalty=elasticnet, tol=100\n",
      "[CV 1/5; 71/1152] END alpha=0.0001, loss=log_loss, max_iter=100000, penalty=elasticnet, tol=100;, score=0.604 total time=   2.8s\n",
      "[CV 4/5; 71/1152] START alpha=0.0001, loss=log_loss, max_iter=100000, penalty=elasticnet, tol=100\n",
      "[CV 2/5; 71/1152] END alpha=0.0001, loss=log_loss, max_iter=100000, penalty=elasticnet, tol=100;, score=0.603 total time=   2.7s\n",
      "[CV 5/5; 71/1152] START alpha=0.0001, loss=log_loss, max_iter=100000, penalty=elasticnet, tol=100\n",
      "[CV 3/5; 71/1152] END alpha=0.0001, loss=log_loss, max_iter=100000, penalty=elasticnet, tol=100;, score=0.602 total time=   2.7s\n",
      "[CV 1/5; 72/1152] START alpha=0.0001, loss=log_loss, max_iter=100000, penalty=elasticnet, tol=1000\n",
      "[CV 4/5; 71/1152] END alpha=0.0001, loss=log_loss, max_iter=100000, penalty=elasticnet, tol=100;, score=0.605 total time=   2.5s\n",
      "[CV 2/5; 72/1152] START alpha=0.0001, loss=log_loss, max_iter=100000, penalty=elasticnet, tol=1000\n",
      "[CV 5/5; 71/1152] END alpha=0.0001, loss=log_loss, max_iter=100000, penalty=elasticnet, tol=100;, score=0.587 total time=   2.5s\n",
      "[CV 3/5; 72/1152] START alpha=0.0001, loss=log_loss, max_iter=100000, penalty=elasticnet, tol=1000\n",
      "[CV 1/5; 72/1152] END alpha=0.0001, loss=log_loss, max_iter=100000, penalty=elasticnet, tol=1000;, score=0.608 total time=   2.5s\n",
      "[CV 4/5; 72/1152] START alpha=0.0001, loss=log_loss, max_iter=100000, penalty=elasticnet, tol=1000\n",
      "[CV 2/5; 72/1152] END alpha=0.0001, loss=log_loss, max_iter=100000, penalty=elasticnet, tol=1000;, score=0.608 total time=   2.7s\n",
      "[CV 5/5; 72/1152] START alpha=0.0001, loss=log_loss, max_iter=100000, penalty=elasticnet, tol=1000\n",
      "[CV 3/5; 72/1152] END alpha=0.0001, loss=log_loss, max_iter=100000, penalty=elasticnet, tol=1000;, score=0.600 total time=   2.9s\n",
      "[CV 1/5; 73/1152] START alpha=0.0001, loss=squared_error, max_iter=1000, penalty=l1, tol=0.0001\n",
      "[CV 4/5; 72/1152] END alpha=0.0001, loss=log_loss, max_iter=100000, penalty=elasticnet, tol=1000;, score=0.607 total time=   2.9s\n",
      "[CV 2/5; 73/1152] START alpha=0.0001, loss=squared_error, max_iter=1000, penalty=l1, tol=0.0001\n",
      "[CV 5/5; 72/1152] END alpha=0.0001, loss=log_loss, max_iter=100000, penalty=elasticnet, tol=1000;, score=0.599 total time=   2.8s\n",
      "[CV 3/5; 73/1152] START alpha=0.0001, loss=squared_error, max_iter=1000, penalty=l1, tol=0.0001\n",
      "[CV 1/5; 73/1152] END alpha=0.0001, loss=squared_error, max_iter=1000, penalty=l1, tol=0.0001;, score=0.509 total time=  15.7s\n",
      "[CV 4/5; 73/1152] START alpha=0.0001, loss=squared_error, max_iter=1000, penalty=l1, tol=0.0001\n",
      "[CV 3/5; 73/1152] END alpha=0.0001, loss=squared_error, max_iter=1000, penalty=l1, tol=0.0001;, score=0.525 total time=  58.4s\n",
      "[CV 5/5; 73/1152] START alpha=0.0001, loss=squared_error, max_iter=1000, penalty=l1, tol=0.0001\n",
      "[CV 5/5; 73/1152] END alpha=0.0001, loss=squared_error, max_iter=1000, penalty=l1, tol=0.0001;, score=0.456 total time=  14.1s\n",
      "[CV 1/5; 74/1152] START alpha=0.0001, loss=squared_error, max_iter=1000, penalty=l1, tol=0.001\n",
      "[CV 1/5; 49/1152] END alpha=0.0001, loss=log_loss, max_iter=100000, penalty=l1, tol=0.0001;, score=0.618 total time= 8.5min\n",
      "[CV 2/5; 74/1152] START alpha=0.0001, loss=squared_error, max_iter=1000, penalty=l1, tol=0.001\n"
     ]
    },
    {
     "name": "stderr",
     "output_type": "stream",
     "text": [
      "/Users/amarjotsinghlohia/.local/lib/python3.9/site-packages/sklearn/linear_model/_stochastic_gradient.py:705: ConvergenceWarning: Maximum number of iteration reached before convergence. Consider increasing max_iter to improve the fit.\n",
      "  warnings.warn(\n"
     ]
    },
    {
     "name": "stdout",
     "output_type": "stream",
     "text": [
      "[CV 2/5; 73/1152] END alpha=0.0001, loss=squared_error, max_iter=1000, penalty=l1, tol=0.0001;, score=0.489 total time= 5.2min\n",
      "[CV 3/5; 74/1152] START alpha=0.0001, loss=squared_error, max_iter=1000, penalty=l1, tol=0.001\n"
     ]
    },
    {
     "name": "stderr",
     "output_type": "stream",
     "text": [
      "/Users/amarjotsinghlohia/.local/lib/python3.9/site-packages/sklearn/linear_model/_stochastic_gradient.py:705: ConvergenceWarning: Maximum number of iteration reached before convergence. Consider increasing max_iter to improve the fit.\n",
      "  warnings.warn(\n"
     ]
    },
    {
     "name": "stdout",
     "output_type": "stream",
     "text": [
      "[CV 4/5; 73/1152] END alpha=0.0001, loss=squared_error, max_iter=1000, penalty=l1, tol=0.0001;, score=0.494 total time= 5.2min\n",
      "[CV 4/5; 74/1152] START alpha=0.0001, loss=squared_error, max_iter=1000, penalty=l1, tol=0.001\n"
     ]
    },
    {
     "name": "stderr",
     "output_type": "stream",
     "text": [
      "/Users/amarjotsinghlohia/.local/lib/python3.9/site-packages/sklearn/linear_model/_stochastic_gradient.py:705: ConvergenceWarning: Maximum number of iteration reached before convergence. Consider increasing max_iter to improve the fit.\n",
      "  warnings.warn(\n"
     ]
    },
    {
     "name": "stdout",
     "output_type": "stream",
     "text": [
      "[CV 1/5; 74/1152] END alpha=0.0001, loss=squared_error, max_iter=1000, penalty=l1, tol=0.001;, score=0.480 total time= 5.1min\n",
      "[CV 5/5; 74/1152] START alpha=0.0001, loss=squared_error, max_iter=1000, penalty=l1, tol=0.001\n",
      "[CV 3/5; 74/1152] END alpha=0.0001, loss=squared_error, max_iter=1000, penalty=l1, tol=0.001;, score=0.528 total time= 1.2min\n",
      "[CV 1/5; 75/1152] START alpha=0.0001, loss=squared_error, max_iter=1000, penalty=l1, tol=0.01\n",
      "[CV 1/5; 75/1152] END alpha=0.0001, loss=squared_error, max_iter=1000, penalty=l1, tol=0.01;, score=0.515 total time=  18.1s\n",
      "[CV 2/5; 75/1152] START alpha=0.0001, loss=squared_error, max_iter=1000, penalty=l1, tol=0.01\n",
      "[CV 2/5; 74/1152] END alpha=0.0001, loss=squared_error, max_iter=1000, penalty=l1, tol=0.001;, score=0.475 total time= 3.7min\n",
      "[CV 3/5; 75/1152] START alpha=0.0001, loss=squared_error, max_iter=1000, penalty=l1, tol=0.01\n",
      "[CV 3/5; 75/1152] END alpha=0.0001, loss=squared_error, max_iter=1000, penalty=l1, tol=0.01;, score=0.500 total time=  19.2s\n",
      "[CV 4/5; 75/1152] START alpha=0.0001, loss=squared_error, max_iter=1000, penalty=l1, tol=0.01\n",
      "[CV 5/5; 74/1152] END alpha=0.0001, loss=squared_error, max_iter=1000, penalty=l1, tol=0.001;, score=0.496 total time= 3.2min\n",
      "[CV 5/5; 75/1152] START alpha=0.0001, loss=squared_error, max_iter=1000, penalty=l1, tol=0.01\n",
      "[CV 5/5; 75/1152] END alpha=0.0001, loss=squared_error, max_iter=1000, penalty=l1, tol=0.01;, score=0.485 total time=  22.0s\n",
      "[CV 1/5; 76/1152] START alpha=0.0001, loss=squared_error, max_iter=1000, penalty=l1, tol=0.1\n",
      "[CV 2/5; 75/1152] END alpha=0.0001, loss=squared_error, max_iter=1000, penalty=l1, tol=0.01;, score=0.490 total time= 4.4min\n",
      "[CV 2/5; 76/1152] START alpha=0.0001, loss=squared_error, max_iter=1000, penalty=l1, tol=0.1\n"
     ]
    },
    {
     "name": "stderr",
     "output_type": "stream",
     "text": [
      "/Users/amarjotsinghlohia/.local/lib/python3.9/site-packages/sklearn/linear_model/_stochastic_gradient.py:705: ConvergenceWarning: Maximum number of iteration reached before convergence. Consider increasing max_iter to improve the fit.\n",
      "  warnings.warn(\n"
     ]
    },
    {
     "name": "stdout",
     "output_type": "stream",
     "text": [
      "[CV 4/5; 74/1152] END alpha=0.0001, loss=squared_error, max_iter=1000, penalty=l1, tol=0.001;, score=0.494 total time= 5.7min\n",
      "[CV 3/5; 76/1152] START alpha=0.0001, loss=squared_error, max_iter=1000, penalty=l1, tol=0.1\n",
      "[CV 1/5; 76/1152] END alpha=0.0001, loss=squared_error, max_iter=1000, penalty=l1, tol=0.1;, score=0.486 total time= 2.6min\n",
      "[CV 4/5; 76/1152] START alpha=0.0001, loss=squared_error, max_iter=1000, penalty=l1, tol=0.1\n"
     ]
    },
    {
     "name": "stderr",
     "output_type": "stream",
     "text": [
      "/Users/amarjotsinghlohia/.local/lib/python3.9/site-packages/sklearn/linear_model/_stochastic_gradient.py:705: ConvergenceWarning: Maximum number of iteration reached before convergence. Consider increasing max_iter to improve the fit.\n",
      "  warnings.warn(\n"
     ]
    },
    {
     "name": "stdout",
     "output_type": "stream",
     "text": [
      "[CV 4/5; 75/1152] END alpha=0.0001, loss=squared_error, max_iter=1000, penalty=l1, tol=0.01;, score=0.498 total time= 6.9min\n",
      "[CV 5/5; 76/1152] START alpha=0.0001, loss=squared_error, max_iter=1000, penalty=l1, tol=0.1\n"
     ]
    },
    {
     "name": "stderr",
     "output_type": "stream",
     "text": [
      "/Users/amarjotsinghlohia/.local/lib/python3.9/site-packages/sklearn/linear_model/_stochastic_gradient.py:705: ConvergenceWarning: Maximum number of iteration reached before convergence. Consider increasing max_iter to improve the fit.\n",
      "  warnings.warn(\n"
     ]
    },
    {
     "name": "stdout",
     "output_type": "stream",
     "text": [
      "[CV 2/5; 76/1152] END alpha=0.0001, loss=squared_error, max_iter=1000, penalty=l1, tol=0.1;, score=0.509 total time= 7.8min\n",
      "[CV 1/5; 77/1152] START alpha=0.0001, loss=squared_error, max_iter=1000, penalty=l1, tol=1\n"
     ]
    },
    {
     "name": "stderr",
     "output_type": "stream",
     "text": [
      "/Users/amarjotsinghlohia/.local/lib/python3.9/site-packages/sklearn/linear_model/_stochastic_gradient.py:705: ConvergenceWarning: Maximum number of iteration reached before convergence. Consider increasing max_iter to improve the fit.\n",
      "  warnings.warn(\n"
     ]
    },
    {
     "name": "stdout",
     "output_type": "stream",
     "text": [
      "[CV 3/5; 76/1152] END alpha=0.0001, loss=squared_error, max_iter=1000, penalty=l1, tol=0.1;, score=0.543 total time= 7.8min\n",
      "[CV 2/5; 77/1152] START alpha=0.0001, loss=squared_error, max_iter=1000, penalty=l1, tol=1\n",
      "[CV 1/5; 77/1152] END alpha=0.0001, loss=squared_error, max_iter=1000, penalty=l1, tol=1;, score=0.511 total time=  48.2s\n",
      "[CV 3/5; 77/1152] START alpha=0.0001, loss=squared_error, max_iter=1000, penalty=l1, tol=1\n"
     ]
    },
    {
     "name": "stderr",
     "output_type": "stream",
     "text": [
      "/Users/amarjotsinghlohia/.local/lib/python3.9/site-packages/sklearn/linear_model/_stochastic_gradient.py:705: ConvergenceWarning: Maximum number of iteration reached before convergence. Consider increasing max_iter to improve the fit.\n",
      "  warnings.warn(\n"
     ]
    },
    {
     "name": "stdout",
     "output_type": "stream",
     "text": [
      "[CV 4/5; 76/1152] END alpha=0.0001, loss=squared_error, max_iter=1000, penalty=l1, tol=0.1;, score=0.482 total time= 7.9min\n",
      "[CV 4/5; 77/1152] START alpha=0.0001, loss=squared_error, max_iter=1000, penalty=l1, tol=1\n",
      "[CV 4/5; 77/1152] END alpha=0.0001, loss=squared_error, max_iter=1000, penalty=l1, tol=1;, score=0.485 total time=  29.6s\n",
      "[CV 5/5; 77/1152] START alpha=0.0001, loss=squared_error, max_iter=1000, penalty=l1, tol=1\n",
      "[CV 3/5; 77/1152] END alpha=0.0001, loss=squared_error, max_iter=1000, penalty=l1, tol=1;, score=0.556 total time= 1.5min\n",
      "[CV 1/5; 78/1152] START alpha=0.0001, loss=squared_error, max_iter=1000, penalty=l1, tol=10\n",
      "[CV 5/5; 77/1152] END alpha=0.0001, loss=squared_error, max_iter=1000, penalty=l1, tol=1;, score=0.492 total time=  25.1s\n",
      "[CV 2/5; 78/1152] START alpha=0.0001, loss=squared_error, max_iter=1000, penalty=l1, tol=10\n",
      "[CV 1/5; 78/1152] END alpha=0.0001, loss=squared_error, max_iter=1000, penalty=l1, tol=10;, score=0.471 total time=  47.9s\n",
      "[CV 3/5; 78/1152] START alpha=0.0001, loss=squared_error, max_iter=1000, penalty=l1, tol=10\n"
     ]
    },
    {
     "name": "stderr",
     "output_type": "stream",
     "text": [
      "/Users/amarjotsinghlohia/.local/lib/python3.9/site-packages/sklearn/linear_model/_stochastic_gradient.py:705: ConvergenceWarning: Maximum number of iteration reached before convergence. Consider increasing max_iter to improve the fit.\n",
      "  warnings.warn(\n"
     ]
    },
    {
     "name": "stdout",
     "output_type": "stream",
     "text": [
      "[CV 5/5; 76/1152] END alpha=0.0001, loss=squared_error, max_iter=1000, penalty=l1, tol=0.1;, score=0.499 total time= 7.6min\n",
      "[CV 4/5; 78/1152] START alpha=0.0001, loss=squared_error, max_iter=1000, penalty=l1, tol=10\n",
      "[CV 4/5; 78/1152] END alpha=0.0001, loss=squared_error, max_iter=1000, penalty=l1, tol=10;, score=0.466 total time=   2.7s\n",
      "[CV 5/5; 78/1152] START alpha=0.0001, loss=squared_error, max_iter=1000, penalty=l1, tol=10\n",
      "[CV 3/5; 78/1152] END alpha=0.0001, loss=squared_error, max_iter=1000, penalty=l1, tol=10;, score=0.485 total time=  33.1s\n",
      "[CV 1/5; 79/1152] START alpha=0.0001, loss=squared_error, max_iter=1000, penalty=l1, tol=100\n",
      "[CV 1/5; 79/1152] END alpha=0.0001, loss=squared_error, max_iter=1000, penalty=l1, tol=100;, score=0.506 total time=  26.2s\n",
      "[CV 2/5; 79/1152] START alpha=0.0001, loss=squared_error, max_iter=1000, penalty=l1, tol=100\n",
      "[CV 2/5; 77/1152] END alpha=0.0001, loss=squared_error, max_iter=1000, penalty=l1, tol=1;, score=0.475 total time= 4.8min\n",
      "[CV 3/5; 79/1152] START alpha=0.0001, loss=squared_error, max_iter=1000, penalty=l1, tol=100\n",
      "[CV 3/5; 79/1152] END alpha=0.0001, loss=squared_error, max_iter=1000, penalty=l1, tol=100;, score=0.505 total time=  19.0s\n",
      "[CV 4/5; 79/1152] START alpha=0.0001, loss=squared_error, max_iter=1000, penalty=l1, tol=100\n",
      "[CV 2/5; 78/1152] END alpha=0.0001, loss=squared_error, max_iter=1000, penalty=l1, tol=10;, score=0.520 total time= 4.0min\n",
      "[CV 5/5; 79/1152] START alpha=0.0001, loss=squared_error, max_iter=1000, penalty=l1, tol=100\n",
      "[CV 5/5; 79/1152] END alpha=0.0001, loss=squared_error, max_iter=1000, penalty=l1, tol=100;, score=0.503 total time=  22.2s\n",
      "[CV 1/5; 80/1152] START alpha=0.0001, loss=squared_error, max_iter=1000, penalty=l1, tol=1000\n",
      "[CV 1/5; 80/1152] END alpha=0.0001, loss=squared_error, max_iter=1000, penalty=l1, tol=1000;, score=0.556 total time=   3.7s\n",
      "[CV 2/5; 80/1152] START alpha=0.0001, loss=squared_error, max_iter=1000, penalty=l1, tol=1000\n",
      "[CV 2/5; 79/1152] END alpha=0.0001, loss=squared_error, max_iter=1000, penalty=l1, tol=100;, score=0.483 total time= 4.1min\n",
      "[CV 3/5; 80/1152] START alpha=0.0001, loss=squared_error, max_iter=1000, penalty=l1, tol=1000\n",
      "[CV 3/5; 80/1152] END alpha=0.0001, loss=squared_error, max_iter=1000, penalty=l1, tol=1000;, score=0.517 total time=  15.2s\n",
      "[CV 4/5; 80/1152] START alpha=0.0001, loss=squared_error, max_iter=1000, penalty=l1, tol=1000\n",
      "[CV 4/5; 80/1152] END alpha=0.0001, loss=squared_error, max_iter=1000, penalty=l1, tol=1000;, score=0.513 total time=  34.2s\n",
      "[CV 5/5; 80/1152] START alpha=0.0001, loss=squared_error, max_iter=1000, penalty=l1, tol=1000\n"
     ]
    },
    {
     "name": "stderr",
     "output_type": "stream",
     "text": [
      "/Users/amarjotsinghlohia/.local/lib/python3.9/site-packages/sklearn/linear_model/_stochastic_gradient.py:705: ConvergenceWarning: Maximum number of iteration reached before convergence. Consider increasing max_iter to improve the fit.\n",
      "  warnings.warn(\n"
     ]
    },
    {
     "name": "stdout",
     "output_type": "stream",
     "text": [
      "[CV 5/5; 78/1152] END alpha=0.0001, loss=squared_error, max_iter=1000, penalty=l1, tol=10;, score=0.510 total time= 5.6min\n",
      "[CV 1/5; 81/1152] START alpha=0.0001, loss=squared_error, max_iter=1000, penalty=l2, tol=0.0001\n"
     ]
    },
    {
     "name": "stderr",
     "output_type": "stream",
     "text": [
      "/Users/amarjotsinghlohia/.local/lib/python3.9/site-packages/sklearn/linear_model/_stochastic_gradient.py:705: ConvergenceWarning: Maximum number of iteration reached before convergence. Consider increasing max_iter to improve the fit.\n",
      "  warnings.warn(\n"
     ]
    },
    {
     "name": "stdout",
     "output_type": "stream",
     "text": [
      "[CV 4/5; 79/1152] END alpha=0.0001, loss=squared_error, max_iter=1000, penalty=l1, tol=100;, score=0.478 total time= 5.9min\n",
      "[CV 2/5; 81/1152] START alpha=0.0001, loss=squared_error, max_iter=1000, penalty=l2, tol=0.0001\n",
      "[CV 2/5; 80/1152] END alpha=0.0001, loss=squared_error, max_iter=1000, penalty=l1, tol=1000;, score=0.475 total time= 4.7min\n",
      "[CV 3/5; 81/1152] START alpha=0.0001, loss=squared_error, max_iter=1000, penalty=l2, tol=0.0001\n"
     ]
    },
    {
     "name": "stderr",
     "output_type": "stream",
     "text": [
      "/Users/amarjotsinghlohia/.local/lib/python3.9/site-packages/sklearn/linear_model/_stochastic_gradient.py:705: ConvergenceWarning: Maximum number of iteration reached before convergence. Consider increasing max_iter to improve the fit.\n",
      "  warnings.warn(\n"
     ]
    },
    {
     "name": "stdout",
     "output_type": "stream",
     "text": [
      "[CV 1/5; 81/1152] END alpha=0.0001, loss=squared_error, max_iter=1000, penalty=l2, tol=0.0001;, score=0.485 total time= 3.8min\n",
      "[CV 4/5; 81/1152] START alpha=0.0001, loss=squared_error, max_iter=1000, penalty=l2, tol=0.0001\n",
      "[CV 3/5; 81/1152] END alpha=0.0001, loss=squared_error, max_iter=1000, penalty=l2, tol=0.0001;, score=0.508 total time= 3.1min\n",
      "[CV 5/5; 81/1152] START alpha=0.0001, loss=squared_error, max_iter=1000, penalty=l2, tol=0.0001\n"
     ]
    },
    {
     "name": "stderr",
     "output_type": "stream",
     "text": [
      "/Users/amarjotsinghlohia/.local/lib/python3.9/site-packages/sklearn/linear_model/_stochastic_gradient.py:705: ConvergenceWarning: Maximum number of iteration reached before convergence. Consider increasing max_iter to improve the fit.\n",
      "  warnings.warn(\n"
     ]
    },
    {
     "name": "stdout",
     "output_type": "stream",
     "text": [
      "[CV 2/5; 81/1152] END alpha=0.0001, loss=squared_error, max_iter=1000, penalty=l2, tol=0.0001;, score=0.518 total time= 4.0min\n",
      "[CV 1/5; 82/1152] START alpha=0.0001, loss=squared_error, max_iter=1000, penalty=l2, tol=0.001\n"
     ]
    },
    {
     "name": "stderr",
     "output_type": "stream",
     "text": [
      "/Users/amarjotsinghlohia/.local/lib/python3.9/site-packages/sklearn/linear_model/_stochastic_gradient.py:705: ConvergenceWarning: Maximum number of iteration reached before convergence. Consider increasing max_iter to improve the fit.\n",
      "  warnings.warn(\n"
     ]
    },
    {
     "name": "stdout",
     "output_type": "stream",
     "text": [
      "[CV 5/5; 80/1152] END alpha=0.0001, loss=squared_error, max_iter=1000, penalty=l1, tol=1000;, score=0.495 total time= 6.1min\n",
      "[CV 2/5; 82/1152] START alpha=0.0001, loss=squared_error, max_iter=1000, penalty=l2, tol=0.001\n",
      "[CV 5/5; 81/1152] END alpha=0.0001, loss=squared_error, max_iter=1000, penalty=l2, tol=0.0001;, score=0.507 total time= 2.2min\n",
      "[CV 3/5; 82/1152] START alpha=0.0001, loss=squared_error, max_iter=1000, penalty=l2, tol=0.001\n"
     ]
    },
    {
     "name": "stderr",
     "output_type": "stream",
     "text": [
      "/Users/amarjotsinghlohia/.local/lib/python3.9/site-packages/sklearn/linear_model/_stochastic_gradient.py:705: ConvergenceWarning: Maximum number of iteration reached before convergence. Consider increasing max_iter to improve the fit.\n",
      "  warnings.warn(\n"
     ]
    },
    {
     "name": "stdout",
     "output_type": "stream",
     "text": [
      "[CV 4/5; 81/1152] END alpha=0.0001, loss=squared_error, max_iter=1000, penalty=l2, tol=0.0001;, score=0.518 total time= 4.0min\n",
      "[CV 4/5; 82/1152] START alpha=0.0001, loss=squared_error, max_iter=1000, penalty=l2, tol=0.001\n",
      "[CV 1/5; 82/1152] END alpha=0.0001, loss=squared_error, max_iter=1000, penalty=l2, tol=0.001;, score=0.500 total time= 3.0min\n",
      "[CV 5/5; 82/1152] START alpha=0.0001, loss=squared_error, max_iter=1000, penalty=l2, tol=0.001\n"
     ]
    },
    {
     "name": "stderr",
     "output_type": "stream",
     "text": [
      "/Users/amarjotsinghlohia/.local/lib/python3.9/site-packages/sklearn/linear_model/_stochastic_gradient.py:705: ConvergenceWarning: Maximum number of iteration reached before convergence. Consider increasing max_iter to improve the fit.\n",
      "  warnings.warn(\n"
     ]
    },
    {
     "name": "stdout",
     "output_type": "stream",
     "text": [
      "[CV 2/5; 82/1152] END alpha=0.0001, loss=squared_error, max_iter=1000, penalty=l2, tol=0.001;, score=0.479 total time= 3.9min\n",
      "[CV 1/5; 83/1152] START alpha=0.0001, loss=squared_error, max_iter=1000, penalty=l2, tol=0.01\n"
     ]
    },
    {
     "name": "stderr",
     "output_type": "stream",
     "text": [
      "/Users/amarjotsinghlohia/.local/lib/python3.9/site-packages/sklearn/linear_model/_stochastic_gradient.py:705: ConvergenceWarning: Maximum number of iteration reached before convergence. Consider increasing max_iter to improve the fit.\n",
      "  warnings.warn(\n"
     ]
    },
    {
     "name": "stdout",
     "output_type": "stream",
     "text": [
      "[CV 3/5; 82/1152] END alpha=0.0001, loss=squared_error, max_iter=1000, penalty=l2, tol=0.001;, score=0.508 total time= 4.3min\n",
      "[CV 2/5; 83/1152] START alpha=0.0001, loss=squared_error, max_iter=1000, penalty=l2, tol=0.01\n"
     ]
    },
    {
     "name": "stderr",
     "output_type": "stream",
     "text": [
      "/Users/amarjotsinghlohia/.local/lib/python3.9/site-packages/sklearn/linear_model/_stochastic_gradient.py:705: ConvergenceWarning: Maximum number of iteration reached before convergence. Consider increasing max_iter to improve the fit.\n",
      "  warnings.warn(\n"
     ]
    },
    {
     "name": "stdout",
     "output_type": "stream",
     "text": [
      "[CV 4/5; 82/1152] END alpha=0.0001, loss=squared_error, max_iter=1000, penalty=l2, tol=0.001;, score=0.494 total time= 4.3min\n",
      "[CV 3/5; 83/1152] START alpha=0.0001, loss=squared_error, max_iter=1000, penalty=l2, tol=0.01\n"
     ]
    },
    {
     "name": "stderr",
     "output_type": "stream",
     "text": [
      "/Users/amarjotsinghlohia/.local/lib/python3.9/site-packages/sklearn/linear_model/_stochastic_gradient.py:705: ConvergenceWarning: Maximum number of iteration reached before convergence. Consider increasing max_iter to improve the fit.\n",
      "  warnings.warn(\n"
     ]
    },
    {
     "name": "stdout",
     "output_type": "stream",
     "text": [
      "[CV 5/5; 82/1152] END alpha=0.0001, loss=squared_error, max_iter=1000, penalty=l2, tol=0.001;, score=0.523 total time= 4.6min\n",
      "[CV 4/5; 83/1152] START alpha=0.0001, loss=squared_error, max_iter=1000, penalty=l2, tol=0.01\n"
     ]
    },
    {
     "name": "stderr",
     "output_type": "stream",
     "text": [
      "/Users/amarjotsinghlohia/.local/lib/python3.9/site-packages/sklearn/linear_model/_stochastic_gradient.py:705: ConvergenceWarning: Maximum number of iteration reached before convergence. Consider increasing max_iter to improve the fit.\n",
      "  warnings.warn(\n"
     ]
    },
    {
     "name": "stdout",
     "output_type": "stream",
     "text": [
      "[CV 1/5; 83/1152] END alpha=0.0001, loss=squared_error, max_iter=1000, penalty=l2, tol=0.01;, score=0.509 total time= 4.4min\n",
      "[CV 5/5; 83/1152] START alpha=0.0001, loss=squared_error, max_iter=1000, penalty=l2, tol=0.01\n"
     ]
    },
    {
     "name": "stderr",
     "output_type": "stream",
     "text": [
      "/Users/amarjotsinghlohia/.local/lib/python3.9/site-packages/sklearn/linear_model/_stochastic_gradient.py:705: ConvergenceWarning: Maximum number of iteration reached before convergence. Consider increasing max_iter to improve the fit.\n",
      "  warnings.warn(\n"
     ]
    },
    {
     "name": "stdout",
     "output_type": "stream",
     "text": [
      "[CV 2/5; 83/1152] END alpha=0.0001, loss=squared_error, max_iter=1000, penalty=l2, tol=0.01;, score=0.522 total time= 4.8min\n",
      "[CV 1/5; 84/1152] START alpha=0.0001, loss=squared_error, max_iter=1000, penalty=l2, tol=0.1\n"
     ]
    },
    {
     "name": "stderr",
     "output_type": "stream",
     "text": [
      "/Users/amarjotsinghlohia/.local/lib/python3.9/site-packages/sklearn/linear_model/_stochastic_gradient.py:705: ConvergenceWarning: Maximum number of iteration reached before convergence. Consider increasing max_iter to improve the fit.\n",
      "  warnings.warn(\n"
     ]
    },
    {
     "name": "stdout",
     "output_type": "stream",
     "text": [
      "[CV 3/5; 83/1152] END alpha=0.0001, loss=squared_error, max_iter=1000, penalty=l2, tol=0.01;, score=0.493 total time= 4.9min\n",
      "[CV 2/5; 84/1152] START alpha=0.0001, loss=squared_error, max_iter=1000, penalty=l2, tol=0.1\n"
     ]
    },
    {
     "name": "stderr",
     "output_type": "stream",
     "text": [
      "/Users/amarjotsinghlohia/.local/lib/python3.9/site-packages/sklearn/linear_model/_stochastic_gradient.py:705: ConvergenceWarning: Maximum number of iteration reached before convergence. Consider increasing max_iter to improve the fit.\n",
      "  warnings.warn(\n"
     ]
    },
    {
     "name": "stdout",
     "output_type": "stream",
     "text": [
      "[CV 4/5; 83/1152] END alpha=0.0001, loss=squared_error, max_iter=1000, penalty=l2, tol=0.01;, score=0.500 total time= 5.3min\n",
      "[CV 3/5; 84/1152] START alpha=0.0001, loss=squared_error, max_iter=1000, penalty=l2, tol=0.1\n"
     ]
    },
    {
     "name": "stderr",
     "output_type": "stream",
     "text": [
      "/Users/amarjotsinghlohia/.local/lib/python3.9/site-packages/sklearn/linear_model/_stochastic_gradient.py:705: ConvergenceWarning: Maximum number of iteration reached before convergence. Consider increasing max_iter to improve the fit.\n",
      "  warnings.warn(\n"
     ]
    },
    {
     "name": "stdout",
     "output_type": "stream",
     "text": [
      "[CV 5/5; 83/1152] END alpha=0.0001, loss=squared_error, max_iter=1000, penalty=l2, tol=0.01;, score=0.486 total time= 5.4min\n",
      "[CV 4/5; 84/1152] START alpha=0.0001, loss=squared_error, max_iter=1000, penalty=l2, tol=0.1\n",
      "[CV 1/5; 84/1152] END alpha=0.0001, loss=squared_error, max_iter=1000, penalty=l2, tol=0.1;, score=0.505 total time= 3.5min\n",
      "[CV 5/5; 84/1152] START alpha=0.0001, loss=squared_error, max_iter=1000, penalty=l2, tol=0.1\n"
     ]
    },
    {
     "name": "stderr",
     "output_type": "stream",
     "text": [
      "/Users/amarjotsinghlohia/.local/lib/python3.9/site-packages/sklearn/linear_model/_stochastic_gradient.py:705: ConvergenceWarning: Maximum number of iteration reached before convergence. Consider increasing max_iter to improve the fit.\n",
      "  warnings.warn(\n"
     ]
    },
    {
     "name": "stdout",
     "output_type": "stream",
     "text": [
      "[CV 2/5; 84/1152] END alpha=0.0001, loss=squared_error, max_iter=1000, penalty=l2, tol=0.1;, score=0.485 total time= 4.5min\n",
      "[CV 1/5; 85/1152] START alpha=0.0001, loss=squared_error, max_iter=1000, penalty=l2, tol=1\n"
     ]
    },
    {
     "name": "stderr",
     "output_type": "stream",
     "text": [
      "/Users/amarjotsinghlohia/.local/lib/python3.9/site-packages/sklearn/linear_model/_stochastic_gradient.py:705: ConvergenceWarning: Maximum number of iteration reached before convergence. Consider increasing max_iter to improve the fit.\n",
      "  warnings.warn(\n"
     ]
    },
    {
     "name": "stdout",
     "output_type": "stream",
     "text": [
      "[CV 3/5; 84/1152] END alpha=0.0001, loss=squared_error, max_iter=1000, penalty=l2, tol=0.1;, score=0.485 total time= 3.6min\n",
      "[CV 2/5; 85/1152] START alpha=0.0001, loss=squared_error, max_iter=1000, penalty=l2, tol=1\n"
     ]
    },
    {
     "name": "stderr",
     "output_type": "stream",
     "text": [
      "/Users/amarjotsinghlohia/.local/lib/python3.9/site-packages/sklearn/linear_model/_stochastic_gradient.py:705: ConvergenceWarning: Maximum number of iteration reached before convergence. Consider increasing max_iter to improve the fit.\n",
      "  warnings.warn(\n"
     ]
    },
    {
     "name": "stdout",
     "output_type": "stream",
     "text": [
      "[CV 4/5; 84/1152] END alpha=0.0001, loss=squared_error, max_iter=1000, penalty=l2, tol=0.1;, score=0.483 total time= 3.4min\n",
      "[CV 3/5; 85/1152] START alpha=0.0001, loss=squared_error, max_iter=1000, penalty=l2, tol=1\n"
     ]
    },
    {
     "name": "stderr",
     "output_type": "stream",
     "text": [
      "/Users/amarjotsinghlohia/.local/lib/python3.9/site-packages/sklearn/linear_model/_stochastic_gradient.py:705: ConvergenceWarning: Maximum number of iteration reached before convergence. Consider increasing max_iter to improve the fit.\n",
      "  warnings.warn(\n"
     ]
    },
    {
     "name": "stdout",
     "output_type": "stream",
     "text": [
      "[CV 5/5; 84/1152] END alpha=0.0001, loss=squared_error, max_iter=1000, penalty=l2, tol=0.1;, score=0.488 total time= 3.3min\n",
      "[CV 4/5; 85/1152] START alpha=0.0001, loss=squared_error, max_iter=1000, penalty=l2, tol=1\n"
     ]
    },
    {
     "name": "stderr",
     "output_type": "stream",
     "text": [
      "/Users/amarjotsinghlohia/.local/lib/python3.9/site-packages/sklearn/linear_model/_stochastic_gradient.py:705: ConvergenceWarning: Maximum number of iteration reached before convergence. Consider increasing max_iter to improve the fit.\n",
      "  warnings.warn(\n"
     ]
    },
    {
     "name": "stdout",
     "output_type": "stream",
     "text": [
      "[CV 1/5; 85/1152] END alpha=0.0001, loss=squared_error, max_iter=1000, penalty=l2, tol=1;, score=0.521 total time= 3.4min\n",
      "[CV 5/5; 85/1152] START alpha=0.0001, loss=squared_error, max_iter=1000, penalty=l2, tol=1\n"
     ]
    },
    {
     "name": "stderr",
     "output_type": "stream",
     "text": [
      "/Users/amarjotsinghlohia/.local/lib/python3.9/site-packages/sklearn/linear_model/_stochastic_gradient.py:705: ConvergenceWarning: Maximum number of iteration reached before convergence. Consider increasing max_iter to improve the fit.\n",
      "  warnings.warn(\n"
     ]
    },
    {
     "name": "stdout",
     "output_type": "stream",
     "text": [
      "[CV 2/5; 85/1152] END alpha=0.0001, loss=squared_error, max_iter=1000, penalty=l2, tol=1;, score=0.479 total time= 3.5min\n",
      "[CV 1/5; 86/1152] START alpha=0.0001, loss=squared_error, max_iter=1000, penalty=l2, tol=10\n"
     ]
    },
    {
     "name": "stderr",
     "output_type": "stream",
     "text": [
      "/Users/amarjotsinghlohia/.local/lib/python3.9/site-packages/sklearn/linear_model/_stochastic_gradient.py:705: ConvergenceWarning: Maximum number of iteration reached before convergence. Consider increasing max_iter to improve the fit.\n",
      "  warnings.warn(\n"
     ]
    },
    {
     "name": "stdout",
     "output_type": "stream",
     "text": [
      "[CV 3/5; 85/1152] END alpha=0.0001, loss=squared_error, max_iter=1000, penalty=l2, tol=1;, score=0.508 total time= 3.6min\n",
      "[CV 2/5; 86/1152] START alpha=0.0001, loss=squared_error, max_iter=1000, penalty=l2, tol=10\n"
     ]
    },
    {
     "name": "stderr",
     "output_type": "stream",
     "text": [
      "/Users/amarjotsinghlohia/.local/lib/python3.9/site-packages/sklearn/linear_model/_stochastic_gradient.py:705: ConvergenceWarning: Maximum number of iteration reached before convergence. Consider increasing max_iter to improve the fit.\n",
      "  warnings.warn(\n"
     ]
    },
    {
     "name": "stdout",
     "output_type": "stream",
     "text": [
      "[CV 4/5; 85/1152] END alpha=0.0001, loss=squared_error, max_iter=1000, penalty=l2, tol=1;, score=0.487 total time= 3.6min\n",
      "[CV 3/5; 86/1152] START alpha=0.0001, loss=squared_error, max_iter=1000, penalty=l2, tol=10\n"
     ]
    },
    {
     "name": "stderr",
     "output_type": "stream",
     "text": [
      "/Users/amarjotsinghlohia/.local/lib/python3.9/site-packages/sklearn/linear_model/_stochastic_gradient.py:705: ConvergenceWarning: Maximum number of iteration reached before convergence. Consider increasing max_iter to improve the fit.\n",
      "  warnings.warn(\n"
     ]
    },
    {
     "name": "stdout",
     "output_type": "stream",
     "text": [
      "[CV 5/5; 85/1152] END alpha=0.0001, loss=squared_error, max_iter=1000, penalty=l2, tol=1;, score=0.520 total time= 3.5min\n",
      "[CV 4/5; 86/1152] START alpha=0.0001, loss=squared_error, max_iter=1000, penalty=l2, tol=10\n",
      "[CV 1/5; 86/1152] END alpha=0.0001, loss=squared_error, max_iter=1000, penalty=l2, tol=10;, score=0.475 total time= 2.5min\n",
      "[CV 5/5; 86/1152] START alpha=0.0001, loss=squared_error, max_iter=1000, penalty=l2, tol=10\n"
     ]
    },
    {
     "name": "stderr",
     "output_type": "stream",
     "text": [
      "/Users/amarjotsinghlohia/.local/lib/python3.9/site-packages/sklearn/linear_model/_stochastic_gradient.py:705: ConvergenceWarning: Maximum number of iteration reached before convergence. Consider increasing max_iter to improve the fit.\n",
      "  warnings.warn(\n"
     ]
    },
    {
     "name": "stdout",
     "output_type": "stream",
     "text": [
      "[CV 2/5; 86/1152] END alpha=0.0001, loss=squared_error, max_iter=1000, penalty=l2, tol=10;, score=0.479 total time= 3.4min\n",
      "[CV 1/5; 87/1152] START alpha=0.0001, loss=squared_error, max_iter=1000, penalty=l2, tol=100\n"
     ]
    },
    {
     "name": "stderr",
     "output_type": "stream",
     "text": [
      "/Users/amarjotsinghlohia/.local/lib/python3.9/site-packages/sklearn/linear_model/_stochastic_gradient.py:705: ConvergenceWarning: Maximum number of iteration reached before convergence. Consider increasing max_iter to improve the fit.\n",
      "  warnings.warn(\n"
     ]
    },
    {
     "name": "stdout",
     "output_type": "stream",
     "text": [
      "[CV 3/5; 86/1152] END alpha=0.0001, loss=squared_error, max_iter=1000, penalty=l2, tol=10;, score=0.481 total time= 3.4min\n",
      "[CV 2/5; 87/1152] START alpha=0.0001, loss=squared_error, max_iter=1000, penalty=l2, tol=100\n",
      "[CV 5/5; 86/1152] END alpha=0.0001, loss=squared_error, max_iter=1000, penalty=l2, tol=10;, score=0.482 total time= 2.3min\n",
      "[CV 3/5; 87/1152] START alpha=0.0001, loss=squared_error, max_iter=1000, penalty=l2, tol=100\n"
     ]
    },
    {
     "name": "stderr",
     "output_type": "stream",
     "text": [
      "/Users/amarjotsinghlohia/.local/lib/python3.9/site-packages/sklearn/linear_model/_stochastic_gradient.py:705: ConvergenceWarning: Maximum number of iteration reached before convergence. Consider increasing max_iter to improve the fit.\n",
      "  warnings.warn(\n"
     ]
    },
    {
     "name": "stdout",
     "output_type": "stream",
     "text": [
      "[CV 4/5; 86/1152] END alpha=0.0001, loss=squared_error, max_iter=1000, penalty=l2, tol=10;, score=0.480 total time= 3.5min\n",
      "[CV 4/5; 87/1152] START alpha=0.0001, loss=squared_error, max_iter=1000, penalty=l2, tol=100\n",
      "[CV 3/5; 87/1152] END alpha=0.0001, loss=squared_error, max_iter=1000, penalty=l2, tol=100;, score=0.497 total time= 2.2min\n",
      "[CV 5/5; 87/1152] START alpha=0.0001, loss=squared_error, max_iter=1000, penalty=l2, tol=100\n"
     ]
    },
    {
     "name": "stderr",
     "output_type": "stream",
     "text": [
      "/Users/amarjotsinghlohia/.local/lib/python3.9/site-packages/sklearn/linear_model/_stochastic_gradient.py:705: ConvergenceWarning: Maximum number of iteration reached before convergence. Consider increasing max_iter to improve the fit.\n",
      "  warnings.warn(\n"
     ]
    },
    {
     "name": "stdout",
     "output_type": "stream",
     "text": [
      "[CV 1/5; 87/1152] END alpha=0.0001, loss=squared_error, max_iter=1000, penalty=l2, tol=100;, score=0.476 total time= 3.5min\n",
      "[CV 1/5; 88/1152] START alpha=0.0001, loss=squared_error, max_iter=1000, penalty=l2, tol=1000\n"
     ]
    },
    {
     "name": "stderr",
     "output_type": "stream",
     "text": [
      "/Users/amarjotsinghlohia/.local/lib/python3.9/site-packages/sklearn/linear_model/_stochastic_gradient.py:705: ConvergenceWarning: Maximum number of iteration reached before convergence. Consider increasing max_iter to improve the fit.\n",
      "  warnings.warn(\n"
     ]
    },
    {
     "name": "stdout",
     "output_type": "stream",
     "text": [
      "[CV 2/5; 87/1152] END alpha=0.0001, loss=squared_error, max_iter=1000, penalty=l2, tol=100;, score=0.519 total time= 3.6min\n",
      "[CV 2/5; 88/1152] START alpha=0.0001, loss=squared_error, max_iter=1000, penalty=l2, tol=1000\n",
      "[CV 5/5; 87/1152] END alpha=0.0001, loss=squared_error, max_iter=1000, penalty=l2, tol=100;, score=0.526 total time= 2.1min\n",
      "[CV 3/5; 88/1152] START alpha=0.0001, loss=squared_error, max_iter=1000, penalty=l2, tol=1000\n"
     ]
    },
    {
     "name": "stderr",
     "output_type": "stream",
     "text": [
      "/Users/amarjotsinghlohia/.local/lib/python3.9/site-packages/sklearn/linear_model/_stochastic_gradient.py:705: ConvergenceWarning: Maximum number of iteration reached before convergence. Consider increasing max_iter to improve the fit.\n",
      "  warnings.warn(\n"
     ]
    },
    {
     "name": "stdout",
     "output_type": "stream",
     "text": [
      "[CV 4/5; 87/1152] END alpha=0.0001, loss=squared_error, max_iter=1000, penalty=l2, tol=100;, score=0.482 total time= 3.4min\n",
      "[CV 4/5; 88/1152] START alpha=0.0001, loss=squared_error, max_iter=1000, penalty=l2, tol=1000\n"
     ]
    },
    {
     "name": "stderr",
     "output_type": "stream",
     "text": [
      "/Users/amarjotsinghlohia/.local/lib/python3.9/site-packages/sklearn/linear_model/_stochastic_gradient.py:705: ConvergenceWarning: Maximum number of iteration reached before convergence. Consider increasing max_iter to improve the fit.\n",
      "  warnings.warn(\n"
     ]
    },
    {
     "name": "stdout",
     "output_type": "stream",
     "text": [
      "[CV 1/5; 88/1152] END alpha=0.0001, loss=squared_error, max_iter=1000, penalty=l2, tol=1000;, score=0.518 total time= 3.2min\n",
      "[CV 5/5; 88/1152] START alpha=0.0001, loss=squared_error, max_iter=1000, penalty=l2, tol=1000\n"
     ]
    },
    {
     "name": "stderr",
     "output_type": "stream",
     "text": [
      "/Users/amarjotsinghlohia/.local/lib/python3.9/site-packages/sklearn/linear_model/_stochastic_gradient.py:705: ConvergenceWarning: Maximum number of iteration reached before convergence. Consider increasing max_iter to improve the fit.\n",
      "  warnings.warn(\n"
     ]
    },
    {
     "name": "stdout",
     "output_type": "stream",
     "text": [
      "[CV 2/5; 88/1152] END alpha=0.0001, loss=squared_error, max_iter=1000, penalty=l2, tol=1000;, score=0.478 total time= 3.3min\n",
      "[CV 1/5; 89/1152] START alpha=0.0001, loss=squared_error, max_iter=1000, penalty=elasticnet, tol=0.0001\n"
     ]
    },
    {
     "name": "stderr",
     "output_type": "stream",
     "text": [
      "/Users/amarjotsinghlohia/.local/lib/python3.9/site-packages/sklearn/linear_model/_stochastic_gradient.py:705: ConvergenceWarning: Maximum number of iteration reached before convergence. Consider increasing max_iter to improve the fit.\n",
      "  warnings.warn(\n"
     ]
    },
    {
     "name": "stdout",
     "output_type": "stream",
     "text": [
      "[CV 3/5; 88/1152] END alpha=0.0001, loss=squared_error, max_iter=1000, penalty=l2, tol=1000;, score=0.523 total time= 3.4min\n",
      "[CV 2/5; 89/1152] START alpha=0.0001, loss=squared_error, max_iter=1000, penalty=elasticnet, tol=0.0001\n"
     ]
    },
    {
     "name": "stderr",
     "output_type": "stream",
     "text": [
      "/Users/amarjotsinghlohia/.local/lib/python3.9/site-packages/sklearn/linear_model/_stochastic_gradient.py:705: ConvergenceWarning: Maximum number of iteration reached before convergence. Consider increasing max_iter to improve the fit.\n",
      "  warnings.warn(\n"
     ]
    },
    {
     "name": "stdout",
     "output_type": "stream",
     "text": [
      "[CV 4/5; 88/1152] END alpha=0.0001, loss=squared_error, max_iter=1000, penalty=l2, tol=1000;, score=0.493 total time= 3.4min\n",
      "[CV 3/5; 89/1152] START alpha=0.0001, loss=squared_error, max_iter=1000, penalty=elasticnet, tol=0.0001\n",
      "[CV 3/5; 89/1152] END alpha=0.0001, loss=squared_error, max_iter=1000, penalty=elasticnet, tol=0.0001;, score=0.509 total time=  10.7s\n",
      "[CV 4/5; 89/1152] START alpha=0.0001, loss=squared_error, max_iter=1000, penalty=elasticnet, tol=0.0001\n",
      "[CV 5/5; 88/1152] END alpha=0.0001, loss=squared_error, max_iter=1000, penalty=l2, tol=1000;, score=0.537 total time= 2.4min\n",
      "[CV 5/5; 89/1152] START alpha=0.0001, loss=squared_error, max_iter=1000, penalty=elasticnet, tol=0.0001\n",
      "[CV 5/5; 89/1152] END alpha=0.0001, loss=squared_error, max_iter=1000, penalty=elasticnet, tol=0.0001;, score=0.498 total time=   9.2s\n",
      "[CV 1/5; 90/1152] START alpha=0.0001, loss=squared_error, max_iter=1000, penalty=elasticnet, tol=0.001\n",
      "[CV 1/5; 89/1152] END alpha=0.0001, loss=squared_error, max_iter=1000, penalty=elasticnet, tol=0.0001;, score=0.500 total time= 3.4min\n",
      "[CV 2/5; 90/1152] START alpha=0.0001, loss=squared_error, max_iter=1000, penalty=elasticnet, tol=0.001\n",
      "[CV 1/5; 90/1152] END alpha=0.0001, loss=squared_error, max_iter=1000, penalty=elasticnet, tol=0.001;, score=0.499 total time= 2.9min\n",
      "[CV 3/5; 90/1152] START alpha=0.0001, loss=squared_error, max_iter=1000, penalty=elasticnet, tol=0.001\n"
     ]
    },
    {
     "name": "stderr",
     "output_type": "stream",
     "text": [
      "/Users/amarjotsinghlohia/.local/lib/python3.9/site-packages/sklearn/linear_model/_stochastic_gradient.py:705: ConvergenceWarning: Maximum number of iteration reached before convergence. Consider increasing max_iter to improve the fit.\n",
      "  warnings.warn(\n"
     ]
    },
    {
     "name": "stdout",
     "output_type": "stream",
     "text": [
      "[CV 2/5; 89/1152] END alpha=0.0001, loss=squared_error, max_iter=1000, penalty=elasticnet, tol=0.0001;, score=0.517 total time= 5.1min\n",
      "[CV 4/5; 90/1152] START alpha=0.0001, loss=squared_error, max_iter=1000, penalty=elasticnet, tol=0.001\n"
     ]
    },
    {
     "name": "stderr",
     "output_type": "stream",
     "text": [
      "/Users/amarjotsinghlohia/.local/lib/python3.9/site-packages/sklearn/linear_model/_stochastic_gradient.py:705: ConvergenceWarning: Maximum number of iteration reached before convergence. Consider increasing max_iter to improve the fit.\n",
      "  warnings.warn(\n"
     ]
    },
    {
     "name": "stdout",
     "output_type": "stream",
     "text": [
      "[CV 4/5; 89/1152] END alpha=0.0001, loss=squared_error, max_iter=1000, penalty=elasticnet, tol=0.0001;, score=0.493 total time= 5.0min\n",
      "[CV 5/5; 90/1152] START alpha=0.0001, loss=squared_error, max_iter=1000, penalty=elasticnet, tol=0.001\n",
      "[CV 5/5; 90/1152] END alpha=0.0001, loss=squared_error, max_iter=1000, penalty=elasticnet, tol=0.001;, score=0.506 total time=  31.3s\n",
      "[CV 1/5; 91/1152] START alpha=0.0001, loss=squared_error, max_iter=1000, penalty=elasticnet, tol=0.01\n"
     ]
    },
    {
     "name": "stderr",
     "output_type": "stream",
     "text": [
      "/Users/amarjotsinghlohia/.local/lib/python3.9/site-packages/sklearn/linear_model/_stochastic_gradient.py:705: ConvergenceWarning: Maximum number of iteration reached before convergence. Consider increasing max_iter to improve the fit.\n",
      "  warnings.warn(\n"
     ]
    },
    {
     "name": "stdout",
     "output_type": "stream",
     "text": [
      "[CV 2/5; 90/1152] END alpha=0.0001, loss=squared_error, max_iter=1000, penalty=elasticnet, tol=0.001;, score=0.491 total time= 5.0min\n",
      "[CV 2/5; 91/1152] START alpha=0.0001, loss=squared_error, max_iter=1000, penalty=elasticnet, tol=0.01\n",
      "[CV 4/5; 90/1152] END alpha=0.0001, loss=squared_error, max_iter=1000, penalty=elasticnet, tol=0.001;, score=0.515 total time= 3.3min\n",
      "[CV 3/5; 91/1152] START alpha=0.0001, loss=squared_error, max_iter=1000, penalty=elasticnet, tol=0.01\n",
      "[CV 1/5; 91/1152] END alpha=0.0001, loss=squared_error, max_iter=1000, penalty=elasticnet, tol=0.01;, score=0.495 total time= 3.2min\n",
      "[CV 4/5; 91/1152] START alpha=0.0001, loss=squared_error, max_iter=1000, penalty=elasticnet, tol=0.01\n"
     ]
    },
    {
     "name": "stderr",
     "output_type": "stream",
     "text": [
      "/Users/amarjotsinghlohia/.local/lib/python3.9/site-packages/sklearn/linear_model/_stochastic_gradient.py:705: ConvergenceWarning: Maximum number of iteration reached before convergence. Consider increasing max_iter to improve the fit.\n",
      "  warnings.warn(\n"
     ]
    },
    {
     "name": "stdout",
     "output_type": "stream",
     "text": [
      "[CV 3/5; 90/1152] END alpha=0.0001, loss=squared_error, max_iter=1000, penalty=elasticnet, tol=0.001;, score=0.479 total time= 5.3min\n",
      "[CV 5/5; 91/1152] START alpha=0.0001, loss=squared_error, max_iter=1000, penalty=elasticnet, tol=0.01\n",
      "[CV 4/5; 91/1152] END alpha=0.0001, loss=squared_error, max_iter=1000, penalty=elasticnet, tol=0.01;, score=0.512 total time=  18.5s\n",
      "[CV 1/5; 92/1152] START alpha=0.0001, loss=squared_error, max_iter=1000, penalty=elasticnet, tol=0.1\n",
      "[CV 1/5; 92/1152] END alpha=0.0001, loss=squared_error, max_iter=1000, penalty=elasticnet, tol=0.1;, score=0.482 total time=  16.2s\n",
      "[CV 2/5; 92/1152] START alpha=0.0001, loss=squared_error, max_iter=1000, penalty=elasticnet, tol=0.1\n",
      "[CV 3/5; 91/1152] END alpha=0.0001, loss=squared_error, max_iter=1000, penalty=elasticnet, tol=0.01;, score=0.497 total time= 3.1min\n",
      "[CV 3/5; 92/1152] START alpha=0.0001, loss=squared_error, max_iter=1000, penalty=elasticnet, tol=0.1\n",
      "[CV 5/5; 91/1152] END alpha=0.0001, loss=squared_error, max_iter=1000, penalty=elasticnet, tol=0.01;, score=0.498 total time= 3.2min\n",
      "[CV 4/5; 92/1152] START alpha=0.0001, loss=squared_error, max_iter=1000, penalty=elasticnet, tol=0.1\n"
     ]
    },
    {
     "name": "stderr",
     "output_type": "stream",
     "text": [
      "/Users/amarjotsinghlohia/.local/lib/python3.9/site-packages/sklearn/linear_model/_stochastic_gradient.py:705: ConvergenceWarning: Maximum number of iteration reached before convergence. Consider increasing max_iter to improve the fit.\n",
      "  warnings.warn(\n"
     ]
    },
    {
     "name": "stdout",
     "output_type": "stream",
     "text": [
      "[CV 2/5; 91/1152] END alpha=0.0001, loss=squared_error, max_iter=1000, penalty=elasticnet, tol=0.01;, score=0.482 total time= 5.4min\n",
      "[CV 5/5; 92/1152] START alpha=0.0001, loss=squared_error, max_iter=1000, penalty=elasticnet, tol=0.1\n"
     ]
    },
    {
     "name": "stderr",
     "output_type": "stream",
     "text": [
      "/Users/amarjotsinghlohia/.local/lib/python3.9/site-packages/sklearn/linear_model/_stochastic_gradient.py:705: ConvergenceWarning: Maximum number of iteration reached before convergence. Consider increasing max_iter to improve the fit.\n",
      "  warnings.warn(\n"
     ]
    },
    {
     "name": "stdout",
     "output_type": "stream",
     "text": [
      "[CV 2/5; 92/1152] END alpha=0.0001, loss=squared_error, max_iter=1000, penalty=elasticnet, tol=0.1;, score=0.478 total time= 5.2min\n",
      "[CV 1/5; 93/1152] START alpha=0.0001, loss=squared_error, max_iter=1000, penalty=elasticnet, tol=1\n",
      "[CV 5/5; 92/1152] END alpha=0.0001, loss=squared_error, max_iter=1000, penalty=elasticnet, tol=0.1;, score=0.488 total time= 1.9min\n",
      "[CV 2/5; 93/1152] START alpha=0.0001, loss=squared_error, max_iter=1000, penalty=elasticnet, tol=1\n",
      "[CV 4/5; 92/1152] END alpha=0.0001, loss=squared_error, max_iter=1000, penalty=elasticnet, tol=0.1;, score=0.520 total time= 3.0min\n",
      "[CV 3/5; 93/1152] START alpha=0.0001, loss=squared_error, max_iter=1000, penalty=elasticnet, tol=1\n",
      "[CV 3/5; 93/1152] END alpha=0.0001, loss=squared_error, max_iter=1000, penalty=elasticnet, tol=1;, score=0.532 total time=  31.2s\n",
      "[CV 4/5; 93/1152] START alpha=0.0001, loss=squared_error, max_iter=1000, penalty=elasticnet, tol=1\n",
      "[CV 4/5; 93/1152] END alpha=0.0001, loss=squared_error, max_iter=1000, penalty=elasticnet, tol=1;, score=0.481 total time=  20.7s\n",
      "[CV 5/5; 93/1152] START alpha=0.0001, loss=squared_error, max_iter=1000, penalty=elasticnet, tol=1\n"
     ]
    },
    {
     "name": "stderr",
     "output_type": "stream",
     "text": [
      "/Users/amarjotsinghlohia/.local/lib/python3.9/site-packages/sklearn/linear_model/_stochastic_gradient.py:705: ConvergenceWarning: Maximum number of iteration reached before convergence. Consider increasing max_iter to improve the fit.\n",
      "  warnings.warn(\n"
     ]
    },
    {
     "name": "stdout",
     "output_type": "stream",
     "text": [
      "[CV 3/5; 92/1152] END alpha=0.0001, loss=squared_error, max_iter=1000, penalty=elasticnet, tol=0.1;, score=0.481 total time= 5.0min\n",
      "[CV 1/5; 94/1152] START alpha=0.0001, loss=squared_error, max_iter=1000, penalty=elasticnet, tol=10\n",
      "[CV 1/5; 94/1152] END alpha=0.0001, loss=squared_error, max_iter=1000, penalty=elasticnet, tol=10;, score=0.431 total time=  37.8s\n",
      "[CV 2/5; 94/1152] START alpha=0.0001, loss=squared_error, max_iter=1000, penalty=elasticnet, tol=10\n",
      "[CV 5/5; 93/1152] END alpha=0.0001, loss=squared_error, max_iter=1000, penalty=elasticnet, tol=1;, score=0.474 total time= 3.1min\n",
      "[CV 3/5; 94/1152] START alpha=0.0001, loss=squared_error, max_iter=1000, penalty=elasticnet, tol=10\n"
     ]
    },
    {
     "name": "stderr",
     "output_type": "stream",
     "text": [
      "/Users/amarjotsinghlohia/.local/lib/python3.9/site-packages/sklearn/linear_model/_stochastic_gradient.py:705: ConvergenceWarning: Maximum number of iteration reached before convergence. Consider increasing max_iter to improve the fit.\n",
      "  warnings.warn(\n"
     ]
    },
    {
     "name": "stdout",
     "output_type": "stream",
     "text": [
      "[CV 1/5; 93/1152] END alpha=0.0001, loss=squared_error, max_iter=1000, penalty=elasticnet, tol=1;, score=0.522 total time= 5.2min\n",
      "[CV 4/5; 94/1152] START alpha=0.0001, loss=squared_error, max_iter=1000, penalty=elasticnet, tol=10\n"
     ]
    },
    {
     "name": "stderr",
     "output_type": "stream",
     "text": [
      "/Users/amarjotsinghlohia/.local/lib/python3.9/site-packages/sklearn/linear_model/_stochastic_gradient.py:705: ConvergenceWarning: Maximum number of iteration reached before convergence. Consider increasing max_iter to improve the fit.\n",
      "  warnings.warn(\n"
     ]
    },
    {
     "name": "stdout",
     "output_type": "stream",
     "text": [
      "[CV 2/5; 93/1152] END alpha=0.0001, loss=squared_error, max_iter=1000, penalty=elasticnet, tol=1;, score=0.509 total time= 5.2min\n",
      "[CV 5/5; 94/1152] START alpha=0.0001, loss=squared_error, max_iter=1000, penalty=elasticnet, tol=10\n",
      "[CV 5/5; 94/1152] END alpha=0.0001, loss=squared_error, max_iter=1000, penalty=elasticnet, tol=10;, score=0.487 total time=  15.8s\n",
      "[CV 1/5; 95/1152] START alpha=0.0001, loss=squared_error, max_iter=1000, penalty=elasticnet, tol=100\n"
     ]
    },
    {
     "name": "stderr",
     "output_type": "stream",
     "text": [
      "/Users/amarjotsinghlohia/.local/lib/python3.9/site-packages/sklearn/linear_model/_stochastic_gradient.py:705: ConvergenceWarning: Maximum number of iteration reached before convergence. Consider increasing max_iter to improve the fit.\n",
      "  warnings.warn(\n"
     ]
    },
    {
     "name": "stdout",
     "output_type": "stream",
     "text": [
      "[CV 2/5; 94/1152] END alpha=0.0001, loss=squared_error, max_iter=1000, penalty=elasticnet, tol=10;, score=0.485 total time= 5.4min\n",
      "[CV 2/5; 95/1152] START alpha=0.0001, loss=squared_error, max_iter=1000, penalty=elasticnet, tol=100\n",
      "[CV 4/5; 94/1152] END alpha=0.0001, loss=squared_error, max_iter=1000, penalty=elasticnet, tol=10;, score=0.511 total time= 3.9min\n",
      "[CV 3/5; 95/1152] START alpha=0.0001, loss=squared_error, max_iter=1000, penalty=elasticnet, tol=100\n",
      "[CV 1/5; 95/1152] END alpha=0.0001, loss=squared_error, max_iter=1000, penalty=elasticnet, tol=100;, score=0.489 total time= 3.7min\n",
      "[CV 4/5; 95/1152] START alpha=0.0001, loss=squared_error, max_iter=1000, penalty=elasticnet, tol=100\n"
     ]
    },
    {
     "name": "stderr",
     "output_type": "stream",
     "text": [
      "/Users/amarjotsinghlohia/.local/lib/python3.9/site-packages/sklearn/linear_model/_stochastic_gradient.py:705: ConvergenceWarning: Maximum number of iteration reached before convergence. Consider increasing max_iter to improve the fit.\n",
      "  warnings.warn(\n"
     ]
    },
    {
     "name": "stdout",
     "output_type": "stream",
     "text": [
      "[CV 3/5; 94/1152] END alpha=0.0001, loss=squared_error, max_iter=1000, penalty=elasticnet, tol=10;, score=0.482 total time= 5.3min\n",
      "[CV 5/5; 95/1152] START alpha=0.0001, loss=squared_error, max_iter=1000, penalty=elasticnet, tol=100\n",
      "[CV 5/5; 95/1152] END alpha=0.0001, loss=squared_error, max_iter=1000, penalty=elasticnet, tol=100;, score=0.469 total time=   9.8s\n",
      "[CV 1/5; 96/1152] START alpha=0.0001, loss=squared_error, max_iter=1000, penalty=elasticnet, tol=1000\n",
      "[CV 1/5; 96/1152] END alpha=0.0001, loss=squared_error, max_iter=1000, penalty=elasticnet, tol=1000;, score=0.476 total time=   9.3s\n",
      "[CV 2/5; 96/1152] START alpha=0.0001, loss=squared_error, max_iter=1000, penalty=elasticnet, tol=1000\n",
      "[CV 3/5; 95/1152] END alpha=0.0001, loss=squared_error, max_iter=1000, penalty=elasticnet, tol=100;, score=0.493 total time= 3.7min\n",
      "[CV 3/5; 96/1152] START alpha=0.0001, loss=squared_error, max_iter=1000, penalty=elasticnet, tol=1000\n"
     ]
    },
    {
     "name": "stderr",
     "output_type": "stream",
     "text": [
      "/Users/amarjotsinghlohia/.local/lib/python3.9/site-packages/sklearn/linear_model/_stochastic_gradient.py:705: ConvergenceWarning: Maximum number of iteration reached before convergence. Consider increasing max_iter to improve the fit.\n",
      "  warnings.warn(\n"
     ]
    },
    {
     "name": "stdout",
     "output_type": "stream",
     "text": [
      "[CV 2/5; 95/1152] END alpha=0.0001, loss=squared_error, max_iter=1000, penalty=elasticnet, tol=100;, score=0.494 total time= 5.2min\n",
      "[CV 4/5; 96/1152] START alpha=0.0001, loss=squared_error, max_iter=1000, penalty=elasticnet, tol=1000\n",
      "[CV 4/5; 96/1152] END alpha=0.0001, loss=squared_error, max_iter=1000, penalty=elasticnet, tol=1000;, score=0.498 total time=  28.0s\n",
      "[CV 5/5; 96/1152] START alpha=0.0001, loss=squared_error, max_iter=1000, penalty=elasticnet, tol=1000\n",
      "[CV 5/5; 96/1152] END alpha=0.0001, loss=squared_error, max_iter=1000, penalty=elasticnet, tol=1000;, score=0.510 total time=  11.7s\n",
      "[CV 1/5; 97/1152] START alpha=0.0001, loss=squared_error, max_iter=10000, penalty=l1, tol=0.0001\n",
      "[CV 1/5; 97/1152] END alpha=0.0001, loss=squared_error, max_iter=10000, penalty=l1, tol=0.0001;, score=0.511 total time=  45.5s\n",
      "[CV 2/5; 97/1152] START alpha=0.0001, loss=squared_error, max_iter=10000, penalty=l1, tol=0.0001\n"
     ]
    },
    {
     "name": "stderr",
     "output_type": "stream",
     "text": [
      "/Users/amarjotsinghlohia/.local/lib/python3.9/site-packages/sklearn/linear_model/_stochastic_gradient.py:705: ConvergenceWarning: Maximum number of iteration reached before convergence. Consider increasing max_iter to improve the fit.\n",
      "  warnings.warn(\n"
     ]
    },
    {
     "name": "stdout",
     "output_type": "stream",
     "text": [
      "[CV 4/5; 95/1152] END alpha=0.0001, loss=squared_error, max_iter=1000, penalty=elasticnet, tol=100;, score=0.478 total time= 5.3min\n",
      "[CV 3/5; 97/1152] START alpha=0.0001, loss=squared_error, max_iter=10000, penalty=l1, tol=0.0001\n"
     ]
    },
    {
     "name": "stderr",
     "output_type": "stream",
     "text": [
      "/Users/amarjotsinghlohia/.local/lib/python3.9/site-packages/sklearn/linear_model/_stochastic_gradient.py:705: ConvergenceWarning: Maximum number of iteration reached before convergence. Consider increasing max_iter to improve the fit.\n",
      "  warnings.warn(\n"
     ]
    },
    {
     "name": "stdout",
     "output_type": "stream",
     "text": [
      "[CV 2/5; 96/1152] END alpha=0.0001, loss=squared_error, max_iter=1000, penalty=elasticnet, tol=1000;, score=0.480 total time= 5.4min\n",
      "[CV 4/5; 97/1152] START alpha=0.0001, loss=squared_error, max_iter=10000, penalty=l1, tol=0.0001\n",
      "[CV 3/5; 96/1152] END alpha=0.0001, loss=squared_error, max_iter=1000, penalty=elasticnet, tol=1000;, score=0.499 total time= 3.4min\n",
      "[CV 5/5; 97/1152] START alpha=0.0001, loss=squared_error, max_iter=10000, penalty=l1, tol=0.0001\n",
      "[CV 5/5; 97/1152] END alpha=0.0001, loss=squared_error, max_iter=10000, penalty=l1, tol=0.0001;, score=0.470 total time=  24.6s\n",
      "[CV 1/5; 98/1152] START alpha=0.0001, loss=squared_error, max_iter=10000, penalty=l1, tol=0.001\n",
      "[CV 1/5; 98/1152] END alpha=0.0001, loss=squared_error, max_iter=10000, penalty=l1, tol=0.001;, score=0.478 total time=   2.8s\n",
      "[CV 2/5; 98/1152] START alpha=0.0001, loss=squared_error, max_iter=10000, penalty=l1, tol=0.001\n",
      "[CV 4/5; 97/1152] END alpha=0.0001, loss=squared_error, max_iter=10000, penalty=l1, tol=0.0001;, score=0.490 total time= 3.8min\n",
      "[CV 3/5; 98/1152] START alpha=0.0001, loss=squared_error, max_iter=10000, penalty=l1, tol=0.001\n",
      "[CV 3/5; 98/1152] END alpha=0.0001, loss=squared_error, max_iter=10000, penalty=l1, tol=0.001;, score=0.478 total time=  17.9s\n",
      "[CV 4/5; 98/1152] START alpha=0.0001, loss=squared_error, max_iter=10000, penalty=l1, tol=0.001\n",
      "[CV 4/5; 98/1152] END alpha=0.0001, loss=squared_error, max_iter=10000, penalty=l1, tol=0.001;, score=0.498 total time=  58.3s\n",
      "[CV 5/5; 98/1152] START alpha=0.0001, loss=squared_error, max_iter=10000, penalty=l1, tol=0.001\n",
      "[CV 5/5; 98/1152] END alpha=0.0001, loss=squared_error, max_iter=10000, penalty=l1, tol=0.001;, score=0.489 total time=  20.2s\n",
      "[CV 1/5; 99/1152] START alpha=0.0001, loss=squared_error, max_iter=10000, penalty=l1, tol=0.01\n",
      "[CV 2/5; 98/1152] END alpha=0.0001, loss=squared_error, max_iter=10000, penalty=l1, tol=0.001;, score=0.528 total time= 4.5min\n",
      "[CV 2/5; 99/1152] START alpha=0.0001, loss=squared_error, max_iter=10000, penalty=l1, tol=0.01\n"
     ]
    },
    {
     "ename": "KeyboardInterrupt",
     "evalue": "",
     "output_type": "error",
     "traceback": [
      "\u001b[0;31m---------------------------------------------------------------------------\u001b[0m",
      "\u001b[0;31mKeyboardInterrupt\u001b[0m                         Traceback (most recent call last)",
      "\u001b[1;32m/Users/amarjotsinghlohia/Documents/Dissertation/Code/SVM_model.ipynb Cell 19\u001b[0m in \u001b[0;36m<cell line: 9>\u001b[0;34m()\u001b[0m\n\u001b[1;32m      <a href='vscode-notebook-cell:/Users/amarjotsinghlohia/Documents/Dissertation/Code/SVM_model.ipynb#X24sZmlsZQ%3D%3D?line=0'>1</a>\u001b[0m param_grid \u001b[39m=\u001b[39m {\u001b[39m'\u001b[39m\u001b[39mloss\u001b[39m\u001b[39m'\u001b[39m: [\u001b[39m'\u001b[39m\u001b[39mlog_loss\u001b[39m\u001b[39m'\u001b[39m, \u001b[39m'\u001b[39m\u001b[39msquared_error\u001b[39m\u001b[39m'\u001b[39m], \n\u001b[1;32m      <a href='vscode-notebook-cell:/Users/amarjotsinghlohia/Documents/Dissertation/Code/SVM_model.ipynb#X24sZmlsZQ%3D%3D?line=1'>2</a>\u001b[0m               \u001b[39m'\u001b[39m\u001b[39mpenalty\u001b[39m\u001b[39m'\u001b[39m: [\u001b[39m'\u001b[39m\u001b[39ml1\u001b[39m\u001b[39m'\u001b[39m, \u001b[39m'\u001b[39m\u001b[39ml2\u001b[39m\u001b[39m'\u001b[39m, \u001b[39m'\u001b[39m\u001b[39melasticnet\u001b[39m\u001b[39m'\u001b[39m], \n\u001b[1;32m      <a href='vscode-notebook-cell:/Users/amarjotsinghlohia/Documents/Dissertation/Code/SVM_model.ipynb#X24sZmlsZQ%3D%3D?line=2'>3</a>\u001b[0m               \u001b[39m'\u001b[39m\u001b[39malpha\u001b[39m\u001b[39m'\u001b[39m: [\u001b[39m0.0001\u001b[39m, \u001b[39m0.001\u001b[39m, \u001b[39m0.01\u001b[39m, \u001b[39m0.1\u001b[39m, \u001b[39m1\u001b[39m, \u001b[39m10\u001b[39m, \u001b[39m100\u001b[39m, \u001b[39m1000\u001b[39m], \n\u001b[1;32m      <a href='vscode-notebook-cell:/Users/amarjotsinghlohia/Documents/Dissertation/Code/SVM_model.ipynb#X24sZmlsZQ%3D%3D?line=3'>4</a>\u001b[0m               \u001b[39m'\u001b[39m\u001b[39mmax_iter\u001b[39m\u001b[39m'\u001b[39m: [\u001b[39m1000\u001b[39m, \u001b[39m10000\u001b[39m, \u001b[39m100000\u001b[39m], \n\u001b[1;32m      <a href='vscode-notebook-cell:/Users/amarjotsinghlohia/Documents/Dissertation/Code/SVM_model.ipynb#X24sZmlsZQ%3D%3D?line=4'>5</a>\u001b[0m               \u001b[39m'\u001b[39m\u001b[39mtol\u001b[39m\u001b[39m'\u001b[39m: [\u001b[39m0.0001\u001b[39m, \u001b[39m0.001\u001b[39m, \u001b[39m0.01\u001b[39m, \u001b[39m0.1\u001b[39m, \u001b[39m1\u001b[39m, \u001b[39m10\u001b[39m, \u001b[39m100\u001b[39m, \u001b[39m1000\u001b[39m]}\n\u001b[1;32m      <a href='vscode-notebook-cell:/Users/amarjotsinghlohia/Documents/Dissertation/Code/SVM_model.ipynb#X24sZmlsZQ%3D%3D?line=6'>7</a>\u001b[0m optimal_params \u001b[39m=\u001b[39m GridSearchCV(SGDClassifier(), param_grid, cv \u001b[39m=\u001b[39m \u001b[39m5\u001b[39m, verbose \u001b[39m=\u001b[39m \u001b[39m10\u001b[39m, n_jobs \u001b[39m=\u001b[39m \u001b[39m-\u001b[39m\u001b[39m1\u001b[39m)\n\u001b[0;32m----> <a href='vscode-notebook-cell:/Users/amarjotsinghlohia/Documents/Dissertation/Code/SVM_model.ipynb#X24sZmlsZQ%3D%3D?line=8'>9</a>\u001b[0m optimal_params\u001b[39m.\u001b[39;49mfit(X_train_scaled, y_train)\n",
      "File \u001b[0;32m~/.local/lib/python3.9/site-packages/sklearn/model_selection/_search.py:875\u001b[0m, in \u001b[0;36mBaseSearchCV.fit\u001b[0;34m(self, X, y, groups, **fit_params)\u001b[0m\n\u001b[1;32m    869\u001b[0m     results \u001b[39m=\u001b[39m \u001b[39mself\u001b[39m\u001b[39m.\u001b[39m_format_results(\n\u001b[1;32m    870\u001b[0m         all_candidate_params, n_splits, all_out, all_more_results\n\u001b[1;32m    871\u001b[0m     )\n\u001b[1;32m    873\u001b[0m     \u001b[39mreturn\u001b[39;00m results\n\u001b[0;32m--> 875\u001b[0m \u001b[39mself\u001b[39;49m\u001b[39m.\u001b[39;49m_run_search(evaluate_candidates)\n\u001b[1;32m    877\u001b[0m \u001b[39m# multimetric is determined here because in the case of a callable\u001b[39;00m\n\u001b[1;32m    878\u001b[0m \u001b[39m# self.scoring the return type is only known after calling\u001b[39;00m\n\u001b[1;32m    879\u001b[0m first_test_score \u001b[39m=\u001b[39m all_out[\u001b[39m0\u001b[39m][\u001b[39m\"\u001b[39m\u001b[39mtest_scores\u001b[39m\u001b[39m\"\u001b[39m]\n",
      "File \u001b[0;32m~/.local/lib/python3.9/site-packages/sklearn/model_selection/_search.py:1375\u001b[0m, in \u001b[0;36mGridSearchCV._run_search\u001b[0;34m(self, evaluate_candidates)\u001b[0m\n\u001b[1;32m   1373\u001b[0m \u001b[39mdef\u001b[39;00m \u001b[39m_run_search\u001b[39m(\u001b[39mself\u001b[39m, evaluate_candidates):\n\u001b[1;32m   1374\u001b[0m     \u001b[39m\"\"\"Search all candidates in param_grid\"\"\"\u001b[39;00m\n\u001b[0;32m-> 1375\u001b[0m     evaluate_candidates(ParameterGrid(\u001b[39mself\u001b[39;49m\u001b[39m.\u001b[39;49mparam_grid))\n",
      "File \u001b[0;32m~/.local/lib/python3.9/site-packages/sklearn/model_selection/_search.py:822\u001b[0m, in \u001b[0;36mBaseSearchCV.fit.<locals>.evaluate_candidates\u001b[0;34m(candidate_params, cv, more_results)\u001b[0m\n\u001b[1;32m    814\u001b[0m \u001b[39mif\u001b[39;00m \u001b[39mself\u001b[39m\u001b[39m.\u001b[39mverbose \u001b[39m>\u001b[39m \u001b[39m0\u001b[39m:\n\u001b[1;32m    815\u001b[0m     \u001b[39mprint\u001b[39m(\n\u001b[1;32m    816\u001b[0m         \u001b[39m\"\u001b[39m\u001b[39mFitting \u001b[39m\u001b[39m{0}\u001b[39;00m\u001b[39m folds for each of \u001b[39m\u001b[39m{1}\u001b[39;00m\u001b[39m candidates,\u001b[39m\u001b[39m\"\u001b[39m\n\u001b[1;32m    817\u001b[0m         \u001b[39m\"\u001b[39m\u001b[39m totalling \u001b[39m\u001b[39m{2}\u001b[39;00m\u001b[39m fits\u001b[39m\u001b[39m\"\u001b[39m\u001b[39m.\u001b[39mformat(\n\u001b[1;32m    818\u001b[0m             n_splits, n_candidates, n_candidates \u001b[39m*\u001b[39m n_splits\n\u001b[1;32m    819\u001b[0m         )\n\u001b[1;32m    820\u001b[0m     )\n\u001b[0;32m--> 822\u001b[0m out \u001b[39m=\u001b[39m parallel(\n\u001b[1;32m    823\u001b[0m     delayed(_fit_and_score)(\n\u001b[1;32m    824\u001b[0m         clone(base_estimator),\n\u001b[1;32m    825\u001b[0m         X,\n\u001b[1;32m    826\u001b[0m         y,\n\u001b[1;32m    827\u001b[0m         train\u001b[39m=\u001b[39;49mtrain,\n\u001b[1;32m    828\u001b[0m         test\u001b[39m=\u001b[39;49mtest,\n\u001b[1;32m    829\u001b[0m         parameters\u001b[39m=\u001b[39;49mparameters,\n\u001b[1;32m    830\u001b[0m         split_progress\u001b[39m=\u001b[39;49m(split_idx, n_splits),\n\u001b[1;32m    831\u001b[0m         candidate_progress\u001b[39m=\u001b[39;49m(cand_idx, n_candidates),\n\u001b[1;32m    832\u001b[0m         \u001b[39m*\u001b[39;49m\u001b[39m*\u001b[39;49mfit_and_score_kwargs,\n\u001b[1;32m    833\u001b[0m     )\n\u001b[1;32m    834\u001b[0m     \u001b[39mfor\u001b[39;49;00m (cand_idx, parameters), (split_idx, (train, test)) \u001b[39min\u001b[39;49;00m product(\n\u001b[1;32m    835\u001b[0m         \u001b[39menumerate\u001b[39;49m(candidate_params), \u001b[39menumerate\u001b[39;49m(cv\u001b[39m.\u001b[39;49msplit(X, y, groups))\n\u001b[1;32m    836\u001b[0m     )\n\u001b[1;32m    837\u001b[0m )\n\u001b[1;32m    839\u001b[0m \u001b[39mif\u001b[39;00m \u001b[39mlen\u001b[39m(out) \u001b[39m<\u001b[39m \u001b[39m1\u001b[39m:\n\u001b[1;32m    840\u001b[0m     \u001b[39mraise\u001b[39;00m \u001b[39mValueError\u001b[39;00m(\n\u001b[1;32m    841\u001b[0m         \u001b[39m\"\u001b[39m\u001b[39mNo fits were performed. \u001b[39m\u001b[39m\"\u001b[39m\n\u001b[1;32m    842\u001b[0m         \u001b[39m\"\u001b[39m\u001b[39mWas the CV iterator empty? \u001b[39m\u001b[39m\"\u001b[39m\n\u001b[1;32m    843\u001b[0m         \u001b[39m\"\u001b[39m\u001b[39mWere there no candidates?\u001b[39m\u001b[39m\"\u001b[39m\n\u001b[1;32m    844\u001b[0m     )\n",
      "File \u001b[0;32m~/opt/anaconda3/lib/python3.9/site-packages/joblib/parallel.py:1056\u001b[0m, in \u001b[0;36mParallel.__call__\u001b[0;34m(self, iterable)\u001b[0m\n\u001b[1;32m   1053\u001b[0m     \u001b[39mself\u001b[39m\u001b[39m.\u001b[39m_iterating \u001b[39m=\u001b[39m \u001b[39mFalse\u001b[39;00m\n\u001b[1;32m   1055\u001b[0m \u001b[39mwith\u001b[39;00m \u001b[39mself\u001b[39m\u001b[39m.\u001b[39m_backend\u001b[39m.\u001b[39mretrieval_context():\n\u001b[0;32m-> 1056\u001b[0m     \u001b[39mself\u001b[39;49m\u001b[39m.\u001b[39;49mretrieve()\n\u001b[1;32m   1057\u001b[0m \u001b[39m# Make sure that we get a last message telling us we are done\u001b[39;00m\n\u001b[1;32m   1058\u001b[0m elapsed_time \u001b[39m=\u001b[39m time\u001b[39m.\u001b[39mtime() \u001b[39m-\u001b[39m \u001b[39mself\u001b[39m\u001b[39m.\u001b[39m_start_time\n",
      "File \u001b[0;32m~/opt/anaconda3/lib/python3.9/site-packages/joblib/parallel.py:935\u001b[0m, in \u001b[0;36mParallel.retrieve\u001b[0;34m(self)\u001b[0m\n\u001b[1;32m    933\u001b[0m \u001b[39mtry\u001b[39;00m:\n\u001b[1;32m    934\u001b[0m     \u001b[39mif\u001b[39;00m \u001b[39mgetattr\u001b[39m(\u001b[39mself\u001b[39m\u001b[39m.\u001b[39m_backend, \u001b[39m'\u001b[39m\u001b[39msupports_timeout\u001b[39m\u001b[39m'\u001b[39m, \u001b[39mFalse\u001b[39;00m):\n\u001b[0;32m--> 935\u001b[0m         \u001b[39mself\u001b[39m\u001b[39m.\u001b[39m_output\u001b[39m.\u001b[39mextend(job\u001b[39m.\u001b[39;49mget(timeout\u001b[39m=\u001b[39;49m\u001b[39mself\u001b[39;49m\u001b[39m.\u001b[39;49mtimeout))\n\u001b[1;32m    936\u001b[0m     \u001b[39melse\u001b[39;00m:\n\u001b[1;32m    937\u001b[0m         \u001b[39mself\u001b[39m\u001b[39m.\u001b[39m_output\u001b[39m.\u001b[39mextend(job\u001b[39m.\u001b[39mget())\n",
      "File \u001b[0;32m~/opt/anaconda3/lib/python3.9/site-packages/joblib/_parallel_backends.py:542\u001b[0m, in \u001b[0;36mLokyBackend.wrap_future_result\u001b[0;34m(future, timeout)\u001b[0m\n\u001b[1;32m    539\u001b[0m \u001b[39m\"\"\"Wrapper for Future.result to implement the same behaviour as\u001b[39;00m\n\u001b[1;32m    540\u001b[0m \u001b[39mAsyncResults.get from multiprocessing.\"\"\"\u001b[39;00m\n\u001b[1;32m    541\u001b[0m \u001b[39mtry\u001b[39;00m:\n\u001b[0;32m--> 542\u001b[0m     \u001b[39mreturn\u001b[39;00m future\u001b[39m.\u001b[39;49mresult(timeout\u001b[39m=\u001b[39;49mtimeout)\n\u001b[1;32m    543\u001b[0m \u001b[39mexcept\u001b[39;00m CfTimeoutError \u001b[39mas\u001b[39;00m e:\n\u001b[1;32m    544\u001b[0m     \u001b[39mraise\u001b[39;00m \u001b[39mTimeoutError\u001b[39;00m \u001b[39mfrom\u001b[39;00m \u001b[39me\u001b[39;00m\n",
      "File \u001b[0;32m~/opt/anaconda3/lib/python3.9/concurrent/futures/_base.py:441\u001b[0m, in \u001b[0;36mFuture.result\u001b[0;34m(self, timeout)\u001b[0m\n\u001b[1;32m    438\u001b[0m \u001b[39melif\u001b[39;00m \u001b[39mself\u001b[39m\u001b[39m.\u001b[39m_state \u001b[39m==\u001b[39m FINISHED:\n\u001b[1;32m    439\u001b[0m     \u001b[39mreturn\u001b[39;00m \u001b[39mself\u001b[39m\u001b[39m.\u001b[39m__get_result()\n\u001b[0;32m--> 441\u001b[0m \u001b[39mself\u001b[39;49m\u001b[39m.\u001b[39;49m_condition\u001b[39m.\u001b[39;49mwait(timeout)\n\u001b[1;32m    443\u001b[0m \u001b[39mif\u001b[39;00m \u001b[39mself\u001b[39m\u001b[39m.\u001b[39m_state \u001b[39min\u001b[39;00m [CANCELLED, CANCELLED_AND_NOTIFIED]:\n\u001b[1;32m    444\u001b[0m     \u001b[39mraise\u001b[39;00m CancelledError()\n",
      "File \u001b[0;32m~/opt/anaconda3/lib/python3.9/threading.py:312\u001b[0m, in \u001b[0;36mCondition.wait\u001b[0;34m(self, timeout)\u001b[0m\n\u001b[1;32m    310\u001b[0m \u001b[39mtry\u001b[39;00m:    \u001b[39m# restore state no matter what (e.g., KeyboardInterrupt)\u001b[39;00m\n\u001b[1;32m    311\u001b[0m     \u001b[39mif\u001b[39;00m timeout \u001b[39mis\u001b[39;00m \u001b[39mNone\u001b[39;00m:\n\u001b[0;32m--> 312\u001b[0m         waiter\u001b[39m.\u001b[39;49macquire()\n\u001b[1;32m    313\u001b[0m         gotit \u001b[39m=\u001b[39m \u001b[39mTrue\u001b[39;00m\n\u001b[1;32m    314\u001b[0m     \u001b[39melse\u001b[39;00m:\n",
      "\u001b[0;31mKeyboardInterrupt\u001b[0m: "
     ]
    }
   ],
   "source": [
    "param_grid = {'loss': ['log_loss', 'squared_error'], \n",
    "              'penalty': ['l1', 'l2', 'elasticnet'], \n",
    "              'alpha': [0.0001, 0.001, 0.01, 0.1, 1, 10, 100, 1000], \n",
    "              'max_iter': [1000, 10000, 100000], \n",
    "              'tol': [0.0001, 0.001, 0.01, 0.1, 1, 10, 100, 1000]}\n",
    "\n",
    "optimal_params = GridSearchCV(SGDClassifier(), param_grid, cv = 5, verbose = 10, n_jobs = -1)\n",
    "\n",
    "optimal_params.fit(X_train_scaled, y_train)"
   ]
  },
  {
   "cell_type": "markdown",
   "metadata": {},
   "source": [
    "### Performing different metrics"
   ]
  },
  {
   "cell_type": "code",
   "execution_count": null,
   "metadata": {},
   "outputs": [
    {
     "name": "stdout",
     "output_type": "stream",
     "text": [
      "{'C': 1000, 'gamma': 0.0001, 'kernel': 'sigmoid'}\n"
     ]
    }
   ],
   "source": [
    "print(optimal_params.best_params_)"
   ]
  },
  {
   "cell_type": "code",
   "execution_count": null,
   "metadata": {},
   "outputs": [
    {
     "name": "stdout",
     "output_type": "stream",
     "text": [
      "0.6069333333333333\n"
     ]
    }
   ],
   "source": [
    "print(optimal_params.best_score_)"
   ]
  },
  {
   "cell_type": "code",
   "execution_count": null,
   "metadata": {},
   "outputs": [
    {
     "name": "stderr",
     "output_type": "stream",
     "text": [
      "/Users/amarjotsinghlohia/opt/anaconda3/lib/python3.9/site-packages/sklearn/utils/deprecation.py:87: FutureWarning: Function plot_confusion_matrix is deprecated; Function `plot_confusion_matrix` is deprecated in 1.0 and will be removed in 1.2. Use one of the class methods: ConfusionMatrixDisplay.from_predictions or ConfusionMatrixDisplay.from_estimator.\n",
      "  warnings.warn(msg, category=FutureWarning)\n"
     ]
    },
    {
     "data": {
      "text/plain": [
       "<sklearn.metrics._plot.confusion_matrix.ConfusionMatrixDisplay at 0x7fda63915640>"
      ]
     },
     "execution_count": 71,
     "metadata": {},
     "output_type": "execute_result"
    },
    {
     "data": {
      "image/png": "[encoded data removed]",
      "text/plain": [
       "<Figure size 432x288 with 2 Axes>"
      ]
     },
     "metadata": {
      "needs_background": "light"
     },
     "output_type": "display_data"
    }
   ],
   "source": [
    "plot_confusion_matrix(optimal_params, X_test_scaled, y_test, values_format ='d', display_labels = ['Not Approved','Approved'])"
   ]
  },
  {
   "cell_type": "code",
   "execution_count": null,
   "metadata": {},
   "outputs": [
    {
     "name": "stderr",
     "output_type": "stream",
     "text": [
      "/Users/amarjotsinghlohia/opt/anaconda3/lib/python3.9/site-packages/sklearn/base.py:443: UserWarning: X has feature names, but SVC was fitted without feature names\n",
      "  warnings.warn(\n"
     ]
    },
    {
     "name": "stdout",
     "output_type": "stream",
     "text": [
      "              precision    recall  f1-score   support\n",
      "\n",
      "           0       1.00      0.50      0.67      2499\n",
      "           1       0.00      0.00      0.00         1\n",
      "\n",
      "    accuracy                           0.50      2500\n",
      "   macro avg       0.50      0.25      0.33      2500\n",
      "weighted avg       1.00      0.50      0.67      2500\n",
      "\n"
     ]
    }
   ],
   "source": [
    "#prediction\n",
    "y_pred = optimal_params.predict(X_test)\n",
    "report = classification_report(y_pred,y_test)\n",
    "print(report)"
   ]
  },
  {
   "cell_type": "code",
   "execution_count": null,
   "metadata": {},
   "outputs": [],
   "source": []
  }
 ],
 "metadata": {
  "kernelspec": {
   "display_name": "Python 3.9.12 ('base')",
   "language": "python",
   "name": "python3"
  },
  "language_info": {
   "codemirror_mode": {
    "name": "ipython",
    "version": 3
   },
   "file_extension": ".py",
   "mimetype": "text/x-python",
   "name": "python",
   "nbconvert_exporter": "python",
   "pygments_lexer": "ipython3",
   "version": "3.9.12"
  },
  "orig_nbformat": 4,
  "vscode": {
   "interpreter": {
    "hash": "425aa5fac1af2c2b2daa42dcae890837cc1a879be8cd68510719d5942fa4f50e"
   }
  }
 },
 "nbformat": 4,
 "nbformat_minor": 2
}
