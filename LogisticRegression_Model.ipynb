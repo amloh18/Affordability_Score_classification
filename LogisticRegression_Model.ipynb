{
 "cells": [
  {
   "cell_type": "code",
   "execution_count": 1,
   "metadata": {},
   "outputs": [],
   "source": [
    "import pandas as pd\n",
    "import numpy as np\n",
    "from sklearn.model_selection import train_test_split\n",
    "from sklearn.linear_model import LogisticRegression\n",
    "from sklearn.model_selection import GridSearchCV\n",
    "from sklearn.utils import resample\n",
    "from sklearn.metrics import accuracy_score, classification_report"
   ]
  },
  {
   "cell_type": "code",
   "execution_count": 2,
   "metadata": {},
   "outputs": [
    {
     "data": {
      "text/html": [
       "<div>\n",
       "<style scoped>\n",
       "    .dataframe tbody tr th:only-of-type {\n",
       "        vertical-align: middle;\n",
       "    }\n",
       "\n",
       "    .dataframe tbody tr th {\n",
       "        vertical-align: top;\n",
       "    }\n",
       "\n",
       "    .dataframe thead th {\n",
       "        text-align: right;\n",
       "    }\n",
       "</style>\n",
       "<table border=\"1\" class=\"dataframe\">\n",
       "  <thead>\n",
       "    <tr style=\"text-align: right;\">\n",
       "      <th></th>\n",
       "      <th>Unnamed: 0</th>\n",
       "      <th>SK_ID_CURR</th>\n",
       "      <th>TARGET</th>\n",
       "      <th>NAME_CONTRACT_TYPE</th>\n",
       "      <th>CODE_GENDER</th>\n",
       "      <th>FLAG_OWN_CAR</th>\n",
       "      <th>FLAG_OWN_REALTY</th>\n",
       "      <th>CNT_CHILDREN</th>\n",
       "      <th>AMT_INCOME_TOTAL</th>\n",
       "      <th>AMT_CREDIT</th>\n",
       "      <th>...</th>\n",
       "      <th>FLAG_PHONE</th>\n",
       "      <th>FLAG_EMAIL</th>\n",
       "      <th>OCCUPATION_TYPE</th>\n",
       "      <th>CNT_FAM_MEMBERS</th>\n",
       "      <th>ORGANIZATION_TYPE</th>\n",
       "      <th>AGE</th>\n",
       "      <th>EMPLOYMENT_AGE</th>\n",
       "      <th>REGISTRATION_AGE</th>\n",
       "      <th>previous_loan_counts</th>\n",
       "      <th>NO_OF_PREV_APP</th>\n",
       "    </tr>\n",
       "  </thead>\n",
       "  <tbody>\n",
       "    <tr>\n",
       "      <th>71965</th>\n",
       "      <td>79320</td>\n",
       "      <td>252767</td>\n",
       "      <td>0</td>\n",
       "      <td>0</td>\n",
       "      <td>0</td>\n",
       "      <td>0</td>\n",
       "      <td>1</td>\n",
       "      <td>0</td>\n",
       "      <td>112500.0</td>\n",
       "      <td>595903.5</td>\n",
       "      <td>...</td>\n",
       "      <td>1</td>\n",
       "      <td>0</td>\n",
       "      <td>3</td>\n",
       "      <td>1.0</td>\n",
       "      <td>0</td>\n",
       "      <td>27.939726</td>\n",
       "      <td>9.065753</td>\n",
       "      <td>4.353425</td>\n",
       "      <td>0.0</td>\n",
       "      <td>5.0</td>\n",
       "    </tr>\n",
       "    <tr>\n",
       "      <th>69305</th>\n",
       "      <td>76404</td>\n",
       "      <td>247046</td>\n",
       "      <td>0</td>\n",
       "      <td>1</td>\n",
       "      <td>1</td>\n",
       "      <td>0</td>\n",
       "      <td>0</td>\n",
       "      <td>0</td>\n",
       "      <td>81000.0</td>\n",
       "      <td>202500.0</td>\n",
       "      <td>...</td>\n",
       "      <td>0</td>\n",
       "      <td>0</td>\n",
       "      <td>3</td>\n",
       "      <td>2.0</td>\n",
       "      <td>0</td>\n",
       "      <td>54.178082</td>\n",
       "      <td>29.479452</td>\n",
       "      <td>12.205479</td>\n",
       "      <td>15.0</td>\n",
       "      <td>0.0</td>\n",
       "    </tr>\n",
       "    <tr>\n",
       "      <th>74602</th>\n",
       "      <td>82239</td>\n",
       "      <td>258263</td>\n",
       "      <td>0</td>\n",
       "      <td>0</td>\n",
       "      <td>1</td>\n",
       "      <td>0</td>\n",
       "      <td>1</td>\n",
       "      <td>1</td>\n",
       "      <td>90000.0</td>\n",
       "      <td>270000.0</td>\n",
       "      <td>...</td>\n",
       "      <td>0</td>\n",
       "      <td>0</td>\n",
       "      <td>1</td>\n",
       "      <td>3.0</td>\n",
       "      <td>1</td>\n",
       "      <td>33.734247</td>\n",
       "      <td>1.315068</td>\n",
       "      <td>1.608219</td>\n",
       "      <td>0.0</td>\n",
       "      <td>2.0</td>\n",
       "    </tr>\n",
       "    <tr>\n",
       "      <th>25870</th>\n",
       "      <td>28483</td>\n",
       "      <td>154762</td>\n",
       "      <td>0</td>\n",
       "      <td>0</td>\n",
       "      <td>1</td>\n",
       "      <td>1</td>\n",
       "      <td>1</td>\n",
       "      <td>0</td>\n",
       "      <td>157500.0</td>\n",
       "      <td>1125000.0</td>\n",
       "      <td>...</td>\n",
       "      <td>0</td>\n",
       "      <td>0</td>\n",
       "      <td>1</td>\n",
       "      <td>2.0</td>\n",
       "      <td>1</td>\n",
       "      <td>38.241096</td>\n",
       "      <td>6.684932</td>\n",
       "      <td>5.726027</td>\n",
       "      <td>3.0</td>\n",
       "      <td>0.0</td>\n",
       "    </tr>\n",
       "    <tr>\n",
       "      <th>123923</th>\n",
       "      <td>136574</td>\n",
       "      <td>362887</td>\n",
       "      <td>0</td>\n",
       "      <td>0</td>\n",
       "      <td>0</td>\n",
       "      <td>0</td>\n",
       "      <td>0</td>\n",
       "      <td>0</td>\n",
       "      <td>157500.0</td>\n",
       "      <td>178290.0</td>\n",
       "      <td>...</td>\n",
       "      <td>0</td>\n",
       "      <td>0</td>\n",
       "      <td>1</td>\n",
       "      <td>1.0</td>\n",
       "      <td>0</td>\n",
       "      <td>26.150685</td>\n",
       "      <td>2.832877</td>\n",
       "      <td>11.613699</td>\n",
       "      <td>0.0</td>\n",
       "      <td>8.0</td>\n",
       "    </tr>\n",
       "    <tr>\n",
       "      <th>89918</th>\n",
       "      <td>99101</td>\n",
       "      <td>290630</td>\n",
       "      <td>0</td>\n",
       "      <td>0</td>\n",
       "      <td>0</td>\n",
       "      <td>0</td>\n",
       "      <td>0</td>\n",
       "      <td>0</td>\n",
       "      <td>112500.0</td>\n",
       "      <td>360000.0</td>\n",
       "      <td>...</td>\n",
       "      <td>0</td>\n",
       "      <td>0</td>\n",
       "      <td>0</td>\n",
       "      <td>2.0</td>\n",
       "      <td>0</td>\n",
       "      <td>42.895890</td>\n",
       "      <td>12.008219</td>\n",
       "      <td>2.271233</td>\n",
       "      <td>3.0</td>\n",
       "      <td>1.0</td>\n",
       "    </tr>\n",
       "    <tr>\n",
       "      <th>37082</th>\n",
       "      <td>40819</td>\n",
       "      <td>178636</td>\n",
       "      <td>0</td>\n",
       "      <td>0</td>\n",
       "      <td>0</td>\n",
       "      <td>0</td>\n",
       "      <td>1</td>\n",
       "      <td>0</td>\n",
       "      <td>67500.0</td>\n",
       "      <td>526491.0</td>\n",
       "      <td>...</td>\n",
       "      <td>1</td>\n",
       "      <td>0</td>\n",
       "      <td>0</td>\n",
       "      <td>2.0</td>\n",
       "      <td>0</td>\n",
       "      <td>51.797260</td>\n",
       "      <td>9.189041</td>\n",
       "      <td>16.273973</td>\n",
       "      <td>0.0</td>\n",
       "      <td>1.0</td>\n",
       "    </tr>\n",
       "    <tr>\n",
       "      <th>144349</th>\n",
       "      <td>159038</td>\n",
       "      <td>406014</td>\n",
       "      <td>0</td>\n",
       "      <td>0</td>\n",
       "      <td>1</td>\n",
       "      <td>1</td>\n",
       "      <td>1</td>\n",
       "      <td>0</td>\n",
       "      <td>94500.0</td>\n",
       "      <td>328500.0</td>\n",
       "      <td>...</td>\n",
       "      <td>0</td>\n",
       "      <td>0</td>\n",
       "      <td>1</td>\n",
       "      <td>1.0</td>\n",
       "      <td>0</td>\n",
       "      <td>54.849315</td>\n",
       "      <td>1.221918</td>\n",
       "      <td>4.241096</td>\n",
       "      <td>0.0</td>\n",
       "      <td>5.0</td>\n",
       "    </tr>\n",
       "    <tr>\n",
       "      <th>180655</th>\n",
       "      <td>184655</td>\n",
       "      <td>455264</td>\n",
       "      <td>1</td>\n",
       "      <td>0</td>\n",
       "      <td>1</td>\n",
       "      <td>0</td>\n",
       "      <td>1</td>\n",
       "      <td>1</td>\n",
       "      <td>45000.0</td>\n",
       "      <td>755190.0</td>\n",
       "      <td>...</td>\n",
       "      <td>0</td>\n",
       "      <td>0</td>\n",
       "      <td>1</td>\n",
       "      <td>3.0</td>\n",
       "      <td>0</td>\n",
       "      <td>41.405479</td>\n",
       "      <td>14.191781</td>\n",
       "      <td>14.476712</td>\n",
       "      <td>0.0</td>\n",
       "      <td>1.0</td>\n",
       "    </tr>\n",
       "    <tr>\n",
       "      <th>48058</th>\n",
       "      <td>52917</td>\n",
       "      <td>202131</td>\n",
       "      <td>0</td>\n",
       "      <td>0</td>\n",
       "      <td>1</td>\n",
       "      <td>1</td>\n",
       "      <td>0</td>\n",
       "      <td>0</td>\n",
       "      <td>76500.0</td>\n",
       "      <td>225000.0</td>\n",
       "      <td>...</td>\n",
       "      <td>0</td>\n",
       "      <td>0</td>\n",
       "      <td>0</td>\n",
       "      <td>2.0</td>\n",
       "      <td>0</td>\n",
       "      <td>50.731507</td>\n",
       "      <td>10.734247</td>\n",
       "      <td>14.298630</td>\n",
       "      <td>0.0</td>\n",
       "      <td>2.0</td>\n",
       "    </tr>\n",
       "  </tbody>\n",
       "</table>\n",
       "<p>10 rows × 31 columns</p>\n",
       "</div>"
      ],
      "text/plain": [
       "        Unnamed: 0  SK_ID_CURR  TARGET  NAME_CONTRACT_TYPE  CODE_GENDER  \\\n",
       "71965        79320      252767       0                   0            0   \n",
       "69305        76404      247046       0                   1            1   \n",
       "74602        82239      258263       0                   0            1   \n",
       "25870        28483      154762       0                   0            1   \n",
       "123923      136574      362887       0                   0            0   \n",
       "89918        99101      290630       0                   0            0   \n",
       "37082        40819      178636       0                   0            0   \n",
       "144349      159038      406014       0                   0            1   \n",
       "180655      184655      455264       1                   0            1   \n",
       "48058        52917      202131       0                   0            1   \n",
       "\n",
       "        FLAG_OWN_CAR  FLAG_OWN_REALTY  CNT_CHILDREN  AMT_INCOME_TOTAL  \\\n",
       "71965              0                1             0          112500.0   \n",
       "69305              0                0             0           81000.0   \n",
       "74602              0                1             1           90000.0   \n",
       "25870              1                1             0          157500.0   \n",
       "123923             0                0             0          157500.0   \n",
       "89918              0                0             0          112500.0   \n",
       "37082              0                1             0           67500.0   \n",
       "144349             1                1             0           94500.0   \n",
       "180655             0                1             1           45000.0   \n",
       "48058              1                0             0           76500.0   \n",
       "\n",
       "        AMT_CREDIT  ...  FLAG_PHONE  FLAG_EMAIL  OCCUPATION_TYPE  \\\n",
       "71965     595903.5  ...           1           0                3   \n",
       "69305     202500.0  ...           0           0                3   \n",
       "74602     270000.0  ...           0           0                1   \n",
       "25870    1125000.0  ...           0           0                1   \n",
       "123923    178290.0  ...           0           0                1   \n",
       "89918     360000.0  ...           0           0                0   \n",
       "37082     526491.0  ...           1           0                0   \n",
       "144349    328500.0  ...           0           0                1   \n",
       "180655    755190.0  ...           0           0                1   \n",
       "48058     225000.0  ...           0           0                0   \n",
       "\n",
       "        CNT_FAM_MEMBERS  ORGANIZATION_TYPE        AGE  EMPLOYMENT_AGE  \\\n",
       "71965               1.0                  0  27.939726        9.065753   \n",
       "69305               2.0                  0  54.178082       29.479452   \n",
       "74602               3.0                  1  33.734247        1.315068   \n",
       "25870               2.0                  1  38.241096        6.684932   \n",
       "123923              1.0                  0  26.150685        2.832877   \n",
       "89918               2.0                  0  42.895890       12.008219   \n",
       "37082               2.0                  0  51.797260        9.189041   \n",
       "144349              1.0                  0  54.849315        1.221918   \n",
       "180655              3.0                  0  41.405479       14.191781   \n",
       "48058               2.0                  0  50.731507       10.734247   \n",
       "\n",
       "        REGISTRATION_AGE  previous_loan_counts  NO_OF_PREV_APP  \n",
       "71965           4.353425                   0.0             5.0  \n",
       "69305          12.205479                  15.0             0.0  \n",
       "74602           1.608219                   0.0             2.0  \n",
       "25870           5.726027                   3.0             0.0  \n",
       "123923         11.613699                   0.0             8.0  \n",
       "89918           2.271233                   3.0             1.0  \n",
       "37082          16.273973                   0.0             1.0  \n",
       "144349          4.241096                   0.0             5.0  \n",
       "180655         14.476712                   0.0             1.0  \n",
       "48058          14.298630                   0.0             2.0  \n",
       "\n",
       "[10 rows x 31 columns]"
      ]
     },
     "execution_count": 2,
     "metadata": {},
     "output_type": "execute_result"
    }
   ],
   "source": [
    "data = pd.read_csv('/Users/amarjotsinghlohia/Documents/Dissertation/Data/home-credit-default-risk/application_train_upsampled.csv')\n",
    "data.sample(10)"
   ]
  },
  {
   "cell_type": "code",
   "execution_count": 3,
   "metadata": {},
   "outputs": [
    {
     "data": {
      "text/plain": [
       "0    168113\n",
       "1    168113\n",
       "Name: TARGET, dtype: int64"
      ]
     },
     "execution_count": 3,
     "metadata": {},
     "output_type": "execute_result"
    }
   ],
   "source": [
    "data['TARGET'].value_counts()"
   ]
  },
  {
   "cell_type": "code",
   "execution_count": 4,
   "metadata": {},
   "outputs": [
    {
     "data": {
      "text/plain": [
       "9.8524878391842"
      ]
     },
     "execution_count": 4,
     "metadata": {},
     "output_type": "execute_result"
    }
   ],
   "source": [
    "168113/17063"
   ]
  },
  {
   "cell_type": "code",
   "execution_count": 5,
   "metadata": {},
   "outputs": [
    {
     "data": {
      "text/plain": [
       "((336226, 28), (336226,))"
      ]
     },
     "execution_count": 5,
     "metadata": {},
     "output_type": "execute_result"
    }
   ],
   "source": [
    "#Splitting into train and test dataset\n",
    "X = data.iloc[:,3:]\n",
    "Y = data['TARGET']\n",
    "X.shape, Y.shape"
   ]
  },
  {
   "cell_type": "code",
   "execution_count": 6,
   "metadata": {},
   "outputs": [
    {
     "name": "stdout",
     "output_type": "stream",
     "text": [
      "(336226, 28) (235358, 28) (100868, 28) (336226,) (235358,) (100868,)\n"
     ]
    }
   ],
   "source": [
    "#Splitting into training and test data\n",
    "\n",
    "X_train, X_test, Y_train, Y_test = train_test_split(X, Y, test_size = 0.30, stratify= Y)\n",
    "print(X.shape, X_train.shape, X_test.shape, Y.shape, Y_train.shape, Y_test.shape)"
   ]
  },
  {
   "cell_type": "code",
   "execution_count": 7,
   "metadata": {},
   "outputs": [
    {
     "data": {
      "text/html": [
       "<style>#sk-container-id-1 {color: black;background-color: white;}#sk-container-id-1 pre{padding: 0;}#sk-container-id-1 div.sk-toggleable {background-color: white;}#sk-container-id-1 label.sk-toggleable__label {cursor: pointer;display: block;width: 100%;margin-bottom: 0;padding: 0.3em;box-sizing: border-box;text-align: center;}#sk-container-id-1 label.sk-toggleable__label-arrow:before {content: \"▸\";float: left;margin-right: 0.25em;color: #696969;}#sk-container-id-1 label.sk-toggleable__label-arrow:hover:before {color: black;}#sk-container-id-1 div.sk-estimator:hover label.sk-toggleable__label-arrow:before {color: black;}#sk-container-id-1 div.sk-toggleable__content {max-height: 0;max-width: 0;overflow: hidden;text-align: left;background-color: #f0f8ff;}#sk-container-id-1 div.sk-toggleable__content pre {margin: 0.2em;color: black;border-radius: 0.25em;background-color: #f0f8ff;}#sk-container-id-1 input.sk-toggleable__control:checked~div.sk-toggleable__content {max-height: 200px;max-width: 100%;overflow: auto;}#sk-container-id-1 input.sk-toggleable__control:checked~label.sk-toggleable__label-arrow:before {content: \"▾\";}#sk-container-id-1 div.sk-estimator input.sk-toggleable__control:checked~label.sk-toggleable__label {background-color: #d4ebff;}#sk-container-id-1 div.sk-label input.sk-toggleable__control:checked~label.sk-toggleable__label {background-color: #d4ebff;}#sk-container-id-1 input.sk-hidden--visually {border: 0;clip: rect(1px 1px 1px 1px);clip: rect(1px, 1px, 1px, 1px);height: 1px;margin: -1px;overflow: hidden;padding: 0;position: absolute;width: 1px;}#sk-container-id-1 div.sk-estimator {font-family: monospace;background-color: #f0f8ff;border: 1px dotted black;border-radius: 0.25em;box-sizing: border-box;margin-bottom: 0.5em;}#sk-container-id-1 div.sk-estimator:hover {background-color: #d4ebff;}#sk-container-id-1 div.sk-parallel-item::after {content: \"\";width: 100%;border-bottom: 1px solid gray;flex-grow: 1;}#sk-container-id-1 div.sk-label:hover label.sk-toggleable__label {background-color: #d4ebff;}#sk-container-id-1 div.sk-serial::before {content: \"\";position: absolute;border-left: 1px solid gray;box-sizing: border-box;top: 0;bottom: 0;left: 50%;z-index: 0;}#sk-container-id-1 div.sk-serial {display: flex;flex-direction: column;align-items: center;background-color: white;padding-right: 0.2em;padding-left: 0.2em;position: relative;}#sk-container-id-1 div.sk-item {position: relative;z-index: 1;}#sk-container-id-1 div.sk-parallel {display: flex;align-items: stretch;justify-content: center;background-color: white;position: relative;}#sk-container-id-1 div.sk-item::before, #sk-container-id-1 div.sk-parallel-item::before {content: \"\";position: absolute;border-left: 1px solid gray;box-sizing: border-box;top: 0;bottom: 0;left: 50%;z-index: -1;}#sk-container-id-1 div.sk-parallel-item {display: flex;flex-direction: column;z-index: 1;position: relative;background-color: white;}#sk-container-id-1 div.sk-parallel-item:first-child::after {align-self: flex-end;width: 50%;}#sk-container-id-1 div.sk-parallel-item:last-child::after {align-self: flex-start;width: 50%;}#sk-container-id-1 div.sk-parallel-item:only-child::after {width: 0;}#sk-container-id-1 div.sk-dashed-wrapped {border: 1px dashed gray;margin: 0 0.4em 0.5em 0.4em;box-sizing: border-box;padding-bottom: 0.4em;background-color: white;}#sk-container-id-1 div.sk-label label {font-family: monospace;font-weight: bold;display: inline-block;line-height: 1.2em;}#sk-container-id-1 div.sk-label-container {text-align: center;}#sk-container-id-1 div.sk-container {/* jupyter's `normalize.less` sets `[hidden] { display: none; }` but bootstrap.min.css set `[hidden] { display: none !important; }` so we also need the `!important` here to be able to override the default hidden behavior on the sphinx rendered scikit-learn.org. See: https://github.com/scikit-learn/scikit-learn/issues/21755 */display: inline-block !important;position: relative;}#sk-container-id-1 div.sk-text-repr-fallback {display: none;}</style><div id=\"sk-container-id-1\" class=\"sk-top-container\"><div class=\"sk-text-repr-fallback\"><pre>LogisticRegression()</pre><b>In a Jupyter environment, please rerun this cell to show the HTML representation or trust the notebook. <br />On GitHub, the HTML representation is unable to render, please try loading this page with nbviewer.org.</b></div><div class=\"sk-container\" hidden><div class=\"sk-item\"><div class=\"sk-estimator sk-toggleable\"><input class=\"sk-toggleable__control sk-hidden--visually\" id=\"sk-estimator-id-1\" type=\"checkbox\" checked><label for=\"sk-estimator-id-1\" class=\"sk-toggleable__label sk-toggleable__label-arrow\">LogisticRegression</label><div class=\"sk-toggleable__content\"><pre>LogisticRegression()</pre></div></div></div></div></div>"
      ],
      "text/plain": [
       "LogisticRegression()"
      ]
     },
     "execution_count": 7,
     "metadata": {},
     "output_type": "execute_result"
    }
   ],
   "source": [
    "model = LogisticRegression()\n",
    "model.fit(X_train, Y_train)\n"
   ]
  },
  {
   "cell_type": "code",
   "execution_count": 8,
   "metadata": {},
   "outputs": [
    {
     "name": "stdout",
     "output_type": "stream",
     "text": [
      "0.5697743585676329\n",
      "              precision    recall  f1-score   support\n",
      "\n",
      "           0       0.55      0.57      0.56     48908\n",
      "           1       0.58      0.57      0.58     51960\n",
      "\n",
      "    accuracy                           0.57    100868\n",
      "   macro avg       0.57      0.57      0.57    100868\n",
      "weighted avg       0.57      0.57      0.57    100868\n",
      "\n"
     ]
    }
   ],
   "source": [
    "print(model.score(X_test, Y_test))\n",
    "Y_pred = model.predict(X_test)\n",
    "print(classification_report(Y_pred,Y_test))"
   ]
  },
  {
   "cell_type": "markdown",
   "metadata": {},
   "source": [
    "### Grid Search CV"
   ]
  },
  {
   "cell_type": "code",
   "execution_count": 11,
   "metadata": {},
   "outputs": [],
   "source": [
    "classifier = LogisticRegression()"
   ]
  },
  {
   "cell_type": "code",
   "execution_count": 12,
   "metadata": {},
   "outputs": [],
   "source": [
    "parameter = {'penalty': ['l2'],\n",
    "             'C': [1,2,3,4,5,6,10,20,30,40,50],\n",
    "             'max_iter': [100,200,300]}"
   ]
  },
  {
   "cell_type": "code",
   "execution_count": 13,
   "metadata": {},
   "outputs": [
    {
     "name": "stdout",
     "output_type": "stream",
     "text": [
      "Fitting 5 folds for each of 33 candidates, totalling 165 fits\n",
      "[CV] END ......................C=1, max_iter=100, penalty=l2; total time=   1.2s\n",
      "[CV] END ......................C=1, max_iter=100, penalty=l2; total time=   1.1s\n",
      "[CV] END ......................C=1, max_iter=100, penalty=l2; total time=   1.0s\n",
      "[CV] END ......................C=1, max_iter=100, penalty=l2; total time=   0.9s\n",
      "[CV] END ......................C=1, max_iter=100, penalty=l2; total time=   1.0s\n",
      "[CV] END ......................C=1, max_iter=200, penalty=l2; total time=   0.9s\n",
      "[CV] END ......................C=1, max_iter=200, penalty=l2; total time=   1.0s\n",
      "[CV] END ......................C=1, max_iter=200, penalty=l2; total time=   0.7s\n",
      "[CV] END ......................C=1, max_iter=200, penalty=l2; total time=   1.0s\n",
      "[CV] END ......................C=1, max_iter=200, penalty=l2; total time=   0.9s\n",
      "[CV] END ......................C=1, max_iter=300, penalty=l2; total time=   1.0s\n",
      "[CV] END ......................C=1, max_iter=300, penalty=l2; total time=   0.9s\n",
      "[CV] END ......................C=1, max_iter=300, penalty=l2; total time=   0.9s\n",
      "[CV] END ......................C=1, max_iter=300, penalty=l2; total time=   1.0s\n",
      "[CV] END ......................C=1, max_iter=300, penalty=l2; total time=   0.7s\n",
      "[CV] END ......................C=2, max_iter=100, penalty=l2; total time=   0.9s\n",
      "[CV] END ......................C=2, max_iter=100, penalty=l2; total time=   1.0s\n",
      "[CV] END ......................C=2, max_iter=100, penalty=l2; total time=   0.9s\n",
      "[CV] END ......................C=2, max_iter=100, penalty=l2; total time=   1.0s\n",
      "[CV] END ......................C=2, max_iter=100, penalty=l2; total time=   1.3s\n",
      "[CV] END ......................C=2, max_iter=200, penalty=l2; total time=   1.2s\n",
      "[CV] END ......................C=2, max_iter=200, penalty=l2; total time=   1.0s\n",
      "[CV] END ......................C=2, max_iter=200, penalty=l2; total time=   1.1s\n",
      "[CV] END ......................C=2, max_iter=200, penalty=l2; total time=   1.1s\n",
      "[CV] END ......................C=2, max_iter=200, penalty=l2; total time=   0.9s\n",
      "[CV] END ......................C=2, max_iter=300, penalty=l2; total time=   0.9s\n",
      "[CV] END ......................C=2, max_iter=300, penalty=l2; total time=   0.9s\n",
      "[CV] END ......................C=2, max_iter=300, penalty=l2; total time=   1.0s\n",
      "[CV] END ......................C=2, max_iter=300, penalty=l2; total time=   0.7s\n",
      "[CV] END ......................C=2, max_iter=300, penalty=l2; total time=   1.0s\n",
      "[CV] END ......................C=3, max_iter=100, penalty=l2; total time=   1.1s\n",
      "[CV] END ......................C=3, max_iter=100, penalty=l2; total time=   0.7s\n",
      "[CV] END ......................C=3, max_iter=100, penalty=l2; total time=   0.9s\n",
      "[CV] END ......................C=3, max_iter=100, penalty=l2; total time=   1.3s\n",
      "[CV] END ......................C=3, max_iter=100, penalty=l2; total time=   0.9s\n",
      "[CV] END ......................C=3, max_iter=200, penalty=l2; total time=   0.7s\n",
      "[CV] END ......................C=3, max_iter=200, penalty=l2; total time=   0.8s\n",
      "[CV] END ......................C=3, max_iter=200, penalty=l2; total time=   0.7s\n",
      "[CV] END ......................C=3, max_iter=200, penalty=l2; total time=   1.1s\n",
      "[CV] END ......................C=3, max_iter=200, penalty=l2; total time=   1.3s\n",
      "[CV] END ......................C=3, max_iter=300, penalty=l2; total time=   1.0s\n",
      "[CV] END ......................C=3, max_iter=300, penalty=l2; total time=   1.4s\n",
      "[CV] END ......................C=3, max_iter=300, penalty=l2; total time=   1.0s\n",
      "[CV] END ......................C=3, max_iter=300, penalty=l2; total time=   1.2s\n",
      "[CV] END ......................C=3, max_iter=300, penalty=l2; total time=   1.4s\n",
      "[CV] END ......................C=4, max_iter=100, penalty=l2; total time=   0.9s\n",
      "[CV] END ......................C=4, max_iter=100, penalty=l2; total time=   1.4s\n",
      "[CV] END ......................C=4, max_iter=100, penalty=l2; total time=   1.3s\n",
      "[CV] END ......................C=4, max_iter=100, penalty=l2; total time=   0.8s\n",
      "[CV] END ......................C=4, max_iter=100, penalty=l2; total time=   1.3s\n",
      "[CV] END ......................C=4, max_iter=200, penalty=l2; total time=   0.8s\n",
      "[CV] END ......................C=4, max_iter=200, penalty=l2; total time=   0.9s\n",
      "[CV] END ......................C=4, max_iter=200, penalty=l2; total time=   1.2s\n",
      "[CV] END ......................C=4, max_iter=200, penalty=l2; total time=   1.2s\n",
      "[CV] END ......................C=4, max_iter=200, penalty=l2; total time=   1.2s\n",
      "[CV] END ......................C=4, max_iter=300, penalty=l2; total time=   1.4s\n",
      "[CV] END ......................C=4, max_iter=300, penalty=l2; total time=   1.5s\n",
      "[CV] END ......................C=4, max_iter=300, penalty=l2; total time=   0.6s\n",
      "[CV] END ......................C=4, max_iter=300, penalty=l2; total time=   0.7s\n",
      "[CV] END ......................C=4, max_iter=300, penalty=l2; total time=   1.0s\n",
      "[CV] END ......................C=5, max_iter=100, penalty=l2; total time=   0.9s\n",
      "[CV] END ......................C=5, max_iter=100, penalty=l2; total time=   0.7s\n",
      "[CV] END ......................C=5, max_iter=100, penalty=l2; total time=   1.2s\n",
      "[CV] END ......................C=5, max_iter=100, penalty=l2; total time=   1.3s\n",
      "[CV] END ......................C=5, max_iter=100, penalty=l2; total time=   0.9s\n",
      "[CV] END ......................C=5, max_iter=200, penalty=l2; total time=   1.4s\n",
      "[CV] END ......................C=5, max_iter=200, penalty=l2; total time=   0.8s\n",
      "[CV] END ......................C=5, max_iter=200, penalty=l2; total time=   0.8s\n",
      "[CV] END ......................C=5, max_iter=200, penalty=l2; total time=   0.9s\n",
      "[CV] END ......................C=5, max_iter=200, penalty=l2; total time=   0.8s\n",
      "[CV] END ......................C=5, max_iter=300, penalty=l2; total time=   0.9s\n",
      "[CV] END ......................C=5, max_iter=300, penalty=l2; total time=   1.0s\n",
      "[CV] END ......................C=5, max_iter=300, penalty=l2; total time=   0.8s\n",
      "[CV] END ......................C=5, max_iter=300, penalty=l2; total time=   1.3s\n",
      "[CV] END ......................C=5, max_iter=300, penalty=l2; total time=   1.1s\n",
      "[CV] END ......................C=6, max_iter=100, penalty=l2; total time=   0.9s\n",
      "[CV] END ......................C=6, max_iter=100, penalty=l2; total time=   0.9s\n",
      "[CV] END ......................C=6, max_iter=100, penalty=l2; total time=   0.7s\n",
      "[CV] END ......................C=6, max_iter=100, penalty=l2; total time=   0.9s\n",
      "[CV] END ......................C=6, max_iter=100, penalty=l2; total time=   0.9s\n",
      "[CV] END ......................C=6, max_iter=200, penalty=l2; total time=   0.7s\n",
      "[CV] END ......................C=6, max_iter=200, penalty=l2; total time=   0.8s\n",
      "[CV] END ......................C=6, max_iter=200, penalty=l2; total time=   0.8s\n",
      "[CV] END ......................C=6, max_iter=200, penalty=l2; total time=   0.8s\n",
      "[CV] END ......................C=6, max_iter=200, penalty=l2; total time=   1.0s\n",
      "[CV] END ......................C=6, max_iter=300, penalty=l2; total time=   0.9s\n",
      "[CV] END ......................C=6, max_iter=300, penalty=l2; total time=   0.9s\n",
      "[CV] END ......................C=6, max_iter=300, penalty=l2; total time=   0.8s\n",
      "[CV] END ......................C=6, max_iter=300, penalty=l2; total time=   0.8s\n",
      "[CV] END ......................C=6, max_iter=300, penalty=l2; total time=   0.8s\n",
      "[CV] END .....................C=10, max_iter=100, penalty=l2; total time=   0.9s\n",
      "[CV] END .....................C=10, max_iter=100, penalty=l2; total time=   0.9s\n",
      "[CV] END .....................C=10, max_iter=100, penalty=l2; total time=   1.1s\n",
      "[CV] END .....................C=10, max_iter=100, penalty=l2; total time=   0.9s\n",
      "[CV] END .....................C=10, max_iter=100, penalty=l2; total time=   0.8s\n",
      "[CV] END .....................C=10, max_iter=200, penalty=l2; total time=   0.8s\n",
      "[CV] END .....................C=10, max_iter=200, penalty=l2; total time=   0.9s\n",
      "[CV] END .....................C=10, max_iter=200, penalty=l2; total time=   0.9s\n",
      "[CV] END .....................C=10, max_iter=200, penalty=l2; total time=   1.1s\n",
      "[CV] END .....................C=10, max_iter=200, penalty=l2; total time=   1.1s\n",
      "[CV] END .....................C=10, max_iter=300, penalty=l2; total time=   0.8s\n",
      "[CV] END .....................C=10, max_iter=300, penalty=l2; total time=   0.9s\n",
      "[CV] END .....................C=10, max_iter=300, penalty=l2; total time=   0.8s\n",
      "[CV] END .....................C=10, max_iter=300, penalty=l2; total time=   0.8s\n",
      "[CV] END .....................C=10, max_iter=300, penalty=l2; total time=   1.2s\n",
      "[CV] END .....................C=20, max_iter=100, penalty=l2; total time=   0.8s\n",
      "[CV] END .....................C=20, max_iter=100, penalty=l2; total time=   1.1s\n",
      "[CV] END .....................C=20, max_iter=100, penalty=l2; total time=   0.9s\n",
      "[CV] END .....................C=20, max_iter=100, penalty=l2; total time=   1.0s\n",
      "[CV] END .....................C=20, max_iter=100, penalty=l2; total time=   0.9s\n",
      "[CV] END .....................C=20, max_iter=200, penalty=l2; total time=   0.7s\n",
      "[CV] END .....................C=20, max_iter=200, penalty=l2; total time=   0.8s\n",
      "[CV] END .....................C=20, max_iter=200, penalty=l2; total time=   0.7s\n",
      "[CV] END .....................C=20, max_iter=200, penalty=l2; total time=   0.9s\n",
      "[CV] END .....................C=20, max_iter=200, penalty=l2; total time=   1.0s\n",
      "[CV] END .....................C=20, max_iter=300, penalty=l2; total time=   0.8s\n",
      "[CV] END .....................C=20, max_iter=300, penalty=l2; total time=   0.8s\n",
      "[CV] END .....................C=20, max_iter=300, penalty=l2; total time=   1.7s\n",
      "[CV] END .....................C=20, max_iter=300, penalty=l2; total time=   3.1s\n",
      "[CV] END .....................C=20, max_iter=300, penalty=l2; total time=   3.4s\n",
      "[CV] END .....................C=30, max_iter=100, penalty=l2; total time=   1.9s\n",
      "[CV] END .....................C=30, max_iter=100, penalty=l2; total time=   1.8s\n",
      "[CV] END .....................C=30, max_iter=100, penalty=l2; total time=   1.9s\n",
      "[CV] END .....................C=30, max_iter=100, penalty=l2; total time=   1.0s\n",
      "[CV] END .....................C=30, max_iter=100, penalty=l2; total time=   1.0s\n",
      "[CV] END .....................C=30, max_iter=200, penalty=l2; total time=   0.8s\n",
      "[CV] END .....................C=30, max_iter=200, penalty=l2; total time=   0.8s\n",
      "[CV] END .....................C=30, max_iter=200, penalty=l2; total time=   0.7s\n",
      "[CV] END .....................C=30, max_iter=200, penalty=l2; total time=   0.7s\n",
      "[CV] END .....................C=30, max_iter=200, penalty=l2; total time=   0.8s\n",
      "[CV] END .....................C=30, max_iter=300, penalty=l2; total time=   1.0s\n",
      "[CV] END .....................C=30, max_iter=300, penalty=l2; total time=   0.9s\n",
      "[CV] END .....................C=30, max_iter=300, penalty=l2; total time=   1.3s\n",
      "[CV] END .....................C=30, max_iter=300, penalty=l2; total time=   1.2s\n",
      "[CV] END .....................C=30, max_iter=300, penalty=l2; total time=   1.1s\n",
      "[CV] END .....................C=40, max_iter=100, penalty=l2; total time=   0.7s\n",
      "[CV] END .....................C=40, max_iter=100, penalty=l2; total time=   1.1s\n",
      "[CV] END .....................C=40, max_iter=100, penalty=l2; total time=   0.7s\n",
      "[CV] END .....................C=40, max_iter=100, penalty=l2; total time=   0.7s\n",
      "[CV] END .....................C=40, max_iter=100, penalty=l2; total time=   1.5s\n",
      "[CV] END .....................C=40, max_iter=200, penalty=l2; total time=   0.9s\n",
      "[CV] END .....................C=40, max_iter=200, penalty=l2; total time=   0.7s\n",
      "[CV] END .....................C=40, max_iter=200, penalty=l2; total time=   0.7s\n",
      "[CV] END .....................C=40, max_iter=200, penalty=l2; total time=   1.0s\n",
      "[CV] END .....................C=40, max_iter=200, penalty=l2; total time=   1.5s\n",
      "[CV] END .....................C=40, max_iter=300, penalty=l2; total time=   1.2s\n",
      "[CV] END .....................C=40, max_iter=300, penalty=l2; total time=   1.5s\n",
      "[CV] END .....................C=40, max_iter=300, penalty=l2; total time=   0.8s\n",
      "[CV] END .....................C=40, max_iter=300, penalty=l2; total time=   0.7s\n",
      "[CV] END .....................C=40, max_iter=300, penalty=l2; total time=   0.8s\n",
      "[CV] END .....................C=50, max_iter=100, penalty=l2; total time=   0.8s\n",
      "[CV] END .....................C=50, max_iter=100, penalty=l2; total time=   0.8s\n",
      "[CV] END .....................C=50, max_iter=100, penalty=l2; total time=   1.0s\n",
      "[CV] END .....................C=50, max_iter=100, penalty=l2; total time=   1.5s\n",
      "[CV] END .....................C=50, max_iter=100, penalty=l2; total time=   1.0s\n",
      "[CV] END .....................C=50, max_iter=200, penalty=l2; total time=   0.9s\n",
      "[CV] END .....................C=50, max_iter=200, penalty=l2; total time=   1.1s\n",
      "[CV] END .....................C=50, max_iter=200, penalty=l2; total time=   0.6s\n",
      "[CV] END .....................C=50, max_iter=200, penalty=l2; total time=   0.7s\n",
      "[CV] END .....................C=50, max_iter=200, penalty=l2; total time=   0.9s\n",
      "[CV] END .....................C=50, max_iter=300, penalty=l2; total time=   0.8s\n",
      "[CV] END .....................C=50, max_iter=300, penalty=l2; total time=   0.7s\n",
      "[CV] END .....................C=50, max_iter=300, penalty=l2; total time=   0.8s\n",
      "[CV] END .....................C=50, max_iter=300, penalty=l2; total time=   0.8s\n",
      "[CV] END .....................C=50, max_iter=300, penalty=l2; total time=   0.9s\n"
     ]
    },
    {
     "data": {
      "text/html": [
       "<style>#sk-container-id-2 {color: black;background-color: white;}#sk-container-id-2 pre{padding: 0;}#sk-container-id-2 div.sk-toggleable {background-color: white;}#sk-container-id-2 label.sk-toggleable__label {cursor: pointer;display: block;width: 100%;margin-bottom: 0;padding: 0.3em;box-sizing: border-box;text-align: center;}#sk-container-id-2 label.sk-toggleable__label-arrow:before {content: \"▸\";float: left;margin-right: 0.25em;color: #696969;}#sk-container-id-2 label.sk-toggleable__label-arrow:hover:before {color: black;}#sk-container-id-2 div.sk-estimator:hover label.sk-toggleable__label-arrow:before {color: black;}#sk-container-id-2 div.sk-toggleable__content {max-height: 0;max-width: 0;overflow: hidden;text-align: left;background-color: #f0f8ff;}#sk-container-id-2 div.sk-toggleable__content pre {margin: 0.2em;color: black;border-radius: 0.25em;background-color: #f0f8ff;}#sk-container-id-2 input.sk-toggleable__control:checked~div.sk-toggleable__content {max-height: 200px;max-width: 100%;overflow: auto;}#sk-container-id-2 input.sk-toggleable__control:checked~label.sk-toggleable__label-arrow:before {content: \"▾\";}#sk-container-id-2 div.sk-estimator input.sk-toggleable__control:checked~label.sk-toggleable__label {background-color: #d4ebff;}#sk-container-id-2 div.sk-label input.sk-toggleable__control:checked~label.sk-toggleable__label {background-color: #d4ebff;}#sk-container-id-2 input.sk-hidden--visually {border: 0;clip: rect(1px 1px 1px 1px);clip: rect(1px, 1px, 1px, 1px);height: 1px;margin: -1px;overflow: hidden;padding: 0;position: absolute;width: 1px;}#sk-container-id-2 div.sk-estimator {font-family: monospace;background-color: #f0f8ff;border: 1px dotted black;border-radius: 0.25em;box-sizing: border-box;margin-bottom: 0.5em;}#sk-container-id-2 div.sk-estimator:hover {background-color: #d4ebff;}#sk-container-id-2 div.sk-parallel-item::after {content: \"\";width: 100%;border-bottom: 1px solid gray;flex-grow: 1;}#sk-container-id-2 div.sk-label:hover label.sk-toggleable__label {background-color: #d4ebff;}#sk-container-id-2 div.sk-serial::before {content: \"\";position: absolute;border-left: 1px solid gray;box-sizing: border-box;top: 0;bottom: 0;left: 50%;z-index: 0;}#sk-container-id-2 div.sk-serial {display: flex;flex-direction: column;align-items: center;background-color: white;padding-right: 0.2em;padding-left: 0.2em;position: relative;}#sk-container-id-2 div.sk-item {position: relative;z-index: 1;}#sk-container-id-2 div.sk-parallel {display: flex;align-items: stretch;justify-content: center;background-color: white;position: relative;}#sk-container-id-2 div.sk-item::before, #sk-container-id-2 div.sk-parallel-item::before {content: \"\";position: absolute;border-left: 1px solid gray;box-sizing: border-box;top: 0;bottom: 0;left: 50%;z-index: -1;}#sk-container-id-2 div.sk-parallel-item {display: flex;flex-direction: column;z-index: 1;position: relative;background-color: white;}#sk-container-id-2 div.sk-parallel-item:first-child::after {align-self: flex-end;width: 50%;}#sk-container-id-2 div.sk-parallel-item:last-child::after {align-self: flex-start;width: 50%;}#sk-container-id-2 div.sk-parallel-item:only-child::after {width: 0;}#sk-container-id-2 div.sk-dashed-wrapped {border: 1px dashed gray;margin: 0 0.4em 0.5em 0.4em;box-sizing: border-box;padding-bottom: 0.4em;background-color: white;}#sk-container-id-2 div.sk-label label {font-family: monospace;font-weight: bold;display: inline-block;line-height: 1.2em;}#sk-container-id-2 div.sk-label-container {text-align: center;}#sk-container-id-2 div.sk-container {/* jupyter's `normalize.less` sets `[hidden] { display: none; }` but bootstrap.min.css set `[hidden] { display: none !important; }` so we also need the `!important` here to be able to override the default hidden behavior on the sphinx rendered scikit-learn.org. See: https://github.com/scikit-learn/scikit-learn/issues/21755 */display: inline-block !important;position: relative;}#sk-container-id-2 div.sk-text-repr-fallback {display: none;}</style><div id=\"sk-container-id-2\" class=\"sk-top-container\"><div class=\"sk-text-repr-fallback\"><pre>GridSearchCV(cv=5, error_score=&#x27;raise&#x27;, estimator=LogisticRegression(),\n",
       "             param_grid={&#x27;C&#x27;: [1, 2, 3, 4, 5, 6, 10, 20, 30, 40, 50],\n",
       "                         &#x27;max_iter&#x27;: [100, 200, 300], &#x27;penalty&#x27;: [&#x27;l2&#x27;]},\n",
       "             scoring=&#x27;accuracy&#x27;, verbose=2)</pre><b>In a Jupyter environment, please rerun this cell to show the HTML representation or trust the notebook. <br />On GitHub, the HTML representation is unable to render, please try loading this page with nbviewer.org.</b></div><div class=\"sk-container\" hidden><div class=\"sk-item sk-dashed-wrapped\"><div class=\"sk-label-container\"><div class=\"sk-label sk-toggleable\"><input class=\"sk-toggleable__control sk-hidden--visually\" id=\"sk-estimator-id-2\" type=\"checkbox\" ><label for=\"sk-estimator-id-2\" class=\"sk-toggleable__label sk-toggleable__label-arrow\">GridSearchCV</label><div class=\"sk-toggleable__content\"><pre>GridSearchCV(cv=5, error_score=&#x27;raise&#x27;, estimator=LogisticRegression(),\n",
       "             param_grid={&#x27;C&#x27;: [1, 2, 3, 4, 5, 6, 10, 20, 30, 40, 50],\n",
       "                         &#x27;max_iter&#x27;: [100, 200, 300], &#x27;penalty&#x27;: [&#x27;l2&#x27;]},\n",
       "             scoring=&#x27;accuracy&#x27;, verbose=2)</pre></div></div></div><div class=\"sk-parallel\"><div class=\"sk-parallel-item\"><div class=\"sk-item\"><div class=\"sk-label-container\"><div class=\"sk-label sk-toggleable\"><input class=\"sk-toggleable__control sk-hidden--visually\" id=\"sk-estimator-id-3\" type=\"checkbox\" ><label for=\"sk-estimator-id-3\" class=\"sk-toggleable__label sk-toggleable__label-arrow\">estimator: LogisticRegression</label><div class=\"sk-toggleable__content\"><pre>LogisticRegression()</pre></div></div></div><div class=\"sk-serial\"><div class=\"sk-item\"><div class=\"sk-estimator sk-toggleable\"><input class=\"sk-toggleable__control sk-hidden--visually\" id=\"sk-estimator-id-4\" type=\"checkbox\" ><label for=\"sk-estimator-id-4\" class=\"sk-toggleable__label sk-toggleable__label-arrow\">LogisticRegression</label><div class=\"sk-toggleable__content\"><pre>LogisticRegression()</pre></div></div></div></div></div></div></div></div></div></div>"
      ],
      "text/plain": [
       "GridSearchCV(cv=5, error_score='raise', estimator=LogisticRegression(),\n",
       "             param_grid={'C': [1, 2, 3, 4, 5, 6, 10, 20, 30, 40, 50],\n",
       "                         'max_iter': [100, 200, 300], 'penalty': ['l2']},\n",
       "             scoring='accuracy', verbose=2)"
      ]
     },
     "execution_count": 13,
     "metadata": {},
     "output_type": "execute_result"
    }
   ],
   "source": [
    "classifier_regressor = GridSearchCV(classifier, param_grid =parameter, scoring = 'accuracy', error_score='raise',cv = 5, verbose = 2)\n",
    "classifier_regressor.fit(X_train, Y_train)"
   ]
  },
  {
   "cell_type": "code",
   "execution_count": 14,
   "metadata": {},
   "outputs": [
    {
     "name": "stdout",
     "output_type": "stream",
     "text": [
      "{'C': 1, 'max_iter': 100, 'penalty': 'l2'}\n"
     ]
    }
   ],
   "source": [
    "print(classifier_regressor.best_params_)"
   ]
  },
  {
   "cell_type": "code",
   "execution_count": 15,
   "metadata": {},
   "outputs": [
    {
     "name": "stdout",
     "output_type": "stream",
     "text": [
      "0.5669363277332717\n"
     ]
    }
   ],
   "source": [
    "print(classifier_regressor.best_score_)"
   ]
  },
  {
   "cell_type": "code",
   "execution_count": 16,
   "metadata": {},
   "outputs": [],
   "source": [
    "##prediction\n",
    "y_pred = classifier_regressor.predict(X_test)"
   ]
  },
  {
   "cell_type": "code",
   "execution_count": 17,
   "metadata": {},
   "outputs": [
    {
     "name": "stdout",
     "output_type": "stream",
     "text": [
      "0.5697743585676329\n"
     ]
    }
   ],
   "source": [
    "score = accuracy_score(y_pred, Y_test)\n",
    "print(score)"
   ]
  },
  {
   "cell_type": "code",
   "execution_count": 18,
   "metadata": {},
   "outputs": [
    {
     "name": "stdout",
     "output_type": "stream",
     "text": [
      "              precision    recall  f1-score   support\n",
      "\n",
      "           0       0.55      0.57      0.56     48908\n",
      "           1       0.58      0.57      0.58     51960\n",
      "\n",
      "    accuracy                           0.57    100868\n",
      "   macro avg       0.57      0.57      0.57    100868\n",
      "weighted avg       0.57      0.57      0.57    100868\n",
      "\n"
     ]
    }
   ],
   "source": [
    "report = classification_report(y_pred,Y_test)\n",
    "print(report)"
   ]
  },
  {
   "cell_type": "code",
   "execution_count": null,
   "metadata": {},
   "outputs": [],
   "source": []
  }
 ],
 "metadata": {
  "kernelspec": {
   "display_name": "Python 3 (ipykernel)",
   "language": "python",
   "name": "python3"
  },
  "language_info": {
   "codemirror_mode": {
    "name": "ipython",
    "version": 3
   },
   "file_extension": ".py",
   "mimetype": "text/x-python",
   "name": "python",
   "nbconvert_exporter": "python",
   "pygments_lexer": "ipython3",
   "version": "3.9.12"
  },
  "vscode": {
   "interpreter": {
    "hash": "425aa5fac1af2c2b2daa42dcae890837cc1a879be8cd68510719d5942fa4f50e"
   }
  }
 },
 "nbformat": 4,
 "nbformat_minor": 2
}
