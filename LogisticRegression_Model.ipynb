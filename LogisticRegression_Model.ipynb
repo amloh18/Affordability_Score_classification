{
 "cells": [
  {
   "cell_type": "markdown",
   "metadata": {},
   "source": [
    "#### Importing Libraries"
   ]
  },
  {
   "cell_type": "code",
   "execution_count": 25,
   "metadata": {},
   "outputs": [],
   "source": [
    "import pandas as pd\n",
    "import numpy as np\n",
    "from sklearn.model_selection import train_test_split\n",
    "from sklearn.linear_model import LogisticRegression\n",
    "from sklearn.model_selection import GridSearchCV\n",
    "from sklearn.utils import resample\n",
    "from sklearn.metrics import accuracy_score, classification_report, plot_confusion_matrix, roc_auc_score, roc_curve\n",
    "import seaborn as sns"
   ]
  },
  {
   "cell_type": "markdown",
   "metadata": {},
   "source": [
    "### Loading the dataset"
   ]
  },
  {
   "cell_type": "code",
   "execution_count": 2,
   "metadata": {},
   "outputs": [
    {
     "data": {
      "text/html": [
       "<div>\n",
       "<style scoped>\n",
       "    .dataframe tbody tr th:only-of-type {\n",
       "        vertical-align: middle;\n",
       "    }\n",
       "\n",
       "    .dataframe tbody tr th {\n",
       "        vertical-align: top;\n",
       "    }\n",
       "\n",
       "    .dataframe thead th {\n",
       "        text-align: right;\n",
       "    }\n",
       "</style>\n",
       "<table border=\"1\" class=\"dataframe\">\n",
       "  <thead>\n",
       "    <tr style=\"text-align: right;\">\n",
       "      <th></th>\n",
       "      <th>Unnamed: 0</th>\n",
       "      <th>SK_ID_CURR</th>\n",
       "      <th>TARGET</th>\n",
       "      <th>NAME_CONTRACT_TYPE</th>\n",
       "      <th>CODE_GENDER</th>\n",
       "      <th>FLAG_OWN_CAR</th>\n",
       "      <th>FLAG_OWN_REALTY</th>\n",
       "      <th>AMT_INCOME_TOTAL</th>\n",
       "      <th>AMT_CREDIT</th>\n",
       "      <th>AMT_ANNUITY</th>\n",
       "      <th>...</th>\n",
       "      <th>NAME_INCOME_TYPE_2</th>\n",
       "      <th>NAME_INCOME_TYPE_3</th>\n",
       "      <th>NAME_INCOME_TYPE_4</th>\n",
       "      <th>NAME_EDUCATION_TYPE_0</th>\n",
       "      <th>NAME_EDUCATION_TYPE_1</th>\n",
       "      <th>NAME_EDUCATION_TYPE_2</th>\n",
       "      <th>NAME_EDUCATION_TYPE_3</th>\n",
       "      <th>NAME_FAMILY_STATUS_0</th>\n",
       "      <th>NAME_FAMILY_STATUS_1</th>\n",
       "      <th>NAME_FAMILY_STATUS_2</th>\n",
       "    </tr>\n",
       "  </thead>\n",
       "  <tbody>\n",
       "    <tr>\n",
       "      <th>93019</th>\n",
       "      <td>102520</td>\n",
       "      <td>297060</td>\n",
       "      <td>0</td>\n",
       "      <td>0</td>\n",
       "      <td>0</td>\n",
       "      <td>1</td>\n",
       "      <td>0</td>\n",
       "      <td>225000.0</td>\n",
       "      <td>450000.0</td>\n",
       "      <td>21109.5</td>\n",
       "      <td>...</td>\n",
       "      <td>0</td>\n",
       "      <td>1</td>\n",
       "      <td>0</td>\n",
       "      <td>0</td>\n",
       "      <td>0</td>\n",
       "      <td>1</td>\n",
       "      <td>0</td>\n",
       "      <td>1</td>\n",
       "      <td>0</td>\n",
       "      <td>0</td>\n",
       "    </tr>\n",
       "    <tr>\n",
       "      <th>95290</th>\n",
       "      <td>105036</td>\n",
       "      <td>301862</td>\n",
       "      <td>0</td>\n",
       "      <td>0</td>\n",
       "      <td>0</td>\n",
       "      <td>1</td>\n",
       "      <td>1</td>\n",
       "      <td>180000.0</td>\n",
       "      <td>463284.0</td>\n",
       "      <td>22531.5</td>\n",
       "      <td>...</td>\n",
       "      <td>0</td>\n",
       "      <td>1</td>\n",
       "      <td>0</td>\n",
       "      <td>0</td>\n",
       "      <td>1</td>\n",
       "      <td>0</td>\n",
       "      <td>0</td>\n",
       "      <td>0</td>\n",
       "      <td>0</td>\n",
       "      <td>1</td>\n",
       "    </tr>\n",
       "    <tr>\n",
       "      <th>255920</th>\n",
       "      <td>141293</td>\n",
       "      <td>371873</td>\n",
       "      <td>1</td>\n",
       "      <td>0</td>\n",
       "      <td>1</td>\n",
       "      <td>0</td>\n",
       "      <td>1</td>\n",
       "      <td>135000.0</td>\n",
       "      <td>436032.0</td>\n",
       "      <td>28516.5</td>\n",
       "      <td>...</td>\n",
       "      <td>0</td>\n",
       "      <td>1</td>\n",
       "      <td>0</td>\n",
       "      <td>0</td>\n",
       "      <td>1</td>\n",
       "      <td>0</td>\n",
       "      <td>0</td>\n",
       "      <td>0</td>\n",
       "      <td>0</td>\n",
       "      <td>1</td>\n",
       "    </tr>\n",
       "    <tr>\n",
       "      <th>229504</th>\n",
       "      <td>15995</td>\n",
       "      <td>130813</td>\n",
       "      <td>1</td>\n",
       "      <td>0</td>\n",
       "      <td>1</td>\n",
       "      <td>0</td>\n",
       "      <td>1</td>\n",
       "      <td>189000.0</td>\n",
       "      <td>746280.0</td>\n",
       "      <td>59094.0</td>\n",
       "      <td>...</td>\n",
       "      <td>0</td>\n",
       "      <td>1</td>\n",
       "      <td>0</td>\n",
       "      <td>0</td>\n",
       "      <td>1</td>\n",
       "      <td>0</td>\n",
       "      <td>0</td>\n",
       "      <td>0</td>\n",
       "      <td>0</td>\n",
       "      <td>1</td>\n",
       "    </tr>\n",
       "    <tr>\n",
       "      <th>182838</th>\n",
       "      <td>62070</td>\n",
       "      <td>219592</td>\n",
       "      <td>1</td>\n",
       "      <td>0</td>\n",
       "      <td>0</td>\n",
       "      <td>1</td>\n",
       "      <td>1</td>\n",
       "      <td>225000.0</td>\n",
       "      <td>545040.0</td>\n",
       "      <td>26640.0</td>\n",
       "      <td>...</td>\n",
       "      <td>0</td>\n",
       "      <td>1</td>\n",
       "      <td>0</td>\n",
       "      <td>0</td>\n",
       "      <td>0</td>\n",
       "      <td>1</td>\n",
       "      <td>0</td>\n",
       "      <td>0</td>\n",
       "      <td>1</td>\n",
       "      <td>0</td>\n",
       "    </tr>\n",
       "    <tr>\n",
       "      <th>49299</th>\n",
       "      <td>54291</td>\n",
       "      <td>204735</td>\n",
       "      <td>0</td>\n",
       "      <td>0</td>\n",
       "      <td>0</td>\n",
       "      <td>1</td>\n",
       "      <td>0</td>\n",
       "      <td>90000.0</td>\n",
       "      <td>464463.0</td>\n",
       "      <td>25195.5</td>\n",
       "      <td>...</td>\n",
       "      <td>0</td>\n",
       "      <td>1</td>\n",
       "      <td>0</td>\n",
       "      <td>0</td>\n",
       "      <td>1</td>\n",
       "      <td>0</td>\n",
       "      <td>0</td>\n",
       "      <td>0</td>\n",
       "      <td>0</td>\n",
       "      <td>1</td>\n",
       "    </tr>\n",
       "    <tr>\n",
       "      <th>231947</th>\n",
       "      <td>75738</td>\n",
       "      <td>245745</td>\n",
       "      <td>1</td>\n",
       "      <td>0</td>\n",
       "      <td>1</td>\n",
       "      <td>0</td>\n",
       "      <td>1</td>\n",
       "      <td>225000.0</td>\n",
       "      <td>562491.0</td>\n",
       "      <td>23962.5</td>\n",
       "      <td>...</td>\n",
       "      <td>0</td>\n",
       "      <td>1</td>\n",
       "      <td>0</td>\n",
       "      <td>0</td>\n",
       "      <td>1</td>\n",
       "      <td>0</td>\n",
       "      <td>0</td>\n",
       "      <td>1</td>\n",
       "      <td>0</td>\n",
       "      <td>0</td>\n",
       "    </tr>\n",
       "    <tr>\n",
       "      <th>25498</th>\n",
       "      <td>28070</td>\n",
       "      <td>153999</td>\n",
       "      <td>0</td>\n",
       "      <td>0</td>\n",
       "      <td>1</td>\n",
       "      <td>1</td>\n",
       "      <td>1</td>\n",
       "      <td>225000.0</td>\n",
       "      <td>835380.0</td>\n",
       "      <td>35523.0</td>\n",
       "      <td>...</td>\n",
       "      <td>0</td>\n",
       "      <td>1</td>\n",
       "      <td>0</td>\n",
       "      <td>0</td>\n",
       "      <td>1</td>\n",
       "      <td>0</td>\n",
       "      <td>0</td>\n",
       "      <td>0</td>\n",
       "      <td>0</td>\n",
       "      <td>1</td>\n",
       "    </tr>\n",
       "    <tr>\n",
       "      <th>165824</th>\n",
       "      <td>182657</td>\n",
       "      <td>451426</td>\n",
       "      <td>0</td>\n",
       "      <td>0</td>\n",
       "      <td>0</td>\n",
       "      <td>0</td>\n",
       "      <td>1</td>\n",
       "      <td>382500.0</td>\n",
       "      <td>1546141.5</td>\n",
       "      <td>82377.0</td>\n",
       "      <td>...</td>\n",
       "      <td>0</td>\n",
       "      <td>1</td>\n",
       "      <td>0</td>\n",
       "      <td>0</td>\n",
       "      <td>1</td>\n",
       "      <td>0</td>\n",
       "      <td>0</td>\n",
       "      <td>1</td>\n",
       "      <td>0</td>\n",
       "      <td>0</td>\n",
       "    </tr>\n",
       "    <tr>\n",
       "      <th>20305</th>\n",
       "      <td>22363</td>\n",
       "      <td>143165</td>\n",
       "      <td>0</td>\n",
       "      <td>0</td>\n",
       "      <td>1</td>\n",
       "      <td>0</td>\n",
       "      <td>1</td>\n",
       "      <td>202500.0</td>\n",
       "      <td>257562.0</td>\n",
       "      <td>14103.0</td>\n",
       "      <td>...</td>\n",
       "      <td>0</td>\n",
       "      <td>1</td>\n",
       "      <td>0</td>\n",
       "      <td>0</td>\n",
       "      <td>0</td>\n",
       "      <td>1</td>\n",
       "      <td>0</td>\n",
       "      <td>1</td>\n",
       "      <td>0</td>\n",
       "      <td>0</td>\n",
       "    </tr>\n",
       "  </tbody>\n",
       "</table>\n",
       "<p>10 rows × 60 columns</p>\n",
       "</div>"
      ],
      "text/plain": [
       "        Unnamed: 0  SK_ID_CURR  TARGET  NAME_CONTRACT_TYPE  CODE_GENDER  \\\n",
       "93019       102520      297060       0                   0            0   \n",
       "95290       105036      301862       0                   0            0   \n",
       "255920      141293      371873       1                   0            1   \n",
       "229504       15995      130813       1                   0            1   \n",
       "182838       62070      219592       1                   0            0   \n",
       "49299        54291      204735       0                   0            0   \n",
       "231947       75738      245745       1                   0            1   \n",
       "25498        28070      153999       0                   0            1   \n",
       "165824      182657      451426       0                   0            0   \n",
       "20305        22363      143165       0                   0            1   \n",
       "\n",
       "        FLAG_OWN_CAR  FLAG_OWN_REALTY  AMT_INCOME_TOTAL  AMT_CREDIT  \\\n",
       "93019              1                0          225000.0    450000.0   \n",
       "95290              1                1          180000.0    463284.0   \n",
       "255920             0                1          135000.0    436032.0   \n",
       "229504             0                1          189000.0    746280.0   \n",
       "182838             1                1          225000.0    545040.0   \n",
       "49299              1                0           90000.0    464463.0   \n",
       "231947             0                1          225000.0    562491.0   \n",
       "25498              1                1          225000.0    835380.0   \n",
       "165824             0                1          382500.0   1546141.5   \n",
       "20305              0                1          202500.0    257562.0   \n",
       "\n",
       "        AMT_ANNUITY  ...  NAME_INCOME_TYPE_2  NAME_INCOME_TYPE_3  \\\n",
       "93019       21109.5  ...                   0                   1   \n",
       "95290       22531.5  ...                   0                   1   \n",
       "255920      28516.5  ...                   0                   1   \n",
       "229504      59094.0  ...                   0                   1   \n",
       "182838      26640.0  ...                   0                   1   \n",
       "49299       25195.5  ...                   0                   1   \n",
       "231947      23962.5  ...                   0                   1   \n",
       "25498       35523.0  ...                   0                   1   \n",
       "165824      82377.0  ...                   0                   1   \n",
       "20305       14103.0  ...                   0                   1   \n",
       "\n",
       "        NAME_INCOME_TYPE_4  NAME_EDUCATION_TYPE_0  NAME_EDUCATION_TYPE_1  \\\n",
       "93019                    0                      0                      0   \n",
       "95290                    0                      0                      1   \n",
       "255920                   0                      0                      1   \n",
       "229504                   0                      0                      1   \n",
       "182838                   0                      0                      0   \n",
       "49299                    0                      0                      1   \n",
       "231947                   0                      0                      1   \n",
       "25498                    0                      0                      1   \n",
       "165824                   0                      0                      1   \n",
       "20305                    0                      0                      0   \n",
       "\n",
       "        NAME_EDUCATION_TYPE_2  NAME_EDUCATION_TYPE_3  NAME_FAMILY_STATUS_0  \\\n",
       "93019                       1                      0                     1   \n",
       "95290                       0                      0                     0   \n",
       "255920                      0                      0                     0   \n",
       "229504                      0                      0                     0   \n",
       "182838                      1                      0                     0   \n",
       "49299                       0                      0                     0   \n",
       "231947                      0                      0                     1   \n",
       "25498                       0                      0                     0   \n",
       "165824                      0                      0                     1   \n",
       "20305                       1                      0                     1   \n",
       "\n",
       "        NAME_FAMILY_STATUS_1  NAME_FAMILY_STATUS_2  \n",
       "93019                      0                     0  \n",
       "95290                      0                     1  \n",
       "255920                     0                     1  \n",
       "229504                     0                     1  \n",
       "182838                     1                     0  \n",
       "49299                      0                     1  \n",
       "231947                     0                     0  \n",
       "25498                      0                     1  \n",
       "165824                     0                     0  \n",
       "20305                      0                     0  \n",
       "\n",
       "[10 rows x 60 columns]"
      ]
     },
     "execution_count": 2,
     "metadata": {},
     "output_type": "execute_result"
    }
   ],
   "source": [
    "data = pd.read_csv('/Users/amarjotsinghlohia/Documents/Dissertation/Data/home-credit-default-risk/application_train_upsampled.csv')\n",
    "data.sample(10)"
   ]
  },
  {
   "cell_type": "markdown",
   "metadata": {},
   "source": [
    "### Counts of different class in Target variable"
   ]
  },
  {
   "cell_type": "code",
   "execution_count": 3,
   "metadata": {},
   "outputs": [
    {
     "data": {
      "text/plain": [
       "0    168113\n",
       "1    168113\n",
       "Name: TARGET, dtype: int64"
      ]
     },
     "execution_count": 3,
     "metadata": {},
     "output_type": "execute_result"
    }
   ],
   "source": [
    "data['TARGET'].value_counts()"
   ]
  },
  {
   "cell_type": "code",
   "execution_count": 5,
   "metadata": {},
   "outputs": [
    {
     "data": {
      "text/plain": [
       "((336226, 57), (336226,))"
      ]
     },
     "execution_count": 5,
     "metadata": {},
     "output_type": "execute_result"
    }
   ],
   "source": [
    "#Splitting into target and no-target dataset\n",
    "X = data.iloc[:,3:]\n",
    "Y = data['TARGET']\n",
    "X.shape, Y.shape"
   ]
  },
  {
   "cell_type": "code",
   "execution_count": 6,
   "metadata": {},
   "outputs": [
    {
     "name": "stdout",
     "output_type": "stream",
     "text": [
      "(336226, 57) (235358, 57) (100868, 57) (336226,) (235358,) (100868,)\n"
     ]
    }
   ],
   "source": [
    "#Splitting into training and test data\n",
    "\n",
    "X_train, X_test, Y_train, Y_test = train_test_split(X, Y, test_size = 0.30, stratify= Y)\n",
    "print(X.shape, X_train.shape, X_test.shape, Y.shape, Y_train.shape, Y_test.shape)"
   ]
  },
  {
   "cell_type": "markdown",
   "metadata": {},
   "source": [
    "## Logistic Regression model call and fit"
   ]
  },
  {
   "cell_type": "code",
   "execution_count": 7,
   "metadata": {},
   "outputs": [
    {
     "data": {
      "text/html": [
       "<style>#sk-container-id-1 {color: black;background-color: white;}#sk-container-id-1 pre{padding: 0;}#sk-container-id-1 div.sk-toggleable {background-color: white;}#sk-container-id-1 label.sk-toggleable__label {cursor: pointer;display: block;width: 100%;margin-bottom: 0;padding: 0.3em;box-sizing: border-box;text-align: center;}#sk-container-id-1 label.sk-toggleable__label-arrow:before {content: \"▸\";float: left;margin-right: 0.25em;color: #696969;}#sk-container-id-1 label.sk-toggleable__label-arrow:hover:before {color: black;}#sk-container-id-1 div.sk-estimator:hover label.sk-toggleable__label-arrow:before {color: black;}#sk-container-id-1 div.sk-toggleable__content {max-height: 0;max-width: 0;overflow: hidden;text-align: left;background-color: #f0f8ff;}#sk-container-id-1 div.sk-toggleable__content pre {margin: 0.2em;color: black;border-radius: 0.25em;background-color: #f0f8ff;}#sk-container-id-1 input.sk-toggleable__control:checked~div.sk-toggleable__content {max-height: 200px;max-width: 100%;overflow: auto;}#sk-container-id-1 input.sk-toggleable__control:checked~label.sk-toggleable__label-arrow:before {content: \"▾\";}#sk-container-id-1 div.sk-estimator input.sk-toggleable__control:checked~label.sk-toggleable__label {background-color: #d4ebff;}#sk-container-id-1 div.sk-label input.sk-toggleable__control:checked~label.sk-toggleable__label {background-color: #d4ebff;}#sk-container-id-1 input.sk-hidden--visually {border: 0;clip: rect(1px 1px 1px 1px);clip: rect(1px, 1px, 1px, 1px);height: 1px;margin: -1px;overflow: hidden;padding: 0;position: absolute;width: 1px;}#sk-container-id-1 div.sk-estimator {font-family: monospace;background-color: #f0f8ff;border: 1px dotted black;border-radius: 0.25em;box-sizing: border-box;margin-bottom: 0.5em;}#sk-container-id-1 div.sk-estimator:hover {background-color: #d4ebff;}#sk-container-id-1 div.sk-parallel-item::after {content: \"\";width: 100%;border-bottom: 1px solid gray;flex-grow: 1;}#sk-container-id-1 div.sk-label:hover label.sk-toggleable__label {background-color: #d4ebff;}#sk-container-id-1 div.sk-serial::before {content: \"\";position: absolute;border-left: 1px solid gray;box-sizing: border-box;top: 0;bottom: 0;left: 50%;z-index: 0;}#sk-container-id-1 div.sk-serial {display: flex;flex-direction: column;align-items: center;background-color: white;padding-right: 0.2em;padding-left: 0.2em;position: relative;}#sk-container-id-1 div.sk-item {position: relative;z-index: 1;}#sk-container-id-1 div.sk-parallel {display: flex;align-items: stretch;justify-content: center;background-color: white;position: relative;}#sk-container-id-1 div.sk-item::before, #sk-container-id-1 div.sk-parallel-item::before {content: \"\";position: absolute;border-left: 1px solid gray;box-sizing: border-box;top: 0;bottom: 0;left: 50%;z-index: -1;}#sk-container-id-1 div.sk-parallel-item {display: flex;flex-direction: column;z-index: 1;position: relative;background-color: white;}#sk-container-id-1 div.sk-parallel-item:first-child::after {align-self: flex-end;width: 50%;}#sk-container-id-1 div.sk-parallel-item:last-child::after {align-self: flex-start;width: 50%;}#sk-container-id-1 div.sk-parallel-item:only-child::after {width: 0;}#sk-container-id-1 div.sk-dashed-wrapped {border: 1px dashed gray;margin: 0 0.4em 0.5em 0.4em;box-sizing: border-box;padding-bottom: 0.4em;background-color: white;}#sk-container-id-1 div.sk-label label {font-family: monospace;font-weight: bold;display: inline-block;line-height: 1.2em;}#sk-container-id-1 div.sk-label-container {text-align: center;}#sk-container-id-1 div.sk-container {/* jupyter's `normalize.less` sets `[hidden] { display: none; }` but bootstrap.min.css set `[hidden] { display: none !important; }` so we also need the `!important` here to be able to override the default hidden behavior on the sphinx rendered scikit-learn.org. See: https://github.com/scikit-learn/scikit-learn/issues/21755 */display: inline-block !important;position: relative;}#sk-container-id-1 div.sk-text-repr-fallback {display: none;}</style><div id=\"sk-container-id-1\" class=\"sk-top-container\"><div class=\"sk-text-repr-fallback\"><pre>LogisticRegression()</pre><b>In a Jupyter environment, please rerun this cell to show the HTML representation or trust the notebook. <br />On GitHub, the HTML representation is unable to render, please try loading this page with nbviewer.org.</b></div><div class=\"sk-container\" hidden><div class=\"sk-item\"><div class=\"sk-estimator sk-toggleable\"><input class=\"sk-toggleable__control sk-hidden--visually\" id=\"sk-estimator-id-1\" type=\"checkbox\" checked><label for=\"sk-estimator-id-1\" class=\"sk-toggleable__label sk-toggleable__label-arrow\">LogisticRegression</label><div class=\"sk-toggleable__content\"><pre>LogisticRegression()</pre></div></div></div></div></div>"
      ],
      "text/plain": [
       "LogisticRegression()"
      ]
     },
     "execution_count": 7,
     "metadata": {},
     "output_type": "execute_result"
    }
   ],
   "source": [
    "model = LogisticRegression()\n",
    "model.fit(X_train, Y_train)\n"
   ]
  },
  {
   "cell_type": "markdown",
   "metadata": {},
   "source": [
    "### Performing different metrics"
   ]
  },
  {
   "cell_type": "code",
   "execution_count": 8,
   "metadata": {},
   "outputs": [
    {
     "name": "stdout",
     "output_type": "stream",
     "text": [
      "0.5673156997263751\n",
      "              precision    recall  f1-score   support\n",
      "\n",
      "           0       0.56      0.57      0.56     49378\n",
      "           1       0.58      0.57      0.57     51490\n",
      "\n",
      "    accuracy                           0.57    100868\n",
      "   macro avg       0.57      0.57      0.57    100868\n",
      "weighted avg       0.57      0.57      0.57    100868\n",
      "\n"
     ]
    }
   ],
   "source": [
    "print(model.score(X_test, Y_test))\n",
    "Y_pred = model.predict(X_test)\n",
    "print(classification_report(Y_pred,Y_test))"
   ]
  },
  {
   "cell_type": "code",
   "execution_count": 22,
   "metadata": {},
   "outputs": [
    {
     "name": "stderr",
     "output_type": "stream",
     "text": [
      "/Users/amarjotsinghlohia/.local/lib/python3.9/site-packages/sklearn/utils/deprecation.py:87: FutureWarning: Function plot_confusion_matrix is deprecated; Function `plot_confusion_matrix` is deprecated in 1.0 and will be removed in 1.2. Use one of the class methods: ConfusionMatrixDisplay.from_predictions or ConfusionMatrixDisplay.from_estimator.\n",
      "  warnings.warn(msg, category=FutureWarning)\n"
     ]
    },
    {
     "data": {
      "text/plain": [
       "<sklearn.metrics._plot.confusion_matrix.ConfusionMatrixDisplay at 0x7f869d2baeb0>"
      ]
     },
     "execution_count": 22,
     "metadata": {},
     "output_type": "execute_result"
    },
    {
     "data": {
      "image/png": "[encoded data removed]",
      "text/plain": [
       "<Figure size 432x288 with 2 Axes>"
      ]
     },
     "metadata": {
      "needs_background": "light"
     },
     "output_type": "display_data"
    }
   ],
   "source": [
    "#Plotting the confusion matrix\n",
    "plot_confusion_matrix(model, X_test, Y_test, cmap='Blues', values_format='d', display_labels=['Non Approved','Approved'])"
   ]
  },
  {
   "cell_type": "markdown",
   "metadata": {},
   "source": [
    "### Grid Search CV"
   ]
  },
  {
   "cell_type": "code",
   "execution_count": 9,
   "metadata": {},
   "outputs": [],
   "source": [
    "#Definiing the clsasifier for grid search\n",
    "classifier = LogisticRegression()"
   ]
  },
  {
   "cell_type": "code",
   "execution_count": 12,
   "metadata": {},
   "outputs": [],
   "source": [
    "#defining the parameters for grid search\n",
    "parameter = {'penalty': ['l2'],\n",
    "             'C': [1,2,3,4,5,6,100],\n",
    "             'max_iter': [50,100]}"
   ]
  },
  {
   "cell_type": "code",
   "execution_count": 13,
   "metadata": {},
   "outputs": [
    {
     "name": "stdout",
     "output_type": "stream",
     "text": [
      "Fitting 5 folds for each of 14 candidates, totalling 70 fits\n",
      "[CV 1/5; 1/14] START C=1, max_iter=50, penalty=l2...............................\n",
      "[CV 1/5; 1/14] END C=1, max_iter=50, penalty=l2;, score=0.569 total time=   5.4s\n",
      "[CV 2/5; 1/14] START C=1, max_iter=50, penalty=l2...............................\n",
      "[CV 2/5; 1/14] END C=1, max_iter=50, penalty=l2;, score=0.565 total time=   4.6s\n",
      "[CV 3/5; 1/14] START C=1, max_iter=50, penalty=l2...............................\n",
      "[CV 3/5; 1/14] END C=1, max_iter=50, penalty=l2;, score=0.567 total time=   5.6s\n",
      "[CV 4/5; 1/14] START C=1, max_iter=50, penalty=l2...............................\n",
      "[CV 4/5; 1/14] END C=1, max_iter=50, penalty=l2;, score=0.566 total time=   5.1s\n",
      "[CV 5/5; 1/14] START C=1, max_iter=50, penalty=l2...............................\n",
      "[CV 5/5; 1/14] END C=1, max_iter=50, penalty=l2;, score=0.569 total time=   5.4s\n",
      "[CV 1/5; 2/14] START C=1, max_iter=100, penalty=l2..............................\n",
      "[CV 1/5; 2/14] END C=1, max_iter=100, penalty=l2;, score=0.569 total time=   5.8s\n",
      "[CV 2/5; 2/14] START C=1, max_iter=100, penalty=l2..............................\n",
      "[CV 2/5; 2/14] END C=1, max_iter=100, penalty=l2;, score=0.565 total time=   4.9s\n",
      "[CV 3/5; 2/14] START C=1, max_iter=100, penalty=l2..............................\n",
      "[CV 3/5; 2/14] END C=1, max_iter=100, penalty=l2;, score=0.567 total time=   5.3s\n",
      "[CV 4/5; 2/14] START C=1, max_iter=100, penalty=l2..............................\n",
      "[CV 4/5; 2/14] END C=1, max_iter=100, penalty=l2;, score=0.566 total time=   4.7s\n",
      "[CV 5/5; 2/14] START C=1, max_iter=100, penalty=l2..............................\n",
      "[CV 5/5; 2/14] END C=1, max_iter=100, penalty=l2;, score=0.569 total time=   4.7s\n",
      "[CV 1/5; 3/14] START C=2, max_iter=50, penalty=l2...............................\n",
      "[CV 1/5; 3/14] END C=2, max_iter=50, penalty=l2;, score=0.569 total time=   5.3s\n",
      "[CV 2/5; 3/14] START C=2, max_iter=50, penalty=l2...............................\n",
      "[CV 2/5; 3/14] END C=2, max_iter=50, penalty=l2;, score=0.565 total time=   4.9s\n",
      "[CV 3/5; 3/14] START C=2, max_iter=50, penalty=l2...............................\n",
      "[CV 3/5; 3/14] END C=2, max_iter=50, penalty=l2;, score=0.567 total time=   5.6s\n",
      "[CV 4/5; 3/14] START C=2, max_iter=50, penalty=l2...............................\n",
      "[CV 4/5; 3/14] END C=2, max_iter=50, penalty=l2;, score=0.566 total time=   5.5s\n",
      "[CV 5/5; 3/14] START C=2, max_iter=50, penalty=l2...............................\n",
      "[CV 5/5; 3/14] END C=2, max_iter=50, penalty=l2;, score=0.569 total time=   6.2s\n",
      "[CV 1/5; 4/14] START C=2, max_iter=100, penalty=l2..............................\n",
      "[CV 1/5; 4/14] END C=2, max_iter=100, penalty=l2;, score=0.569 total time=   5.2s\n",
      "[CV 2/5; 4/14] START C=2, max_iter=100, penalty=l2..............................\n",
      "[CV 2/5; 4/14] END C=2, max_iter=100, penalty=l2;, score=0.565 total time=   4.5s\n",
      "[CV 3/5; 4/14] START C=2, max_iter=100, penalty=l2..............................\n",
      "[CV 3/5; 4/14] END C=2, max_iter=100, penalty=l2;, score=0.567 total time=   5.1s\n",
      "[CV 4/5; 4/14] START C=2, max_iter=100, penalty=l2..............................\n",
      "[CV 4/5; 4/14] END C=2, max_iter=100, penalty=l2;, score=0.566 total time=   5.4s\n",
      "[CV 5/5; 4/14] START C=2, max_iter=100, penalty=l2..............................\n",
      "[CV 5/5; 4/14] END C=2, max_iter=100, penalty=l2;, score=0.569 total time=   4.9s\n",
      "[CV 1/5; 5/14] START C=3, max_iter=50, penalty=l2...............................\n",
      "[CV 1/5; 5/14] END C=3, max_iter=50, penalty=l2;, score=0.569 total time=   4.6s\n",
      "[CV 2/5; 5/14] START C=3, max_iter=50, penalty=l2...............................\n",
      "[CV 2/5; 5/14] END C=3, max_iter=50, penalty=l2;, score=0.565 total time=   4.5s\n",
      "[CV 3/5; 5/14] START C=3, max_iter=50, penalty=l2...............................\n",
      "[CV 3/5; 5/14] END C=3, max_iter=50, penalty=l2;, score=0.567 total time=   5.2s\n",
      "[CV 4/5; 5/14] START C=3, max_iter=50, penalty=l2...............................\n",
      "[CV 4/5; 5/14] END C=3, max_iter=50, penalty=l2;, score=0.566 total time=   4.9s\n",
      "[CV 5/5; 5/14] START C=3, max_iter=50, penalty=l2...............................\n",
      "[CV 5/5; 5/14] END C=3, max_iter=50, penalty=l2;, score=0.569 total time=   5.3s\n",
      "[CV 1/5; 6/14] START C=3, max_iter=100, penalty=l2..............................\n",
      "[CV 1/5; 6/14] END C=3, max_iter=100, penalty=l2;, score=0.569 total time=   5.5s\n",
      "[CV 2/5; 6/14] START C=3, max_iter=100, penalty=l2..............................\n",
      "[CV 2/5; 6/14] END C=3, max_iter=100, penalty=l2;, score=0.565 total time=   4.6s\n",
      "[CV 3/5; 6/14] START C=3, max_iter=100, penalty=l2..............................\n",
      "[CV 3/5; 6/14] END C=3, max_iter=100, penalty=l2;, score=0.567 total time=   5.1s\n",
      "[CV 4/5; 6/14] START C=3, max_iter=100, penalty=l2..............................\n",
      "[CV 4/5; 6/14] END C=3, max_iter=100, penalty=l2;, score=0.566 total time=   4.3s\n",
      "[CV 5/5; 6/14] START C=3, max_iter=100, penalty=l2..............................\n",
      "[CV 5/5; 6/14] END C=3, max_iter=100, penalty=l2;, score=0.569 total time=   5.0s\n",
      "[CV 1/5; 7/14] START C=4, max_iter=50, penalty=l2...............................\n",
      "[CV 1/5; 7/14] END C=4, max_iter=50, penalty=l2;, score=0.569 total time=   4.6s\n",
      "[CV 2/5; 7/14] START C=4, max_iter=50, penalty=l2...............................\n",
      "[CV 2/5; 7/14] END C=4, max_iter=50, penalty=l2;, score=0.565 total time=   4.4s\n",
      "[CV 3/5; 7/14] START C=4, max_iter=50, penalty=l2...............................\n",
      "[CV 3/5; 7/14] END C=4, max_iter=50, penalty=l2;, score=0.567 total time=   5.0s\n",
      "[CV 4/5; 7/14] START C=4, max_iter=50, penalty=l2...............................\n",
      "[CV 4/5; 7/14] END C=4, max_iter=50, penalty=l2;, score=0.566 total time=   4.6s\n",
      "[CV 5/5; 7/14] START C=4, max_iter=50, penalty=l2...............................\n",
      "[CV 5/5; 7/14] END C=4, max_iter=50, penalty=l2;, score=0.569 total time=   5.0s\n",
      "[CV 1/5; 8/14] START C=4, max_iter=100, penalty=l2..............................\n",
      "[CV 1/5; 8/14] END C=4, max_iter=100, penalty=l2;, score=0.569 total time=   5.4s\n",
      "[CV 2/5; 8/14] START C=4, max_iter=100, penalty=l2..............................\n",
      "[CV 2/5; 8/14] END C=4, max_iter=100, penalty=l2;, score=0.565 total time=   4.7s\n",
      "[CV 3/5; 8/14] START C=4, max_iter=100, penalty=l2..............................\n",
      "[CV 3/5; 8/14] END C=4, max_iter=100, penalty=l2;, score=0.567 total time=   5.1s\n",
      "[CV 4/5; 8/14] START C=4, max_iter=100, penalty=l2..............................\n",
      "[CV 4/5; 8/14] END C=4, max_iter=100, penalty=l2;, score=0.566 total time=   4.3s\n",
      "[CV 5/5; 8/14] START C=4, max_iter=100, penalty=l2..............................\n",
      "[CV 5/5; 8/14] END C=4, max_iter=100, penalty=l2;, score=0.569 total time=   4.7s\n",
      "[CV 1/5; 9/14] START C=5, max_iter=50, penalty=l2...............................\n",
      "[CV 1/5; 9/14] END C=5, max_iter=50, penalty=l2;, score=0.569 total time=   4.6s\n",
      "[CV 2/5; 9/14] START C=5, max_iter=50, penalty=l2...............................\n",
      "[CV 2/5; 9/14] END C=5, max_iter=50, penalty=l2;, score=0.565 total time=   4.6s\n",
      "[CV 3/5; 9/14] START C=5, max_iter=50, penalty=l2...............................\n",
      "[CV 3/5; 9/14] END C=5, max_iter=50, penalty=l2;, score=0.567 total time=   5.0s\n",
      "[CV 4/5; 9/14] START C=5, max_iter=50, penalty=l2...............................\n",
      "[CV 4/5; 9/14] END C=5, max_iter=50, penalty=l2;, score=0.566 total time=   4.3s\n",
      "[CV 5/5; 9/14] START C=5, max_iter=50, penalty=l2...............................\n",
      "[CV 5/5; 9/14] END C=5, max_iter=50, penalty=l2;, score=0.569 total time=   4.5s\n",
      "[CV 1/5; 10/14] START C=5, max_iter=100, penalty=l2.............................\n",
      "[CV 1/5; 10/14] END C=5, max_iter=100, penalty=l2;, score=0.569 total time=   5.3s\n",
      "[CV 2/5; 10/14] START C=5, max_iter=100, penalty=l2.............................\n",
      "[CV 2/5; 10/14] END C=5, max_iter=100, penalty=l2;, score=0.565 total time=   5.0s\n",
      "[CV 3/5; 10/14] START C=5, max_iter=100, penalty=l2.............................\n",
      "[CV 3/5; 10/14] END C=5, max_iter=100, penalty=l2;, score=0.567 total time=   5.2s\n",
      "[CV 4/5; 10/14] START C=5, max_iter=100, penalty=l2.............................\n",
      "[CV 4/5; 10/14] END C=5, max_iter=100, penalty=l2;, score=0.566 total time=   4.4s\n",
      "[CV 5/5; 10/14] START C=5, max_iter=100, penalty=l2.............................\n",
      "[CV 5/5; 10/14] END C=5, max_iter=100, penalty=l2;, score=0.569 total time=   4.8s\n",
      "[CV 1/5; 11/14] START C=6, max_iter=50, penalty=l2..............................\n",
      "[CV 1/5; 11/14] END C=6, max_iter=50, penalty=l2;, score=0.569 total time=   4.5s\n",
      "[CV 2/5; 11/14] START C=6, max_iter=50, penalty=l2..............................\n",
      "[CV 2/5; 11/14] END C=6, max_iter=50, penalty=l2;, score=0.565 total time=   4.7s\n",
      "[CV 3/5; 11/14] START C=6, max_iter=50, penalty=l2..............................\n",
      "[CV 3/5; 11/14] END C=6, max_iter=50, penalty=l2;, score=0.567 total time=   5.2s\n",
      "[CV 4/5; 11/14] START C=6, max_iter=50, penalty=l2..............................\n",
      "[CV 4/5; 11/14] END C=6, max_iter=50, penalty=l2;, score=0.566 total time=   4.5s\n",
      "[CV 5/5; 11/14] START C=6, max_iter=50, penalty=l2..............................\n",
      "[CV 5/5; 11/14] END C=6, max_iter=50, penalty=l2;, score=0.569 total time=   4.6s\n",
      "[CV 1/5; 12/14] START C=6, max_iter=100, penalty=l2.............................\n",
      "[CV 1/5; 12/14] END C=6, max_iter=100, penalty=l2;, score=0.569 total time=   5.1s\n",
      "[CV 2/5; 12/14] START C=6, max_iter=100, penalty=l2.............................\n",
      "[CV 2/5; 12/14] END C=6, max_iter=100, penalty=l2;, score=0.565 total time=   4.7s\n",
      "[CV 3/5; 12/14] START C=6, max_iter=100, penalty=l2.............................\n",
      "[CV 3/5; 12/14] END C=6, max_iter=100, penalty=l2;, score=0.567 total time=   5.8s\n",
      "[CV 4/5; 12/14] START C=6, max_iter=100, penalty=l2.............................\n",
      "[CV 4/5; 12/14] END C=6, max_iter=100, penalty=l2;, score=0.566 total time=   5.6s\n",
      "[CV 5/5; 12/14] START C=6, max_iter=100, penalty=l2.............................\n",
      "[CV 5/5; 12/14] END C=6, max_iter=100, penalty=l2;, score=0.569 total time=   5.8s\n",
      "[CV 1/5; 13/14] START C=100, max_iter=50, penalty=l2............................\n",
      "[CV 1/5; 13/14] END C=100, max_iter=50, penalty=l2;, score=0.569 total time=   5.4s\n",
      "[CV 2/5; 13/14] START C=100, max_iter=50, penalty=l2............................\n",
      "[CV 2/5; 13/14] END C=100, max_iter=50, penalty=l2;, score=0.565 total time=   5.0s\n",
      "[CV 3/5; 13/14] START C=100, max_iter=50, penalty=l2............................\n",
      "[CV 3/5; 13/14] END C=100, max_iter=50, penalty=l2;, score=0.567 total time=   6.0s\n",
      "[CV 4/5; 13/14] START C=100, max_iter=50, penalty=l2............................\n",
      "[CV 4/5; 13/14] END C=100, max_iter=50, penalty=l2;, score=0.566 total time=   5.1s\n",
      "[CV 5/5; 13/14] START C=100, max_iter=50, penalty=l2............................\n",
      "[CV 5/5; 13/14] END C=100, max_iter=50, penalty=l2;, score=0.569 total time=   5.4s\n",
      "[CV 1/5; 14/14] START C=100, max_iter=100, penalty=l2...........................\n",
      "[CV 1/5; 14/14] END C=100, max_iter=100, penalty=l2;, score=0.569 total time=   5.2s\n",
      "[CV 2/5; 14/14] START C=100, max_iter=100, penalty=l2...........................\n",
      "[CV 2/5; 14/14] END C=100, max_iter=100, penalty=l2;, score=0.565 total time=   4.3s\n",
      "[CV 3/5; 14/14] START C=100, max_iter=100, penalty=l2...........................\n",
      "[CV 3/5; 14/14] END C=100, max_iter=100, penalty=l2;, score=0.567 total time=   5.3s\n",
      "[CV 4/5; 14/14] START C=100, max_iter=100, penalty=l2...........................\n",
      "[CV 4/5; 14/14] END C=100, max_iter=100, penalty=l2;, score=0.566 total time=   4.8s\n",
      "[CV 5/5; 14/14] START C=100, max_iter=100, penalty=l2...........................\n",
      "[CV 5/5; 14/14] END C=100, max_iter=100, penalty=l2;, score=0.569 total time=   4.8s\n"
     ]
    },
    {
     "data": {
      "text/html": [
       "<style>#sk-container-id-2 {color: black;background-color: white;}#sk-container-id-2 pre{padding: 0;}#sk-container-id-2 div.sk-toggleable {background-color: white;}#sk-container-id-2 label.sk-toggleable__label {cursor: pointer;display: block;width: 100%;margin-bottom: 0;padding: 0.3em;box-sizing: border-box;text-align: center;}#sk-container-id-2 label.sk-toggleable__label-arrow:before {content: \"▸\";float: left;margin-right: 0.25em;color: #696969;}#sk-container-id-2 label.sk-toggleable__label-arrow:hover:before {color: black;}#sk-container-id-2 div.sk-estimator:hover label.sk-toggleable__label-arrow:before {color: black;}#sk-container-id-2 div.sk-toggleable__content {max-height: 0;max-width: 0;overflow: hidden;text-align: left;background-color: #f0f8ff;}#sk-container-id-2 div.sk-toggleable__content pre {margin: 0.2em;color: black;border-radius: 0.25em;background-color: #f0f8ff;}#sk-container-id-2 input.sk-toggleable__control:checked~div.sk-toggleable__content {max-height: 200px;max-width: 100%;overflow: auto;}#sk-container-id-2 input.sk-toggleable__control:checked~label.sk-toggleable__label-arrow:before {content: \"▾\";}#sk-container-id-2 div.sk-estimator input.sk-toggleable__control:checked~label.sk-toggleable__label {background-color: #d4ebff;}#sk-container-id-2 div.sk-label input.sk-toggleable__control:checked~label.sk-toggleable__label {background-color: #d4ebff;}#sk-container-id-2 input.sk-hidden--visually {border: 0;clip: rect(1px 1px 1px 1px);clip: rect(1px, 1px, 1px, 1px);height: 1px;margin: -1px;overflow: hidden;padding: 0;position: absolute;width: 1px;}#sk-container-id-2 div.sk-estimator {font-family: monospace;background-color: #f0f8ff;border: 1px dotted black;border-radius: 0.25em;box-sizing: border-box;margin-bottom: 0.5em;}#sk-container-id-2 div.sk-estimator:hover {background-color: #d4ebff;}#sk-container-id-2 div.sk-parallel-item::after {content: \"\";width: 100%;border-bottom: 1px solid gray;flex-grow: 1;}#sk-container-id-2 div.sk-label:hover label.sk-toggleable__label {background-color: #d4ebff;}#sk-container-id-2 div.sk-serial::before {content: \"\";position: absolute;border-left: 1px solid gray;box-sizing: border-box;top: 0;bottom: 0;left: 50%;z-index: 0;}#sk-container-id-2 div.sk-serial {display: flex;flex-direction: column;align-items: center;background-color: white;padding-right: 0.2em;padding-left: 0.2em;position: relative;}#sk-container-id-2 div.sk-item {position: relative;z-index: 1;}#sk-container-id-2 div.sk-parallel {display: flex;align-items: stretch;justify-content: center;background-color: white;position: relative;}#sk-container-id-2 div.sk-item::before, #sk-container-id-2 div.sk-parallel-item::before {content: \"\";position: absolute;border-left: 1px solid gray;box-sizing: border-box;top: 0;bottom: 0;left: 50%;z-index: -1;}#sk-container-id-2 div.sk-parallel-item {display: flex;flex-direction: column;z-index: 1;position: relative;background-color: white;}#sk-container-id-2 div.sk-parallel-item:first-child::after {align-self: flex-end;width: 50%;}#sk-container-id-2 div.sk-parallel-item:last-child::after {align-self: flex-start;width: 50%;}#sk-container-id-2 div.sk-parallel-item:only-child::after {width: 0;}#sk-container-id-2 div.sk-dashed-wrapped {border: 1px dashed gray;margin: 0 0.4em 0.5em 0.4em;box-sizing: border-box;padding-bottom: 0.4em;background-color: white;}#sk-container-id-2 div.sk-label label {font-family: monospace;font-weight: bold;display: inline-block;line-height: 1.2em;}#sk-container-id-2 div.sk-label-container {text-align: center;}#sk-container-id-2 div.sk-container {/* jupyter's `normalize.less` sets `[hidden] { display: none; }` but bootstrap.min.css set `[hidden] { display: none !important; }` so we also need the `!important` here to be able to override the default hidden behavior on the sphinx rendered scikit-learn.org. See: https://github.com/scikit-learn/scikit-learn/issues/21755 */display: inline-block !important;position: relative;}#sk-container-id-2 div.sk-text-repr-fallback {display: none;}</style><div id=\"sk-container-id-2\" class=\"sk-top-container\"><div class=\"sk-text-repr-fallback\"><pre>GridSearchCV(cv=5, error_score=&#x27;raise&#x27;, estimator=LogisticRegression(),\n",
       "             param_grid={&#x27;C&#x27;: [1, 2, 3, 4, 5, 6, 100], &#x27;max_iter&#x27;: [50, 100],\n",
       "                         &#x27;penalty&#x27;: [&#x27;l2&#x27;]},\n",
       "             scoring=&#x27;accuracy&#x27;, verbose=10)</pre><b>In a Jupyter environment, please rerun this cell to show the HTML representation or trust the notebook. <br />On GitHub, the HTML representation is unable to render, please try loading this page with nbviewer.org.</b></div><div class=\"sk-container\" hidden><div class=\"sk-item sk-dashed-wrapped\"><div class=\"sk-label-container\"><div class=\"sk-label sk-toggleable\"><input class=\"sk-toggleable__control sk-hidden--visually\" id=\"sk-estimator-id-2\" type=\"checkbox\" ><label for=\"sk-estimator-id-2\" class=\"sk-toggleable__label sk-toggleable__label-arrow\">GridSearchCV</label><div class=\"sk-toggleable__content\"><pre>GridSearchCV(cv=5, error_score=&#x27;raise&#x27;, estimator=LogisticRegression(),\n",
       "             param_grid={&#x27;C&#x27;: [1, 2, 3, 4, 5, 6, 100], &#x27;max_iter&#x27;: [50, 100],\n",
       "                         &#x27;penalty&#x27;: [&#x27;l2&#x27;]},\n",
       "             scoring=&#x27;accuracy&#x27;, verbose=10)</pre></div></div></div><div class=\"sk-parallel\"><div class=\"sk-parallel-item\"><div class=\"sk-item\"><div class=\"sk-label-container\"><div class=\"sk-label sk-toggleable\"><input class=\"sk-toggleable__control sk-hidden--visually\" id=\"sk-estimator-id-3\" type=\"checkbox\" ><label for=\"sk-estimator-id-3\" class=\"sk-toggleable__label sk-toggleable__label-arrow\">estimator: LogisticRegression</label><div class=\"sk-toggleable__content\"><pre>LogisticRegression()</pre></div></div></div><div class=\"sk-serial\"><div class=\"sk-item\"><div class=\"sk-estimator sk-toggleable\"><input class=\"sk-toggleable__control sk-hidden--visually\" id=\"sk-estimator-id-4\" type=\"checkbox\" ><label for=\"sk-estimator-id-4\" class=\"sk-toggleable__label sk-toggleable__label-arrow\">LogisticRegression</label><div class=\"sk-toggleable__content\"><pre>LogisticRegression()</pre></div></div></div></div></div></div></div></div></div></div>"
      ],
      "text/plain": [
       "GridSearchCV(cv=5, error_score='raise', estimator=LogisticRegression(),\n",
       "             param_grid={'C': [1, 2, 3, 4, 5, 6, 100], 'max_iter': [50, 100],\n",
       "                         'penalty': ['l2']},\n",
       "             scoring='accuracy', verbose=10)"
      ]
     },
     "execution_count": 13,
     "metadata": {},
     "output_type": "execute_result"
    }
   ],
   "source": [
    "#Performing grid search\n",
    "classifier_regressor = GridSearchCV(classifier, param_grid =parameter, scoring = 'accuracy', error_score='raise',cv = 5, verbose = 10)\n",
    "classifier_regressor.fit(X_train, Y_train)"
   ]
  },
  {
   "cell_type": "markdown",
   "metadata": {},
   "source": [
    "### Metrics calculations"
   ]
  },
  {
   "cell_type": "code",
   "execution_count": 14,
   "metadata": {},
   "outputs": [
    {
     "name": "stdout",
     "output_type": "stream",
     "text": [
      "{'C': 1, 'max_iter': 50, 'penalty': 'l2'}\n"
     ]
    }
   ],
   "source": [
    "#printing the best parameters\n",
    "print(classifier_regressor.best_params_)"
   ]
  },
  {
   "cell_type": "code",
   "execution_count": 15,
   "metadata": {},
   "outputs": [
    {
     "name": "stdout",
     "output_type": "stream",
     "text": [
      "0.5672719876309333\n"
     ]
    }
   ],
   "source": [
    "#printing the best score\n",
    "print(classifier_regressor.best_score_)"
   ]
  },
  {
   "cell_type": "code",
   "execution_count": 16,
   "metadata": {},
   "outputs": [],
   "source": [
    "#Predicting the test data\n",
    "y_pred = classifier_regressor.predict(X_test)"
   ]
  },
  {
   "cell_type": "code",
   "execution_count": 17,
   "metadata": {},
   "outputs": [
    {
     "name": "stdout",
     "output_type": "stream",
     "text": [
      "0.5673156997263751\n"
     ]
    }
   ],
   "source": [
    "#Predicitng the accuracy score\n",
    "score = accuracy_score(y_pred, Y_test)\n",
    "print(score)"
   ]
  },
  {
   "cell_type": "code",
   "execution_count": 18,
   "metadata": {},
   "outputs": [
    {
     "name": "stdout",
     "output_type": "stream",
     "text": [
      "              precision    recall  f1-score   support\n",
      "\n",
      "           0       0.56      0.57      0.56     49378\n",
      "           1       0.58      0.57      0.57     51490\n",
      "\n",
      "    accuracy                           0.57    100868\n",
      "   macro avg       0.57      0.57      0.57    100868\n",
      "weighted avg       0.57      0.57      0.57    100868\n",
      "\n"
     ]
    }
   ],
   "source": [
    "#Printing the classification report\n",
    "report = classification_report(y_pred,Y_test)\n",
    "print(report)"
   ]
  },
  {
   "cell_type": "code",
   "execution_count": 21,
   "metadata": {},
   "outputs": [
    {
     "name": "stderr",
     "output_type": "stream",
     "text": [
      "/Users/amarjotsinghlohia/.local/lib/python3.9/site-packages/sklearn/utils/deprecation.py:87: FutureWarning: Function plot_confusion_matrix is deprecated; Function `plot_confusion_matrix` is deprecated in 1.0 and will be removed in 1.2. Use one of the class methods: ConfusionMatrixDisplay.from_predictions or ConfusionMatrixDisplay.from_estimator.\n",
      "  warnings.warn(msg, category=FutureWarning)\n"
     ]
    },
    {
     "data": {
      "text/plain": [
       "<sklearn.metrics._plot.confusion_matrix.ConfusionMatrixDisplay at 0x7f867f27f3d0>"
      ]
     },
     "execution_count": 21,
     "metadata": {},
     "output_type": "execute_result"
    },
    {
     "data": {
      "image/png": "[encoded data removed]",
      "text/plain": [
       "<Figure size 432x288 with 2 Axes>"
      ]
     },
     "metadata": {
      "needs_background": "light"
     },
     "output_type": "display_data"
    }
   ],
   "source": [
    "#Plotting the confusion matrix\n",
    "plot_confusion_matrix(classifier_regressor, X_test, Y_test, cmap='Blues', values_format='d', display_labels=['Non Approved','Approved'])"
   ]
  },
  {
   "cell_type": "markdown",
   "metadata": {},
   "source": [
    "### ROC curve plot"
   ]
  },
  {
   "cell_type": "code",
   "execution_count": 29,
   "metadata": {},
   "outputs": [
    {
     "name": "stderr",
     "output_type": "stream",
     "text": [
      "/Users/amarjotsinghlohia/opt/anaconda3/lib/python3.9/site-packages/seaborn/_decorators.py:36: FutureWarning: Pass the following variables as keyword args: x, y. From version 0.12, the only valid positional argument will be `data`, and passing other arguments without an explicit keyword will result in an error or misinterpretation.\n",
      "  warnings.warn(\n",
      "/Users/amarjotsinghlohia/opt/anaconda3/lib/python3.9/site-packages/seaborn/_decorators.py:36: FutureWarning: Pass the following variables as keyword args: x, y. From version 0.12, the only valid positional argument will be `data`, and passing other arguments without an explicit keyword will result in an error or misinterpretation.\n",
      "  warnings.warn(\n"
     ]
    },
    {
     "data": {
      "image/png": "[encoded data removed]",
      "text/plain": [
       "<Figure size 432x288 with 1 Axes>"
      ]
     },
     "metadata": {
      "needs_background": "light"
     },
     "output_type": "display_data"
    }
   ],
   "source": [
    "probs = classifier_regressor.predict_proba(X_test)\n",
    "fpr, tpr, thresholds = roc_curve(Y_test, y_pred)\n",
    "sns.lineplot([0,1],[0,1], color='red', linestyle='--')\n",
    "plt = sns.lineplot(fpr, tpr, marker = '.',label='ROC Curve')"
   ]
  }
 ],
 "metadata": {
  "kernelspec": {
   "display_name": "Python 3 (ipykernel)",
   "language": "python",
   "name": "python3"
  },
  "language_info": {
   "codemirror_mode": {
    "name": "ipython",
    "version": 3
   },
   "file_extension": ".py",
   "mimetype": "text/x-python",
   "name": "python",
   "nbconvert_exporter": "python",
   "pygments_lexer": "ipython3",
   "version": "3.9.12"
  },
  "vscode": {
   "interpreter": {
    "hash": "425aa5fac1af2c2b2daa42dcae890837cc1a879be8cd68510719d5942fa4f50e"
   }
  }
 },
 "nbformat": 4,
 "nbformat_minor": 2
}
