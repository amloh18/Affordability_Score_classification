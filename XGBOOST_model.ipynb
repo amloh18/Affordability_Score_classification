{
 "cells": [
  {
   "cell_type": "markdown",
   "metadata": {},
   "source": [
    "#### Importing the libraries"
   ]
  },
  {
   "cell_type": "code",
   "execution_count": 23,
   "metadata": {},
   "outputs": [],
   "source": [
    "import pandas as pd\n",
    "from sklearn.model_selection import train_test_split\n",
    "from sklearn.metrics import roc_auc_score, accuracy_score, classification_report\n",
    "import xgboost as xgb\n",
    "from sklearn.metrics import confusion_matrix, plot_confusion_matrix\n",
    "import matplotlib.pyplot as plt\n",
    "from sklearn.model_selection import cross_val_score"
   ]
  },
  {
   "cell_type": "code",
   "execution_count": 4,
   "metadata": {},
   "outputs": [
    {
     "data": {
      "text/html": [
       "<div>\n",
       "<style scoped>\n",
       "    .dataframe tbody tr th:only-of-type {\n",
       "        vertical-align: middle;\n",
       "    }\n",
       "\n",
       "    .dataframe tbody tr th {\n",
       "        vertical-align: top;\n",
       "    }\n",
       "\n",
       "    .dataframe thead th {\n",
       "        text-align: right;\n",
       "    }\n",
       "</style>\n",
       "<table border=\"1\" class=\"dataframe\">\n",
       "  <thead>\n",
       "    <tr style=\"text-align: right;\">\n",
       "      <th></th>\n",
       "      <th>Unnamed: 0</th>\n",
       "      <th>SK_ID_CURR</th>\n",
       "      <th>TARGET</th>\n",
       "      <th>NAME_CONTRACT_TYPE</th>\n",
       "      <th>CODE_GENDER</th>\n",
       "      <th>FLAG_OWN_CAR</th>\n",
       "      <th>FLAG_OWN_REALTY</th>\n",
       "      <th>AMT_INCOME_TOTAL</th>\n",
       "      <th>AMT_CREDIT</th>\n",
       "      <th>AMT_ANNUITY</th>\n",
       "      <th>...</th>\n",
       "      <th>NAME_INCOME_TYPE_2</th>\n",
       "      <th>NAME_INCOME_TYPE_3</th>\n",
       "      <th>NAME_INCOME_TYPE_4</th>\n",
       "      <th>NAME_EDUCATION_TYPE_0</th>\n",
       "      <th>NAME_EDUCATION_TYPE_1</th>\n",
       "      <th>NAME_EDUCATION_TYPE_2</th>\n",
       "      <th>NAME_EDUCATION_TYPE_3</th>\n",
       "      <th>NAME_FAMILY_STATUS_0</th>\n",
       "      <th>NAME_FAMILY_STATUS_1</th>\n",
       "      <th>NAME_FAMILY_STATUS_2</th>\n",
       "    </tr>\n",
       "  </thead>\n",
       "  <tbody>\n",
       "    <tr>\n",
       "      <th>count</th>\n",
       "      <td>336226.000000</td>\n",
       "      <td>336226.000000</td>\n",
       "      <td>336226.000000</td>\n",
       "      <td>336226.000000</td>\n",
       "      <td>336226.000000</td>\n",
       "      <td>336226.000000</td>\n",
       "      <td>336226.000000</td>\n",
       "      <td>3.362260e+05</td>\n",
       "      <td>3.362260e+05</td>\n",
       "      <td>336226.000000</td>\n",
       "      <td>...</td>\n",
       "      <td>336226.000000</td>\n",
       "      <td>336226.000000</td>\n",
       "      <td>336226.000000</td>\n",
       "      <td>336226.000000</td>\n",
       "      <td>336226.000000</td>\n",
       "      <td>336226.000000</td>\n",
       "      <td>336226.000000</td>\n",
       "      <td>336226.000000</td>\n",
       "      <td>336226.000000</td>\n",
       "      <td>336226.000000</td>\n",
       "    </tr>\n",
       "    <tr>\n",
       "      <th>mean</th>\n",
       "      <td>92349.187508</td>\n",
       "      <td>277697.178496</td>\n",
       "      <td>0.500000</td>\n",
       "      <td>0.086897</td>\n",
       "      <td>0.579262</td>\n",
       "      <td>0.364448</td>\n",
       "      <td>0.668003</td>\n",
       "      <td>1.710691e+05</td>\n",
       "      <td>5.801396e+05</td>\n",
       "      <td>27421.931513</td>\n",
       "      <td>...</td>\n",
       "      <td>0.000068</td>\n",
       "      <td>0.925616</td>\n",
       "      <td>0.074268</td>\n",
       "      <td>0.053179</td>\n",
       "      <td>0.712226</td>\n",
       "      <td>0.234182</td>\n",
       "      <td>0.000413</td>\n",
       "      <td>0.171319</td>\n",
       "      <td>0.077689</td>\n",
       "      <td>0.750992</td>\n",
       "    </tr>\n",
       "    <tr>\n",
       "      <th>std</th>\n",
       "      <td>53399.533372</td>\n",
       "      <td>102706.956774</td>\n",
       "      <td>0.500001</td>\n",
       "      <td>0.281684</td>\n",
       "      <td>0.493678</td>\n",
       "      <td>0.481276</td>\n",
       "      <td>0.470931</td>\n",
       "      <td>1.047404e+05</td>\n",
       "      <td>3.795925e+05</td>\n",
       "      <td>13776.398061</td>\n",
       "      <td>...</td>\n",
       "      <td>0.008271</td>\n",
       "      <td>0.262396</td>\n",
       "      <td>0.262208</td>\n",
       "      <td>0.224390</td>\n",
       "      <td>0.452726</td>\n",
       "      <td>0.423487</td>\n",
       "      <td>0.020328</td>\n",
       "      <td>0.376788</td>\n",
       "      <td>0.267682</td>\n",
       "      <td>0.432439</td>\n",
       "    </tr>\n",
       "    <tr>\n",
       "      <th>min</th>\n",
       "      <td>0.000000</td>\n",
       "      <td>100002.000000</td>\n",
       "      <td>0.000000</td>\n",
       "      <td>0.000000</td>\n",
       "      <td>0.000000</td>\n",
       "      <td>0.000000</td>\n",
       "      <td>0.000000</td>\n",
       "      <td>2.655000e+04</td>\n",
       "      <td>4.500000e+04</td>\n",
       "      <td>1980.000000</td>\n",
       "      <td>...</td>\n",
       "      <td>0.000000</td>\n",
       "      <td>0.000000</td>\n",
       "      <td>0.000000</td>\n",
       "      <td>0.000000</td>\n",
       "      <td>0.000000</td>\n",
       "      <td>0.000000</td>\n",
       "      <td>0.000000</td>\n",
       "      <td>0.000000</td>\n",
       "      <td>0.000000</td>\n",
       "      <td>0.000000</td>\n",
       "    </tr>\n",
       "    <tr>\n",
       "      <th>25%</th>\n",
       "      <td>46240.250000</td>\n",
       "      <td>189114.500000</td>\n",
       "      <td>0.000000</td>\n",
       "      <td>0.000000</td>\n",
       "      <td>0.000000</td>\n",
       "      <td>0.000000</td>\n",
       "      <td>0.000000</td>\n",
       "      <td>1.125000e+05</td>\n",
       "      <td>2.787120e+05</td>\n",
       "      <td>17303.625000</td>\n",
       "      <td>...</td>\n",
       "      <td>0.000000</td>\n",
       "      <td>1.000000</td>\n",
       "      <td>0.000000</td>\n",
       "      <td>0.000000</td>\n",
       "      <td>0.000000</td>\n",
       "      <td>0.000000</td>\n",
       "      <td>0.000000</td>\n",
       "      <td>0.000000</td>\n",
       "      <td>0.000000</td>\n",
       "      <td>1.000000</td>\n",
       "    </tr>\n",
       "    <tr>\n",
       "      <th>50%</th>\n",
       "      <td>92134.000000</td>\n",
       "      <td>277094.000000</td>\n",
       "      <td>0.500000</td>\n",
       "      <td>0.000000</td>\n",
       "      <td>1.000000</td>\n",
       "      <td>0.000000</td>\n",
       "      <td>1.000000</td>\n",
       "      <td>1.575000e+05</td>\n",
       "      <td>5.002110e+05</td>\n",
       "      <td>25803.000000</td>\n",
       "      <td>...</td>\n",
       "      <td>0.000000</td>\n",
       "      <td>1.000000</td>\n",
       "      <td>0.000000</td>\n",
       "      <td>0.000000</td>\n",
       "      <td>1.000000</td>\n",
       "      <td>0.000000</td>\n",
       "      <td>0.000000</td>\n",
       "      <td>0.000000</td>\n",
       "      <td>0.000000</td>\n",
       "      <td>1.000000</td>\n",
       "    </tr>\n",
       "    <tr>\n",
       "      <th>75%</th>\n",
       "      <td>138511.750000</td>\n",
       "      <td>366593.750000</td>\n",
       "      <td>1.000000</td>\n",
       "      <td>0.000000</td>\n",
       "      <td>1.000000</td>\n",
       "      <td>1.000000</td>\n",
       "      <td>1.000000</td>\n",
       "      <td>2.025000e+05</td>\n",
       "      <td>7.770240e+05</td>\n",
       "      <td>34780.500000</td>\n",
       "      <td>...</td>\n",
       "      <td>0.000000</td>\n",
       "      <td>1.000000</td>\n",
       "      <td>0.000000</td>\n",
       "      <td>0.000000</td>\n",
       "      <td>1.000000</td>\n",
       "      <td>0.000000</td>\n",
       "      <td>0.000000</td>\n",
       "      <td>0.000000</td>\n",
       "      <td>0.000000</td>\n",
       "      <td>1.000000</td>\n",
       "    </tr>\n",
       "    <tr>\n",
       "      <th>max</th>\n",
       "      <td>185175.000000</td>\n",
       "      <td>456255.000000</td>\n",
       "      <td>1.000000</td>\n",
       "      <td>1.000000</td>\n",
       "      <td>1.000000</td>\n",
       "      <td>1.000000</td>\n",
       "      <td>1.000000</td>\n",
       "      <td>1.800009e+07</td>\n",
       "      <td>4.050000e+06</td>\n",
       "      <td>258025.500000</td>\n",
       "      <td>...</td>\n",
       "      <td>1.000000</td>\n",
       "      <td>1.000000</td>\n",
       "      <td>1.000000</td>\n",
       "      <td>1.000000</td>\n",
       "      <td>1.000000</td>\n",
       "      <td>1.000000</td>\n",
       "      <td>1.000000</td>\n",
       "      <td>1.000000</td>\n",
       "      <td>1.000000</td>\n",
       "      <td>1.000000</td>\n",
       "    </tr>\n",
       "  </tbody>\n",
       "</table>\n",
       "<p>8 rows × 60 columns</p>\n",
       "</div>"
      ],
      "text/plain": [
       "          Unnamed: 0     SK_ID_CURR         TARGET  NAME_CONTRACT_TYPE  \\\n",
       "count  336226.000000  336226.000000  336226.000000       336226.000000   \n",
       "mean    92349.187508  277697.178496       0.500000            0.086897   \n",
       "std     53399.533372  102706.956774       0.500001            0.281684   \n",
       "min         0.000000  100002.000000       0.000000            0.000000   \n",
       "25%     46240.250000  189114.500000       0.000000            0.000000   \n",
       "50%     92134.000000  277094.000000       0.500000            0.000000   \n",
       "75%    138511.750000  366593.750000       1.000000            0.000000   \n",
       "max    185175.000000  456255.000000       1.000000            1.000000   \n",
       "\n",
       "         CODE_GENDER   FLAG_OWN_CAR  FLAG_OWN_REALTY  AMT_INCOME_TOTAL  \\\n",
       "count  336226.000000  336226.000000    336226.000000      3.362260e+05   \n",
       "mean        0.579262       0.364448         0.668003      1.710691e+05   \n",
       "std         0.493678       0.481276         0.470931      1.047404e+05   \n",
       "min         0.000000       0.000000         0.000000      2.655000e+04   \n",
       "25%         0.000000       0.000000         0.000000      1.125000e+05   \n",
       "50%         1.000000       0.000000         1.000000      1.575000e+05   \n",
       "75%         1.000000       1.000000         1.000000      2.025000e+05   \n",
       "max         1.000000       1.000000         1.000000      1.800009e+07   \n",
       "\n",
       "         AMT_CREDIT    AMT_ANNUITY  ...  NAME_INCOME_TYPE_2  \\\n",
       "count  3.362260e+05  336226.000000  ...       336226.000000   \n",
       "mean   5.801396e+05   27421.931513  ...            0.000068   \n",
       "std    3.795925e+05   13776.398061  ...            0.008271   \n",
       "min    4.500000e+04    1980.000000  ...            0.000000   \n",
       "25%    2.787120e+05   17303.625000  ...            0.000000   \n",
       "50%    5.002110e+05   25803.000000  ...            0.000000   \n",
       "75%    7.770240e+05   34780.500000  ...            0.000000   \n",
       "max    4.050000e+06  258025.500000  ...            1.000000   \n",
       "\n",
       "       NAME_INCOME_TYPE_3  NAME_INCOME_TYPE_4  NAME_EDUCATION_TYPE_0  \\\n",
       "count       336226.000000       336226.000000          336226.000000   \n",
       "mean             0.925616            0.074268               0.053179   \n",
       "std              0.262396            0.262208               0.224390   \n",
       "min              0.000000            0.000000               0.000000   \n",
       "25%              1.000000            0.000000               0.000000   \n",
       "50%              1.000000            0.000000               0.000000   \n",
       "75%              1.000000            0.000000               0.000000   \n",
       "max              1.000000            1.000000               1.000000   \n",
       "\n",
       "       NAME_EDUCATION_TYPE_1  NAME_EDUCATION_TYPE_2  NAME_EDUCATION_TYPE_3  \\\n",
       "count          336226.000000          336226.000000          336226.000000   \n",
       "mean                0.712226               0.234182               0.000413   \n",
       "std                 0.452726               0.423487               0.020328   \n",
       "min                 0.000000               0.000000               0.000000   \n",
       "25%                 0.000000               0.000000               0.000000   \n",
       "50%                 1.000000               0.000000               0.000000   \n",
       "75%                 1.000000               0.000000               0.000000   \n",
       "max                 1.000000               1.000000               1.000000   \n",
       "\n",
       "       NAME_FAMILY_STATUS_0  NAME_FAMILY_STATUS_1  NAME_FAMILY_STATUS_2  \n",
       "count         336226.000000         336226.000000         336226.000000  \n",
       "mean               0.171319              0.077689              0.750992  \n",
       "std                0.376788              0.267682              0.432439  \n",
       "min                0.000000              0.000000              0.000000  \n",
       "25%                0.000000              0.000000              1.000000  \n",
       "50%                0.000000              0.000000              1.000000  \n",
       "75%                0.000000              0.000000              1.000000  \n",
       "max                1.000000              1.000000              1.000000  \n",
       "\n",
       "[8 rows x 60 columns]"
      ]
     },
     "execution_count": 4,
     "metadata": {},
     "output_type": "execute_result"
    }
   ],
   "source": [
    "# Read in the data\n",
    "temp = pd.read_csv('/Users/amarjotsinghlohia/Documents/Dissertation/Data/home-credit-default-risk/application_train_upsampled.csv')\n",
    "temp.describe()"
   ]
  },
  {
   "cell_type": "code",
   "execution_count": 5,
   "metadata": {},
   "outputs": [
    {
     "name": "stdout",
     "output_type": "stream",
     "text": [
      "   NAME_CONTRACT_TYPE  CODE_GENDER  FLAG_OWN_CAR  FLAG_OWN_REALTY  \\\n",
      "0                   0            1             0                0   \n",
      "1                   1            0             1                1   \n",
      "\n",
      "   AMT_INCOME_TOTAL  AMT_CREDIT  AMT_ANNUITY  AMT_GOODS_PRICE  FLAG_MOBIL  \\\n",
      "0          270000.0   1293502.5      35698.5        1129500.0           1   \n",
      "1           67500.0    135000.0       6750.0         135000.0           1   \n",
      "\n",
      "   FLAG_EMP_PHONE  ...  NAME_INCOME_TYPE_2  NAME_INCOME_TYPE_3  \\\n",
      "0               1  ...                   0                   0   \n",
      "1               1  ...                   0                   1   \n",
      "\n",
      "   NAME_INCOME_TYPE_4  NAME_EDUCATION_TYPE_0  NAME_EDUCATION_TYPE_1  \\\n",
      "0                   1                      0                      0   \n",
      "1                   0                      0                      1   \n",
      "\n",
      "   NAME_EDUCATION_TYPE_2  NAME_EDUCATION_TYPE_3  NAME_FAMILY_STATUS_0  \\\n",
      "0                      1                      0                     0   \n",
      "1                      0                      0                     1   \n",
      "\n",
      "   NAME_FAMILY_STATUS_1  NAME_FAMILY_STATUS_2  \n",
      "0                     0                     1  \n",
      "1                     0                     0  \n",
      "\n",
      "[2 rows x 57 columns]\n",
      "0    0\n",
      "1    0\n",
      "Name: TARGET, dtype: int64\n"
     ]
    }
   ],
   "source": [
    "#Splitting inot target and no-target variables dataset\n",
    "X = temp.iloc[:,3:]\n",
    "Y = temp['TARGET']\n",
    "print(X.shape, Y.shape)"
   ]
  },
  {
   "cell_type": "code",
   "execution_count": 6,
   "metadata": {},
   "outputs": [
    {
     "name": "stdout",
     "output_type": "stream",
     "text": [
      "(336226, 57) (235358, 57) (100868, 57) (336226,) (235358,) (100868,)\n"
     ]
    }
   ],
   "source": [
    "#Splitting into training and test data of 70:30 ratio\n",
    "X_train, X_test, Y_train, Y_test = train_test_split(X, Y, test_size = 0.30)\n",
    "print(X.shape, X_train.shape, X_test.shape, Y.shape, Y_train.shape, Y_test.shape)"
   ]
  },
  {
   "cell_type": "code",
   "execution_count": 24,
   "metadata": {},
   "outputs": [
    {
     "name": "stderr",
     "output_type": "stream",
     "text": [
      "/Users/amarjotsinghlohia/opt/anaconda3/lib/python3.9/site-packages/xgboost/sklearn.py:793: UserWarning: `eval_metric` in `fit` method is deprecated for better compatibility with scikit-learn, use `eval_metric` in constructor or`set_params` instead.\n",
      "  warnings.warn(\n"
     ]
    },
    {
     "name": "stdout",
     "output_type": "stream",
     "text": [
      "[0]\tvalidation_0-auc:0.64796\n",
      "[1]\tvalidation_0-auc:0.66361\n",
      "[2]\tvalidation_0-auc:0.67059\n",
      "[3]\tvalidation_0-auc:0.67617\n",
      "[4]\tvalidation_0-auc:0.68295\n",
      "[5]\tvalidation_0-auc:0.68644\n",
      "[6]\tvalidation_0-auc:0.69219\n",
      "[7]\tvalidation_0-auc:0.69530\n",
      "[8]\tvalidation_0-auc:0.69843\n",
      "[9]\tvalidation_0-auc:0.70190\n",
      "[10]\tvalidation_0-auc:0.70444\n",
      "[11]\tvalidation_0-auc:0.70664\n",
      "[12]\tvalidation_0-auc:0.70834\n",
      "[13]\tvalidation_0-auc:0.71061\n",
      "[14]\tvalidation_0-auc:0.71316\n",
      "[15]\tvalidation_0-auc:0.71465\n",
      "[16]\tvalidation_0-auc:0.71579\n",
      "[17]\tvalidation_0-auc:0.71827\n",
      "[18]\tvalidation_0-auc:0.71968\n",
      "[19]\tvalidation_0-auc:0.72263\n",
      "[20]\tvalidation_0-auc:0.72413\n",
      "[21]\tvalidation_0-auc:0.72615\n",
      "[22]\tvalidation_0-auc:0.72677\n",
      "[23]\tvalidation_0-auc:0.72863\n",
      "[24]\tvalidation_0-auc:0.73051\n",
      "[25]\tvalidation_0-auc:0.73202\n",
      "[26]\tvalidation_0-auc:0.73289\n",
      "[27]\tvalidation_0-auc:0.73430\n",
      "[28]\tvalidation_0-auc:0.73547\n",
      "[29]\tvalidation_0-auc:0.73695\n",
      "[30]\tvalidation_0-auc:0.73767\n",
      "[31]\tvalidation_0-auc:0.73915\n",
      "[32]\tvalidation_0-auc:0.74105\n",
      "[33]\tvalidation_0-auc:0.74209\n",
      "[34]\tvalidation_0-auc:0.74255\n",
      "[35]\tvalidation_0-auc:0.74361\n",
      "[36]\tvalidation_0-auc:0.74416\n",
      "[37]\tvalidation_0-auc:0.74448\n",
      "[38]\tvalidation_0-auc:0.74645\n",
      "[39]\tvalidation_0-auc:0.74760\n",
      "[40]\tvalidation_0-auc:0.74799\n",
      "[41]\tvalidation_0-auc:0.74877\n",
      "[42]\tvalidation_0-auc:0.75025\n",
      "[43]\tvalidation_0-auc:0.75087\n",
      "[44]\tvalidation_0-auc:0.75258\n",
      "[45]\tvalidation_0-auc:0.75349\n",
      "[46]\tvalidation_0-auc:0.75402\n",
      "[47]\tvalidation_0-auc:0.75503\n",
      "[48]\tvalidation_0-auc:0.75576\n",
      "[49]\tvalidation_0-auc:0.75637\n",
      "[50]\tvalidation_0-auc:0.75707\n",
      "[51]\tvalidation_0-auc:0.75789\n",
      "[52]\tvalidation_0-auc:0.75838\n",
      "[53]\tvalidation_0-auc:0.75915\n",
      "[54]\tvalidation_0-auc:0.75930\n",
      "[55]\tvalidation_0-auc:0.75989\n",
      "[56]\tvalidation_0-auc:0.76106\n",
      "[57]\tvalidation_0-auc:0.76224\n",
      "[58]\tvalidation_0-auc:0.76308\n",
      "[59]\tvalidation_0-auc:0.76350\n",
      "[60]\tvalidation_0-auc:0.76435\n",
      "[61]\tvalidation_0-auc:0.76558\n",
      "[62]\tvalidation_0-auc:0.76584\n",
      "[63]\tvalidation_0-auc:0.76649\n",
      "[64]\tvalidation_0-auc:0.76714\n",
      "[65]\tvalidation_0-auc:0.76775\n",
      "[66]\tvalidation_0-auc:0.76929\n",
      "[67]\tvalidation_0-auc:0.76967\n",
      "[68]\tvalidation_0-auc:0.77082\n",
      "[69]\tvalidation_0-auc:0.77210\n",
      "[70]\tvalidation_0-auc:0.77334\n",
      "[71]\tvalidation_0-auc:0.77358\n",
      "[72]\tvalidation_0-auc:0.77485\n",
      "[73]\tvalidation_0-auc:0.77615\n",
      "[74]\tvalidation_0-auc:0.77644\n",
      "[75]\tvalidation_0-auc:0.77704\n",
      "[76]\tvalidation_0-auc:0.77711\n",
      "[77]\tvalidation_0-auc:0.77746\n",
      "[78]\tvalidation_0-auc:0.77783\n",
      "[79]\tvalidation_0-auc:0.77834\n",
      "[80]\tvalidation_0-auc:0.77962\n",
      "[81]\tvalidation_0-auc:0.78075\n",
      "[82]\tvalidation_0-auc:0.78120\n",
      "[83]\tvalidation_0-auc:0.78204\n",
      "[84]\tvalidation_0-auc:0.78218\n",
      "[85]\tvalidation_0-auc:0.78239\n",
      "[86]\tvalidation_0-auc:0.78284\n",
      "[87]\tvalidation_0-auc:0.78349\n",
      "[88]\tvalidation_0-auc:0.78395\n",
      "[89]\tvalidation_0-auc:0.78419\n",
      "[90]\tvalidation_0-auc:0.78485\n",
      "[91]\tvalidation_0-auc:0.78534\n",
      "[92]\tvalidation_0-auc:0.78649\n",
      "[93]\tvalidation_0-auc:0.78719\n",
      "[94]\tvalidation_0-auc:0.78801\n",
      "[95]\tvalidation_0-auc:0.78868\n",
      "[96]\tvalidation_0-auc:0.78895\n",
      "[97]\tvalidation_0-auc:0.78922\n",
      "[98]\tvalidation_0-auc:0.79028\n",
      "[99]\tvalidation_0-auc:0.79096\n"
     ]
    },
    {
     "data": {
      "text/html": [
       "<style>#sk-container-id-3 {color: black;background-color: white;}#sk-container-id-3 pre{padding: 0;}#sk-container-id-3 div.sk-toggleable {background-color: white;}#sk-container-id-3 label.sk-toggleable__label {cursor: pointer;display: block;width: 100%;margin-bottom: 0;padding: 0.3em;box-sizing: border-box;text-align: center;}#sk-container-id-3 label.sk-toggleable__label-arrow:before {content: \"▸\";float: left;margin-right: 0.25em;color: #696969;}#sk-container-id-3 label.sk-toggleable__label-arrow:hover:before {color: black;}#sk-container-id-3 div.sk-estimator:hover label.sk-toggleable__label-arrow:before {color: black;}#sk-container-id-3 div.sk-toggleable__content {max-height: 0;max-width: 0;overflow: hidden;text-align: left;background-color: #f0f8ff;}#sk-container-id-3 div.sk-toggleable__content pre {margin: 0.2em;color: black;border-radius: 0.25em;background-color: #f0f8ff;}#sk-container-id-3 input.sk-toggleable__control:checked~div.sk-toggleable__content {max-height: 200px;max-width: 100%;overflow: auto;}#sk-container-id-3 input.sk-toggleable__control:checked~label.sk-toggleable__label-arrow:before {content: \"▾\";}#sk-container-id-3 div.sk-estimator input.sk-toggleable__control:checked~label.sk-toggleable__label {background-color: #d4ebff;}#sk-container-id-3 div.sk-label input.sk-toggleable__control:checked~label.sk-toggleable__label {background-color: #d4ebff;}#sk-container-id-3 input.sk-hidden--visually {border: 0;clip: rect(1px 1px 1px 1px);clip: rect(1px, 1px, 1px, 1px);height: 1px;margin: -1px;overflow: hidden;padding: 0;position: absolute;width: 1px;}#sk-container-id-3 div.sk-estimator {font-family: monospace;background-color: #f0f8ff;border: 1px dotted black;border-radius: 0.25em;box-sizing: border-box;margin-bottom: 0.5em;}#sk-container-id-3 div.sk-estimator:hover {background-color: #d4ebff;}#sk-container-id-3 div.sk-parallel-item::after {content: \"\";width: 100%;border-bottom: 1px solid gray;flex-grow: 1;}#sk-container-id-3 div.sk-label:hover label.sk-toggleable__label {background-color: #d4ebff;}#sk-container-id-3 div.sk-serial::before {content: \"\";position: absolute;border-left: 1px solid gray;box-sizing: border-box;top: 0;bottom: 0;left: 50%;z-index: 0;}#sk-container-id-3 div.sk-serial {display: flex;flex-direction: column;align-items: center;background-color: white;padding-right: 0.2em;padding-left: 0.2em;position: relative;}#sk-container-id-3 div.sk-item {position: relative;z-index: 1;}#sk-container-id-3 div.sk-parallel {display: flex;align-items: stretch;justify-content: center;background-color: white;position: relative;}#sk-container-id-3 div.sk-item::before, #sk-container-id-3 div.sk-parallel-item::before {content: \"\";position: absolute;border-left: 1px solid gray;box-sizing: border-box;top: 0;bottom: 0;left: 50%;z-index: -1;}#sk-container-id-3 div.sk-parallel-item {display: flex;flex-direction: column;z-index: 1;position: relative;background-color: white;}#sk-container-id-3 div.sk-parallel-item:first-child::after {align-self: flex-end;width: 50%;}#sk-container-id-3 div.sk-parallel-item:last-child::after {align-self: flex-start;width: 50%;}#sk-container-id-3 div.sk-parallel-item:only-child::after {width: 0;}#sk-container-id-3 div.sk-dashed-wrapped {border: 1px dashed gray;margin: 0 0.4em 0.5em 0.4em;box-sizing: border-box;padding-bottom: 0.4em;background-color: white;}#sk-container-id-3 div.sk-label label {font-family: monospace;font-weight: bold;display: inline-block;line-height: 1.2em;}#sk-container-id-3 div.sk-label-container {text-align: center;}#sk-container-id-3 div.sk-container {/* jupyter's `normalize.less` sets `[hidden] { display: none; }` but bootstrap.min.css set `[hidden] { display: none !important; }` so we also need the `!important` here to be able to override the default hidden behavior on the sphinx rendered scikit-learn.org. See: https://github.com/scikit-learn/scikit-learn/issues/21755 */display: inline-block !important;position: relative;}#sk-container-id-3 div.sk-text-repr-fallback {display: none;}</style><div id=\"sk-container-id-3\" class=\"sk-top-container\"><div class=\"sk-text-repr-fallback\"><pre>XGBClassifier(base_score=0.5, booster=&#x27;gbtree&#x27;, callbacks=None,\n",
       "              colsample_bylevel=1, colsample_bynode=1, colsample_bytree=1,\n",
       "              early_stopping_rounds=None, enable_categorical=False,\n",
       "              eval_metric=None, gamma=0, gpu_id=-1, grow_policy=&#x27;depthwise&#x27;,\n",
       "              importance_type=None, interaction_constraints=&#x27;&#x27;,\n",
       "              learning_rate=0.300000012, max_bin=256, max_cat_to_onehot=4,\n",
       "              max_delta_step=0, max_depth=6, max_leaves=0, min_child_weight=1,\n",
       "              missing=None, monotone_constraints=&#x27;()&#x27;, n_estimators=100,\n",
       "              n_jobs=0, num_parallel_tree=1, predictor=&#x27;auto&#x27;, random_state=0,\n",
       "              reg_alpha=0, reg_lambda=1, ...)</pre><b>In a Jupyter environment, please rerun this cell to show the HTML representation or trust the notebook. <br />On GitHub, the HTML representation is unable to render, please try loading this page with nbviewer.org.</b></div><div class=\"sk-container\" hidden><div class=\"sk-item\"><div class=\"sk-estimator sk-toggleable\"><input class=\"sk-toggleable__control sk-hidden--visually\" id=\"sk-estimator-id-3\" type=\"checkbox\" checked><label for=\"sk-estimator-id-3\" class=\"sk-toggleable__label sk-toggleable__label-arrow\">XGBClassifier</label><div class=\"sk-toggleable__content\"><pre>XGBClassifier(base_score=0.5, booster=&#x27;gbtree&#x27;, callbacks=None,\n",
       "              colsample_bylevel=1, colsample_bynode=1, colsample_bytree=1,\n",
       "              early_stopping_rounds=None, enable_categorical=False,\n",
       "              eval_metric=None, gamma=0, gpu_id=-1, grow_policy=&#x27;depthwise&#x27;,\n",
       "              importance_type=None, interaction_constraints=&#x27;&#x27;,\n",
       "              learning_rate=0.300000012, max_bin=256, max_cat_to_onehot=4,\n",
       "              max_delta_step=0, max_depth=6, max_leaves=0, min_child_weight=1,\n",
       "              missing=None, monotone_constraints=&#x27;()&#x27;, n_estimators=100,\n",
       "              n_jobs=0, num_parallel_tree=1, predictor=&#x27;auto&#x27;, random_state=0,\n",
       "              reg_alpha=0, reg_lambda=1, ...)</pre></div></div></div></div></div>"
      ],
      "text/plain": [
       "XGBClassifier(base_score=0.5, booster='gbtree', callbacks=None,\n",
       "              colsample_bylevel=1, colsample_bynode=1, colsample_bytree=1,\n",
       "              early_stopping_rounds=None, enable_categorical=False,\n",
       "              eval_metric=None, gamma=0, gpu_id=-1, grow_policy='depthwise',\n",
       "              importance_type=None, interaction_constraints='',\n",
       "              learning_rate=0.300000012, max_bin=256, max_cat_to_onehot=4,\n",
       "              max_delta_step=0, max_depth=6, max_leaves=0, min_child_weight=1,\n",
       "              missing=None, monotone_constraints='()', n_estimators=100,\n",
       "              n_jobs=0, num_parallel_tree=1, predictor='auto', random_state=0,\n",
       "              reg_alpha=0, reg_lambda=1, ...)"
      ]
     },
     "execution_count": 24,
     "metadata": {},
     "output_type": "execute_result"
    }
   ],
   "source": [
    "#Creating the XGBoost model with default parameters\n",
    "Xgboost_model = xgb.XGBClassifier(objective = 'binary:logistic', missing = None)\n",
    "Xgboost_model.fit(X_train, Y_train, verbose = True, \n",
    "                  eval_metric = 'auc', eval_set = [(X_test, Y_test)])"
   ]
  },
  {
   "cell_type": "code",
   "execution_count": 17,
   "metadata": {},
   "outputs": [
    {
     "data": {
      "text/plain": [
       "<AxesSubplot:title={'center':'Feature importance'}, xlabel='F score', ylabel='Features'>"
      ]
     },
     "execution_count": 17,
     "metadata": {},
     "output_type": "execute_result"
    },
    {
     "data": {
      "image/png": "[encoded data removed]",
      "text/plain": [
       "<Figure size 432x288 with 1 Axes>"
      ]
     },
     "metadata": {
      "needs_background": "light"
     },
     "output_type": "display_data"
    }
   ],
   "source": [
    "#Plotting the feature importance\n",
    "xgb.plot_importance(Xgboost_model, max_num_features = 15)"
   ]
  },
  {
   "cell_type": "code",
   "execution_count": 25,
   "metadata": {},
   "outputs": [
    {
     "ename": "XGBoostError",
     "evalue": "[00:02:27] /Users/runner/work/xgboost/xgboost/python-package/build/temp.macosx-10.9-x86_64-cpython-37/xgboost/src/c_api/c_api_utils.h:159: Invalid missing value: null\nStack trace:\n  [bt] (0) 1   libxgboost.dylib                    0x0000000121919705 dmlc::LogMessageFatal::~LogMessageFatal() + 117\n  [bt] (1) 2   libxgboost.dylib                    0x000000012190ea3b xgboost::GetMissing(xgboost::Json const&) + 219\n  [bt] (2) 3   libxgboost.dylib                    0x0000000121920b5d void InplacePredictImpl<xgboost::data::ArrayAdapter>(std::__1::shared_ptr<xgboost::data::ArrayAdapter>, std::__1::shared_ptr<xgboost::DMatrix>, char const*, xgboost::Learner*, unsigned long, unsigned long, unsigned long long const**, unsigned long long*, float const**) + 509\n  [bt] (3) 4   libxgboost.dylib                    0x0000000121920676 XGBoosterPredictFromDense + 326\n  [bt] (4) 5   libffi.7.dylib                      0x000000010f3cdead ffi_call_unix64 + 85\n\n",
     "output_type": "error",
     "traceback": [
      "\u001b[0;31m---------------------------------------------------------------------------\u001b[0m",
      "\u001b[0;31mXGBoostError\u001b[0m                              Traceback (most recent call last)",
      "\u001b[1;32m/Users/amarjotsinghlohia/Documents/Dissertation/Code/XGBOOST_model.ipynb Cell 8\u001b[0m in \u001b[0;36m<cell line: 2>\u001b[0;34m()\u001b[0m\n\u001b[1;32m      <a href='vscode-notebook-cell:/Users/amarjotsinghlohia/Documents/Dissertation/Code/XGBOOST_model.ipynb#W6sZmlsZQ%3D%3D?line=0'>1</a>\u001b[0m \u001b[39m#Evaluate model\u001b[39;00m\n\u001b[0;32m----> <a href='vscode-notebook-cell:/Users/amarjotsinghlohia/Documents/Dissertation/Code/XGBOOST_model.ipynb#W6sZmlsZQ%3D%3D?line=1'>2</a>\u001b[0m y_pred \u001b[39m=\u001b[39m Xgboost_model\u001b[39m.\u001b[39;49mpredict_proba(X_test)\n",
      "File \u001b[0;32m~/opt/anaconda3/lib/python3.9/site-packages/xgboost/sklearn.py:1512\u001b[0m, in \u001b[0;36mXGBClassifier.predict_proba\u001b[0;34m(self, X, ntree_limit, validate_features, base_margin, iteration_range)\u001b[0m\n\u001b[1;32m   1504\u001b[0m \u001b[39mif\u001b[39;00m \u001b[39mself\u001b[39m\u001b[39m.\u001b[39mobjective \u001b[39m==\u001b[39m \u001b[39m\"\u001b[39m\u001b[39mmulti:softmax\u001b[39m\u001b[39m\"\u001b[39m:\n\u001b[1;32m   1505\u001b[0m     \u001b[39m# We need to run a Python implementation of softmax for it.  Just ask user to\u001b[39;00m\n\u001b[1;32m   1506\u001b[0m     \u001b[39m# use softprob since XGBoost's implementation has mitigation for floating\u001b[39;00m\n\u001b[1;32m   1507\u001b[0m     \u001b[39m# point overflow.  No need to reinvent the wheel.\u001b[39;00m\n\u001b[1;32m   1508\u001b[0m     \u001b[39mraise\u001b[39;00m \u001b[39mValueError\u001b[39;00m(\n\u001b[1;32m   1509\u001b[0m         \u001b[39m\"\u001b[39m\u001b[39mmulti:softmax doesn\u001b[39m\u001b[39m'\u001b[39m\u001b[39mt support `predict_proba`.  \u001b[39m\u001b[39m\"\u001b[39m\n\u001b[1;32m   1510\u001b[0m         \u001b[39m\"\u001b[39m\u001b[39mSwitch to `multi:softproba` instead\u001b[39m\u001b[39m\"\u001b[39m\n\u001b[1;32m   1511\u001b[0m     )\n\u001b[0;32m-> 1512\u001b[0m class_probs \u001b[39m=\u001b[39m \u001b[39msuper\u001b[39;49m()\u001b[39m.\u001b[39;49mpredict(\n\u001b[1;32m   1513\u001b[0m     X\u001b[39m=\u001b[39;49mX,\n\u001b[1;32m   1514\u001b[0m     ntree_limit\u001b[39m=\u001b[39;49mntree_limit,\n\u001b[1;32m   1515\u001b[0m     validate_features\u001b[39m=\u001b[39;49mvalidate_features,\n\u001b[1;32m   1516\u001b[0m     base_margin\u001b[39m=\u001b[39;49mbase_margin,\n\u001b[1;32m   1517\u001b[0m     iteration_range\u001b[39m=\u001b[39;49miteration_range\n\u001b[1;32m   1518\u001b[0m )\n\u001b[1;32m   1519\u001b[0m \u001b[39m# If model is loaded from a raw booster there's no `n_classes_`\u001b[39;00m\n\u001b[1;32m   1520\u001b[0m \u001b[39mreturn\u001b[39;00m _cls_predict_proba(\u001b[39mgetattr\u001b[39m(\u001b[39mself\u001b[39m, \u001b[39m\"\u001b[39m\u001b[39mn_classes_\u001b[39m\u001b[39m\"\u001b[39m, \u001b[39m0\u001b[39m), class_probs, np\u001b[39m.\u001b[39mvstack)\n",
      "File \u001b[0;32m~/opt/anaconda3/lib/python3.9/site-packages/xgboost/sklearn.py:1049\u001b[0m, in \u001b[0;36mXGBModel.predict\u001b[0;34m(self, X, output_margin, ntree_limit, validate_features, base_margin, iteration_range)\u001b[0m\n\u001b[1;32m   1047\u001b[0m \u001b[39mif\u001b[39;00m \u001b[39mself\u001b[39m\u001b[39m.\u001b[39m_can_use_inplace_predict():\n\u001b[1;32m   1048\u001b[0m     \u001b[39mtry\u001b[39;00m:\n\u001b[0;32m-> 1049\u001b[0m         predts \u001b[39m=\u001b[39m \u001b[39mself\u001b[39;49m\u001b[39m.\u001b[39;49mget_booster()\u001b[39m.\u001b[39;49minplace_predict(\n\u001b[1;32m   1050\u001b[0m             data\u001b[39m=\u001b[39;49mX,\n\u001b[1;32m   1051\u001b[0m             iteration_range\u001b[39m=\u001b[39;49miteration_range,\n\u001b[1;32m   1052\u001b[0m             predict_type\u001b[39m=\u001b[39;49m\u001b[39m\"\u001b[39;49m\u001b[39mmargin\u001b[39;49m\u001b[39m\"\u001b[39;49m \u001b[39mif\u001b[39;49;00m output_margin \u001b[39melse\u001b[39;49;00m \u001b[39m\"\u001b[39;49m\u001b[39mvalue\u001b[39;49m\u001b[39m\"\u001b[39;49m,\n\u001b[1;32m   1053\u001b[0m             missing\u001b[39m=\u001b[39;49m\u001b[39mself\u001b[39;49m\u001b[39m.\u001b[39;49mmissing,\n\u001b[1;32m   1054\u001b[0m             base_margin\u001b[39m=\u001b[39;49mbase_margin,\n\u001b[1;32m   1055\u001b[0m             validate_features\u001b[39m=\u001b[39;49mvalidate_features,\n\u001b[1;32m   1056\u001b[0m         )\n\u001b[1;32m   1057\u001b[0m         \u001b[39mif\u001b[39;00m _is_cupy_array(predts):\n\u001b[1;32m   1058\u001b[0m             \u001b[39mimport\u001b[39;00m \u001b[39mcupy\u001b[39;00m     \u001b[39m# pylint: disable=import-error\u001b[39;00m\n",
      "File \u001b[0;32m~/opt/anaconda3/lib/python3.9/site-packages/xgboost/core.py:2147\u001b[0m, in \u001b[0;36mBooster.inplace_predict\u001b[0;34m(self, data, iteration_range, predict_type, missing, validate_features, base_margin, strict_shape)\u001b[0m\n\u001b[1;32m   2145\u001b[0m     \u001b[39mfrom\u001b[39;00m \u001b[39m.\u001b[39;00m\u001b[39mdata\u001b[39;00m \u001b[39mimport\u001b[39;00m _ensure_np_dtype\n\u001b[1;32m   2146\u001b[0m     data, _ \u001b[39m=\u001b[39m _ensure_np_dtype(data, data\u001b[39m.\u001b[39mdtype)\n\u001b[0;32m-> 2147\u001b[0m     _check_call(\n\u001b[1;32m   2148\u001b[0m         _LIB\u001b[39m.\u001b[39;49mXGBoosterPredictFromDense(\n\u001b[1;32m   2149\u001b[0m             \u001b[39mself\u001b[39;49m\u001b[39m.\u001b[39;49mhandle,\n\u001b[1;32m   2150\u001b[0m             _array_interface(data),\n\u001b[1;32m   2151\u001b[0m             from_pystr_to_cstr(json\u001b[39m.\u001b[39;49mdumps(args)),\n\u001b[1;32m   2152\u001b[0m             p_handle,\n\u001b[1;32m   2153\u001b[0m             ctypes\u001b[39m.\u001b[39;49mbyref(shape),\n\u001b[1;32m   2154\u001b[0m             ctypes\u001b[39m.\u001b[39;49mbyref(dims),\n\u001b[1;32m   2155\u001b[0m             ctypes\u001b[39m.\u001b[39;49mbyref(preds),\n\u001b[1;32m   2156\u001b[0m         )\n\u001b[1;32m   2157\u001b[0m     )\n\u001b[1;32m   2158\u001b[0m     \u001b[39mreturn\u001b[39;00m _prediction_output(shape, dims, preds, \u001b[39mFalse\u001b[39;00m)\n\u001b[1;32m   2159\u001b[0m \u001b[39mif\u001b[39;00m \u001b[39misinstance\u001b[39m(data, scipy\u001b[39m.\u001b[39msparse\u001b[39m.\u001b[39mcsr_matrix):\n",
      "File \u001b[0;32m~/opt/anaconda3/lib/python3.9/site-packages/xgboost/core.py:246\u001b[0m, in \u001b[0;36m_check_call\u001b[0;34m(ret)\u001b[0m\n\u001b[1;32m    235\u001b[0m \u001b[39m\"\"\"Check the return value of C API call\u001b[39;00m\n\u001b[1;32m    236\u001b[0m \n\u001b[1;32m    237\u001b[0m \u001b[39mThis function will raise exception when error occurs.\u001b[39;00m\n\u001b[0;32m   (...)\u001b[0m\n\u001b[1;32m    243\u001b[0m \u001b[39m    return value from API calls\u001b[39;00m\n\u001b[1;32m    244\u001b[0m \u001b[39m\"\"\"\u001b[39;00m\n\u001b[1;32m    245\u001b[0m \u001b[39mif\u001b[39;00m ret \u001b[39m!=\u001b[39m \u001b[39m0\u001b[39m:\n\u001b[0;32m--> 246\u001b[0m     \u001b[39mraise\u001b[39;00m XGBoostError(py_str(_LIB\u001b[39m.\u001b[39mXGBGetLastError()))\n",
      "\u001b[0;31mXGBoostError\u001b[0m: [00:02:27] /Users/runner/work/xgboost/xgboost/python-package/build/temp.macosx-10.9-x86_64-cpython-37/xgboost/src/c_api/c_api_utils.h:159: Invalid missing value: null\nStack trace:\n  [bt] (0) 1   libxgboost.dylib                    0x0000000121919705 dmlc::LogMessageFatal::~LogMessageFatal() + 117\n  [bt] (1) 2   libxgboost.dylib                    0x000000012190ea3b xgboost::GetMissing(xgboost::Json const&) + 219\n  [bt] (2) 3   libxgboost.dylib                    0x0000000121920b5d void InplacePredictImpl<xgboost::data::ArrayAdapter>(std::__1::shared_ptr<xgboost::data::ArrayAdapter>, std::__1::shared_ptr<xgboost::DMatrix>, char const*, xgboost::Learner*, unsigned long, unsigned long, unsigned long long const**, unsigned long long*, float const**) + 509\n  [bt] (3) 4   libxgboost.dylib                    0x0000000121920676 XGBoosterPredictFromDense + 326\n  [bt] (4) 5   libffi.7.dylib                      0x000000010f3cdead ffi_call_unix64 + 85\n\n"
     ]
    }
   ],
   "source": [
    "#Evaluating the model\n",
    "y_pred = Xgboost_model.predict_proba(X_test)"
   ]
  },
  {
   "cell_type": "code",
   "execution_count": 12,
   "metadata": {},
   "outputs": [
    {
     "name": "stderr",
     "output_type": "stream",
     "text": [
      "/Users/amarjotsinghlohia/.local/lib/python3.9/site-packages/sklearn/utils/deprecation.py:87: FutureWarning: Function plot_confusion_matrix is deprecated; Function `plot_confusion_matrix` is deprecated in 1.0 and will be removed in 1.2. Use one of the class methods: ConfusionMatrixDisplay.from_predictions or ConfusionMatrixDisplay.from_estimator.\n",
      "  warnings.warn(msg, category=FutureWarning)\n"
     ]
    },
    {
     "ename": "XGBoostError",
     "evalue": "[23:24:26] /Users/runner/work/xgboost/xgboost/python-package/build/temp.macosx-10.9-x86_64-cpython-37/xgboost/src/c_api/c_api_utils.h:159: Invalid missing value: null\nStack trace:\n  [bt] (0) 1   libxgboost.dylib                    0x0000000121919705 dmlc::LogMessageFatal::~LogMessageFatal() + 117\n  [bt] (1) 2   libxgboost.dylib                    0x000000012190ea3b xgboost::GetMissing(xgboost::Json const&) + 219\n  [bt] (2) 3   libxgboost.dylib                    0x0000000121920b5d void InplacePredictImpl<xgboost::data::ArrayAdapter>(std::__1::shared_ptr<xgboost::data::ArrayAdapter>, std::__1::shared_ptr<xgboost::DMatrix>, char const*, xgboost::Learner*, unsigned long, unsigned long, unsigned long long const**, unsigned long long*, float const**) + 509\n  [bt] (3) 4   libxgboost.dylib                    0x0000000121920676 XGBoosterPredictFromDense + 326\n  [bt] (4) 5   libffi.7.dylib                      0x000000010f3cdead ffi_call_unix64 + 85\n\n",
     "output_type": "error",
     "traceback": [
      "\u001b[0;31m---------------------------------------------------------------------------\u001b[0m",
      "\u001b[0;31mXGBoostError\u001b[0m                              Traceback (most recent call last)",
      "\u001b[1;32m/Users/amarjotsinghlohia/Documents/Dissertation/Code/XGBOOST_model.ipynb Cell 8\u001b[0m in \u001b[0;36m<cell line: 1>\u001b[0;34m()\u001b[0m\n\u001b[0;32m----> <a href='vscode-notebook-cell:/Users/amarjotsinghlohia/Documents/Dissertation/Code/XGBOOST_model.ipynb#X10sZmlsZQ%3D%3D?line=0'>1</a>\u001b[0m plot_confusion_matrix(Xgboost_model, X_test, Y_test, values_format \u001b[39m=\u001b[39;49m\u001b[39m'\u001b[39;49m\u001b[39md\u001b[39;49m\u001b[39m'\u001b[39;49m, display_labels \u001b[39m=\u001b[39;49m [\u001b[39m'\u001b[39;49m\u001b[39mNot Approved\u001b[39;49m\u001b[39m'\u001b[39;49m,\u001b[39m'\u001b[39;49m\u001b[39mApproved\u001b[39;49m\u001b[39m'\u001b[39;49m])\n",
      "File \u001b[0;32m~/.local/lib/python3.9/site-packages/sklearn/utils/deprecation.py:88\u001b[0m, in \u001b[0;36mdeprecated._decorate_fun.<locals>.wrapped\u001b[0;34m(*args, **kwargs)\u001b[0m\n\u001b[1;32m     85\u001b[0m \u001b[39m@functools\u001b[39m\u001b[39m.\u001b[39mwraps(fun)\n\u001b[1;32m     86\u001b[0m \u001b[39mdef\u001b[39;00m \u001b[39mwrapped\u001b[39m(\u001b[39m*\u001b[39margs, \u001b[39m*\u001b[39m\u001b[39m*\u001b[39mkwargs):\n\u001b[1;32m     87\u001b[0m     warnings\u001b[39m.\u001b[39mwarn(msg, category\u001b[39m=\u001b[39m\u001b[39mFutureWarning\u001b[39;00m)\n\u001b[0;32m---> 88\u001b[0m     \u001b[39mreturn\u001b[39;00m fun(\u001b[39m*\u001b[39;49margs, \u001b[39m*\u001b[39;49m\u001b[39m*\u001b[39;49mkwargs)\n",
      "File \u001b[0;32m~/.local/lib/python3.9/site-packages/sklearn/metrics/_plot/confusion_matrix.py:584\u001b[0m, in \u001b[0;36mplot_confusion_matrix\u001b[0;34m(estimator, X, y_true, labels, sample_weight, normalize, display_labels, include_values, xticks_rotation, values_format, cmap, ax, colorbar)\u001b[0m\n\u001b[1;32m    581\u001b[0m \u001b[39mif\u001b[39;00m \u001b[39mnot\u001b[39;00m is_classifier(estimator):\n\u001b[1;32m    582\u001b[0m     \u001b[39mraise\u001b[39;00m \u001b[39mValueError\u001b[39;00m(\u001b[39m\"\u001b[39m\u001b[39mplot_confusion_matrix only supports classifiers\u001b[39m\u001b[39m\"\u001b[39m)\n\u001b[0;32m--> 584\u001b[0m y_pred \u001b[39m=\u001b[39m estimator\u001b[39m.\u001b[39;49mpredict(X)\n\u001b[1;32m    585\u001b[0m cm \u001b[39m=\u001b[39m confusion_matrix(\n\u001b[1;32m    586\u001b[0m     y_true, y_pred, sample_weight\u001b[39m=\u001b[39msample_weight, labels\u001b[39m=\u001b[39mlabels, normalize\u001b[39m=\u001b[39mnormalize\n\u001b[1;32m    587\u001b[0m )\n\u001b[1;32m    589\u001b[0m \u001b[39mif\u001b[39;00m display_labels \u001b[39mis\u001b[39;00m \u001b[39mNone\u001b[39;00m:\n",
      "File \u001b[0;32m~/opt/anaconda3/lib/python3.9/site-packages/xgboost/sklearn.py:1434\u001b[0m, in \u001b[0;36mXGBClassifier.predict\u001b[0;34m(self, X, output_margin, ntree_limit, validate_features, base_margin, iteration_range)\u001b[0m\n\u001b[1;32m   1425\u001b[0m \u001b[39mdef\u001b[39;00m \u001b[39mpredict\u001b[39m(\n\u001b[1;32m   1426\u001b[0m     \u001b[39mself\u001b[39m,\n\u001b[1;32m   1427\u001b[0m     X: ArrayLike,\n\u001b[0;32m   (...)\u001b[0m\n\u001b[1;32m   1432\u001b[0m     iteration_range: Optional[Tuple[\u001b[39mint\u001b[39m, \u001b[39mint\u001b[39m]] \u001b[39m=\u001b[39m \u001b[39mNone\u001b[39;00m,\n\u001b[1;32m   1433\u001b[0m ) \u001b[39m-\u001b[39m\u001b[39m>\u001b[39m np\u001b[39m.\u001b[39mndarray:\n\u001b[0;32m-> 1434\u001b[0m     class_probs \u001b[39m=\u001b[39m \u001b[39msuper\u001b[39;49m()\u001b[39m.\u001b[39;49mpredict(\n\u001b[1;32m   1435\u001b[0m         X\u001b[39m=\u001b[39;49mX,\n\u001b[1;32m   1436\u001b[0m         output_margin\u001b[39m=\u001b[39;49moutput_margin,\n\u001b[1;32m   1437\u001b[0m         ntree_limit\u001b[39m=\u001b[39;49mntree_limit,\n\u001b[1;32m   1438\u001b[0m         validate_features\u001b[39m=\u001b[39;49mvalidate_features,\n\u001b[1;32m   1439\u001b[0m         base_margin\u001b[39m=\u001b[39;49mbase_margin,\n\u001b[1;32m   1440\u001b[0m         iteration_range\u001b[39m=\u001b[39;49miteration_range,\n\u001b[1;32m   1441\u001b[0m     )\n\u001b[1;32m   1442\u001b[0m     \u001b[39mif\u001b[39;00m output_margin:\n\u001b[1;32m   1443\u001b[0m         \u001b[39m# If output_margin is active, simply return the scores\u001b[39;00m\n\u001b[1;32m   1444\u001b[0m         \u001b[39mreturn\u001b[39;00m class_probs\n",
      "File \u001b[0;32m~/opt/anaconda3/lib/python3.9/site-packages/xgboost/sklearn.py:1049\u001b[0m, in \u001b[0;36mXGBModel.predict\u001b[0;34m(self, X, output_margin, ntree_limit, validate_features, base_margin, iteration_range)\u001b[0m\n\u001b[1;32m   1047\u001b[0m \u001b[39mif\u001b[39;00m \u001b[39mself\u001b[39m\u001b[39m.\u001b[39m_can_use_inplace_predict():\n\u001b[1;32m   1048\u001b[0m     \u001b[39mtry\u001b[39;00m:\n\u001b[0;32m-> 1049\u001b[0m         predts \u001b[39m=\u001b[39m \u001b[39mself\u001b[39;49m\u001b[39m.\u001b[39;49mget_booster()\u001b[39m.\u001b[39;49minplace_predict(\n\u001b[1;32m   1050\u001b[0m             data\u001b[39m=\u001b[39;49mX,\n\u001b[1;32m   1051\u001b[0m             iteration_range\u001b[39m=\u001b[39;49miteration_range,\n\u001b[1;32m   1052\u001b[0m             predict_type\u001b[39m=\u001b[39;49m\u001b[39m\"\u001b[39;49m\u001b[39mmargin\u001b[39;49m\u001b[39m\"\u001b[39;49m \u001b[39mif\u001b[39;49;00m output_margin \u001b[39melse\u001b[39;49;00m \u001b[39m\"\u001b[39;49m\u001b[39mvalue\u001b[39;49m\u001b[39m\"\u001b[39;49m,\n\u001b[1;32m   1053\u001b[0m             missing\u001b[39m=\u001b[39;49m\u001b[39mself\u001b[39;49m\u001b[39m.\u001b[39;49mmissing,\n\u001b[1;32m   1054\u001b[0m             base_margin\u001b[39m=\u001b[39;49mbase_margin,\n\u001b[1;32m   1055\u001b[0m             validate_features\u001b[39m=\u001b[39;49mvalidate_features,\n\u001b[1;32m   1056\u001b[0m         )\n\u001b[1;32m   1057\u001b[0m         \u001b[39mif\u001b[39;00m _is_cupy_array(predts):\n\u001b[1;32m   1058\u001b[0m             \u001b[39mimport\u001b[39;00m \u001b[39mcupy\u001b[39;00m     \u001b[39m# pylint: disable=import-error\u001b[39;00m\n",
      "File \u001b[0;32m~/opt/anaconda3/lib/python3.9/site-packages/xgboost/core.py:2147\u001b[0m, in \u001b[0;36mBooster.inplace_predict\u001b[0;34m(self, data, iteration_range, predict_type, missing, validate_features, base_margin, strict_shape)\u001b[0m\n\u001b[1;32m   2145\u001b[0m     \u001b[39mfrom\u001b[39;00m \u001b[39m.\u001b[39;00m\u001b[39mdata\u001b[39;00m \u001b[39mimport\u001b[39;00m _ensure_np_dtype\n\u001b[1;32m   2146\u001b[0m     data, _ \u001b[39m=\u001b[39m _ensure_np_dtype(data, data\u001b[39m.\u001b[39mdtype)\n\u001b[0;32m-> 2147\u001b[0m     _check_call(\n\u001b[1;32m   2148\u001b[0m         _LIB\u001b[39m.\u001b[39;49mXGBoosterPredictFromDense(\n\u001b[1;32m   2149\u001b[0m             \u001b[39mself\u001b[39;49m\u001b[39m.\u001b[39;49mhandle,\n\u001b[1;32m   2150\u001b[0m             _array_interface(data),\n\u001b[1;32m   2151\u001b[0m             from_pystr_to_cstr(json\u001b[39m.\u001b[39;49mdumps(args)),\n\u001b[1;32m   2152\u001b[0m             p_handle,\n\u001b[1;32m   2153\u001b[0m             ctypes\u001b[39m.\u001b[39;49mbyref(shape),\n\u001b[1;32m   2154\u001b[0m             ctypes\u001b[39m.\u001b[39;49mbyref(dims),\n\u001b[1;32m   2155\u001b[0m             ctypes\u001b[39m.\u001b[39;49mbyref(preds),\n\u001b[1;32m   2156\u001b[0m         )\n\u001b[1;32m   2157\u001b[0m     )\n\u001b[1;32m   2158\u001b[0m     \u001b[39mreturn\u001b[39;00m _prediction_output(shape, dims, preds, \u001b[39mFalse\u001b[39;00m)\n\u001b[1;32m   2159\u001b[0m \u001b[39mif\u001b[39;00m \u001b[39misinstance\u001b[39m(data, scipy\u001b[39m.\u001b[39msparse\u001b[39m.\u001b[39mcsr_matrix):\n",
      "File \u001b[0;32m~/opt/anaconda3/lib/python3.9/site-packages/xgboost/core.py:246\u001b[0m, in \u001b[0;36m_check_call\u001b[0;34m(ret)\u001b[0m\n\u001b[1;32m    235\u001b[0m \u001b[39m\"\"\"Check the return value of C API call\u001b[39;00m\n\u001b[1;32m    236\u001b[0m \n\u001b[1;32m    237\u001b[0m \u001b[39mThis function will raise exception when error occurs.\u001b[39;00m\n\u001b[0;32m   (...)\u001b[0m\n\u001b[1;32m    243\u001b[0m \u001b[39m    return value from API calls\u001b[39;00m\n\u001b[1;32m    244\u001b[0m \u001b[39m\"\"\"\u001b[39;00m\n\u001b[1;32m    245\u001b[0m \u001b[39mif\u001b[39;00m ret \u001b[39m!=\u001b[39m \u001b[39m0\u001b[39m:\n\u001b[0;32m--> 246\u001b[0m     \u001b[39mraise\u001b[39;00m XGBoostError(py_str(_LIB\u001b[39m.\u001b[39mXGBGetLastError()))\n",
      "\u001b[0;31mXGBoostError\u001b[0m: [23:24:26] /Users/runner/work/xgboost/xgboost/python-package/build/temp.macosx-10.9-x86_64-cpython-37/xgboost/src/c_api/c_api_utils.h:159: Invalid missing value: null\nStack trace:\n  [bt] (0) 1   libxgboost.dylib                    0x0000000121919705 dmlc::LogMessageFatal::~LogMessageFatal() + 117\n  [bt] (1) 2   libxgboost.dylib                    0x000000012190ea3b xgboost::GetMissing(xgboost::Json const&) + 219\n  [bt] (2) 3   libxgboost.dylib                    0x0000000121920b5d void InplacePredictImpl<xgboost::data::ArrayAdapter>(std::__1::shared_ptr<xgboost::data::ArrayAdapter>, std::__1::shared_ptr<xgboost::DMatrix>, char const*, xgboost::Learner*, unsigned long, unsigned long, unsigned long long const**, unsigned long long*, float const**) + 509\n  [bt] (3) 4   libxgboost.dylib                    0x0000000121920676 XGBoosterPredictFromDense + 326\n  [bt] (4) 5   libffi.7.dylib                      0x000000010f3cdead ffi_call_unix64 + 85\n\n"
     ]
    }
   ],
   "source": [
    "#Plotting the confusion matrix\n",
    "plot_confusion_matrix(Xgboost_model, X_test, Y_test, values_format ='d', display_labels = ['Not Approved','Approved'])"
   ]
  },
  {
   "cell_type": "code",
   "execution_count": 19,
   "metadata": {},
   "outputs": [
    {
     "ename": "NameError",
     "evalue": "name 'y_pred' is not defined",
     "output_type": "error",
     "traceback": [
      "\u001b[0;31m---------------------------------------------------------------------------\u001b[0m",
      "\u001b[0;31mNameError\u001b[0m                                 Traceback (most recent call last)",
      "\u001b[1;32m/Users/amarjotsinghlohia/Documents/Dissertation/Code/XGBOOST_model.ipynb Cell 10\u001b[0m in \u001b[0;36m<cell line: 1>\u001b[0;34m()\u001b[0m\n\u001b[0;32m----> <a href='vscode-notebook-cell:/Users/amarjotsinghlohia/Documents/Dissertation/Code/XGBOOST_model.ipynb#X11sZmlsZQ%3D%3D?line=0'>1</a>\u001b[0m \u001b[39mprint\u001b[39m(accuracy_score(Y_test,y_pred))\n",
      "\u001b[0;31mNameError\u001b[0m: name 'y_pred' is not defined"
     ]
    }
   ],
   "source": [
    "#Printing the accuracy score\n",
    "print(accuracy_score(Y_test,y_pred))"
   ]
  },
  {
   "cell_type": "code",
   "execution_count": 20,
   "metadata": {},
   "outputs": [
    {
     "ename": "NameError",
     "evalue": "name 'y_pred' is not defined",
     "output_type": "error",
     "traceback": [
      "\u001b[0;31m---------------------------------------------------------------------------\u001b[0m",
      "\u001b[0;31mNameError\u001b[0m                                 Traceback (most recent call last)",
      "\u001b[1;32m/Users/amarjotsinghlohia/Documents/Dissertation/Code/XGBOOST_model.ipynb Cell 11\u001b[0m in \u001b[0;36m<cell line: 1>\u001b[0;34m()\u001b[0m\n\u001b[0;32m----> <a href='vscode-notebook-cell:/Users/amarjotsinghlohia/Documents/Dissertation/Code/XGBOOST_model.ipynb#X13sZmlsZQ%3D%3D?line=0'>1</a>\u001b[0m \u001b[39mprint\u001b[39m(classification_report(Y_test, y_pred))\n",
      "\u001b[0;31mNameError\u001b[0m: name 'y_pred' is not defined"
     ]
    }
   ],
   "source": [
    "#Printing the classification report\n",
    "print(classification_report(Y_test, y_pred))"
   ]
  },
  {
   "cell_type": "markdown",
   "metadata": {},
   "source": [
    "### ROC curve plot"
   ]
  },
  {
   "cell_type": "code",
   "execution_count": null,
   "metadata": {},
   "outputs": [],
   "source": [
    "probs = XGboost_model.predict_proba(X_test)\n",
    "fpr, tpr, thresholds = roc_curve(y_test, y_pred)\n",
    "sns.lineplot([0,1],[0,1], color='red', linestyle='--')\n",
    "plt = sns.lineplot(fpr, tpr, marker = '.',label='ROC Curve')"
   ]
  },
  {
   "cell_type": "code",
   "execution_count": null,
   "metadata": {},
   "outputs": [],
   "source": [
    "#Drawing the Tree plot for the XGBoost model decision tree.\n",
    "\n",
    "node_params = { 'shape': 'box', 'style': 'filled, rounded', 'fillcolor': '#78cbe'}\n",
    "leaf_params = { 'shape': 'box', 'style': 'filled', 'fillcolor': '#e43088'}\n",
    "\n",
    "xgb.to_graphviz(Xgboost_model, num_trees = 0, size = '12,10', condition_node_params= node_params, leaf_node_params= leaf_params, rankdir= 'TB')"
   ]
  }
 ],
 "metadata": {
  "kernelspec": {
   "display_name": "Python 3.9.12 ('base')",
   "language": "python",
   "name": "python3"
  },
  "language_info": {
   "codemirror_mode": {
    "name": "ipython",
    "version": 3
   },
   "file_extension": ".py",
   "mimetype": "text/x-python",
   "name": "python",
   "nbconvert_exporter": "python",
   "pygments_lexer": "ipython3",
   "version": "3.9.12"
  },
  "orig_nbformat": 4,
  "vscode": {
   "interpreter": {
    "hash": "425aa5fac1af2c2b2daa42dcae890837cc1a879be8cd68510719d5942fa4f50e"
   }
  }
 },
 "nbformat": 4,
 "nbformat_minor": 2
}
